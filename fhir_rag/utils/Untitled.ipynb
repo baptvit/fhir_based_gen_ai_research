{
 "cells": [
  {
   "cell_type": "code",
   "execution_count": 10,
   "id": "ddfd7041-a36a-45f5-9ed2-d144895a86aa",
   "metadata": {
    "execution": {
     "iopub.execute_input": "2024-10-01T19:07:17.258612Z",
     "iopub.status.busy": "2024-10-01T19:07:17.258202Z",
     "iopub.status.idle": "2024-10-01T19:07:23.772023Z",
     "shell.execute_reply": "2024-10-01T19:07:23.771435Z",
     "shell.execute_reply.started": "2024-10-01T19:07:17.258590Z"
    }
   },
   "outputs": [],
   "source": [
    "!pip install -q -U google-generativeai"
   ]
  },
  {
   "cell_type": "code",
   "execution_count": 11,
   "id": "3316118a-caaa-4e80-9919-be6f6f673b2f",
   "metadata": {
    "execution": {
     "iopub.execute_input": "2024-10-01T19:07:35.481885Z",
     "iopub.status.busy": "2024-10-01T19:07:35.481444Z",
     "iopub.status.idle": "2024-10-01T19:07:35.484314Z",
     "shell.execute_reply": "2024-10-01T19:07:35.483923Z",
     "shell.execute_reply.started": "2024-10-01T19:07:35.481859Z"
    }
   },
   "outputs": [],
   "source": [
    "from langchain_openai import AzureChatOpenAI\n",
    "from pprint import pprint"
   ]
  },
  {
   "cell_type": "code",
   "execution_count": 12,
   "id": "36a9f8d6-f1dc-4ac7-af43-a54de327b224",
   "metadata": {
    "execution": {
     "iopub.execute_input": "2024-10-01T19:07:37.665451Z",
     "iopub.status.busy": "2024-10-01T19:07:37.665020Z",
     "iopub.status.idle": "2024-10-01T19:07:37.667499Z",
     "shell.execute_reply": "2024-10-01T19:07:37.667203Z",
     "shell.execute_reply.started": "2024-10-01T19:07:37.665435Z"
    }
   },
   "outputs": [],
   "source": [
    "import os\n",
    "\n",
    "os.environ[\"API_KEY\"] = ''"
   ]
  },
  {
   "cell_type": "code",
   "execution_count": 13,
   "id": "eee3103c-e647-46b3-81e4-da8d9eccfb94",
   "metadata": {
    "execution": {
     "iopub.execute_input": "2024-10-01T19:07:45.180612Z",
     "iopub.status.busy": "2024-10-01T19:07:45.180413Z",
     "iopub.status.idle": "2024-10-01T19:07:45.619773Z",
     "shell.execute_reply": "2024-10-01T19:07:45.619480Z",
     "shell.execute_reply.started": "2024-10-01T19:07:45.180600Z"
    }
   },
   "outputs": [],
   "source": [
    "import google.generativeai as genai\n",
    "import os\n",
    "\n",
    "genai.configure(api_key=os.environ[\"API_KEY\"])"
   ]
  },
  {
   "cell_type": "code",
   "execution_count": 14,
   "id": "3132b127-80b0-427b-bde3-ef7a29e3d562",
   "metadata": {
    "execution": {
     "iopub.execute_input": "2024-10-01T19:07:50.739971Z",
     "iopub.status.busy": "2024-10-01T19:07:50.739661Z",
     "iopub.status.idle": "2024-10-01T19:07:55.561424Z",
     "shell.execute_reply": "2024-10-01T19:07:55.561134Z",
     "shell.execute_reply.started": "2024-10-01T19:07:50.739954Z"
    }
   },
   "outputs": [
    {
     "name": "stdout",
     "output_type": "stream",
     "text": [
      "Elara, a wisp of a girl with eyes like a stormy sea, stood before the dusty attic door. It creaked open, revealing a world of cobwebs and forgotten things. Her grandmother, a woman who whispered secrets to the wind, had left her this attic, a treasure trove of stories waiting to be unearthed.\n",
      "\n",
      "As Elara's fingers brushed against a worn leather satchel nestled in the corner, a shiver ran down her spine. It was an ordinary-looking backpack, except for the intricate silver lock adorned with an enigmatic symbol. Curiosity gnawed at her.  With trembling hands, she lifted the latch. The lock clicked, and a faint whisper of wind filled the room. \n",
      "\n",
      "Elara gasped. Inside the backpack, nestled amongst the worn fabric, lay a shimmering map, its edges painted with glowing constellations. As she touched the map, a voice, soft as a breeze, echoed in her mind, \"Follow the stars, and the world will open to you.\"\n",
      "\n",
      "That night, Elara, guided by the map's celestial whispers, found herself standing at the edge of a whispering forest. The map pointed to a towering oak, its branches thick with moss. As Elara approached, the tree seemed to pulse with life.  The backpack, as if sensing her intention, unzipped itself.  Inside, a swirling vortex of shimmering dust appeared, a portal to another world.  \n",
      "\n",
      "She stepped through, and the world exploded into vibrant colour. The air was thick with the scent of exotic flowers, and the sky was a canvas of shimmering, iridescent clouds.  She found herself in a bustling marketplace, filled with talking animals, flying merchants, and creatures from every corner of her imagination.  \n",
      "\n",
      "The backpack became her companion, a treasure trove of fantastical wonders. It held shimmering silks, ancient scrolls filled with forgotten spells, and tools that defied logic. She met a mischievous pixie named Pipsqueak, who traded her stories for rare spices, and a grumpy gnome named Gruff, who gifted her a talking acorn that revealed the secrets of the forest.\n",
      "\n",
      "Elara's world transformed. She learned to navigate the skies on the back of a majestic griffin, learned to speak the language of flowers, and even rode a magical unicorn that galloped on rainbows. The backpack became her key to a world of magic, a world that was always there, waiting to be discovered. \n",
      "\n",
      "One day, however, she noticed a sadness in Pipsqueak's eyes. \"The world is fading,\" the pixie whispered, \"and the magic is dying with it.\"\n",
      "\n",
      "Elara's heart sank. She realised the magic in this world was tied to her own beliefs, to her own sense of wonder.  She returned home, a little wiser, a little older, carrying the backpack and its magic, a reminder that the world was full of wonder, if only you had the courage to open your heart and your mind.\n",
      "\n",
      "From that day on, Elara kept the backpack, not just as a treasure of forgotten magic, but as a reminder that the greatest adventures were found not in fantastical lands, but in the everyday world, if you just knew where to look. And sometimes, the most magical things were the ones you carried within yourself. \n",
      "\n"
     ]
    }
   ],
   "source": [
    "model = genai.GenerativeModel(\"gemini-1.5-flash\")\n",
    "response = model.generate_content(\"Write a story about a magic backpack.\")\n",
    "print(response.text)"
   ]
  },
  {
   "cell_type": "code",
   "execution_count": 16,
   "id": "2aee84a4-b0a1-4144-9112-7c04c3fe4e83",
   "metadata": {
    "execution": {
     "iopub.execute_input": "2024-10-01T19:08:18.097712Z",
     "iopub.status.busy": "2024-10-01T19:08:18.097449Z",
     "iopub.status.idle": "2024-10-01T19:08:28.638753Z",
     "shell.execute_reply": "2024-10-01T19:08:28.638428Z",
     "shell.execute_reply.started": "2024-10-01T19:08:18.097699Z"
    }
   },
   "outputs": [
    {
     "name": "stdout",
     "output_type": "stream",
     "text": [
      "The musty attic air hung heavy with the scent of mothballs and forgotten dreams. Eleven-year-old Maya wrinkled her nose, pushing aside a cobweb-laden lampshade. She was on a mission, tasked by her eccentric Aunt Millie to find a \"treasure\" hidden in the attic's depths. \n",
      "\n",
      "Just as Maya was about to give up, her hand brushed against something soft and leathery.  It was a backpack, worn with age but strangely inviting. She slung it over her shoulder, the leather instantly molding to her frame. As she did, a tingle ran up her arm, and a faint whisper echoed in the air, \"Adventure awaits...\"\n",
      "\n",
      "At first, Maya dismissed it as her imagination. But the backpack held a strange charm. The next day, while packing for school, she absentmindedly wished she had an apple. Reaching into the bag, her fingers brushed against something smooth and round. To her astonishment, she pulled out a crisp, red apple. \n",
      "\n",
      "Word spread quickly about Maya's \"lucky\" backpack. Kids gawked, rumors flew, and even the skeptical school principal raised an eyebrow.  Maya, however, was more bewildered than anyone. The backpack seemed to respond to her needs, her desires, even her fears.  \n",
      "\n",
      "One day, Maya's best friend, Liam, got bullied for his mismatched socks. Maya wished fiercely for something to cheer him up. Digging into the backpack, she pulled out a pair of wildly colorful, mismatched socks, each one more outrageous than the last. Liam's face lit up with delight. \n",
      "\n",
      "The backpack wasn't just about fulfilling whimsical desires. It started presenting challenges, too. A worn compass materialized one day, pointing stubbornly south. It led Maya and Liam on a scavenger hunt through the town's hidden pathways, uncovering forgotten stories and local legends. \n",
      "\n",
      "As Maya grew older, the backpack's gifts became more significant, its challenges more profound. It offered solutions for environmental issues, resources to help the homeless, and even a platform for Maya to share her writing with the world.  \n",
      "\n",
      "The backpack, Maya realized, wasn't about magic. It was about intention.  It amplified her empathy, her courage, and her desire to make the world a better place. The magic, she learned, wasn't in the bag, but in the heart of the girl who carried it.  And so, Maya continued her adventures, her trusty backpack by her side, using its gifts to weave a tapestry of kindness, courage, and wonder into the fabric of everyday life. \n",
      "\n"
     ]
    }
   ],
   "source": [
    "model = genai.GenerativeModel(\"gemini-1.5-pro\")\n",
    "response = model.generate_content(\"Write a story about a magic backpack.\")\n",
    "print(response.text)"
   ]
  },
  {
   "cell_type": "code",
   "execution_count": 17,
   "id": "dfa175a5-4a8c-41c7-b836-d53fa672fdee",
   "metadata": {
    "execution": {
     "iopub.execute_input": "2024-10-01T19:09:59.776834Z",
     "iopub.status.busy": "2024-10-01T19:09:59.776634Z",
     "iopub.status.idle": "2024-10-01T19:10:00.186196Z",
     "shell.execute_reply": "2024-10-01T19:10:00.185865Z",
     "shell.execute_reply.started": "2024-10-01T19:09:59.776815Z"
    }
   },
   "outputs": [
    {
     "name": "stdout",
     "output_type": "stream",
     "text": [
      "[-0.028545432, 0.044588123, -0.03419736, -0.004266 ... TRIMMED]\n"
     ]
    }
   ],
   "source": [
    "result = genai.embed_content(\n",
    "    model=\"models/text-embedding-004\",\n",
    "    content=\"What is the meaning of life?\",\n",
    "    task_type=\"retrieval_document\",\n",
    "    title=\"Embedding of single string\")\n",
    "\n",
    "# 1 input > 1 vector output\n",
    "print(str(result['embedding'])[:50], '... TRIMMED]')"
   ]
  },
  {
   "cell_type": "code",
   "execution_count": 31,
   "id": "e258ea07-0b99-41c4-ade9-d111799757c3",
   "metadata": {
    "execution": {
     "iopub.execute_input": "2024-10-01T19:47:55.893004Z",
     "iopub.status.busy": "2024-10-01T19:47:55.892837Z",
     "iopub.status.idle": "2024-10-01T19:47:55.895389Z",
     "shell.execute_reply": "2024-10-01T19:47:55.895071Z",
     "shell.execute_reply.started": "2024-10-01T19:47:55.892992Z"
    }
   },
   "outputs": [
    {
     "name": "stdout",
     "output_type": "stream",
     "text": [
      "{\"message\": \"xin ch\\u00e0o vi\\u1ec7t nam\"}\n"
     ]
    }
   ],
   "source": [
    "import json\n",
    "print(json.dumps({\"message\":\"xin chào việt nam\"}))\n"
   ]
  },
  {
   "cell_type": "code",
   "execution_count": 11,
   "id": "3168f043-8171-4b3b-8590-4d54d3bdadfe",
   "metadata": {
    "execution": {
     "iopub.execute_input": "2024-10-04T16:25:37.114328Z",
     "iopub.status.busy": "2024-10-04T16:25:37.114095Z",
     "iopub.status.idle": "2024-10-04T16:25:37.417333Z",
     "shell.execute_reply": "2024-10-04T16:25:37.417037Z",
     "shell.execute_reply.started": "2024-10-04T16:25:37.114310Z"
    }
   },
   "outputs": [],
   "source": [
    "import google.auth\n",
    "\n",
    "credentials, project_id = google.auth.default()"
   ]
  },
  {
   "cell_type": "code",
   "execution_count": 12,
   "id": "282ee307-99be-4a13-a781-467ec1e629f9",
   "metadata": {
    "execution": {
     "iopub.execute_input": "2024-10-04T16:25:38.440894Z",
     "iopub.status.busy": "2024-10-04T16:25:38.440682Z",
     "iopub.status.idle": "2024-10-04T16:25:38.443794Z",
     "shell.execute_reply": "2024-10-04T16:25:38.443282Z",
     "shell.execute_reply.started": "2024-10-04T16:25:38.440878Z"
    }
   },
   "outputs": [],
   "source": [
    "from langchain_google_vertexai import VertexAI\n",
    "\n",
    "# To use model\n",
    "llm = VertexAI(model_name=\"gemini-1.0-pro-001\")"
   ]
  },
  {
   "cell_type": "code",
   "execution_count": null,
   "id": "25ac5b32-b02f-473b-814f-dad72557e4e6",
   "metadata": {},
   "outputs": [],
   "source": [
    "model."
   ]
  }
 ],
 "metadata": {
  "kernelspec": {
   "display_name": "Python 3 (ipykernel)",
   "language": "python",
   "name": "python3"
  },
  "language_info": {
   "codemirror_mode": {
    "name": "ipython",
    "version": 3
   },
   "file_extension": ".py",
   "mimetype": "text/x-python",
   "name": "python",
   "nbconvert_exporter": "python",
   "pygments_lexer": "ipython3",
   "version": "3.11.6"
  }
 },
 "nbformat": 4,
 "nbformat_minor": 5
}
