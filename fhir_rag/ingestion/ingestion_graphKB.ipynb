{
 "cells": [
  {
   "cell_type": "markdown",
   "id": "d7822e02-1664-4c2f-b526-5c713752e959",
   "metadata": {},
   "source": [
    "# RAG on FHIR with Knowledge Graphs"
   ]
  },
  {
   "cell_type": "markdown",
   "id": "d006af8a-10e5-433b-94bd-f96f09671c47",
   "metadata": {},
   "source": [
    "### 2. Neo4J & Jupyter Environment\n",
    "This notebook needs an instance of [Neo4j](https://www.neo4j.com) to talk to. I used docker to run Neo4J locally using the following command:\n",
    "```\n",
    "docker run --name testneo4j -p7474:7474 -p7687:7687 -d \\\n",
    "    -v $HOME/neo4j/data:/data \\\n",
    "    -v $HOME/neo4j/logs:/logs \\\n",
    "    -v $HOME/neo4j/import:/var/lib/neo4j/import \\\n",
    "    -v $HOME/neo4j/plugins:/plugins \\\n",
    "    --env NEO4J_AUTH=neo4j/password \\\n",
    "    neo4j:latest\n",
    "```\n",
    "**Note:** No particular plugins are needed. \n",
    "\n",
    "You can also use a Neo4J Aurora instance. \n",
    "\n",
    "#### Jupyter Environment\n",
    "Regardless of how you run Neo4J. You need to set some environment variables in the notebook's environment:\n",
    "\n",
    "| Variable | Description | Value for above Docker |\n",
    "|----------|-------------|------------------------|\n",
    "| NEO4J_URL | Where to find the instance of Neo4j. | bolt://localhost:7687 |\n",
    "| NEO4J_USER | The username for the database. | neo4j |\n",
    "| NEO4J_PASSWORD | The password for the database. | password |\n",
    "\n",
    "\n",
    "### 3. Synthetic data and working directory\n",
    "The data I used for this notebook came from [Synthea](https://synthea.mitre.org/). Using the \n",
    "\n",
    "All the questions here us the FHIR Bundle: `fhir_data/stanfor_llm_on_fhir`"
   ]
  },
  {
   "cell_type": "code",
   "execution_count": 1,
   "id": "633eae00-fba4-440d-bf89-334f62491f5f",
   "metadata": {
    "execution": {
     "iopub.execute_input": "2024-10-04T00:23:20.648696Z",
     "iopub.status.busy": "2024-10-04T00:23:20.648479Z",
     "iopub.status.idle": "2024-10-04T00:23:20.787571Z",
     "shell.execute_reply": "2024-10-04T00:23:20.787128Z",
     "shell.execute_reply.started": "2024-10-04T00:23:20.648682Z"
    }
   },
   "outputs": [],
   "source": [
    "# Imports needed\n",
    "\n",
    "import glob\n",
    "import json\n",
    "import os\n",
    "import re\n",
    "\n",
    "# Imports from other local python files\n",
    "from helpers.neo4j_graph import Graph\n",
    "from helpers.FHIR_to_graph import resource_to_node, resource_to_edges"
   ]
  },
  {
   "cell_type": "markdown",
   "id": "1d2075d6",
   "metadata": {},
   "source": [
    "## Establish Database Connection\n",
    "\n",
    "The cell connects to the Neo4J instance. It relies on several environment variables. \n",
    "\n",
    "**PLEASE NOTE**: The variable have been changed to support multiple databases in the same instance. \n",
    "\n",
    "| Variable            | Description                          | Sample Value          |\n",
    "|---------------------|--------------------------------------|-----------------------|\n",
    "| FHIR_GRAPH_URL      | Where to find the instance of Neo4j. | bolt://localhost:7687 |\n",
    "| FHIR_GRAPH_USER     | The username for the database.       | neo4j                 |\n",
    "| FHIR_GRAPH_PASSWORD | The password for the database.       | password              |\n",
    "| FHIR_GRAPH_DATABASE | The name of the database instance.   | neo4j                 |"
   ]
  },
  {
   "cell_type": "code",
   "execution_count": 2,
   "id": "4a0e20a9",
   "metadata": {
    "execution": {
     "iopub.execute_input": "2024-10-04T00:23:22.543348Z",
     "iopub.status.busy": "2024-10-04T00:23:22.543062Z",
     "iopub.status.idle": "2024-10-04T00:23:22.546041Z",
     "shell.execute_reply": "2024-10-04T00:23:22.545777Z",
     "shell.execute_reply.started": "2024-10-04T00:23:22.543332Z"
    }
   },
   "outputs": [],
   "source": [
    "NEO4J_URI = os.getenv('FHIR_GRAPH_URL', 'neo4j://localhost:7687')\n",
    "USERNAME = os.getenv('FHIR_GRAPH_USER', 'neo4j')\n",
    "PASSWORD = os.getenv('FHIR_GRAPH_PASSWORD', 'password')\n",
    "DATABASE = os.getenv('FHIR_GRAPH_DATABASE', 'neo4j')\n",
    "\n",
    "graph = Graph(NEO4J_URI, USERNAME, PASSWORD, DATABASE)"
   ]
  },
  {
   "cell_type": "markdown",
   "id": "3a9412af",
   "metadata": {},
   "source": [
    "## Helper Database Cells\n",
    "\n",
    "The following three cells are here to be used to manage the database. They do not need to be run on a blank database. "
   ]
  },
  {
   "cell_type": "markdown",
   "id": "22538b06",
   "metadata": {},
   "source": [
    "http://localhost:7474/browser/"
   ]
  },
  {
   "cell_type": "code",
   "execution_count": 6,
   "id": "9ae3d256",
   "metadata": {
    "execution": {
     "iopub.execute_input": "2024-10-04T00:24:20.572475Z",
     "iopub.status.busy": "2024-10-04T00:24:20.572214Z",
     "iopub.status.idle": "2024-10-04T00:24:20.617016Z",
     "shell.execute_reply": "2024-10-04T00:24:20.616715Z",
     "shell.execute_reply.started": "2024-10-04T00:24:20.572462Z"
    }
   },
   "outputs": [
    {
     "name": "stdout",
     "output_type": "stream",
     "text": [
      "[['Patient', 1], ['CarePlan', 2], ['CareTeam', 2], ['ImagingStudy', 4], ['MedicationRequest', 6], ['AllergyIntolerance', 9], ['Condition', 15], ['Procedure', 18], ['DocumentReference', 31], ['Encounter', 31], ['DiagnosticReport', 33], ['Immunization', 35], ['Claim', 37], ['ExplanationOfBenefit', 37], ['Observation', 233]]\n"
     ]
    }
   ],
   "source": [
    "print(graph.resource_metrics())"
   ]
  },
  {
   "cell_type": "code",
   "execution_count": 7,
   "id": "4abd7377",
   "metadata": {
    "execution": {
     "iopub.execute_input": "2024-10-04T00:24:20.887512Z",
     "iopub.status.busy": "2024-10-04T00:24:20.887154Z",
     "iopub.status.idle": "2024-10-04T00:24:20.917634Z",
     "shell.execute_reply": "2024-10-04T00:24:20.917231Z",
     "shell.execute_reply.started": "2024-10-04T00:24:20.887495Z"
    }
   },
   "outputs": [
    {
     "name": "stdout",
     "output_type": "stream",
     "text": [
      "(624, 2468)\n"
     ]
    }
   ],
   "source": [
    "print(graph.database_metrics())"
   ]
  },
  {
   "cell_type": "code",
   "execution_count": 8,
   "id": "d5106b05",
   "metadata": {
    "execution": {
     "iopub.execute_input": "2024-10-04T00:24:21.135322Z",
     "iopub.status.busy": "2024-10-04T00:24:21.135078Z",
     "iopub.status.idle": "2024-10-04T00:24:21.424950Z",
     "shell.execute_reply": "2024-10-04T00:24:21.424502Z",
     "shell.execute_reply.started": "2024-10-04T00:24:21.135307Z"
    }
   },
   "outputs": [
    {
     "data": {
      "text/plain": [
       "'Deleted 624 nodes and 2468 relationships in 0.279 seconds'"
      ]
     },
     "execution_count": 8,
     "metadata": {},
     "output_type": "execute_result"
    }
   ],
   "source": [
    "graph.wipe_database()"
   ]
  },
  {
   "cell_type": "markdown",
   "id": "8633f273",
   "metadata": {},
   "source": [
    "## Load FHIR into the Graph\n",
    "\n",
    "This cell opens the bundle and creates the nodes and edges in the graph for each resource. \n",
    "\n",
    "Every resource will result in a node that has a label based on the resource type and as a `resource`. The values within the resource will be flattened \n",
    "into properties within the node. Also, a property called `text` will include a string representation of the resource. \n",
    "\n",
    "Additionally, nodes will be created for every unique date (ignoring time) found in the FHIR resources. \n",
    "\n",
    "Edges will be created for every reference in the resource to something that can be found within the bundles loaded. So the linking resource doesn't have \n",
    "to be in the same bundle, but it must be in a bundle that is loaded. \n",
    "\n",
    "Edges will also connect resources to the dates found inside them. \n",
    "\n",
    "**Warning:** This cell may take sometime to run. "
   ]
  },
  {
   "cell_type": "code",
   "execution_count": 9,
   "id": "b99fb223",
   "metadata": {
    "execution": {
     "iopub.execute_input": "2024-10-04T00:24:21.523383Z",
     "iopub.status.busy": "2024-10-04T00:24:21.523199Z",
     "iopub.status.idle": "2024-10-04T00:24:21.526342Z",
     "shell.execute_reply": "2024-10-04T00:24:21.526037Z",
     "shell.execute_reply.started": "2024-10-04T00:24:21.523371Z"
    }
   },
   "outputs": [
    {
     "data": {
      "text/plain": [
       "['/home/baptvit/Documents/github/mestrado/fhir-rag/fhir_rag/fhir_data/stanford_llm_on_fhir/Beatris270_Bogan287_5b3645de-a2d0-d016-0839-bab3757c4c58.json']"
      ]
     },
     "execution_count": 9,
     "metadata": {},
     "output_type": "execute_result"
    }
   ],
   "source": [
    "#synthea_bundles = glob.glob(\"/home/baptvit/Documents/github/mestrado/fhir-rag/fhir_rag/fhir_data/sythea_fhir/Alfonso758_Bins636_e80d4c62-149a-a6a6-4b39-9d4aa3e07ba7.json\")\n",
    "synthea_bundles = glob.glob(\"/home/baptvit/Documents/github/mestrado/fhir-rag/fhir_rag/fhir_data/stanford_llm_on_fhir/*.json\")\n",
    "synthea_bundles = synthea_bundles[0:1]\n",
    "synthea_bundles.sort()\n",
    "synthea_bundles"
   ]
  },
  {
   "cell_type": "code",
   "execution_count": 10,
   "id": "8ff73b58",
   "metadata": {
    "execution": {
     "iopub.execute_input": "2024-10-04T00:24:21.699370Z",
     "iopub.status.busy": "2024-10-04T00:24:21.699033Z",
     "iopub.status.idle": "2024-10-04T00:24:21.830382Z",
     "shell.execute_reply": "2024-10-04T00:24:21.830043Z",
     "shell.execute_reply.started": "2024-10-04T00:24:21.699355Z"
    }
   },
   "outputs": [],
   "source": [
    "nodes = []\n",
    "edges = []\n",
    "dates = set() # set is used here to make sure dates are unique\n",
    "for bundle_file_name in synthea_bundles:\n",
    "    with open(bundle_file_name) as raw:\n",
    "        bundle = json.load(raw)\n",
    "        for entry in bundle['entry']:\n",
    "            resource_type = entry['resource']['resourceType']\n",
    "            if resource_type != 'Provenance':\n",
    "                # generated the cypher for creating the resource node \n",
    "                nodes.append(resource_to_node(entry['resource'], bundle_file_name.split(\"/\")[-1].replace(\".json\", \"\")))\n",
    "                # generated the cypher for creating the reference & date edges and capture dates\n",
    "                node_edges, node_dates = resource_to_edges(entry['resource'])\n",
    "                edges += node_edges\n",
    "                dates.update(node_dates)"
   ]
  },
  {
   "cell_type": "markdown",
   "id": "b0cb192d",
   "metadata": {},
   "source": [
    "Create the nodes for each resource"
   ]
  },
  {
   "cell_type": "code",
   "execution_count": 11,
   "id": "76e44870",
   "metadata": {
    "execution": {
     "iopub.execute_input": "2024-10-04T00:24:22.530870Z",
     "iopub.status.busy": "2024-10-04T00:24:22.530684Z",
     "iopub.status.idle": "2024-10-04T00:24:28.301136Z",
     "shell.execute_reply": "2024-10-04T00:24:28.300783Z",
     "shell.execute_reply.started": "2024-10-04T00:24:22.530860Z"
    }
   },
   "outputs": [],
   "source": [
    "# create the nodes for resources\n",
    "for node in nodes:\n",
    "    graph.query(node)"
   ]
  },
  {
   "cell_type": "markdown",
   "id": "be101d54",
   "metadata": {},
   "source": [
    "Create nodes for the import dates"
   ]
  },
  {
   "cell_type": "code",
   "execution_count": 12,
   "id": "3879db88",
   "metadata": {
    "execution": {
     "iopub.execute_input": "2024-10-04T00:24:28.301999Z",
     "iopub.status.busy": "2024-10-04T00:24:28.301779Z",
     "iopub.status.idle": "2024-10-04T00:24:28.540014Z",
     "shell.execute_reply": "2024-10-04T00:24:28.539716Z",
     "shell.execute_reply.started": "2024-10-04T00:24:28.301987Z"
    }
   },
   "outputs": [],
   "source": [
    "date_pattern = re.compile(r'([0-9]+)/([0-9]+)/([0-9]+)')\n",
    "\n",
    "# create the nodes for dates\n",
    "for date in dates:\n",
    "    date_parts = date_pattern.findall(date)[0]\n",
    "    cypher_date = f'{date_parts[2]}-{date_parts[0]}-{date_parts[1]}'\n",
    "    cypher = 'CREATE (:Date {name:\"' + date + '\", id: \"' + date + '\", date: date(\"' + cypher_date + '\"), text:\"' + date + '\"})'\n",
    "    graph.query(cypher)"
   ]
  },
  {
   "cell_type": "markdown",
   "id": "60e22ec8",
   "metadata": {},
   "source": [
    "Create the edges/relationships between each resources"
   ]
  },
  {
   "cell_type": "code",
   "execution_count": 13,
   "id": "7a8f0bcf",
   "metadata": {
    "execution": {
     "iopub.execute_input": "2024-10-04T00:24:28.540525Z",
     "iopub.status.busy": "2024-10-04T00:24:28.540411Z",
     "iopub.status.idle": "2024-10-04T00:24:51.231077Z",
     "shell.execute_reply": "2024-10-04T00:24:51.230768Z",
     "shell.execute_reply.started": "2024-10-04T00:24:28.540516Z"
    }
   },
   "outputs": [],
   "source": [
    "# create the edges\n",
    "for edge in edges:\n",
    "    try:\n",
    "        graph.query(edge)\n",
    "    except:\n",
    "        print(f'Failed to create edge: {edge}')\n"
   ]
  },
  {
   "cell_type": "markdown",
   "id": "08f66885",
   "metadata": {},
   "source": [
    "## Create the Vector Embedding Index in the Graph\n",
    "\n",
    "This cell creates a Vector Index in Neo4J. It looks at nodes labeled as `resource` and indexes the string representation in the `text` property. \n",
    "\n",
    "**Warning:** This cell may take sometime to run. "
   ]
  },
  {
   "cell_type": "code",
   "execution_count": 2,
   "id": "cb749eed-11b6-464b-b033-02b0597ed876",
   "metadata": {
    "execution": {
     "iopub.execute_input": "2024-10-04T13:08:07.187623Z",
     "iopub.status.busy": "2024-10-04T13:08:07.187299Z",
     "iopub.status.idle": "2024-10-04T13:08:08.361935Z",
     "shell.execute_reply": "2024-10-04T13:08:08.361627Z",
     "shell.execute_reply.started": "2024-10-04T13:08:07.187602Z"
    }
   },
   "outputs": [],
   "source": [
    "import torch\n",
    "\n",
    "device = 'cuda' if torch.cuda.is_available() else 'cpu'\n",
    "if device != 'cuda':\n",
    "    print('Sorry no cuda.')"
   ]
  },
  {
   "cell_type": "code",
   "execution_count": 3,
   "id": "bb2e6417-5012-432a-b560-1dac04e04033",
   "metadata": {
    "execution": {
     "iopub.execute_input": "2024-10-04T13:08:14.273269Z",
     "iopub.status.busy": "2024-10-04T13:08:14.272787Z",
     "iopub.status.idle": "2024-10-04T13:08:14.278605Z",
     "shell.execute_reply": "2024-10-04T13:08:14.278222Z",
     "shell.execute_reply.started": "2024-10-04T13:08:14.273247Z"
    }
   },
   "outputs": [
    {
     "data": {
      "text/plain": [
       "'cuda'"
      ]
     },
     "execution_count": 3,
     "metadata": {},
     "output_type": "execute_result"
    }
   ],
   "source": [
    "device"
   ]
  },
  {
   "cell_type": "code",
   "execution_count": 14,
   "id": "40a2e62b",
   "metadata": {
    "execution": {
     "iopub.execute_input": "2024-10-04T00:46:59.664954Z",
     "iopub.status.busy": "2024-10-04T00:46:59.664381Z",
     "iopub.status.idle": "2024-10-04T00:47:06.093450Z",
     "shell.execute_reply": "2024-10-04T00:47:06.093145Z",
     "shell.execute_reply.started": "2024-10-04T00:46:59.664928Z"
    }
   },
   "outputs": [
    {
     "name": "stderr",
     "output_type": "stream",
     "text": [
      "/home/baptvit/.cache/pypoetry/virtualenvs/fhir-rag-WdST9-6y-py3.11/lib/python3.11/site-packages/sentence_transformers/cross_encoder/CrossEncoder.py:13: TqdmExperimentalWarning: Using `tqdm.autonotebook.tqdm` in notebook mode. Use `tqdm.tqdm` instead to force console mode (e.g. in jupyter console)\n",
      "  from tqdm.autonotebook import tqdm, trange\n"
     ]
    },
    {
     "data": {
      "text/plain": [
       "<langchain_community.vectorstores.neo4j_vector.Neo4jVector at 0x76fe70e17450>"
      ]
     },
     "execution_count": 14,
     "metadata": {},
     "output_type": "execute_result"
    }
   ],
   "source": [
    "from langchain.vectorstores.neo4j_vector import Neo4jVector\n",
    "from langchain_community.embeddings import HuggingFaceBgeEmbeddings\n",
    "\n",
    "Neo4jVector.from_existing_graph(\n",
    "    HuggingFaceBgeEmbeddings(model_name=\"BAAI/bge-small-en-v1.5\", devic=device),\n",
    "    url=NEO4J_URI,\n",
    "    username=USERNAME,\n",
    "    password=PASSWORD,\n",
    "    database=DATABASE,\n",
    "    index_name='fhir_text',\n",
    "    node_label=\"resource\",\n",
    "    text_node_properties=['text'],\n",
    "    embedding_node_property='embedding',\n",
    ")"
   ]
  },
  {
   "cell_type": "markdown",
   "id": "dfa6a024",
   "metadata": {},
   "source": [
    "### Create Vector Index \n",
    "\n",
    "This cell creates a new vector index, using the index created above. \n",
    "\n",
    "This is here because running the cell above can take time and only should be done one time when the DB is created. "
   ]
  },
  {
   "cell_type": "code",
   "execution_count": 15,
   "id": "3261a06e",
   "metadata": {
    "execution": {
     "iopub.execute_input": "2024-10-04T00:47:06.094173Z",
     "iopub.status.busy": "2024-10-04T00:47:06.093970Z",
     "iopub.status.idle": "2024-10-04T00:47:08.212151Z",
     "shell.execute_reply": "2024-10-04T00:47:08.211800Z",
     "shell.execute_reply.started": "2024-10-04T00:47:06.094163Z"
    }
   },
   "outputs": [],
   "source": [
    "vector_index = Neo4jVector.from_existing_index(\n",
    "    HuggingFaceBgeEmbeddings(model_name=\"BAAI/bge-small-en-v1.5\"),\n",
    "    url=NEO4J_URI,\n",
    "    username=USERNAME,\n",
    "    password=PASSWORD,\n",
    "    database=DATABASE,\n",
    "    index_name='fhir_text'\n",
    ")"
   ]
  },
  {
   "cell_type": "code",
   "execution_count": null,
   "id": "e9d99a9f-c362-4c8a-9bb3-ee5d26862996",
   "metadata": {},
   "outputs": [],
   "source": []
  },
  {
   "cell_type": "code",
   "execution_count": null,
   "id": "0fd5acfb-4cd7-4631-8464-6c2817f351ce",
   "metadata": {},
   "outputs": [],
   "source": []
  },
  {
   "cell_type": "code",
   "execution_count": null,
   "id": "f1956ee6-cddf-4ac6-9b3f-a35bf1167b4c",
   "metadata": {},
   "outputs": [],
   "source": []
  }
 ],
 "metadata": {
  "kernelspec": {
   "display_name": "Python 3 (ipykernel)",
   "language": "python",
   "name": "python3"
  },
  "language_info": {
   "codemirror_mode": {
    "name": "ipython",
    "version": 3
   },
   "file_extension": ".py",
   "mimetype": "text/x-python",
   "name": "python",
   "nbconvert_exporter": "python",
   "pygments_lexer": "ipython3",
   "version": "3.11.6"
  }
 },
 "nbformat": 4,
 "nbformat_minor": 5
}
