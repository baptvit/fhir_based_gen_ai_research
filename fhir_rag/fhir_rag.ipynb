{
 "cells": [
  {
   "cell_type": "markdown",
   "id": "d7822e02-1664-4c2f-b526-5c713752e959",
   "metadata": {},
   "source": [
    "# RAG on FHIR with Knowledge Graphs"
   ]
  },
  {
   "cell_type": "markdown",
   "id": "d006af8a-10e5-433b-94bd-f96f09671c47",
   "metadata": {},
   "source": [
    "### 2. Neo4J & Jupyter Environment\n",
    "This notebook needs an instance of [Neo4j](https://www.neo4j.com) to talk to. I used docker to run Neo4J locally using the following command:\n",
    "```\n",
    "docker run --name testneo4j -p7474:7474 -p7687:7687 -d \\\n",
    "    -v $HOME/neo4j/data:/data \\\n",
    "    -v $HOME/neo4j/logs:/logs \\\n",
    "    -v $HOME/neo4j/import:/var/lib/neo4j/import \\\n",
    "    -v $HOME/neo4j/plugins:/plugins \\\n",
    "    --env NEO4J_AUTH=neo4j/password \\\n",
    "    neo4j:latest\n",
    "```\n",
    "**Note:** No particular plugins are needed. \n",
    "\n",
    "You can also use a Neo4J Aurora instance. \n",
    "\n",
    "#### Jupyter Environment\n",
    "Regardless of how you run Neo4J. You need to set some environment variables in the notebook's environment:\n",
    "\n",
    "| Variable | Description | Value for above Docker |\n",
    "|----------|-------------|------------------------|\n",
    "| NEO4J_URL | Where to find the instance of Neo4j. | bolt://localhost:7687 |\n",
    "| NEO4J_USER | The username for the database. | neo4j |\n",
    "| NEO4J_PASSWORD | The password for the database. | password |\n",
    "\n",
    "\n",
    "### 3. Synthetic data and working directory\n",
    "The data I used for this notebook came from [Synthea](https://synthea.mitre.org/). Using the \n",
    "\n",
    "All the questions here us the FHIR Bundle: `fhir_data/stanfor_llm_on_fhir`"
   ]
  },
  {
   "cell_type": "code",
   "execution_count": 1,
   "id": "633eae00-fba4-440d-bf89-334f62491f5f",
   "metadata": {
    "execution": {
     "iopub.execute_input": "2024-10-08T20:24:19.387620Z",
     "iopub.status.busy": "2024-10-08T20:24:19.387452Z",
     "iopub.status.idle": "2024-10-08T20:24:19.391783Z",
     "shell.execute_reply": "2024-10-08T20:24:19.391382Z",
     "shell.execute_reply.started": "2024-10-08T20:24:19.387607Z"
    }
   },
   "outputs": [],
   "source": [
    "# Imports needed\n",
    "\n",
    "import glob\n",
    "import json\n",
    "import os\n",
    "import re"
   ]
  },
  {
   "cell_type": "markdown",
   "id": "1d2075d6",
   "metadata": {},
   "source": [
    "## Establish Database Connection\n",
    "\n",
    "The cell connects to the Neo4J instance. It relies on several environment variables. \n",
    "\n",
    "**PLEASE NOTE**: The variable have been changed to support multiple databases in the same instance. \n",
    "\n",
    "| Variable            | Description                          | Sample Value          |\n",
    "|---------------------|--------------------------------------|-----------------------|\n",
    "| FHIR_GRAPH_URL      | Where to find the instance of Neo4j. | bolt://localhost:7687 |\n",
    "| FHIR_GRAPH_USER     | The username for the database.       | neo4j                 |\n",
    "| FHIR_GRAPH_PASSWORD | The password for the database.       | password              |\n",
    "| FHIR_GRAPH_DATABASE | The name of the database instance.   | neo4j                 |"
   ]
  },
  {
   "cell_type": "code",
   "execution_count": 2,
   "id": "4a0e20a9",
   "metadata": {
    "execution": {
     "iopub.execute_input": "2024-10-08T20:24:19.681955Z",
     "iopub.status.busy": "2024-10-08T20:24:19.681491Z",
     "iopub.status.idle": "2024-10-08T20:24:19.684173Z",
     "shell.execute_reply": "2024-10-08T20:24:19.683813Z",
     "shell.execute_reply.started": "2024-10-08T20:24:19.681939Z"
    }
   },
   "outputs": [],
   "source": [
    "NEO4J_URI = os.getenv('FHIR_GRAPH_URL', 'neo4j://localhost:7687')\n",
    "USERNAME = os.getenv('FHIR_GRAPH_USER', 'neo4j')\n",
    "PASSWORD = os.getenv('FHIR_GRAPH_PASSWORD', 'password')\n",
    "DATABASE = os.getenv('FHIR_GRAPH_DATABASE', 'neo4j')"
   ]
  },
  {
   "cell_type": "markdown",
   "id": "3a9412af",
   "metadata": {},
   "source": [
    "## Helper Database Cells\n",
    "\n",
    "The following three cells are here to be used to manage the database. They do not need to be run on a blank database. "
   ]
  },
  {
   "cell_type": "markdown",
   "id": "22538b06",
   "metadata": {},
   "source": [
    "http://localhost:7474/browser/"
   ]
  },
  {
   "cell_type": "markdown",
   "id": "dfa6a024",
   "metadata": {},
   "source": [
    "### Create Vector Index \n",
    "\n",
    "This cell creates a new vector index, using the index created above. \n",
    "\n",
    "This is here because running the cell above can take time and only should be done one time when the DB is created. "
   ]
  },
  {
   "cell_type": "code",
   "execution_count": 3,
   "id": "3261a06e",
   "metadata": {
    "execution": {
     "iopub.execute_input": "2024-10-08T20:24:23.371767Z",
     "iopub.status.busy": "2024-10-08T20:24:23.371509Z",
     "iopub.status.idle": "2024-10-08T20:24:28.807239Z",
     "shell.execute_reply": "2024-10-08T20:24:28.806914Z",
     "shell.execute_reply.started": "2024-10-08T20:24:23.371747Z"
    }
   },
   "outputs": [
    {
     "name": "stderr",
     "output_type": "stream",
     "text": [
      "/home/baptvit/.cache/pypoetry/virtualenvs/fhir-rag-WdST9-6y-py3.11/lib/python3.11/site-packages/sentence_transformers/cross_encoder/CrossEncoder.py:13: TqdmExperimentalWarning: Using `tqdm.autonotebook.tqdm` in notebook mode. Use `tqdm.tqdm` instead to force console mode (e.g. in jupyter console)\n",
      "  from tqdm.autonotebook import tqdm, trange\n"
     ]
    }
   ],
   "source": [
    "from langchain.vectorstores.neo4j_vector import Neo4jVector\n",
    "from langchain_community.embeddings import HuggingFaceBgeEmbeddings\n",
    "\n",
    "vector_index = Neo4jVector.from_existing_index(\n",
    "    HuggingFaceBgeEmbeddings(model_name=\"BAAI/bge-small-en-v1.5\"),\n",
    "    url=NEO4J_URI,\n",
    "    username=USERNAME,\n",
    "    password=PASSWORD,\n",
    "    database=DATABASE,\n",
    "    index_name='fhir_text'\n",
    ")"
   ]
  },
  {
   "cell_type": "code",
   "execution_count": 32,
   "id": "f68f43d3-8aa5-47ce-bf5c-edd63934e595",
   "metadata": {
    "execution": {
     "iopub.execute_input": "2024-10-03T20:45:25.657859Z",
     "iopub.status.busy": "2024-10-03T20:45:25.657464Z",
     "iopub.status.idle": "2024-10-03T20:45:25.661144Z",
     "shell.execute_reply": "2024-10-03T20:45:25.660627Z",
     "shell.execute_reply.started": "2024-10-03T20:45:25.657840Z"
    }
   },
   "outputs": [
    {
     "data": {
      "text/plain": [
       "'What are the most common side effects for each medication I am taking?'"
      ]
     },
     "execution_count": 32,
     "metadata": {},
     "output_type": "execute_result"
    }
   ],
   "source": [
    "from questions import stanford_llm_on_fhir_questions\n",
    "\n",
    "question = stanford_llm_on_fhir_questions[\"Q2\"]\n",
    "question"
   ]
  },
  {
   "cell_type": "code",
   "execution_count": 24,
   "id": "dbc4952b-64a5-404f-9e62-e49a6b0036ed",
   "metadata": {
    "execution": {
     "iopub.execute_input": "2024-10-03T20:37:53.371995Z",
     "iopub.status.busy": "2024-10-03T20:37:53.371706Z",
     "iopub.status.idle": "2024-10-03T20:37:53.373994Z",
     "shell.execute_reply": "2024-10-03T20:37:53.373671Z",
     "shell.execute_reply.started": "2024-10-03T20:37:53.371979Z"
    }
   },
   "outputs": [],
   "source": [
    "question = \"Do I have allergi of Aspirin ?\""
   ]
  },
  {
   "cell_type": "code",
   "execution_count": 25,
   "id": "e9d99a9f-c362-4c8a-9bb3-ee5d26862996",
   "metadata": {
    "execution": {
     "iopub.execute_input": "2024-10-03T20:37:53.791715Z",
     "iopub.status.busy": "2024-10-03T20:37:53.791423Z",
     "iopub.status.idle": "2024-10-03T20:37:53.834132Z",
     "shell.execute_reply": "2024-10-03T20:37:53.833611Z",
     "shell.execute_reply.started": "2024-10-03T20:37:53.791702Z"
    }
   },
   "outputs": [],
   "source": [
    "response = vector_index.similarity_search(question, k=50) # k_nearest is not used here because we don't have a retrieval query yet."
   ]
  },
  {
   "cell_type": "markdown",
   "id": "195fd41e-41ea-48b1-be8a-54d8a859f0cb",
   "metadata": {},
   "source": [
    "### Similary search will be better when we need a feacture extraction"
   ]
  },
  {
   "cell_type": "code",
   "execution_count": 38,
   "id": "266c49e7-8b2b-485d-9909-a26a742148cf",
   "metadata": {
    "execution": {
     "iopub.execute_input": "2024-10-03T22:39:08.683308Z",
     "iopub.status.busy": "2024-10-03T22:39:08.682847Z",
     "iopub.status.idle": "2024-10-03T22:39:08.705758Z",
     "shell.execute_reply": "2024-10-03T22:39:08.705317Z",
     "shell.execute_reply.started": "2024-10-03T22:39:08.683291Z"
    }
   },
   "outputs": [],
   "source": [
    "response = vector_index.similarity_search_with_score(query=question, k=50, score_threshold=0.80) "
   ]
  },
  {
   "cell_type": "markdown",
   "id": "fb9096bc-f4e9-4039-aaf3-6886ce5b1752",
   "metadata": {},
   "source": [
    "### Hibryd search with key name"
   ]
  },
  {
   "cell_type": "code",
   "execution_count": 36,
   "id": "f5b46b69-7d46-4bae-bf78-ceb52ec2307e",
   "metadata": {
    "execution": {
     "iopub.execute_input": "2024-10-03T22:38:55.184517Z",
     "iopub.status.busy": "2024-10-03T22:38:55.184326Z",
     "iopub.status.idle": "2024-10-03T22:38:55.200990Z",
     "shell.execute_reply": "2024-10-03T22:38:55.200536Z",
     "shell.execute_reply.started": "2024-10-03T22:38:55.184506Z"
    }
   },
   "outputs": [],
   "source": [
    "response = vector_index.similarity_search_with_score(query=question, k=100, score_threshold=0.80, filter={\"name\": \"AllergyIntolerance\"}) "
   ]
  },
  {
   "cell_type": "code",
   "execution_count": 37,
   "id": "8ddce676-59e4-4683-a6d4-93d1f86a3cac",
   "metadata": {
    "execution": {
     "iopub.execute_input": "2024-10-03T22:38:56.308820Z",
     "iopub.status.busy": "2024-10-03T22:38:56.308607Z",
     "iopub.status.idle": "2024-10-03T22:38:56.313957Z",
     "shell.execute_reply": "2024-10-03T22:38:56.313331Z",
     "shell.execute_reply.started": "2024-10-03T22:38:56.308806Z"
    }
   },
   "outputs": [
    {
     "name": "stdout",
     "output_type": "stream",
     "text": [
      "len return 9\n",
      "{'AllergyIntolerance': 9}\n"
     ]
    }
   ],
   "source": [
    "import json \n",
    "\n",
    "output_len = len(response)\n",
    "print(f\"len return {output_len}\")\n",
    "\n",
    "list_output = []\n",
    "output_str = '' \n",
    "for i in range(output_len):\n",
    "    try:\n",
    "        output_str += response[i][0].page_content\n",
    "\n",
    "        list_output.append(json.loads(response[i][0].page_content)[\"resourceType\"])\n",
    "    except:\n",
    "        print(response[i][0].page_content)\n",
    "\n",
    "list(set(list_output))\n",
    "\n",
    "dictionary = {}\n",
    "for item in list_output:\n",
    "    dictionary[item] = dictionary.get(item, 0) + 1\n",
    "    \n",
    "print(dictionary)"
   ]
  },
  {
   "cell_type": "markdown",
   "id": "786ba3b7-75ef-43eb-b5f6-e54f293ca926",
   "metadata": {},
   "source": [
    "## Count the amount of tokens in the output\n",
    "\n",
    "Here we are interesting in see the amout of tokens of the output and analise wheater the will fit in the provided context window.\n"
   ]
  },
  {
   "cell_type": "code",
   "execution_count": 28,
   "id": "f1956ee6-cddf-4ac6-9b3f-a35bf1167b4c",
   "metadata": {
    "execution": {
     "iopub.execute_input": "2024-10-03T20:38:33.597519Z",
     "iopub.status.busy": "2024-10-03T20:38:33.597270Z",
     "iopub.status.idle": "2024-10-03T20:38:33.600369Z",
     "shell.execute_reply": "2024-10-03T20:38:33.599917Z",
     "shell.execute_reply.started": "2024-10-03T20:38:33.597507Z"
    }
   },
   "outputs": [],
   "source": [
    "import tiktoken\n",
    "\n",
    "def num_tokens_from_string(string: str, encoding_name: str) -> int:\n",
    "    encoding = tiktoken.get_encoding(encoding_name)\n",
    "    num_tokens = len(encoding.encode(string))\n",
    "    return num_tokens"
   ]
  },
  {
   "cell_type": "code",
   "execution_count": 29,
   "id": "b1e166d0-8d19-4103-9736-e592c89fe713",
   "metadata": {
    "execution": {
     "iopub.execute_input": "2024-10-03T20:38:33.819867Z",
     "iopub.status.busy": "2024-10-03T20:38:33.819510Z",
     "iopub.status.idle": "2024-10-03T20:38:33.835958Z",
     "shell.execute_reply": "2024-10-03T20:38:33.835511Z",
     "shell.execute_reply.started": "2024-10-03T20:38:33.819848Z"
    }
   },
   "outputs": [
    {
     "name": "stdout",
     "output_type": "stream",
     "text": [
      "18893\n"
     ]
    }
   ],
   "source": [
    "print(num_tokens_from_string(output_str, \"cl100k_base\"))"
   ]
  },
  {
   "cell_type": "code",
   "execution_count": 30,
   "id": "f7c5f560-a881-4eeb-af54-4e32e535b807",
   "metadata": {
    "execution": {
     "iopub.execute_input": "2024-10-03T20:38:38.597319Z",
     "iopub.status.busy": "2024-10-03T20:38:38.597021Z",
     "iopub.status.idle": "2024-10-03T20:38:38.600425Z",
     "shell.execute_reply": "2024-10-03T20:38:38.600037Z",
     "shell.execute_reply.started": "2024-10-03T20:38:38.597304Z"
    }
   },
   "outputs": [
    {
     "data": {
      "text/plain": [
       "'{\"resourceType\": \"AllergyIntolerance\", \"id\": \"faf91c2b-8de6-9a64-aa0c-feceab910bfe\", \"meta\": {\"profile\": [\"http://hl7.org/fhir/us/core/StructureDefinition/us-core-allergyintolerance\"]}, \"clinicalStatus\": {\"coding\": [{\"system\": \"http://terminology.hl7.org/CodeSystem/allergyintolerance-clinical\", \"code\": \"active\"}]}, \"verificationStatus\": {\"coding\": [{\"system\": \"http://terminology.hl7.org/CodeSystem/allergyintolerance-verification\", \"code\": \"confirmed\"}]}, \"type\": \"allergy\", \"category\": [\"medication\"], \"criticality\": \"low\", \"code\": {\"coding\": [{\"system\": \"http://www.nlm.nih.gov/research/umls/rxnorm\", \"code\": \"1191\", \"display\": \"Aspirin\"}], \"text\": \"Aspirin\"}, \"patient\": {\"reference\": \"urn:uuid:5b3645de-a2d0-d016-0839-bab3757c4c58\"}, \"recordedDate\": \"2017-08-30T11:37:42+00:00\", \"reaction\": [{\"manifestation\": [{\"coding\": [{\"system\": \"http://snomed.info/sct\", \"code\": \"21522001\", \"display\": \"Abdominal pain (finding)\"}], \"text\": \"Abdominal pain (finding)\"}], \"severity\": \"moderate\"}, {\"manifestation\": [{\"coding\": [{\"system\": \"http://snomed.info/sct\", \"code\": \"247472004\", \"display\": \"Wheal (finding)\"}], \"text\": \"Wheal (finding)\"}], \"severity\": \"moderate\"}]}{\"resourceType\": \"AllergyIntolerance\", \"id\": \"5a650790-af28-4a1b-ebb6-2459a5c776bd\", \"meta\": {\"profile\": [\"http://hl7.org/fhir/us/core/StructureDefinition/us-core-allergyintolerance\"]}, \"clinicalStatus\": {\"coding\": [{\"system\": \"http://terminology.hl7.org/CodeSystem/allergyintolerance-clinical\", \"code\": \"active\"}]}, \"verificationStatus\": {\"coding\": [{\"system\": \"http://terminology.hl7.org/CodeSystem/allergyintolerance-verification\", \"code\": \"confirmed\"}]}, \"type\": \"allergy\", \"category\": [\"environment\"], \"criticality\": \"low\", \"code\": {\"coding\": [{\"system\": \"http://snomed.info/sct\", \"code\": \"288328004\", \"display\": \"Bee venom (substance)\"}], \"text\": \"Bee venom (substance)\"}, \"patient\": {\"reference\": \"urn:uuid:5b3645de-a2d0-d016-0839-bab3757c4c58\"}, \"recordedDate\": \"2017-08-30T11:37:42+00:00\", \"reaction\": [{\"manifestation\": [{\"coding\": [{\"system\": \"http://snomed.info/sct\", \"code\": \"271807003\", \"display\": \"Eruption of skin (disorder)\"}], \"text\": \"Eruption of skin (disorder)\"}], \"severity\": \"moderate\"}]}{\"resourceType\": \"AllergyIntolerance\", \"id\": \"b3e53e4d-5af6-92ea-0f80-900c9395e341\", \"meta\": {\"profile\": [\"http://hl7.org/fhir/us/core/StructureDefinition/us-core-allergyintolerance\"]}, \"clinicalStatus\": {\"coding\": [{\"system\": \"http://terminology.hl7.org/CodeSystem/allergyintolerance-clinical\", \"code\": \"active\"}]}, \"verificationStatus\": {\"coding\": [{\"system\": \"http://terminology.hl7.org/CodeSystem/allergyintolerance-verification\", \"code\": \"confirmed\"}]}, \"type\": \"allergy\", \"category\": [\"environment\"], \"criticality\": \"low\", \"code\": {\"coding\": [{\"system\": \"http://snomed.info/sct\", \"code\": \"111088007\", \"display\": \"Latex (substance)\"}], \"text\": \"Latex (substance)\"}, \"patient\": {\"reference\": \"urn:uuid:5b3645de-a2d0-d016-0839-bab3757c4c58\"}, \"recordedDate\": \"2017-08-30T11:37:42+00:00\", \"reaction\": [{\"manifestation\": [{\"coding\": [{\"system\": \"http://snomed.info/sct\", \"code\": \"247472004\", \"display\": \"Wheal (finding)\"}], \"text\": \"Wheal (finding)\"}], \"severity\": \"mild\"}, {\"manifestation\": [{\"coding\": [{\"system\": \"http://snomed.info/sct\", \"code\": \"418290006\", \"display\": \"Itching (finding)\"}], \"text\": \"Itching (finding)\"}]}]}{\"resourceType\": \"AllergyIntolerance\", \"id\": \"feee0836-c5f6-f660-edd5-fe970b2929fb\", \"meta\": {\"profile\": [\"http://hl7.org/fhir/us/core/StructureDefinition/us-core-allergyintolerance\"]}, \"clinicalStatus\": {\"coding\": [{\"system\": \"http://terminology.hl7.org/CodeSystem/allergyintolerance-clinical\", \"code\": \"active\"}]}, \"verificationStatus\": {\"coding\": [{\"system\": \"http://terminology.hl7.org/CodeSystem/allergyintolerance-verification\", \"code\": \"confirmed\"}]}, \"type\": \"allergy\", \"category\": [\"environment\"], \"criticality\": \"low\", \"code\": {\"coding\": [{\"system\": \"http://snomed.info/sct\", \"code\": \"264287008\", \"display\": \"Animal dander (substance)\"}], \"text\": \"Animal dander (substance)\"}, \"patient\": {\"reference\": \"urn:uuid:5b3645de-a2d0-d016-0839-bab3757c4c58\"}, \"recordedDate\": \"2017-08-30T11:37:42+00:00\", \"reaction\": [{\"manifestation\": [{\"coding\": [{\"system\": \"http://snomed.info/sct\", \"code\": \"247472004\", \"display\": \"Wheal (finding)\"}], \"text\": \"Wheal (finding)\"}], \"severity\": \"mild\"}, {\"manifestation\": [{\"coding\": [{\"system\": \"http://snomed.info/sct\", \"code\": \"878820003\", \"display\": \"Rhinoconjunctivitis (disorder)\"}], \"text\": \"Rhinoconjunctivitis (disorder)\"}], \"severity\": \"moderate\"}]}{\"resourceType\": \"AllergyIntolerance\", \"id\": \"0cd03006-ec25-6ceb-c486-da2d40eef491\", \"meta\": {\"profile\": [\"http://hl7.org/fhir/us/core/StructureDefinition/us-core-allergyintolerance\"]}, \"clinicalStatus\": {\"coding\": [{\"system\": \"http://terminology.hl7.org/CodeSystem/allergyintolerance-clinical\", \"code\": \"active\"}]}, \"verificationStatus\": {\"coding\": [{\"system\": \"http://terminology.hl7.org/CodeSystem/allergyintolerance-verification\", \"code\": \"confirmed\"}]}, \"type\": \"allergy\", \"category\": [\"environment\"], \"criticality\": \"low\", \"code\": {\"coding\": [{\"system\": \"http://snomed.info/sct\", \"code\": \"84489001\", \"display\": \"Mold (organism)\"}], \"text\": \"Mold (organism)\"}, \"patient\": {\"reference\": \"urn:uuid:5b3645de-a2d0-d016-0839-bab3757c4c58\"}, \"recordedDate\": \"2017-08-30T11:37:42+00:00\", \"reaction\": [{\"manifestation\": [{\"coding\": [{\"system\": \"http://snomed.info/sct\", \"code\": \"76067001\", \"display\": \"Sneezing\"}], \"text\": \"Sneezing\"}], \"severity\": \"mild\"}]}{\"resourceType\": \"AllergyIntolerance\", \"id\": \"b90f9972-3802-d85d-87d4-5af8e1c90dda\", \"meta\": {\"profile\": [\"http://hl7.org/fhir/us/core/StructureDefinition/us-core-allergyintolerance\"]}, \"clinicalStatus\": {\"coding\": [{\"system\": \"http://terminology.hl7.org/CodeSystem/allergyintolerance-clinical\", \"code\": \"active\"}]}, \"verificationStatus\": {\"coding\": [{\"system\": \"http://terminology.hl7.org/CodeSystem/allergyintolerance-verification\", \"code\": \"confirmed\"}]}, \"type\": \"allergy\", \"category\": [\"environment\"], \"criticality\": \"low\", \"code\": {\"coding\": [{\"system\": \"http://snomed.info/sct\", \"code\": \"419199007\", \"display\": \"Allergy to substance (finding)\"}], \"text\": \"Allergy to substance (finding)\"}, \"patient\": {\"reference\": \"urn:uuid:5b3645de-a2d0-d016-0839-bab3757c4c58\"}, \"recordedDate\": \"2017-08-30T11:37:42+00:00\"}{\"resourceType\": \"MedicationRequest\", \"id\": \"6ac1a7c9-300a-a7cf-f140-524b291660c7\", \"meta\": {\"profile\": [\"http://hl7.org/fhir/us/core/StructureDefinition/us-core-medicationrequest\"]}, \"status\": \"stopped\", \"intent\": \"order\", \"category\": [{\"coding\": [{\"system\": \"http://terminology.hl7.org/CodeSystem/medicationrequest-category\", \"code\": \"community\", \"display\": \"Community\"}], \"text\": \"Community\"}], \"medicationCodeableConcept\": {\"coding\": [{\"system\": \"http://www.nlm.nih.gov/research/umls/rxnorm\", \"code\": \"313820\", \"display\": \"Acetaminophen 160 MG Chewable Tablet\"}], \"text\": \"Acetaminophen 160 MG Chewable Tablet\"}, \"subject\": {\"reference\": \"urn:uuid:5b3645de-a2d0-d016-0839-bab3757c4c58\"}, \"encounter\": {\"reference\": \"urn:uuid:cf60427f-6701-abf2-82fc-945837df2152\"}, \"authoredOn\": \"2016-11-23T13:37:42+00:00\", \"requester\": {\"reference\": \"Practitioner?identifier=http://hl7.org/fhir/sid/us-npi|9999990697\", \"display\": \"Dr. Alvin56 Crona259\"}, \"dosageInstruction\": [{\"sequence\": 1, \"text\": \"Take as needed.\", \"asNeededBoolean\": true}]}{\"resourceType\": \"AllergyIntolerance\", \"id\": \"38baf162-b093-4abe-41b5-8782eb3fed8e\", \"meta\": {\"profile\": [\"http://hl7.org/fhir/us/core/StructureDefinition/us-core-allergyintolerance\"]}, \"clinicalStatus\": {\"coding\": [{\"system\": \"http://terminology.hl7.org/CodeSystem/allergyintolerance-clinical\", \"code\": \"active\"}]}, \"verificationStatus\": {\"coding\": [{\"system\": \"http://terminology.hl7.org/CodeSystem/allergyintolerance-verification\", \"code\": \"confirmed\"}]}, \"type\": \"allergy\", \"category\": [\"environment\"], \"criticality\": \"low\", \"code\": {\"coding\": [{\"system\": \"http://snomed.info/sct\", \"code\": \"256277009\", \"display\": \"Grass pollen (substance)\"}], \"text\": \"Grass pollen (substance)\"}, \"patient\": {\"reference\": \"urn:uuid:5b3645de-a2d0-d016-0839-bab3757c4c58\"}, \"recordedDate\": \"2017-08-30T11:37:42+00:00\"}{\"resourceType\": \"AllergyIntolerance\", \"id\": \"0a0af6b2-8ab1-399e-08d5-2992fa029e35\", \"meta\": {\"profile\": [\"http://hl7.org/fhir/us/core/StructureDefinition/us-core-allergyintolerance\"]}, \"clinicalStatus\": {\"coding\": [{\"system\": \"http://terminology.hl7.org/CodeSystem/allergyintolerance-clinical\", \"code\": \"active\"}]}, \"verificationStatus\": {\"coding\": [{\"system\": \"http://terminology.hl7.org/CodeSystem/allergyintolerance-verification\", \"code\": \"confirmed\"}]}, \"type\": \"allergy\", \"category\": [\"environment\"], \"criticality\": \"low\", \"code\": {\"coding\": [{\"system\": \"http://snomed.info/sct\", \"code\": \"260147004\", \"display\": \"House dust mite (organism)\"}], \"text\": \"House dust mite (organism)\"}, \"patient\": {\"reference\": \"urn:uuid:5b3645de-a2d0-d016-0839-bab3757c4c58\"}, \"recordedDate\": \"2017-08-30T11:37:42+00:00\"}{\"resourceType\": \"AllergyIntolerance\", \"id\": \"cc65479a-fac6-2625-27b6-9c91b585a422\", \"meta\": {\"profile\": [\"http://hl7.org/fhir/us/core/StructureDefinition/us-core-allergyintolerance\"]}, \"clinicalStatus\": {\"coding\": [{\"system\": \"http://terminology.hl7.org/CodeSystem/allergyintolerance-clinical\", \"code\": \"active\"}]}, \"verificationStatus\": {\"coding\": [{\"system\": \"http://terminology.hl7.org/CodeSystem/allergyintolerance-verification\", \"code\": \"confirmed\"}]}, \"type\": \"allergy\", \"category\": [\"environment\"], \"criticality\": \"low\", \"code\": {\"coding\": [{\"system\": \"http://snomed.info/sct\", \"code\": \"782576004\", \"display\": \"Tree pollen (substance)\"}], \"text\": \"Tree pollen (substance)\"}, \"patient\": {\"reference\": \"urn:uuid:5b3645de-a2d0-d016-0839-bab3757c4c58\"}, \"recordedDate\": \"2017-08-30T11:37:42+00:00\"}{\"resourceType\": \"Procedure\", \"id\": \"ed811e34-0edd-eac9-1426-6f7500596a51\", \"meta\": {\"profile\": [\"http://hl7.org/fhir/us/core/StructureDefinition/us-core-procedure\"]}, \"status\": \"completed\", \"code\": {\"coding\": [{\"system\": \"http://snomed.info/sct\", \"code\": \"395142003\", \"display\": \"Allergy screening test\"}], \"text\": \"Allergy screening test\"}, \"subject\": {\"reference\": \"urn:uuid:5b3645de-a2d0-d016-0839-bab3757c4c58\"}, \"encounter\": {\"reference\": \"urn:uuid:0bc7f36f-9d73-bdef-bfaa-b097c4b99dbc\"}, \"performedPeriod\": {\"start\": \"2017-08-30T11:37:42+00:00\", \"end\": \"2017-08-30T12:14:48+00:00\"}, \"location\": {\"reference\": \"Location?identifier=https://github.com/synthetichealth/synthea|17ab5f4a-eb74-306c-8895-5ce93ec4592b\", \"display\": \"HOLY FAMILY HOSPITAL\"}}{\"resourceType\": \"MedicationRequest\", \"id\": \"cf18362b-5057-8a39-039b-dbc9e13ed518\", \"meta\": {\"profile\": [\"http://hl7.org/fhir/us/core/StructureDefinition/us-core-medicationrequest\"]}, \"status\": \"active\", \"intent\": \"order\", \"category\": [{\"coding\": [{\"system\": \"http://terminology.hl7.org/CodeSystem/medicationrequest-category\", \"code\": \"community\", \"display\": \"Community\"}], \"text\": \"Community\"}], \"medicationCodeableConcept\": {\"coding\": [{\"system\": \"http://www.nlm.nih.gov/research/umls/rxnorm\", \"code\": \"1870230\", \"display\": \"NDA020800 0.3 ML Epinephrine 1 MG/ML Auto-Injector\"}], \"text\": \"NDA020800 0.3 ML Epinephrine 1 MG/ML Auto-Injector\"}, \"subject\": {\"reference\": \"urn:uuid:5b3645de-a2d0-d016-0839-bab3757c4c58\"}, \"encounter\": {\"reference\": \"urn:uuid:0bc7f36f-9d73-bdef-bfaa-b097c4b99dbc\"}, \"authoredOn\": \"2017-08-30T12:14:48+00:00\", \"requester\": {\"reference\": \"Practitioner?identifier=http://hl7.org/fhir/sid/us-npi|9999990697\", \"display\": \"Dr. Alvin56 Crona259\"}, \"dosageInstruction\": [{\"sequence\": 1, \"text\": \"Take as needed.\", \"asNeededBoolean\": true}]}{\"resourceType\": \"MedicationRequest\", \"id\": \"3cf09561-5d36-5abd-61dd-7596bea2c5ac\", \"meta\": {\"profile\": [\"http://hl7.org/fhir/us/core/StructureDefinition/us-core-medicationrequest\"]}, \"status\": \"active\", \"intent\": \"order\", \"category\": [{\"coding\": [{\"system\": \"http://terminology.hl7.org/CodeSystem/medicationrequest-category\", \"code\": \"community\", \"display\": \"Community\"}], \"text\": \"Community\"}], \"medicationCodeableConcept\": {\"coding\": [{\"system\": \"http://www.nlm.nih.gov/research/umls/rxnorm\", \"code\": \"997488\", \"display\": \"Fexofenadine hydrochloride 30 MG Oral Tablet\"}], \"text\": \"Fexofenadine hydrochloride 30 MG Oral Tablet\"}, \"subject\": {\"reference\": \"urn:uuid:5b3645de-a2d0-d016-0839-bab3757c4c58\"}, \"encounter\": {\"reference\": \"urn:uuid:9fc6351d-7e69-20c6-c597-856f8e70483d\"}, \"authoredOn\": \"2017-08-22T13:37:42+00:00\", \"requester\": {\"reference\": \"Practitioner?identifier=http://hl7.org/fhir/sid/us-npi|9999990697\", \"display\": \"Dr. Alvin56 Crona259\"}, \"dosageInstruction\": [{\"sequence\": 1, \"text\": \"Take as needed.\", \"asNeededBoolean\": true}]}{\"resourceType\": \"Procedure\", \"id\": \"c8804dc9-6b66-d7cd-5849-28f0ed667d6c\", \"meta\": {\"profile\": [\"http://hl7.org/fhir/us/core/StructureDefinition/us-core-procedure\"]}, \"status\": \"completed\", \"code\": {\"coding\": [{\"system\": \"http://snomed.info/sct\", \"code\": \"390791001\", \"display\": \"Referral for echocardiography (procedure)\"}], \"text\": \"Referral for echocardiography (procedure)\"}, \"subject\": {\"reference\": \"urn:uuid:5b3645de-a2d0-d016-0839-bab3757c4c58\"}, \"encounter\": {\"reference\": \"urn:uuid:0c040c84-6b1e-d620-485e-ca3c1b22dca2\"}, \"performedPeriod\": {\"start\": \"2020-02-01T13:50:53+00:00\", \"end\": \"2020-02-01T14:18:16+00:00\"}, \"location\": {\"reference\": \"Location?identifier=https://github.com/synthetichealth/synthea|81c75a54-2b95-3fdf-9327-b74df8630869\", \"display\": \"Fitchburg Outpatient Clinic\"}, \"reasonReference\": [{\"reference\": \"urn:uuid:f609ac50-8d87-d280-da41-4ab6722bbe3a\", \"display\": \"Aortic valve stenosis (disorder)\"}]}{\"resourceType\": \"Observation\", \"id\": \"ebec29fd-1236-5ee8-410a-bcea7f494a60\", \"meta\": {\"profile\": [\"http://hl7.org/fhir/us/core/StructureDefinition/us-core-observation-lab\"]}, \"status\": \"final\", \"category\": [{\"coding\": [{\"system\": \"http://terminology.hl7.org/CodeSystem/observation-category\", \"code\": \"laboratory\", \"display\": \"Laboratory\"}]}], \"code\": {\"coding\": [{\"system\": \"http://loinc.org\", \"code\": \"32623-1\", \"display\": \"Platelet mean volume [Entitic volume] in Blood by Automated count\"}], \"text\": \"Platelet mean volume [Entitic volume] in Blood by Automated count\"}, \"subject\": {\"reference\": \"urn:uuid:5b3645de-a2d0-d016-0839-bab3757c4c58\"}, \"encounter\": {\"reference\": \"urn:uuid:eeabc5ce-1fe7-bbdf-aabc-c497093437ae\"}, \"effectiveDateTime\": \"2021-02-28T13:37:42+00:00\", \"issued\": \"2021-02-28T13:37:42.868+00:00\", \"valueQuantity\": {\"value\": 10.388, \"unit\": \"fL\", \"system\": \"http://unitsofmeasure.org\", \"code\": \"fL\"}}{\"resourceType\": \"Procedure\", \"id\": \"d829465f-382b-a0f0-0a19-b8fb73afa989\", \"meta\": {\"profile\": [\"http://hl7.org/fhir/us/core/StructureDefinition/us-core-procedure\"]}, \"status\": \"completed\", \"code\": {\"coding\": [{\"system\": \"http://snomed.info/sct\", \"code\": \"390791001\", \"display\": \"Referral for echocardiography (procedure)\"}], \"text\": \"Referral for echocardiography (procedure)\"}, \"subject\": {\"reference\": \"urn:uuid:5b3645de-a2d0-d016-0839-bab3757c4c58\"}, \"encounter\": {\"reference\": \"urn:uuid:5e225a66-ead5-6de3-bba6-bb6be422159d\"}, \"performedPeriod\": {\"start\": \"2019-05-02T13:37:42+00:00\", \"end\": \"2019-05-02T13:50:53+00:00\"}, \"location\": {\"reference\": \"Location?identifier=https://github.com/synthetichealth/synthea|81c75a54-2b95-3fdf-9327-b74df8630869\", \"display\": \"Fitchburg Outpatient Clinic\"}, \"reasonReference\": [{\"reference\": \"urn:uuid:f609ac50-8d87-d280-da41-4ab6722bbe3a\", \"display\": \"Aortic valve stenosis (disorder)\"}]}{\"resourceType\": \"Observation\", \"id\": \"4357e298-a5fd-f11d-0100-a247df615454\", \"meta\": {\"profile\": [\"http://hl7.org/fhir/us/core/StructureDefinition/us-core-observation-lab\"]}, \"status\": \"final\", \"category\": [{\"coding\": [{\"system\": \"http://terminology.hl7.org/CodeSystem/observation-category\", \"code\": \"laboratory\", \"display\": \"Laboratory\"}]}], \"code\": {\"coding\": [{\"system\": \"http://loinc.org\", \"code\": \"32207-3\", \"display\": \"Platelet distribution width [Entitic volume] in Blood by Automated count\"}], \"text\": \"Platelet distribution width [Entitic volume] in Blood by Automated count\"}, \"subject\": {\"reference\": \"urn:uuid:5b3645de-a2d0-d016-0839-bab3757c4c58\"}, \"encounter\": {\"reference\": \"urn:uuid:b3b4d7c6-46f5-9f10-cfd2-464ff96160f9\"}, \"effectiveDateTime\": \"2015-05-03T13:37:42+00:00\", \"issued\": \"2015-05-03T13:37:42.868+00:00\", \"valueQuantity\": {\"value\": 203.55, \"unit\": \"fL\", \"system\": \"http://unitsofmeasure.org\", \"code\": \"fL\"}}{\"resourceType\": \"Observation\", \"id\": \"5579d5ac-57b1-9fa3-7f21-409ef74a9e14\", \"meta\": {\"profile\": [\"http://hl7.org/fhir/us/core/StructureDefinition/us-core-observation-lab\"]}, \"status\": \"final\", \"category\": [{\"coding\": [{\"system\": \"http://terminology.hl7.org/CodeSystem/observation-category\", \"code\": \"laboratory\", \"display\": \"Laboratory\"}]}], \"code\": {\"coding\": [{\"system\": \"http://loinc.org\", \"code\": \"32623-1\", \"display\": \"Platelet mean volume [Entitic volume] in Blood by Automated count\"}], \"text\": \"Platelet mean volume [Entitic volume] in Blood by Automated count\"}, \"subject\": {\"reference\": \"urn:uuid:5b3645de-a2d0-d016-0839-bab3757c4c58\"}, \"encounter\": {\"reference\": \"urn:uuid:b3b4d7c6-46f5-9f10-cfd2-464ff96160f9\"}, \"effectiveDateTime\": \"2015-05-03T13:37:42+00:00\", \"issued\": \"2015-05-03T13:37:42.868+00:00\", \"valueQuantity\": {\"value\": 9.6396, \"unit\": \"fL\", \"system\": \"http://unitsofmeasure.org\", \"code\": \"fL\"}}{\"resourceType\": \"Observation\", \"id\": \"eae4bb3d-ef17-0df6-d138-355468dfc0a1\", \"meta\": {\"profile\": [\"http://hl7.org/fhir/us/core/StructureDefinition/us-core-observation-lab\"]}, \"status\": \"final\", \"category\": [{\"coding\": [{\"system\": \"http://terminology.hl7.org/CodeSystem/observation-category\", \"code\": \"laboratory\", \"display\": \"Laboratory\"}]}], \"code\": {\"coding\": [{\"system\": \"http://loinc.org\", \"code\": \"777-3\", \"display\": \"Platelets [#/volume] in Blood by Automated count\"}], \"text\": \"Platelets [#/volume] in Blood by Automated count\"}, \"subject\": {\"reference\": \"urn:uuid:5b3645de-a2d0-d016-0839-bab3757c4c58\"}, \"encounter\": {\"reference\": \"urn:uuid:eeabc5ce-1fe7-bbdf-aabc-c497093437ae\"}, \"effectiveDateTime\": \"2021-02-28T13:37:42+00:00\", \"issued\": \"2021-02-28T13:37:42.868+00:00\", \"valueQuantity\": {\"value\": 352.58, \"unit\": \"10*3/uL\", \"system\": \"http://unitsofmeasure.org\", \"code\": \"10*3/uL\"}}{\"resourceType\": \"Observation\", \"id\": \"1e44ad6c-4926-4624-3012-50fc87e484ef\", \"meta\": {\"profile\": [\"http://hl7.org/fhir/us/core/StructureDefinition/us-core-blood-pressure\"]}, \"status\": \"final\", \"category\": [{\"coding\": [{\"system\": \"http://terminology.hl7.org/CodeSystem/observation-category\", \"code\": \"vital-signs\", \"display\": \"Vital signs\"}]}], \"code\": {\"coding\": [{\"system\": \"http://loinc.org\", \"code\": \"85354-9\", \"display\": \"Blood pressure panel with all children optional\"}], \"text\": \"Blood pressure panel with all children optional\"}, \"subject\": {\"reference\": \"urn:uuid:5b3645de-a2d0-d016-0839-bab3757c4c58\"}, \"encounter\": {\"reference\": \"urn:uuid:a3f103db-327a-1bf0-22fe-f682ca0fa557\"}, \"effectiveDateTime\": \"2017-04-09T13:37:42+00:00\", \"issued\": \"2017-04-09T13:37:42.868+00:00\", \"component\": [{\"code\": {\"coding\": [{\"system\": \"http://loinc.org\", \"code\": \"8462-4\", \"display\": \"Diastolic Blood Pressure\"}], \"text\": \"Diastolic Blood Pressure\"}, \"valueQuantity\": {\"value\": 73, \"unit\": \"mm[Hg]\", \"system\": \"http://unitsofmeasure.org\", \"code\": \"mm[Hg]\"}}, {\"code\": {\"coding\": [{\"system\": \"http://loinc.org\", \"code\": \"8480-6\", \"display\": \"Systolic Blood Pressure\"}], \"text\": \"Systolic Blood Pressure\"}, \"valueQuantity\": {\"value\": 132, \"unit\": \"mm[Hg]\", \"system\": \"http://unitsofmeasure.org\", \"code\": \"mm[Hg]\"}}]}{\"resourceType\": \"Procedure\", \"id\": \"b856f5bd-78be-1c04-3551-edcd13f71a76\", \"meta\": {\"profile\": [\"http://hl7.org/fhir/us/core/StructureDefinition/us-core-procedure\"]}, \"status\": \"completed\", \"code\": {\"coding\": [{\"system\": \"http://snomed.info/sct\", \"code\": \"390791001\", \"display\": \"Referral for echocardiography (procedure)\"}], \"text\": \"Referral for echocardiography (procedure)\"}, \"subject\": {\"reference\": \"urn:uuid:5b3645de-a2d0-d016-0839-bab3757c4c58\"}, \"encounter\": {\"reference\": \"urn:uuid:566fdc4c-00b5-debb-7f7e-6d921fedd976\"}, \"performedPeriod\": {\"start\": \"2023-03-28T14:38:02+00:00\", \"end\": \"2023-03-28T14:47:51+00:00\"}, \"location\": {\"reference\": \"Location?identifier=https://github.com/synthetichealth/synthea|81c75a54-2b95-3fdf-9327-b74df8630869\", \"display\": \"Fitchburg Outpatient Clinic\"}, \"reasonReference\": [{\"reference\": \"urn:uuid:f609ac50-8d87-d280-da41-4ab6722bbe3a\", \"display\": \"Aortic valve stenosis (disorder)\"}]}{\"resourceType\": \"Observation\", \"id\": \"310dfe88-ebd6-91d6-1568-86ff5575d076\", \"meta\": {\"profile\": [\"http://hl7.org/fhir/us/core/StructureDefinition/us-core-blood-pressure\"]}, \"status\": \"final\", \"category\": [{\"coding\": [{\"system\": \"http://terminology.hl7.org/CodeSystem/observation-category\", \"code\": \"vital-signs\", \"display\": \"Vital signs\"}]}], \"code\": {\"coding\": [{\"system\": \"http://loinc.org\", \"code\": \"85354-9\", \"display\": \"Blood pressure panel with all children optional\"}], \"text\": \"Blood pressure panel with all children optional\"}, \"subject\": {\"reference\": \"urn:uuid:5b3645de-a2d0-d016-0839-bab3757c4c58\"}, \"encounter\": {\"reference\": \"urn:uuid:f097ede0-25c5-f205-ef23-2bf45d663e57\"}, \"effectiveDateTime\": \"2015-10-11T13:37:42+00:00\", \"issued\": \"2015-10-11T13:37:42.868+00:00\", \"component\": [{\"code\": {\"coding\": [{\"system\": \"http://loinc.org\", \"code\": \"8462-4\", \"display\": \"Diastolic Blood Pressure\"}], \"text\": \"Diastolic Blood Pressure\"}, \"valueQuantity\": {\"value\": 72, \"unit\": \"mm[Hg]\", \"system\": \"http://unitsofmeasure.org\", \"code\": \"mm[Hg]\"}}, {\"code\": {\"coding\": [{\"system\": \"http://loinc.org\", \"code\": \"8480-6\", \"display\": \"Systolic Blood Pressure\"}], \"text\": \"Systolic Blood Pressure\"}, \"valueQuantity\": {\"value\": 123, \"unit\": \"mm[Hg]\", \"system\": \"http://unitsofmeasure.org\", \"code\": \"mm[Hg]\"}}]}{\"resourceType\": \"MedicationRequest\", \"id\": \"a4bc21fb-f447-1b96-03a6-32c070cd457a\", \"meta\": {\"profile\": [\"http://hl7.org/fhir/us/core/StructureDefinition/us-core-medicationrequest\"]}, \"status\": \"stopped\", \"intent\": \"order\", \"category\": [{\"coding\": [{\"system\": \"http://terminology.hl7.org/CodeSystem/medicationrequest-category\", \"code\": \"community\", \"display\": \"Community\"}], \"text\": \"Community\"}], \"medicationCodeableConcept\": {\"coding\": [{\"system\": \"http://www.nlm.nih.gov/research/umls/rxnorm\", \"code\": \"834061\", \"display\": \"Penicillin V Potassium 250 MG Oral Tablet\"}], \"text\": \"Penicillin V Potassium 250 MG Oral Tablet\"}, \"subject\": {\"reference\": \"urn:uuid:5b3645de-a2d0-d016-0839-bab3757c4c58\"}, \"encounter\": {\"reference\": \"urn:uuid:4e7837d4-083f-9360-e1e3-3550ea57d9d9\"}, \"authoredOn\": \"2021-02-17T16:37:42+00:00\", \"requester\": {\"reference\": \"Practitioner?identifier=http://hl7.org/fhir/sid/us-npi|9999990697\", \"display\": \"Dr. Alvin56 Crona259\"}, \"reasonReference\": [{\"reference\": \"urn:uuid:d3f9c722-52e2-c6ca-1220-10aecbf3ec80\", \"display\": \"Streptococcal sore throat (disorder)\"}]}{\"resourceType\": \"Observation\", \"id\": \"87b6d848-6380-2520-84dd-b38788edadb5\", \"meta\": {\"profile\": [\"http://hl7.org/fhir/us/core/StructureDefinition/us-core-blood-pressure\"]}, \"status\": \"final\", \"category\": [{\"coding\": [{\"system\": \"http://terminology.hl7.org/CodeSystem/observation-category\", \"code\": \"vital-signs\", \"display\": \"Vital signs\"}]}], \"code\": {\"coding\": [{\"system\": \"http://loinc.org\", \"code\": \"85354-9\", \"display\": \"Blood pressure panel with all children optional\"}], \"text\": \"Blood pressure panel with all children optional\"}, \"subject\": {\"reference\": \"urn:uuid:5b3645de-a2d0-d016-0839-bab3757c4c58\"}, \"encounter\": {\"reference\": \"urn:uuid:24330ffb-5f1a-fb13-3eab-10afcbc0e323\"}, \"effectiveDateTime\": \"2016-01-10T13:37:42+00:00\", \"issued\": \"2016-01-10T13:37:42.868+00:00\", \"component\": [{\"code\": {\"coding\": [{\"system\": \"http://loinc.org\", \"code\": \"8462-4\", \"display\": \"Diastolic Blood Pressure\"}], \"text\": \"Diastolic Blood Pressure\"}, \"valueQuantity\": {\"value\": 70, \"unit\": \"mm[Hg]\", \"system\": \"http://unitsofmeasure.org\", \"code\": \"mm[Hg]\"}}, {\"code\": {\"coding\": [{\"system\": \"http://loinc.org\", \"code\": \"8480-6\", \"display\": \"Systolic Blood Pressure\"}], \"text\": \"Systolic Blood Pressure\"}, \"valueQuantity\": {\"value\": 130, \"unit\": \"mm[Hg]\", \"system\": \"http://unitsofmeasure.org\", \"code\": \"mm[Hg]\"}}]}{\"resourceType\": \"Observation\", \"id\": \"eae96ab4-7376-8929-55f5-fc1d4aebf5b2\", \"meta\": {\"profile\": [\"http://hl7.org/fhir/us/core/StructureDefinition/us-core-blood-pressure\"]}, \"status\": \"final\", \"category\": [{\"coding\": [{\"system\": \"http://terminology.hl7.org/CodeSystem/observation-category\", \"code\": \"vital-signs\", \"display\": \"Vital signs\"}]}], \"code\": {\"coding\": [{\"system\": \"http://loinc.org\", \"code\": \"85354-9\", \"display\": \"Blood pressure panel with all children optional\"}], \"text\": \"Blood pressure panel with all children optional\"}, \"subject\": {\"reference\": \"urn:uuid:5b3645de-a2d0-d016-0839-bab3757c4c58\"}, \"encounter\": {\"reference\": \"urn:uuid:1b83e19a-32e9-f442-870f-c90c7da0d021\"}, \"effectiveDateTime\": \"2019-04-07T13:37:42+00:00\", \"issued\": \"2019-04-07T13:37:42.868+00:00\", \"component\": [{\"code\": {\"coding\": [{\"system\": \"http://loinc.org\", \"code\": \"8462-4\", \"display\": \"Diastolic Blood Pressure\"}], \"text\": \"Diastolic Blood Pressure\"}, \"valueQuantity\": {\"value\": 75, \"unit\": \"mm[Hg]\", \"system\": \"http://unitsofmeasure.org\", \"code\": \"mm[Hg]\"}}, {\"code\": {\"coding\": [{\"system\": \"http://loinc.org\", \"code\": \"8480-6\", \"display\": \"Systolic Blood Pressure\"}], \"text\": \"Systolic Blood Pressure\"}, \"valueQuantity\": {\"value\": 131, \"unit\": \"mm[Hg]\", \"system\": \"http://unitsofmeasure.org\", \"code\": \"mm[Hg]\"}}]}{\"resourceType\": \"Observation\", \"id\": \"d08d6516-7969-def5-830d-864a21d70145\", \"meta\": {\"profile\": [\"http://hl7.org/fhir/us/core/StructureDefinition/us-core-blood-pressure\"]}, \"status\": \"final\", \"category\": [{\"coding\": [{\"system\": \"http://terminology.hl7.org/CodeSystem/observation-category\", \"code\": \"vital-signs\", \"display\": \"Vital signs\"}]}], \"code\": {\"coding\": [{\"system\": \"http://loinc.org\", \"code\": \"85354-9\", \"display\": \"Blood pressure panel with all children optional\"}], \"text\": \"Blood pressure panel with all children optional\"}, \"subject\": {\"reference\": \"urn:uuid:5b3645de-a2d0-d016-0839-bab3757c4c58\"}, \"encounter\": {\"reference\": \"urn:uuid:d7a2721e-1568-274b-64bb-58c2ec026b65\"}, \"effectiveDateTime\": \"2015-06-07T13:37:42+00:00\", \"issued\": \"2015-06-07T13:37:42.868+00:00\", \"component\": [{\"code\": {\"coding\": [{\"system\": \"http://loinc.org\", \"code\": \"8462-4\", \"display\": \"Diastolic Blood Pressure\"}], \"text\": \"Diastolic Blood Pressure\"}, \"valueQuantity\": {\"value\": 74, \"unit\": \"mm[Hg]\", \"system\": \"http://unitsofmeasure.org\", \"code\": \"mm[Hg]\"}}, {\"code\": {\"coding\": [{\"system\": \"http://loinc.org\", \"code\": \"8480-6\", \"display\": \"Systolic Blood Pressure\"}], \"text\": \"Systolic Blood Pressure\"}, \"valueQuantity\": {\"value\": 121, \"unit\": \"mm[Hg]\", \"system\": \"http://unitsofmeasure.org\", \"code\": \"mm[Hg]\"}}]}{\"resourceType\": \"Observation\", \"id\": \"ab1c78b4-2152-315d-3060-6ce7dea04dff\", \"meta\": {\"profile\": [\"http://hl7.org/fhir/us/core/StructureDefinition/us-core-blood-pressure\"]}, \"status\": \"final\", \"category\": [{\"coding\": [{\"system\": \"http://terminology.hl7.org/CodeSystem/observation-category\", \"code\": \"vital-signs\", \"display\": \"Vital signs\"}]}], \"code\": {\"coding\": [{\"system\": \"http://loinc.org\", \"code\": \"85354-9\", \"display\": \"Blood pressure panel with all children optional\"}], \"text\": \"Blood pressure panel with all children optional\"}, \"subject\": {\"reference\": \"urn:uuid:5b3645de-a2d0-d016-0839-bab3757c4c58\"}, \"encounter\": {\"reference\": \"urn:uuid:fd013f8c-0ce2-644e-1d71-bf6761396ba8\"}, \"effectiveDateTime\": \"2015-08-09T13:37:42+00:00\", \"issued\": \"2015-08-09T13:37:42.868+00:00\", \"component\": [{\"code\": {\"coding\": [{\"system\": \"http://loinc.org\", \"code\": \"8462-4\", \"display\": \"Diastolic Blood Pressure\"}], \"text\": \"Diastolic Blood Pressure\"}, \"valueQuantity\": {\"value\": 72, \"unit\": \"mm[Hg]\", \"system\": \"http://unitsofmeasure.org\", \"code\": \"mm[Hg]\"}}, {\"code\": {\"coding\": [{\"system\": \"http://loinc.org\", \"code\": \"8480-6\", \"display\": \"Systolic Blood Pressure\"}], \"text\": \"Systolic Blood Pressure\"}, \"valueQuantity\": {\"value\": 119, \"unit\": \"mm[Hg]\", \"system\": \"http://unitsofmeasure.org\", \"code\": \"mm[Hg]\"}}]}{\"resourceType\": \"Procedure\", \"id\": \"259aca07-e18b-fd73-c5a3-51f964cd9971\", \"meta\": {\"profile\": [\"http://hl7.org/fhir/us/core/StructureDefinition/us-core-procedure\"]}, \"status\": \"completed\", \"code\": {\"coding\": [{\"system\": \"http://snomed.info/sct\", \"code\": \"390791001\", \"display\": \"Referral for echocardiography (procedure)\"}], \"text\": \"Referral for echocardiography (procedure)\"}, \"subject\": {\"reference\": \"urn:uuid:5b3645de-a2d0-d016-0839-bab3757c4c58\"}, \"encounter\": {\"reference\": \"urn:uuid:23966025-efe0-1a7d-77e4-f6c55fc32a67\"}, \"performedPeriod\": {\"start\": \"2021-05-29T14:18:16+00:00\", \"end\": \"2021-05-29T14:38:02+00:00\"}, \"location\": {\"reference\": \"Location?identifier=https://github.com/synthetichealth/synthea|81c75a54-2b95-3fdf-9327-b74df8630869\", \"display\": \"Fitchburg Outpatient Clinic\"}, \"reasonReference\": [{\"reference\": \"urn:uuid:f609ac50-8d87-d280-da41-4ab6722bbe3a\", \"display\": \"Aortic valve stenosis (disorder)\"}]}{\"resourceType\": \"Observation\", \"id\": \"df68fa18-8dc4-3361-9985-cfd39e8ad7b1\", \"meta\": {\"profile\": [\"http://hl7.org/fhir/us/core/StructureDefinition/us-core-blood-pressure\"]}, \"status\": \"final\", \"category\": [{\"coding\": [{\"system\": \"http://terminology.hl7.org/CodeSystem/observation-category\", \"code\": \"vital-signs\", \"display\": \"Vital signs\"}]}], \"code\": {\"coding\": [{\"system\": \"http://loinc.org\", \"code\": \"85354-9\", \"display\": \"Blood pressure panel with all children optional\"}], \"text\": \"Blood pressure panel with all children optional\"}, \"subject\": {\"reference\": \"urn:uuid:5b3645de-a2d0-d016-0839-bab3757c4c58\"}, \"encounter\": {\"reference\": \"urn:uuid:5617366c-729c-f78d-0550-40a2ff8811c5\"}, \"effectiveDateTime\": \"2018-10-07T13:37:42+00:00\", \"issued\": \"2018-10-07T13:37:42.868+00:00\", \"component\": [{\"code\": {\"coding\": [{\"system\": \"http://loinc.org\", \"code\": \"8462-4\", \"display\": \"Diastolic Blood Pressure\"}], \"text\": \"Diastolic Blood Pressure\"}, \"valueQuantity\": {\"value\": 73, \"unit\": \"mm[Hg]\", \"system\": \"http://unitsofmeasure.org\", \"code\": \"mm[Hg]\"}}, {\"code\": {\"coding\": [{\"system\": \"http://loinc.org\", \"code\": \"8480-6\", \"display\": \"Systolic Blood Pressure\"}], \"text\": \"Systolic Blood Pressure\"}, \"valueQuantity\": {\"value\": 121, \"unit\": \"mm[Hg]\", \"system\": \"http://unitsofmeasure.org\", \"code\": \"mm[Hg]\"}}]}{\"resourceType\": \"Observation\", \"id\": \"07eaa55b-00be-dbc0-3474-1546697d1050\", \"meta\": {\"profile\": [\"http://hl7.org/fhir/us/core/StructureDefinition/us-core-blood-pressure\"]}, \"status\": \"final\", \"category\": [{\"coding\": [{\"system\": \"http://terminology.hl7.org/CodeSystem/observation-category\", \"code\": \"vital-signs\", \"display\": \"Vital signs\"}]}], \"code\": {\"coding\": [{\"system\": \"http://loinc.org\", \"code\": \"85354-9\", \"display\": \"Blood pressure panel with all children optional\"}], \"text\": \"Blood pressure panel with all children optional\"}, \"subject\": {\"reference\": \"urn:uuid:5b3645de-a2d0-d016-0839-bab3757c4c58\"}, \"encounter\": {\"reference\": \"urn:uuid:49624b47-10ff-735c-da38-3cdaed7aead2\"}, \"effectiveDateTime\": \"2016-07-10T13:37:42+00:00\", \"issued\": \"2016-07-10T13:37:42.868+00:00\", \"component\": [{\"code\": {\"coding\": [{\"system\": \"http://loinc.org\", \"code\": \"8462-4\", \"display\": \"Diastolic Blood Pressure\"}], \"text\": \"Diastolic Blood Pressure\"}, \"valueQuantity\": {\"value\": 73, \"unit\": \"mm[Hg]\", \"system\": \"http://unitsofmeasure.org\", \"code\": \"mm[Hg]\"}}, {\"code\": {\"coding\": [{\"system\": \"http://loinc.org\", \"code\": \"8480-6\", \"display\": \"Systolic Blood Pressure\"}], \"text\": \"Systolic Blood Pressure\"}, \"valueQuantity\": {\"value\": 129, \"unit\": \"mm[Hg]\", \"system\": \"http://unitsofmeasure.org\", \"code\": \"mm[Hg]\"}}]}{\"resourceType\": \"Observation\", \"id\": \"25cb2658-bf2d-d6b7-d271-76df13b5fbae\", \"meta\": {\"profile\": [\"http://hl7.org/fhir/us/core/StructureDefinition/us-core-blood-pressure\"]}, \"status\": \"final\", \"category\": [{\"coding\": [{\"system\": \"http://terminology.hl7.org/CodeSystem/observation-category\", \"code\": \"vital-signs\", \"display\": \"Vital signs\"}]}], \"code\": {\"coding\": [{\"system\": \"http://loinc.org\", \"code\": \"85354-9\", \"display\": \"Blood pressure panel with all children optional\"}], \"text\": \"Blood pressure panel with all children optional\"}, \"subject\": {\"reference\": \"urn:uuid:5b3645de-a2d0-d016-0839-bab3757c4c58\"}, \"encounter\": {\"reference\": \"urn:uuid:12a00623-e6f6-4d27-1a1b-a46368749b63\"}, \"effectiveDateTime\": \"2022-03-06T13:37:42+00:00\", \"issued\": \"2022-03-06T13:37:42.868+00:00\", \"component\": [{\"code\": {\"coding\": [{\"system\": \"http://loinc.org\", \"code\": \"8462-4\", \"display\": \"Diastolic Blood Pressure\"}], \"text\": \"Diastolic Blood Pressure\"}, \"valueQuantity\": {\"value\": 68, \"unit\": \"mm[Hg]\", \"system\": \"http://unitsofmeasure.org\", \"code\": \"mm[Hg]\"}}, {\"code\": {\"coding\": [{\"system\": \"http://loinc.org\", \"code\": \"8480-6\", \"display\": \"Systolic Blood Pressure\"}], \"text\": \"Systolic Blood Pressure\"}, \"valueQuantity\": {\"value\": 129, \"unit\": \"mm[Hg]\", \"system\": \"http://unitsofmeasure.org\", \"code\": \"mm[Hg]\"}}]}{\"resourceType\": \"MedicationRequest\", \"id\": \"6124583a-0ce8-bdbb-f259-382143d82b35\", \"meta\": {\"profile\": [\"http://hl7.org/fhir/us/core/StructureDefinition/us-core-medicationrequest\"]}, \"status\": \"stopped\", \"intent\": \"order\", \"category\": [{\"coding\": [{\"system\": \"http://terminology.hl7.org/CodeSystem/medicationrequest-category\", \"code\": \"community\", \"display\": \"Community\"}], \"text\": \"Community\"}], \"medicationCodeableConcept\": {\"coding\": [{\"system\": \"http://www.nlm.nih.gov/research/umls/rxnorm\", \"code\": \"834061\", \"display\": \"Penicillin V Potassium 250 MG Oral Tablet\"}], \"text\": \"Penicillin V Potassium 250 MG Oral Tablet\"}, \"subject\": {\"reference\": \"urn:uuid:5b3645de-a2d0-d016-0839-bab3757c4c58\"}, \"encounter\": {\"reference\": \"urn:uuid:fc6a22f2-848e-d29e-0a8b-df2e931ae617\"}, \"authoredOn\": \"2022-02-26T17:37:42+00:00\", \"requester\": {\"reference\": \"Practitioner?identifier=http://hl7.org/fhir/sid/us-npi|9999990697\", \"display\": \"Dr. Alvin56 Crona259\"}, \"reasonReference\": [{\"reference\": \"urn:uuid:d3f9c722-52e2-c6ca-1220-10aecbf3ec80\", \"display\": \"Streptococcal sore throat (disorder)\"}]}{\"resourceType\": \"MedicationRequest\", \"id\": \"6948c88e-d15c-3f11-a635-be707cb15632\", \"meta\": {\"profile\": [\"http://hl7.org/fhir/us/core/StructureDefinition/us-core-medicationrequest\"]}, \"status\": \"stopped\", \"intent\": \"order\", \"category\": [{\"coding\": [{\"system\": \"http://terminology.hl7.org/CodeSystem/medicationrequest-category\", \"code\": \"community\", \"display\": \"Community\"}], \"text\": \"Community\"}], \"medicationCodeableConcept\": {\"coding\": [{\"system\": \"http://www.nlm.nih.gov/research/umls/rxnorm\", \"code\": \"308192\", \"display\": \"Amoxicillin 500 MG Oral Tablet\"}], \"text\": \"Amoxicillin 500 MG Oral Tablet\"}, \"subject\": {\"reference\": \"urn:uuid:5b3645de-a2d0-d016-0839-bab3757c4c58\"}, \"encounter\": {\"reference\": \"urn:uuid:cf60427f-6701-abf2-82fc-945837df2152\"}, \"authoredOn\": \"2016-11-23T13:37:42+00:00\", \"requester\": {\"reference\": \"Practitioner?identifier=http://hl7.org/fhir/sid/us-npi|9999990697\", \"display\": \"Dr. Alvin56 Crona259\"}, \"dosageInstruction\": [{\"sequence\": 1, \"text\": \"Take at regular intervals. Complete the prescribed course unless otherwise directed (qualifier value)\", \"additionalInstruction\": [{\"coding\": [{\"system\": \"http://snomed.info/sct\", \"code\": \"418577003\", \"display\": \"Take at regular intervals. Complete the prescribed course unless otherwise directed (qualifier value)\"}], \"text\": \"Take at regular intervals. Complete the prescribed course unless otherwise directed (qualifier value)\"}], \"timing\": {\"repeat\": {\"frequency\": 3, \"period\": 1.0, \"periodUnit\": \"d\"}}, \"asNeededBoolean\": false, \"doseAndRate\": [{\"type\": {\"coding\": [{\"system\": \"http://terminology.hl7.org/CodeSystem/dose-rate-type\", \"code\": \"ordered\", \"display\": \"Ordered\"}]}, \"doseQuantity\": {\"value\": 1.0}}]}]}{\"resourceType\": \"Observation\", \"id\": \"46f5d3c6-6702-8137-a77c-c962e2b306ad\", \"meta\": {\"profile\": [\"http://hl7.org/fhir/us/core/StructureDefinition/us-core-blood-pressure\"]}, \"status\": \"final\", \"category\": [{\"coding\": [{\"system\": \"http://terminology.hl7.org/CodeSystem/observation-category\", \"code\": \"vital-signs\", \"display\": \"Vital signs\"}]}], \"code\": {\"coding\": [{\"system\": \"http://loinc.org\", \"code\": \"85354-9\", \"display\": \"Blood pressure panel with all children optional\"}], \"text\": \"Blood pressure panel with all children optional\"}, \"subject\": {\"reference\": \"urn:uuid:5b3645de-a2d0-d016-0839-bab3757c4c58\"}, \"encounter\": {\"reference\": \"urn:uuid:ba20c6d4-c307-8794-bb45-c96088dfbb88\"}, \"effectiveDateTime\": \"2021-04-18T13:37:42+00:00\", \"issued\": \"2021-04-18T13:37:42.868+00:00\", \"component\": [{\"code\": {\"coding\": [{\"system\": \"http://loinc.org\", \"code\": \"8462-4\", \"display\": \"Diastolic Blood Pressure\"}], \"text\": \"Diastolic Blood Pressure\"}, \"valueQuantity\": {\"value\": 67, \"unit\": \"mm[Hg]\", \"system\": \"http://unitsofmeasure.org\", \"code\": \"mm[Hg]\"}}, {\"code\": {\"coding\": [{\"system\": \"http://loinc.org\", \"code\": \"8480-6\", \"display\": \"Systolic Blood Pressure\"}], \"text\": \"Systolic Blood Pressure\"}, \"valueQuantity\": {\"value\": 120, \"unit\": \"mm[Hg]\", \"system\": \"http://unitsofmeasure.org\", \"code\": \"mm[Hg]\"}}]}{\"resourceType\": \"Observation\", \"id\": \"9a24f922-0dc2-45b2-5770-a93638fc08e6\", \"meta\": {\"profile\": [\"http://hl7.org/fhir/us/core/StructureDefinition/us-core-observation-lab\"]}, \"status\": \"final\", \"category\": [{\"coding\": [{\"system\": \"http://terminology.hl7.org/CodeSystem/observation-category\", \"code\": \"laboratory\", \"display\": \"Laboratory\"}]}], \"code\": {\"coding\": [{\"system\": \"http://loinc.org\", \"code\": \"777-3\", \"display\": \"Platelets [#/volume] in Blood by Automated count\"}], \"text\": \"Platelets [#/volume] in Blood by Automated count\"}, \"subject\": {\"reference\": \"urn:uuid:5b3645de-a2d0-d016-0839-bab3757c4c58\"}, \"encounter\": {\"reference\": \"urn:uuid:b3b4d7c6-46f5-9f10-cfd2-464ff96160f9\"}, \"effectiveDateTime\": \"2015-05-03T13:37:42+00:00\", \"issued\": \"2015-05-03T13:37:42.868+00:00\", \"valueQuantity\": {\"value\": 429.19, \"unit\": \"10*3/uL\", \"system\": \"http://unitsofmeasure.org\", \"code\": \"10*3/uL\"}}{\"resourceType\": \"Observation\", \"id\": \"0ea3ac26-f005-2f11-b1a0-cd8e5dfdb046\", \"status\": \"final\", \"category\": [{\"coding\": [{\"system\": \"http://terminology.hl7.org/CodeSystem/observation-category\", \"code\": \"laboratory\", \"display\": \"Laboratory\"}]}], \"code\": {\"coding\": [{\"system\": \"http://loinc.org\", \"code\": \"6158-0\", \"display\": \"Latex IgE Ab [Units/volume] in Serum\"}], \"text\": \"Latex IgE Ab [Units/volume] in Serum\"}, \"subject\": {\"reference\": \"urn:uuid:5b3645de-a2d0-d016-0839-bab3757c4c58\"}, \"encounter\": {\"reference\": \"urn:uuid:0bc7f36f-9d73-bdef-bfaa-b097c4b99dbc\"}, \"effectiveDateTime\": \"2017-08-30T12:14:48+00:00\", \"issued\": \"2017-08-30T12:14:48.868+00:00\", \"valueQuantity\": {\"value\": 0.23293, \"unit\": \"kU/L\", \"system\": \"http://unitsofmeasure.org\", \"code\": \"kU/L\"}}{\"resourceType\": \"Observation\", \"id\": \"6df31325-e11f-717b-8581-578a16657678\", \"meta\": {\"profile\": [\"http://hl7.org/fhir/us/core/StructureDefinition/us-core-blood-pressure\"]}, \"status\": \"final\", \"category\": [{\"coding\": [{\"system\": \"http://terminology.hl7.org/CodeSystem/observation-category\", \"code\": \"vital-signs\", \"display\": \"Vital signs\"}]}], \"code\": {\"coding\": [{\"system\": \"http://loinc.org\", \"code\": \"85354-9\", \"display\": \"Blood pressure panel with all children optional\"}], \"text\": \"Blood pressure panel with all children optional\"}, \"subject\": {\"reference\": \"urn:uuid:5b3645de-a2d0-d016-0839-bab3757c4c58\"}, \"encounter\": {\"reference\": \"urn:uuid:f48e195a-c086-b88c-ba69-eb7bd59c2111\"}, \"effectiveDateTime\": \"2016-10-09T13:37:42+00:00\", \"issued\": \"2016-10-09T13:37:42.868+00:00\", \"component\": [{\"code\": {\"coding\": [{\"system\": \"http://loinc.org\", \"code\": \"8462-4\", \"display\": \"Diastolic Blood Pressure\"}], \"text\": \"Diastolic Blood Pressure\"}, \"valueQuantity\": {\"value\": 75, \"unit\": \"mm[Hg]\", \"system\": \"http://unitsofmeasure.org\", \"code\": \"mm[Hg]\"}}, {\"code\": {\"coding\": [{\"system\": \"http://loinc.org\", \"code\": \"8480-6\", \"display\": \"Systolic Blood Pressure\"}], \"text\": \"Systolic Blood Pressure\"}, \"valueQuantity\": {\"value\": 132, \"unit\": \"mm[Hg]\", \"system\": \"http://unitsofmeasure.org\", \"code\": \"mm[Hg]\"}}]}{\"resourceType\": \"Immunization\", \"id\": \"ba946ce3-a4b3-b483-6ee9-81f69c77b46c\", \"meta\": {\"profile\": [\"http://hl7.org/fhir/us/core/StructureDefinition/us-core-immunization\"]}, \"status\": \"completed\", \"vaccineCode\": {\"coding\": [{\"system\": \"http://hl7.org/fhir/sid/cvx\", \"code\": \"83\", \"display\": \"Hep A, ped/adol, 2 dose\"}], \"text\": \"Hep A, ped/adol, 2 dose\"}, \"patient\": {\"reference\": \"urn:uuid:5b3645de-a2d0-d016-0839-bab3757c4c58\"}, \"encounter\": {\"reference\": \"urn:uuid:49624b47-10ff-735c-da38-3cdaed7aead2\"}, \"occurrenceDateTime\": \"2016-07-10T13:37:42+00:00\", \"primarySource\": true, \"location\": {\"reference\": \"Location?identifier=https://github.com/synthetichealth/synthea|97876511-009c-391a-a262-1557e46861bb\", \"display\": \"BLUESKIES WELLNESS INC\"}}{\"resourceType\": \"Observation\", \"id\": \"03854f51-6b5c-71ef-a740-d124068862ba\", \"meta\": {\"profile\": [\"http://hl7.org/fhir/us/core/StructureDefinition/us-core-blood-pressure\"]}, \"status\": \"final\", \"category\": [{\"coding\": [{\"system\": \"http://terminology.hl7.org/CodeSystem/observation-category\", \"code\": \"vital-signs\", \"display\": \"Vital signs\"}]}], \"code\": {\"coding\": [{\"system\": \"http://loinc.org\", \"code\": \"85354-9\", \"display\": \"Blood pressure panel with all children optional\"}], \"text\": \"Blood pressure panel with all children optional\"}, \"subject\": {\"reference\": \"urn:uuid:5b3645de-a2d0-d016-0839-bab3757c4c58\"}, \"encounter\": {\"reference\": \"urn:uuid:b3b4d7c6-46f5-9f10-cfd2-464ff96160f9\"}, \"effectiveDateTime\": \"2015-05-03T13:37:42+00:00\", \"issued\": \"2015-05-03T13:37:42.868+00:00\", \"component\": [{\"code\": {\"coding\": [{\"system\": \"http://loinc.org\", \"code\": \"8462-4\", \"display\": \"Diastolic Blood Pressure\"}], \"text\": \"Diastolic Blood Pressure\"}, \"valueQuantity\": {\"value\": 75, \"unit\": \"mm[Hg]\", \"system\": \"http://unitsofmeasure.org\", \"code\": \"mm[Hg]\"}}, {\"code\": {\"coding\": [{\"system\": \"http://loinc.org\", \"code\": \"8480-6\", \"display\": \"Systolic Blood Pressure\"}], \"text\": \"Systolic Blood Pressure\"}, \"valueQuantity\": {\"value\": 132, \"unit\": \"mm[Hg]\", \"system\": \"http://unitsofmeasure.org\", \"code\": \"mm[Hg]\"}}]}{\"resourceType\": \"Observation\", \"id\": \"81a4a5bb-bed0-902c-1d0a-73929fe6fef7\", \"meta\": {\"profile\": [\"http://hl7.org/fhir/us/core/StructureDefinition/us-core-blood-pressure\"]}, \"status\": \"final\", \"category\": [{\"coding\": [{\"system\": \"http://terminology.hl7.org/CodeSystem/observation-category\", \"code\": \"vital-signs\", \"display\": \"Vital signs\"}]}], \"code\": {\"coding\": [{\"system\": \"http://loinc.org\", \"code\": \"85354-9\", \"display\": \"Blood pressure panel with all children optional\"}], \"text\": \"Blood pressure panel with all children optional\"}, \"subject\": {\"reference\": \"urn:uuid:5b3645de-a2d0-d016-0839-bab3757c4c58\"}, \"encounter\": {\"reference\": \"urn:uuid:48f3913f-2909-1547-f860-788b455b7951\"}, \"effectiveDateTime\": \"2023-04-30T13:37:42+00:00\", \"issued\": \"2023-04-30T13:37:42.868+00:00\", \"component\": [{\"code\": {\"coding\": [{\"system\": \"http://loinc.org\", \"code\": \"8462-4\", \"display\": \"Diastolic Blood Pressure\"}], \"text\": \"Diastolic Blood Pressure\"}, \"valueQuantity\": {\"value\": 72, \"unit\": \"mm[Hg]\", \"system\": \"http://unitsofmeasure.org\", \"code\": \"mm[Hg]\"}}, {\"code\": {\"coding\": [{\"system\": \"http://loinc.org\", \"code\": \"8480-6\", \"display\": \"Systolic Blood Pressure\"}], \"text\": \"Systolic Blood Pressure\"}, \"valueQuantity\": {\"value\": 129, \"unit\": \"mm[Hg]\", \"system\": \"http://unitsofmeasure.org\", \"code\": \"mm[Hg]\"}}]}{\"resourceType\": \"Condition\", \"id\": \"f609ac50-8d87-d280-da41-4ab6722bbe3a\", \"meta\": {\"profile\": [\"http://hl7.org/fhir/us/core/StructureDefinition/us-core-condition-encounter-diagnosis\"]}, \"clinicalStatus\": {\"coding\": [{\"system\": \"http://terminology.hl7.org/CodeSystem/condition-clinical\", \"code\": \"active\"}]}, \"verificationStatus\": {\"coding\": [{\"system\": \"http://terminology.hl7.org/CodeSystem/condition-ver-status\", \"code\": \"confirmed\"}]}, \"category\": [{\"coding\": [{\"system\": \"http://terminology.hl7.org/CodeSystem/condition-category\", \"code\": \"encounter-diagnosis\", \"display\": \"Encounter Diagnosis\"}]}], \"code\": {\"coding\": [{\"system\": \"http://snomed.info/sct\", \"code\": \"60573004\", \"display\": \"Aortic valve stenosis (disorder)\"}], \"text\": \"Aortic valve stenosis (disorder)\"}, \"subject\": {\"reference\": \"urn:uuid:5b3645de-a2d0-d016-0839-bab3757c4c58\"}, \"encounter\": {\"reference\": \"urn:uuid:5e225a66-ead5-6de3-bba6-bb6be422159d\"}, \"onsetDateTime\": \"2019-05-02T13:37:42+00:00\", \"recordedDate\": \"2019-05-02T13:37:42+00:00\"}{\"resourceType\": \"Observation\", \"id\": \"23e66ee1-febb-edfc-2bf8-1caf1a60487c\", \"meta\": {\"profile\": [\"http://hl7.org/fhir/us/core/StructureDefinition/us-core-blood-pressure\"]}, \"status\": \"final\", \"category\": [{\"coding\": [{\"system\": \"http://terminology.hl7.org/CodeSystem/observation-category\", \"code\": \"vital-signs\", \"display\": \"Vital signs\"}]}], \"code\": {\"coding\": [{\"system\": \"http://loinc.org\", \"code\": \"85354-9\", \"display\": \"Blood pressure panel with all children optional\"}], \"text\": \"Blood pressure panel with all children optional\"}, \"subject\": {\"reference\": \"urn:uuid:5b3645de-a2d0-d016-0839-bab3757c4c58\"}, \"encounter\": {\"reference\": \"urn:uuid:c5d3503d-5282-9ac1-86c1-b4736c07dc53\"}, \"effectiveDateTime\": \"2018-04-08T13:37:42+00:00\", \"issued\": \"2018-04-08T13:37:42.868+00:00\", \"component\": [{\"code\": {\"coding\": [{\"system\": \"http://loinc.org\", \"code\": \"8462-4\", \"display\": \"Diastolic Blood Pressure\"}], \"text\": \"Diastolic Blood Pressure\"}, \"valueQuantity\": {\"value\": 76, \"unit\": \"mm[Hg]\", \"system\": \"http://unitsofmeasure.org\", \"code\": \"mm[Hg]\"}}, {\"code\": {\"coding\": [{\"system\": \"http://loinc.org\", \"code\": \"8480-6\", \"display\": \"Systolic Blood Pressure\"}], \"text\": \"Systolic Blood Pressure\"}, \"valueQuantity\": {\"value\": 128, \"unit\": \"mm[Hg]\", \"system\": \"http://unitsofmeasure.org\", \"code\": \"mm[Hg]\"}}]}{\"resourceType\": \"Immunization\", \"id\": \"3534f712-57f1-4fce-330c-a1f736a8c2ae\", \"meta\": {\"profile\": [\"http://hl7.org/fhir/us/core/StructureDefinition/us-core-immunization\"]}, \"status\": \"completed\", \"vaccineCode\": {\"coding\": [{\"system\": \"http://hl7.org/fhir/sid/cvx\", \"code\": \"83\", \"display\": \"Hep A, ped/adol, 2 dose\"}], \"text\": \"Hep A, ped/adol, 2 dose\"}, \"patient\": {\"reference\": \"urn:uuid:5b3645de-a2d0-d016-0839-bab3757c4c58\"}, \"encounter\": {\"reference\": \"urn:uuid:02f6f29a-7982-e2aa-03fa-56009934aa3f\"}, \"occurrenceDateTime\": \"2017-10-08T13:37:42+00:00\", \"primarySource\": true, \"location\": {\"reference\": \"Location?identifier=https://github.com/synthetichealth/synthea|97876511-009c-391a-a262-1557e46861bb\", \"display\": \"BLUESKIES WELLNESS INC\"}}{\"resourceType\": \"Observation\", \"id\": \"5c9151a4-7c9e-9e42-0d61-0ea5b2243ee0\", \"meta\": {\"profile\": [\"http://hl7.org/fhir/us/core/StructureDefinition/us-core-blood-pressure\"]}, \"status\": \"final\", \"category\": [{\"coding\": [{\"system\": \"http://terminology.hl7.org/CodeSystem/observation-category\", \"code\": \"vital-signs\", \"display\": \"Vital signs\"}]}], \"code\": {\"coding\": [{\"system\": \"http://loinc.org\", \"code\": \"85354-9\", \"display\": \"Blood pressure panel with all children optional\"}], \"text\": \"Blood pressure panel with all children optional\"}, \"subject\": {\"reference\": \"urn:uuid:5b3645de-a2d0-d016-0839-bab3757c4c58\"}, \"encounter\": {\"reference\": \"urn:uuid:dd1424c4-7af6-4133-d9a9-770212adabb1\"}, \"effectiveDateTime\": \"2020-04-12T13:37:42+00:00\", \"issued\": \"2020-04-12T13:37:42.868+00:00\", \"component\": [{\"code\": {\"coding\": [{\"system\": \"http://loinc.org\", \"code\": \"8462-4\", \"display\": \"Diastolic Blood Pressure\"}], \"text\": \"Diastolic Blood Pressure\"}, \"valueQuantity\": {\"value\": 74, \"unit\": \"mm[Hg]\", \"system\": \"http://unitsofmeasure.org\", \"code\": \"mm[Hg]\"}}, {\"code\": {\"coding\": [{\"system\": \"http://loinc.org\", \"code\": \"8480-6\", \"display\": \"Systolic Blood Pressure\"}], \"text\": \"Systolic Blood Pressure\"}, \"valueQuantity\": {\"value\": 118, \"unit\": \"mm[Hg]\", \"system\": \"http://unitsofmeasure.org\", \"code\": \"mm[Hg]\"}}]}{\"resourceType\": \"Observation\", \"id\": \"c6fd86f9-1ecc-ebd8-5e4e-9a408970764d\", \"meta\": {\"profile\": [\"http://hl7.org/fhir/us/core/StructureDefinition/us-core-blood-pressure\"]}, \"status\": \"final\", \"category\": [{\"coding\": [{\"system\": \"http://terminology.hl7.org/CodeSystem/observation-category\", \"code\": \"vital-signs\", \"display\": \"Vital signs\"}]}], \"code\": {\"coding\": [{\"system\": \"http://loinc.org\", \"code\": \"85354-9\", \"display\": \"Blood pressure panel with all children optional\"}], \"text\": \"Blood pressure panel with all children optional\"}, \"subject\": {\"reference\": \"urn:uuid:5b3645de-a2d0-d016-0839-bab3757c4c58\"}, \"encounter\": {\"reference\": \"urn:uuid:def99498-60f2-be13-28c1-89067e3cda07\"}, \"effectiveDateTime\": \"2022-04-24T13:37:42+00:00\", \"issued\": \"2022-04-24T13:37:42.868+00:00\", \"component\": [{\"code\": {\"coding\": [{\"system\": \"http://loinc.org\", \"code\": \"8462-4\", \"display\": \"Diastolic Blood Pressure\"}], \"text\": \"Diastolic Blood Pressure\"}, \"valueQuantity\": {\"value\": 76, \"unit\": \"mm[Hg]\", \"system\": \"http://unitsofmeasure.org\", \"code\": \"mm[Hg]\"}}, {\"code\": {\"coding\": [{\"system\": \"http://loinc.org\", \"code\": \"8480-6\", \"display\": \"Systolic Blood Pressure\"}], \"text\": \"Systolic Blood Pressure\"}, \"valueQuantity\": {\"value\": 129, \"unit\": \"mm[Hg]\", \"system\": \"http://unitsofmeasure.org\", \"code\": \"mm[Hg]\"}}]}{\"resourceType\": \"Observation\", \"id\": \"b0960afd-e3e0-ca87-c5d3-573b8b756f69\", \"meta\": {\"profile\": [\"http://hl7.org/fhir/us/core/StructureDefinition/us-core-observation-lab\"]}, \"status\": \"final\", \"category\": [{\"coding\": [{\"system\": \"http://terminology.hl7.org/CodeSystem/observation-category\", \"code\": \"laboratory\", \"display\": \"Laboratory\"}]}], \"code\": {\"coding\": [{\"system\": \"http://loinc.org\", \"code\": \"32207-3\", \"display\": \"Platelet distribution width [Entitic volume] in Blood by Automated count\"}], \"text\": \"Platelet distribution width [Entitic volume] in Blood by Automated count\"}, \"subject\": {\"reference\": \"urn:uuid:5b3645de-a2d0-d016-0839-bab3757c4c58\"}, \"encounter\": {\"reference\": \"urn:uuid:eeabc5ce-1fe7-bbdf-aabc-c497093437ae\"}, \"effectiveDateTime\": \"2021-02-28T13:37:42+00:00\", \"issued\": \"2021-02-28T13:37:42.868+00:00\", \"valueQuantity\": {\"value\": 352.4, \"unit\": \"fL\", \"system\": \"http://unitsofmeasure.org\", \"code\": \"fL\"}}{\"resourceType\": \"Observation\", \"id\": \"b60c5923-7c93-ef7c-1c1c-fd6173c6a229\", \"meta\": {\"profile\": [\"http://hl7.org/fhir/us/core/StructureDefinition/us-core-blood-pressure\"]}, \"status\": \"final\", \"category\": [{\"coding\": [{\"system\": \"http://terminology.hl7.org/CodeSystem/observation-category\", \"code\": \"vital-signs\", \"display\": \"Vital signs\"}]}], \"code\": {\"coding\": [{\"system\": \"http://loinc.org\", \"code\": \"85354-9\", \"display\": \"Blood pressure panel with all children optional\"}], \"text\": \"Blood pressure panel with all children optional\"}, \"subject\": {\"reference\": \"urn:uuid:5b3645de-a2d0-d016-0839-bab3757c4c58\"}, \"encounter\": {\"reference\": \"urn:uuid:eeabc5ce-1fe7-bbdf-aabc-c497093437ae\"}, \"effectiveDateTime\": \"2021-02-28T13:37:42+00:00\", \"issued\": \"2021-02-28T13:37:42.868+00:00\", \"component\": [{\"code\": {\"coding\": [{\"system\": \"http://loinc.org\", \"code\": \"8462-4\", \"display\": \"Diastolic Blood Pressure\"}], \"text\": \"Diastolic Blood Pressure\"}, \"valueQuantity\": {\"value\": 74, \"unit\": \"mm[Hg]\", \"system\": \"http://unitsofmeasure.org\", \"code\": \"mm[Hg]\"}}, {\"code\": {\"coding\": [{\"system\": \"http://loinc.org\", \"code\": \"8480-6\", \"display\": \"Systolic Blood Pressure\"}], \"text\": \"Systolic Blood Pressure\"}, \"valueQuantity\": {\"value\": 128, \"unit\": \"mm[Hg]\", \"system\": \"http://unitsofmeasure.org\", \"code\": \"mm[Hg]\"}}]}{\"resourceType\": \"Observation\", \"id\": \"2a28216f-e1d8-c940-1cfe-0bc84f6397a0\", \"meta\": {\"profile\": [\"http://hl7.org/fhir/us/core/StructureDefinition/us-core-blood-pressure\"]}, \"status\": \"final\", \"category\": [{\"coding\": [{\"system\": \"http://terminology.hl7.org/CodeSystem/observation-category\", \"code\": \"vital-signs\", \"display\": \"Vital signs\"}]}], \"code\": {\"coding\": [{\"system\": \"http://loinc.org\", \"code\": \"85354-9\", \"display\": \"Blood pressure panel with all children optional\"}], \"text\": \"Blood pressure panel with all children optional\"}, \"subject\": {\"reference\": \"urn:uuid:5b3645de-a2d0-d016-0839-bab3757c4c58\"}, \"encounter\": {\"reference\": \"urn:uuid:02f6f29a-7982-e2aa-03fa-56009934aa3f\"}, \"effectiveDateTime\": \"2017-10-08T13:37:42+00:00\", \"issued\": \"2017-10-08T13:37:42.868+00:00\", \"component\": [{\"code\": {\"coding\": [{\"system\": \"http://loinc.org\", \"code\": \"8462-4\", \"display\": \"Diastolic Blood Pressure\"}], \"text\": \"Diastolic Blood Pressure\"}, \"valueQuantity\": {\"value\": 71, \"unit\": \"mm[Hg]\", \"system\": \"http://unitsofmeasure.org\", \"code\": \"mm[Hg]\"}}, {\"code\": {\"coding\": [{\"system\": \"http://loinc.org\", \"code\": \"8480-6\", \"display\": \"Systolic Blood Pressure\"}], \"text\": \"Systolic Blood Pressure\"}, \"valueQuantity\": {\"value\": 122, \"unit\": \"mm[Hg]\", \"system\": \"http://unitsofmeasure.org\", \"code\": \"mm[Hg]\"}}]}{\"resourceType\": \"Observation\", \"id\": \"c31d8a78-6e79-197e-3047-362adf2d24d7\", \"meta\": {\"profile\": [\"http://hl7.org/fhir/us/core/StructureDefinition/us-core-blood-pressure\"]}, \"status\": \"final\", \"category\": [{\"coding\": [{\"system\": \"http://terminology.hl7.org/CodeSystem/observation-category\", \"code\": \"vital-signs\", \"display\": \"Vital signs\"}]}], \"code\": {\"coding\": [{\"system\": \"http://loinc.org\", \"code\": \"85354-9\", \"display\": \"Blood pressure panel with all children optional\"}], \"text\": \"Blood pressure panel with all children optional\"}, \"subject\": {\"reference\": \"urn:uuid:5b3645de-a2d0-d016-0839-bab3757c4c58\"}, \"encounter\": {\"reference\": \"urn:uuid:35c0f7d7-4502-8834-8202-a8f771c3e525\"}, \"effectiveDateTime\": \"2016-04-10T13:37:42+00:00\", \"issued\": \"2016-04-10T13:37:42.868+00:00\", \"component\": [{\"code\": {\"coding\": [{\"system\": \"http://loinc.org\", \"code\": \"8462-4\", \"display\": \"Diastolic Blood Pressure\"}], \"text\": \"Diastolic Blood Pressure\"}, \"valueQuantity\": {\"value\": 69, \"unit\": \"mm[Hg]\", \"system\": \"http://unitsofmeasure.org\", \"code\": \"mm[Hg]\"}}, {\"code\": {\"coding\": [{\"system\": \"http://loinc.org\", \"code\": \"8480-6\", \"display\": \"Systolic Blood Pressure\"}], \"text\": \"Systolic Blood Pressure\"}, \"valueQuantity\": {\"value\": 130, \"unit\": \"mm[Hg]\", \"system\": \"http://unitsofmeasure.org\", \"code\": \"mm[Hg]\"}}]}{\"resourceType\": \"Condition\", \"id\": \"c6185370-6db2-a65d-6105-1c11423293ef\", \"meta\": {\"profile\": [\"http://hl7.org/fhir/us/core/StructureDefinition/us-core-condition-encounter-diagnosis\"]}, \"clinicalStatus\": {\"coding\": [{\"system\": \"http://terminology.hl7.org/CodeSystem/condition-clinical\", \"code\": \"resolved\"}]}, \"verificationStatus\": {\"coding\": [{\"system\": \"http://terminology.hl7.org/CodeSystem/condition-ver-status\", \"code\": \"confirmed\"}]}, \"category\": [{\"coding\": [{\"system\": \"http://terminology.hl7.org/CodeSystem/condition-category\", \"code\": \"encounter-diagnosis\", \"display\": \"Encounter Diagnosis\"}]}], \"code\": {\"coding\": [{\"system\": \"http://snomed.info/sct\", \"code\": \"195662009\", \"display\": \"Acute viral pharyngitis (disorder)\"}], \"text\": \"Acute viral pharyngitis (disorder)\"}, \"subject\": {\"reference\": \"urn:uuid:5b3645de-a2d0-d016-0839-bab3757c4c58\"}, \"encounter\": {\"reference\": \"urn:uuid:8587fc98-74aa-c333-61b1-d2ad195941eb\"}, \"onsetDateTime\": \"2023-10-02T00:37:42+00:00\", \"abatementDateTime\": \"2023-10-14T09:37:42+00:00\", \"recordedDate\": \"2023-10-02T00:37:42+00:00\"}'"
      ]
     },
     "execution_count": 30,
     "metadata": {},
     "output_type": "execute_result"
    }
   ],
   "source": [
    "output_str"
   ]
  },
  {
   "cell_type": "code",
   "execution_count": null,
   "id": "15e1d226-00b1-4053-91c6-f901d496025c",
   "metadata": {},
   "outputs": [],
   "source": []
  }
 ],
 "metadata": {
  "kernelspec": {
   "display_name": "Python 3 (ipykernel)",
   "language": "python",
   "name": "python3"
  },
  "language_info": {
   "codemirror_mode": {
    "name": "ipython",
    "version": 3
   },
   "file_extension": ".py",
   "mimetype": "text/x-python",
   "name": "python",
   "nbconvert_exporter": "python",
   "pygments_lexer": "ipython3",
   "version": "3.11.6"
  }
 },
 "nbformat": 4,
 "nbformat_minor": 5
}
