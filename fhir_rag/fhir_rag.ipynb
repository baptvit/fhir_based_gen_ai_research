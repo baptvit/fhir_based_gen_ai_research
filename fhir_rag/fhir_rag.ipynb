{
 "cells": [
  {
   "cell_type": "markdown",
   "id": "d7822e02-1664-4c2f-b526-5c713752e959",
   "metadata": {},
   "source": [
    "# RAG on FHIR with Knowledge Graphs"
   ]
  },
  {
   "cell_type": "markdown",
   "id": "d006af8a-10e5-433b-94bd-f96f09671c47",
   "metadata": {},
   "source": [
    "### 2. Neo4J & Jupyter Environment\n",
    "This notebook needs an instance of [Neo4j](https://www.neo4j.com) to talk to. I used docker to run Neo4J locally using the following command:\n",
    "```\n",
    "docker run --name testneo4j -p7474:7474 -p7687:7687 -d \\\n",
    "    -v $HOME/neo4j/data:/data \\\n",
    "    -v $HOME/neo4j/logs:/logs \\\n",
    "    -v $HOME/neo4j/import:/var/lib/neo4j/import \\\n",
    "    -v $HOME/neo4j/plugins:/plugins \\\n",
    "    --env NEO4J_AUTH=neo4j/password \\\n",
    "    neo4j:latest\n",
    "```\n",
    "**Note:** No particular plugins are needed. \n",
    "\n",
    "You can also use a Neo4J Aurora instance. \n",
    "\n",
    "#### Jupyter Environment\n",
    "Regardless of how you run Neo4J. You need to set some environment variables in the notebook's environment:\n",
    "\n",
    "| Variable | Description | Value for above Docker |\n",
    "|----------|-------------|------------------------|\n",
    "| NEO4J_URL | Where to find the instance of Neo4j. | bolt://localhost:7687 |\n",
    "| NEO4J_USER | The username for the database. | neo4j |\n",
    "| NEO4J_PASSWORD | The password for the database. | password |\n",
    "\n",
    "\n",
    "### 3. Synthetic data and working directory\n",
    "The data I used for this notebook came from [Synthea](https://synthea.mitre.org/). Using the \n",
    "\n",
    "All the questions here us the FHIR Bundle: `fhir_data/stanfor_llm_on_fhir`"
   ]
  },
  {
   "cell_type": "code",
   "execution_count": 54,
   "id": "633eae00-fba4-440d-bf89-334f62491f5f",
   "metadata": {
    "execution": {
     "iopub.execute_input": "2024-10-08T20:52:50.481464Z",
     "iopub.status.busy": "2024-10-08T20:52:50.481124Z",
     "iopub.status.idle": "2024-10-08T20:52:50.483414Z",
     "shell.execute_reply": "2024-10-08T20:52:50.483095Z",
     "shell.execute_reply.started": "2024-10-08T20:52:50.481449Z"
    }
   },
   "outputs": [],
   "source": [
    "# Imports needed\n",
    "\n",
    "import glob\n",
    "import json\n",
    "import os\n",
    "import re"
   ]
  },
  {
   "cell_type": "markdown",
   "id": "1d2075d6",
   "metadata": {},
   "source": [
    "## Establish Database Connection\n",
    "\n",
    "The cell connects to the Neo4J instance. It relies on several environment variables. \n",
    "\n",
    "**PLEASE NOTE**: The variable have been changed to support multiple databases in the same instance. \n",
    "\n",
    "| Variable            | Description                          | Sample Value          |\n",
    "|---------------------|--------------------------------------|-----------------------|\n",
    "| FHIR_GRAPH_URL      | Where to find the instance of Neo4j. | bolt://localhost:7687 |\n",
    "| FHIR_GRAPH_USER     | The username for the database.       | neo4j                 |\n",
    "| FHIR_GRAPH_PASSWORD | The password for the database.       | password              |\n",
    "| FHIR_GRAPH_DATABASE | The name of the database instance.   | neo4j                 |"
   ]
  },
  {
   "cell_type": "code",
   "execution_count": 55,
   "id": "4a0e20a9",
   "metadata": {
    "execution": {
     "iopub.execute_input": "2024-10-08T20:52:50.841730Z",
     "iopub.status.busy": "2024-10-08T20:52:50.841273Z",
     "iopub.status.idle": "2024-10-08T20:52:50.844387Z",
     "shell.execute_reply": "2024-10-08T20:52:50.844082Z",
     "shell.execute_reply.started": "2024-10-08T20:52:50.841710Z"
    }
   },
   "outputs": [],
   "source": [
    "NEO4J_URI = os.getenv('FHIR_GRAPH_URL', 'neo4j://localhost:7687')\n",
    "USERNAME = os.getenv('FHIR_GRAPH_USER', 'neo4j')\n",
    "PASSWORD = os.getenv('FHIR_GRAPH_PASSWORD', 'password')\n",
    "DATABASE = os.getenv('FHIR_GRAPH_DATABASE', 'neo4j')"
   ]
  },
  {
   "cell_type": "markdown",
   "id": "3a9412af",
   "metadata": {},
   "source": [
    "## Helper Database Cells\n",
    "\n",
    "The following three cells are here to be used to manage the database. They do not need to be run on a blank database. "
   ]
  },
  {
   "cell_type": "markdown",
   "id": "22538b06",
   "metadata": {},
   "source": [
    "http://localhost:7474/browser/"
   ]
  },
  {
   "cell_type": "markdown",
   "id": "dfa6a024",
   "metadata": {},
   "source": [
    "### Create Vector Index \n",
    "\n",
    "This cell creates a new vector index, using the index created above. \n",
    "\n",
    "This is here because running the cell above can take time and only should be done one time when the DB is created. "
   ]
  },
  {
   "cell_type": "code",
   "execution_count": null,
   "id": "89e481d0-dfe8-4835-a2e6-a07a13b6f491",
   "metadata": {},
   "outputs": [],
   "source": []
  },
  {
   "cell_type": "code",
   "execution_count": 56,
   "id": "3261a06e",
   "metadata": {
    "execution": {
     "iopub.execute_input": "2024-10-08T20:52:51.986095Z",
     "iopub.status.busy": "2024-10-08T20:52:51.985890Z",
     "iopub.status.idle": "2024-10-08T20:52:54.215919Z",
     "shell.execute_reply": "2024-10-08T20:52:54.215597Z",
     "shell.execute_reply.started": "2024-10-08T20:52:51.986080Z"
    }
   },
   "outputs": [],
   "source": [
    "from langchain.vectorstores.neo4j_vector import Neo4jVector\n",
    "from langchain_community.embeddings import HuggingFaceBgeEmbeddings\n",
    "\n",
    "vector_index = Neo4jVector.from_existing_index(\n",
    "    HuggingFaceBgeEmbeddings(model_name=\"BAAI/bge-small-en-v1.5\"),\n",
    "    url=NEO4J_URI,\n",
    "    username=USERNAME,\n",
    "    password=PASSWORD,\n",
    "    database=DATABASE,\n",
    "    index_name='fhir_text'\n",
    ")"
   ]
  },
  {
   "cell_type": "code",
   "execution_count": 57,
   "id": "f68f43d3-8aa5-47ce-bf5c-edd63934e595",
   "metadata": {
    "execution": {
     "iopub.execute_input": "2024-10-08T20:52:54.216570Z",
     "iopub.status.busy": "2024-10-08T20:52:54.216466Z",
     "iopub.status.idle": "2024-10-08T20:52:54.227270Z",
     "shell.execute_reply": "2024-10-08T20:52:54.226920Z",
     "shell.execute_reply.started": "2024-10-08T20:52:54.216560Z"
    }
   },
   "outputs": [
    {
     "ename": "ImportError",
     "evalue": "cannot import name 'stanford_llm_on_fhir_questions' from 'questions' (/home/baptvit/Documents/github/mestrado/fhir-rag/fhir_rag/questions/__init__.py)",
     "output_type": "error",
     "traceback": [
      "\u001b[0;31m---------------------------------------------------------------------------\u001b[0m",
      "\u001b[0;31mImportError\u001b[0m                               Traceback (most recent call last)",
      "Cell \u001b[0;32mIn[57], line 1\u001b[0m\n\u001b[0;32m----> 1\u001b[0m \u001b[38;5;28;01mfrom\u001b[39;00m \u001b[38;5;21;01mquestions\u001b[39;00m \u001b[38;5;28;01mimport\u001b[39;00m stanford_llm_on_fhir_questions\n\u001b[1;32m      3\u001b[0m question \u001b[38;5;241m=\u001b[39m stanford_llm_on_fhir_questions[\u001b[38;5;124m\"\u001b[39m\u001b[38;5;124mQ2\u001b[39m\u001b[38;5;124m\"\u001b[39m]\n\u001b[1;32m      4\u001b[0m question\n",
      "\u001b[0;31mImportError\u001b[0m: cannot import name 'stanford_llm_on_fhir_questions' from 'questions' (/home/baptvit/Documents/github/mestrado/fhir-rag/fhir_rag/questions/__init__.py)"
     ]
    }
   ],
   "source": [
    "from questions import stanford_llm_on_fhir_questions\n",
    "\n",
    "question = stanford_llm_on_fhir_questions[\"Q2\"]\n",
    "question"
   ]
  },
  {
   "cell_type": "code",
   "execution_count": null,
   "id": "dbc4952b-64a5-404f-9e62-e49a6b0036ed",
   "metadata": {
    "execution": {
     "iopub.status.busy": "2024-10-08T20:52:54.227534Z",
     "iopub.status.idle": "2024-10-08T20:52:54.227650Z",
     "shell.execute_reply": "2024-10-08T20:52:54.227597Z",
     "shell.execute_reply.started": "2024-10-08T20:52:54.227591Z"
    }
   },
   "outputs": [],
   "source": [
    "question = \"Do I have allergi of Aspirin ?\""
   ]
  },
  {
   "cell_type": "code",
   "execution_count": null,
   "id": "e9d99a9f-c362-4c8a-9bb3-ee5d26862996",
   "metadata": {
    "execution": {
     "iopub.status.busy": "2024-10-08T20:52:54.227884Z",
     "iopub.status.idle": "2024-10-08T20:52:54.227990Z",
     "shell.execute_reply": "2024-10-08T20:52:54.227940Z",
     "shell.execute_reply.started": "2024-10-08T20:52:54.227935Z"
    }
   },
   "outputs": [],
   "source": [
    "response = vector_index.similarity_search(question, k=50) # k_nearest is not used here because we don't have a retrieval query yet."
   ]
  },
  {
   "cell_type": "markdown",
   "id": "195fd41e-41ea-48b1-be8a-54d8a859f0cb",
   "metadata": {},
   "source": [
    "### Similary search will be better when we need a feacture extraction"
   ]
  },
  {
   "cell_type": "code",
   "execution_count": null,
   "id": "266c49e7-8b2b-485d-9909-a26a742148cf",
   "metadata": {
    "execution": {
     "iopub.status.busy": "2024-10-08T20:52:54.228287Z",
     "iopub.status.idle": "2024-10-08T20:52:54.228394Z",
     "shell.execute_reply": "2024-10-08T20:52:54.228344Z",
     "shell.execute_reply.started": "2024-10-08T20:52:54.228339Z"
    }
   },
   "outputs": [],
   "source": [
    "response = vector_index.similarity_search_with_score(query=question, k=50, score_threshold=0.80) "
   ]
  },
  {
   "cell_type": "markdown",
   "id": "fb9096bc-f4e9-4039-aaf3-6886ce5b1752",
   "metadata": {},
   "source": [
    "### Hibryd search with key name"
   ]
  },
  {
   "cell_type": "code",
   "execution_count": 58,
   "id": "f5b46b69-7d46-4bae-bf78-ceb52ec2307e",
   "metadata": {
    "execution": {
     "iopub.execute_input": "2024-10-08T20:52:54.282859Z",
     "iopub.status.busy": "2024-10-08T20:52:54.282566Z",
     "iopub.status.idle": "2024-10-08T20:52:54.296836Z",
     "shell.execute_reply": "2024-10-08T20:52:54.296536Z",
     "shell.execute_reply.started": "2024-10-08T20:52:54.282847Z"
    }
   },
   "outputs": [],
   "source": [
    "response = vector_index.similarity_search_with_score(query=question, k=100, score_threshold=0.80, filter={\"name\": \"AllergyIntolerance\"}) "
   ]
  },
  {
   "cell_type": "code",
   "execution_count": 59,
   "id": "8ddce676-59e4-4683-a6d4-93d1f86a3cac",
   "metadata": {
    "execution": {
     "iopub.execute_input": "2024-10-08T20:52:54.709892Z",
     "iopub.status.busy": "2024-10-08T20:52:54.709571Z",
     "iopub.status.idle": "2024-10-08T20:52:54.713107Z",
     "shell.execute_reply": "2024-10-08T20:52:54.712818Z",
     "shell.execute_reply.started": "2024-10-08T20:52:54.709876Z"
    },
    "scrolled": true
   },
   "outputs": [
    {
     "name": "stdout",
     "output_type": "stream",
     "text": [
      "len return 9\n",
      "{'AllergyIntolerance': 9}\n"
     ]
    }
   ],
   "source": [
    "import json \n",
    "\n",
    "def resources_count(response: list) -> None:\n",
    "    output_len = len(response)\n",
    "    print(f\"len return {output_len}\")\n",
    "    \n",
    "    list_output = []\n",
    "    output_str = '' \n",
    "    for i in range(output_len):\n",
    "        try:\n",
    "            output_str += response[i][0].page_content\n",
    "    \n",
    "            list_output.append(json.loads(response[i][0].page_content)[\"resourceType\"])\n",
    "        except:\n",
    "            print(response[i][0].page_content)\n",
    "    \n",
    "    list(set(list_output))\n",
    "    \n",
    "    dictionary = {}\n",
    "    for item in list_output:\n",
    "        dictionary[item] = dictionary.get(item, 0) + 1\n",
    "    \n",
    "    print(dictionary)\n",
    "    return output_str\n",
    "\n",
    "output_str = resources_count(response)"
   ]
  },
  {
   "cell_type": "markdown",
   "id": "786ba3b7-75ef-43eb-b5f6-e54f293ca926",
   "metadata": {},
   "source": [
    "## Count the amount of tokens in the output\n",
    "\n",
    "Here we are interesting in see the amout of tokens of the output and analise wheater the will fit in the provided context window.\n"
   ]
  },
  {
   "cell_type": "code",
   "execution_count": 60,
   "id": "f1956ee6-cddf-4ac6-9b3f-a35bf1167b4c",
   "metadata": {
    "execution": {
     "iopub.execute_input": "2024-10-08T20:52:56.081292Z",
     "iopub.status.busy": "2024-10-08T20:52:56.081121Z",
     "iopub.status.idle": "2024-10-08T20:52:56.083568Z",
     "shell.execute_reply": "2024-10-08T20:52:56.083261Z",
     "shell.execute_reply.started": "2024-10-08T20:52:56.081280Z"
    }
   },
   "outputs": [],
   "source": [
    "import tiktoken\n",
    "\n",
    "def num_tokens_from_string(string: str, encoding_name: str) -> int:\n",
    "    encoding = tiktoken.get_encoding(encoding_name)\n",
    "    num_tokens = len(encoding.encode(string))\n",
    "    return num_tokens"
   ]
  },
  {
   "cell_type": "code",
   "execution_count": 61,
   "id": "b1e166d0-8d19-4103-9736-e592c89fe713",
   "metadata": {
    "execution": {
     "iopub.execute_input": "2024-10-08T20:52:56.937848Z",
     "iopub.status.busy": "2024-10-08T20:52:56.937591Z",
     "iopub.status.idle": "2024-10-08T20:52:56.941046Z",
     "shell.execute_reply": "2024-10-08T20:52:56.940736Z",
     "shell.execute_reply.started": "2024-10-08T20:52:56.937836Z"
    }
   },
   "outputs": [
    {
     "name": "stdout",
     "output_type": "stream",
     "text": [
      "2850\n"
     ]
    }
   ],
   "source": [
    "print(num_tokens_from_string(output_str, \"cl100k_base\"))"
   ]
  },
  {
   "cell_type": "markdown",
   "id": "53cb2918-63d9-4e2b-b123-e62ee01f2f9e",
   "metadata": {},
   "source": [
    "### Graph Search with similairy Search and Hibridy"
   ]
  },
  {
   "cell_type": "markdown",
   "id": "fa6cf1f0-a567-43f6-adae-020c3eab76bf",
   "metadata": {},
   "source": [
    "By adding a retrival_query in chyper langangue we can apply a neaghor retrivel base on a algorithm after the similarity search"
   ]
  },
  {
   "cell_type": "markdown",
   "id": "9734ea2c-9b7d-435c-aa73-9a9e49792f18",
   "metadata": {},
   "source": [
    "Default query"
   ]
  },
  {
   "cell_type": "code",
   "execution_count": 66,
   "id": "97f86388-505f-4270-a745-904c7819752e",
   "metadata": {
    "execution": {
     "iopub.execute_input": "2024-10-08T20:53:46.843586Z",
     "iopub.status.busy": "2024-10-08T20:53:46.842935Z",
     "iopub.status.idle": "2024-10-08T20:53:46.845692Z",
     "shell.execute_reply": "2024-10-08T20:53:46.845419Z",
     "shell.execute_reply.started": "2024-10-08T20:53:46.843560Z"
    }
   },
   "outputs": [],
   "source": [
    "contextualize_query = \"\"\"\n",
    "WHERE score >= 0.82\n",
    "MATCH (node)\n",
    "RETURN node.text AS text, score, {} AS metadata\n",
    "\"\"\""
   ]
  },
  {
   "cell_type": "markdown",
   "id": "c725c334-3b38-40ce-94c5-a5b4862ec5b1",
   "metadata": {},
   "source": [
    "Tryng to apply a Dict hyerach"
   ]
  },
  {
   "cell_type": "code",
   "execution_count": 67,
   "id": "f3dfa767-23fc-41fa-8767-881a49506122",
   "metadata": {
    "execution": {
     "iopub.execute_input": "2024-10-08T20:53:47.609726Z",
     "iopub.status.busy": "2024-10-08T20:53:47.609395Z",
     "iopub.status.idle": "2024-10-08T20:53:50.703100Z",
     "shell.execute_reply": "2024-10-08T20:53:50.702603Z",
     "shell.execute_reply.started": "2024-10-08T20:53:47.609711Z"
    }
   },
   "outputs": [],
   "source": [
    "contextualized_vectorstore = Neo4jVector.from_existing_index(\n",
    "    HuggingFaceBgeEmbeddings(model_name=\"BAAI/bge-small-en-v1.5\"),\n",
    "    url=NEO4J_URI,\n",
    "    username=USERNAME,\n",
    "    password=PASSWORD,\n",
    "    database=DATABASE,\n",
    "    index_name='fhir_text',\n",
    "    retrieval_query=contextualize_query\n",
    ")"
   ]
  },
  {
   "cell_type": "code",
   "execution_count": 68,
   "id": "16be7a81-e91e-4326-9fdc-69b51b879c4c",
   "metadata": {
    "execution": {
     "iopub.execute_input": "2024-10-08T20:53:50.704169Z",
     "iopub.status.busy": "2024-10-08T20:53:50.703892Z",
     "iopub.status.idle": "2024-10-08T20:53:50.762522Z",
     "shell.execute_reply": "2024-10-08T20:53:50.762112Z",
     "shell.execute_reply.started": "2024-10-08T20:53:50.704153Z"
    }
   },
   "outputs": [],
   "source": [
    "response = contextualized_vectorstore.similarity_search_with_score(query=question, k=100, score_threshold=0.80, filter={\"name\": \"AllergyIntolerance\"}) "
   ]
  },
  {
   "cell_type": "code",
   "execution_count": 69,
   "id": "6d1c06c9-6926-438d-af00-5da9d6c216a5",
   "metadata": {
    "execution": {
     "iopub.execute_input": "2024-10-08T20:53:52.197725Z",
     "iopub.status.busy": "2024-10-08T20:53:52.197533Z",
     "iopub.status.idle": "2024-10-08T20:53:52.243467Z",
     "shell.execute_reply": "2024-10-08T20:53:52.243030Z",
     "shell.execute_reply.started": "2024-10-08T20:53:52.197708Z"
    }
   },
   "outputs": [],
   "source": [
    "response = contextualized_vectorstore.similarity_search_with_score(query=\"Condition\", k=100, score_threshold=0.80) "
   ]
  },
  {
   "cell_type": "code",
   "execution_count": 70,
   "id": "28cc537a-c73a-4b9b-8f09-04037c752005",
   "metadata": {
    "execution": {
     "iopub.execute_input": "2024-10-08T20:53:52.582957Z",
     "iopub.status.busy": "2024-10-08T20:53:52.582588Z",
     "iopub.status.idle": "2024-10-08T20:53:52.604962Z",
     "shell.execute_reply": "2024-10-08T20:53:52.604615Z",
     "shell.execute_reply.started": "2024-10-08T20:53:52.582941Z"
    }
   },
   "outputs": [],
   "source": [
    "response = contextualized_vectorstore.similarity_search_with_score(query=\"What are my current medications and how should I be taking them?\", k=100, score_threshold=0.80) "
   ]
  },
  {
   "cell_type": "code",
   "execution_count": 71,
   "id": "4f01e024-98a1-4c8f-b7e3-bf972d0ba270",
   "metadata": {
    "execution": {
     "iopub.execute_input": "2024-10-08T20:53:53.570888Z",
     "iopub.status.busy": "2024-10-08T20:53:53.570558Z",
     "iopub.status.idle": "2024-10-08T20:53:53.573462Z",
     "shell.execute_reply": "2024-10-08T20:53:53.573154Z",
     "shell.execute_reply.started": "2024-10-08T20:53:53.570873Z"
    }
   },
   "outputs": [
    {
     "data": {
      "text/plain": [
       "8"
      ]
     },
     "execution_count": 71,
     "metadata": {},
     "output_type": "execute_result"
    }
   ],
   "source": [
    "len(response)"
   ]
  },
  {
   "cell_type": "code",
   "execution_count": 72,
   "id": "0567caa7-1fa2-447a-bf2a-6f6d075cab48",
   "metadata": {
    "execution": {
     "iopub.execute_input": "2024-10-08T20:53:54.537892Z",
     "iopub.status.busy": "2024-10-08T20:53:54.537462Z",
     "iopub.status.idle": "2024-10-08T20:53:54.540137Z",
     "shell.execute_reply": "2024-10-08T20:53:54.539758Z",
     "shell.execute_reply.started": "2024-10-08T20:53:54.537879Z"
    }
   },
   "outputs": [
    {
     "name": "stdout",
     "output_type": "stream",
     "text": [
      "{\"resourceType\": \"MedicationRequest\", \"id\": \"6948c88e-d15c-3f11-a635-be707cb15632\", \"meta\": {\"profile\": [\"http://hl7.org/fhir/us/core/StructureDefinition/us-core-medicationrequest\"]}, \"status\": \"stopped\", \"intent\": \"order\", \"category\": [{\"coding\": [{\"system\": \"http://terminology.hl7.org/CodeSystem/medicationrequest-category\", \"code\": \"community\", \"display\": \"Community\"}], \"text\": \"Community\"}], \"medicationCodeableConcept\": {\"coding\": [{\"system\": \"http://www.nlm.nih.gov/research/umls/rxnorm\", \"code\": \"308192\", \"display\": \"Amoxicillin 500 MG Oral Tablet\"}], \"text\": \"Amoxicillin 500 MG Oral Tablet\"}, \"subject\": {\"reference\": \"urn:uuid:5b3645de-a2d0-d016-0839-bab3757c4c58\"}, \"encounter\": {\"reference\": \"urn:uuid:cf60427f-6701-abf2-82fc-945837df2152\"}, \"authoredOn\": \"2016-11-23T13:37:42+00:00\", \"requester\": {\"reference\": \"Practitioner?identifier=http://hl7.org/fhir/sid/us-npi|9999990697\", \"display\": \"Dr. Alvin56 Crona259\"}, \"dosageInstruction\": [{\"sequence\": 1, \"text\": \"Take at regular intervals. Complete the prescribed course unless otherwise directed (qualifier value)\", \"additionalInstruction\": [{\"coding\": [{\"system\": \"http://snomed.info/sct\", \"code\": \"418577003\", \"display\": \"Take at regular intervals. Complete the prescribed course unless otherwise directed (qualifier value)\"}], \"text\": \"Take at regular intervals. Complete the prescribed course unless otherwise directed (qualifier value)\"}], \"timing\": {\"repeat\": {\"frequency\": 3, \"period\": 1.0, \"periodUnit\": \"d\"}}, \"asNeededBoolean\": false, \"doseAndRate\": [{\"type\": {\"coding\": [{\"system\": \"http://terminology.hl7.org/CodeSystem/dose-rate-type\", \"code\": \"ordered\", \"display\": \"Ordered\"}]}, \"doseQuantity\": {\"value\": 1.0}}]}]}\n"
     ]
    }
   ],
   "source": [
    "print(response[1][0].page_content)"
   ]
  },
  {
   "cell_type": "markdown",
   "id": "f8130415-6a97-483e-a4b7-3393be3d9a86",
   "metadata": {},
   "source": [
    "# Set prompt system\n",
    "\n"
   ]
  },
  {
   "cell_type": "code",
   "execution_count": 73,
   "id": "58d76e83-11b6-4603-a15f-0857ed65de62",
   "metadata": {
    "execution": {
     "iopub.execute_input": "2024-10-08T20:54:01.018150Z",
     "iopub.status.busy": "2024-10-08T20:54:01.017940Z",
     "iopub.status.idle": "2024-10-08T20:54:01.021578Z",
     "shell.execute_reply": "2024-10-08T20:54:01.021055Z",
     "shell.execute_reply.started": "2024-10-08T20:54:01.018135Z"
    }
   },
   "outputs": [],
   "source": [
    "from langchain import PromptTemplate\n",
    "\n",
    "simple_sys_prompt ='''\n",
    "You are a highly skilled FHIR Specialist tasked with thoroughly analyzing patient queries. Your goal is to provide comprehensive, detailed responses based on the full context provided within triple quotes.\n",
    "\n",
    "When answering, ensure your responses are rich in specific details such as locations, costs, timelines, and any other relevant information that would be valuable to the patient. Consider the broader implications and include any additional insights that may assist the patient in making informed decisions.\n",
    "\n",
    "Before responding, always analyze the entire context to ensure your answer is both accurate and exhaustive. Aim for clarity and depth in your explanations.\n",
    "|\n",
    "Context in FHIR R4: \"\"\"{context}\"\"\n",
    "\n",
    "Human: {question}\n",
    "'''\n",
    "\n",
    "prompt = PromptTemplate.from_template(simple_sys_prompt)"
   ]
  },
  {
   "cell_type": "markdown",
   "id": "4d9758c4-74f2-45d1-91ce-a42557c2336a",
   "metadata": {},
   "source": [
    "# Config langFuse"
   ]
  },
  {
   "cell_type": "code",
   "execution_count": 74,
   "id": "0966617d-9838-4416-a0d8-c73929f6c3fc",
   "metadata": {
    "execution": {
     "iopub.execute_input": "2024-10-08T20:54:02.052774Z",
     "iopub.status.busy": "2024-10-08T20:54:02.052594Z",
     "iopub.status.idle": "2024-10-08T20:54:02.085663Z",
     "shell.execute_reply": "2024-10-08T20:54:02.085361Z",
     "shell.execute_reply.started": "2024-10-08T20:54:02.052764Z"
    }
   },
   "outputs": [],
   "source": [
    "from langfuse import Langfuse\n",
    "\n",
    "langfuse = Langfuse(\n",
    "  secret_key=\"\",\n",
    "  public_key=\"\",\n",
    "  host=\"https://us.cloud.langfuse.com\"\n",
    ")\n",
    "\n",
    "\n",
    "from langfuse.callback import CallbackHandler\n",
    "langfuse_handler = CallbackHandler(\n",
    "    secret_key=\"\",\n",
    "  public_key=\"\",\n",
    "  host=\"https://us.cloud.langfuse.com\"\n",
    ")\n",
    " "
   ]
  },
  {
   "cell_type": "markdown",
   "id": "92402fe2-eaaa-4c5a-9841-e92bd2306d79",
   "metadata": {},
   "source": [
    "## Gemini PRO 1.5"
   ]
  },
  {
   "cell_type": "code",
   "execution_count": 75,
   "id": "649b9654-ffd1-4cbc-aaf1-efc3cd22ef69",
   "metadata": {
    "execution": {
     "iopub.execute_input": "2024-10-08T20:54:02.685820Z",
     "iopub.status.busy": "2024-10-08T20:54:02.685644Z",
     "iopub.status.idle": "2024-10-08T20:54:02.688920Z",
     "shell.execute_reply": "2024-10-08T20:54:02.688598Z",
     "shell.execute_reply.started": "2024-10-08T20:54:02.685808Z"
    }
   },
   "outputs": [],
   "source": [
    "from langchain_google_vertexai import VertexAI\n",
    "from langchain_google_vertexai import ChatVertexAI\n",
    "from langchain.chains import RetrievalQA\n",
    "from IPython.display import display, Markdown\n",
    "from langfuse.decorators import observe\n",
    "\n",
    "observe()\n",
    "def call(query, k=10):\n",
    "    vector_qa_vertex = RetrievalQA.from_chain_type(\n",
    "        llm=ChatVertexAI(model=\"gemini-1.5-pro-002\", temperature=0), chain_type=\"stuff\", retriever=contextualized_vectorstore.as_retriever(search_kwargs={'k': k}), # k_nearest is not used here because we don't have a retrieval query yet.\n",
    "        verbose=True, chain_type_kwargs={\"verbose\": True, \"prompt\": prompt}\n",
    "    )\n",
    "\n",
    "    return vector_qa_vertex.invoke(query, config={\"callbacks\": [langfuse_handler]})"
   ]
  },
  {
   "cell_type": "code",
   "execution_count": 76,
   "id": "9a1167fb-21fd-4184-a22d-b6643c880b2e",
   "metadata": {
    "execution": {
     "iopub.execute_input": "2024-10-08T20:54:04.034317Z",
     "iopub.status.busy": "2024-10-08T20:54:04.034048Z",
     "iopub.status.idle": "2024-10-08T20:54:12.505059Z",
     "shell.execute_reply": "2024-10-08T20:54:12.504723Z",
     "shell.execute_reply.started": "2024-10-08T20:54:04.034304Z"
    },
    "scrolled": true
   },
   "outputs": [
    {
     "name": "stdout",
     "output_type": "stream",
     "text": [
      "\n",
      "\n",
      "\u001b[1m> Entering new RetrievalQA chain...\u001b[0m\n",
      "\n",
      "\n",
      "\u001b[1m> Entering new StuffDocumentsChain chain...\u001b[0m\n",
      "\n",
      "\n",
      "\u001b[1m> Entering new LLMChain chain...\u001b[0m\n",
      "Prompt after formatting:\n",
      "\u001b[32;1m\u001b[1;3m\n",
      "You are a highly skilled FHIR Specialist tasked with thoroughly analyzing patient queries. Your goal is to provide comprehensive, detailed responses based on the full context provided within triple quotes.\n",
      "\n",
      "When answering, ensure your responses are rich in specific details such as locations, costs, timelines, and any other relevant information that would be valuable to the patient. Consider the broader implications and include any additional insights that may assist the patient in making informed decisions.\n",
      "\n",
      "Before responding, always analyze the entire context to ensure your answer is both accurate and exhaustive. Aim for clarity and depth in your explanations.\n",
      "|\n",
      "Context in FHIR R4: \"\"\"{\"resourceType\": \"MedicationRequest\", \"id\": \"3cf09561-5d36-5abd-61dd-7596bea2c5ac\", \"meta\": {\"profile\": [\"http://hl7.org/fhir/us/core/StructureDefinition/us-core-medicationrequest\"]}, \"status\": \"active\", \"intent\": \"order\", \"category\": [{\"coding\": [{\"system\": \"http://terminology.hl7.org/CodeSystem/medicationrequest-category\", \"code\": \"community\", \"display\": \"Community\"}], \"text\": \"Community\"}], \"medicationCodeableConcept\": {\"coding\": [{\"system\": \"http://www.nlm.nih.gov/research/umls/rxnorm\", \"code\": \"997488\", \"display\": \"Fexofenadine hydrochloride 30 MG Oral Tablet\"}], \"text\": \"Fexofenadine hydrochloride 30 MG Oral Tablet\"}, \"subject\": {\"reference\": \"urn:uuid:5b3645de-a2d0-d016-0839-bab3757c4c58\"}, \"encounter\": {\"reference\": \"urn:uuid:9fc6351d-7e69-20c6-c597-856f8e70483d\"}, \"authoredOn\": \"2017-08-22T13:37:42+00:00\", \"requester\": {\"reference\": \"Practitioner?identifier=http://hl7.org/fhir/sid/us-npi|9999990697\", \"display\": \"Dr. Alvin56 Crona259\"}, \"dosageInstruction\": [{\"sequence\": 1, \"text\": \"Take as needed.\", \"asNeededBoolean\": true}]}\n",
      "\n",
      "{\"resourceType\": \"MedicationRequest\", \"id\": \"6948c88e-d15c-3f11-a635-be707cb15632\", \"meta\": {\"profile\": [\"http://hl7.org/fhir/us/core/StructureDefinition/us-core-medicationrequest\"]}, \"status\": \"stopped\", \"intent\": \"order\", \"category\": [{\"coding\": [{\"system\": \"http://terminology.hl7.org/CodeSystem/medicationrequest-category\", \"code\": \"community\", \"display\": \"Community\"}], \"text\": \"Community\"}], \"medicationCodeableConcept\": {\"coding\": [{\"system\": \"http://www.nlm.nih.gov/research/umls/rxnorm\", \"code\": \"308192\", \"display\": \"Amoxicillin 500 MG Oral Tablet\"}], \"text\": \"Amoxicillin 500 MG Oral Tablet\"}, \"subject\": {\"reference\": \"urn:uuid:5b3645de-a2d0-d016-0839-bab3757c4c58\"}, \"encounter\": {\"reference\": \"urn:uuid:cf60427f-6701-abf2-82fc-945837df2152\"}, \"authoredOn\": \"2016-11-23T13:37:42+00:00\", \"requester\": {\"reference\": \"Practitioner?identifier=http://hl7.org/fhir/sid/us-npi|9999990697\", \"display\": \"Dr. Alvin56 Crona259\"}, \"dosageInstruction\": [{\"sequence\": 1, \"text\": \"Take at regular intervals. Complete the prescribed course unless otherwise directed (qualifier value)\", \"additionalInstruction\": [{\"coding\": [{\"system\": \"http://snomed.info/sct\", \"code\": \"418577003\", \"display\": \"Take at regular intervals. Complete the prescribed course unless otherwise directed (qualifier value)\"}], \"text\": \"Take at regular intervals. Complete the prescribed course unless otherwise directed (qualifier value)\"}], \"timing\": {\"repeat\": {\"frequency\": 3, \"period\": 1.0, \"periodUnit\": \"d\"}}, \"asNeededBoolean\": false, \"doseAndRate\": [{\"type\": {\"coding\": [{\"system\": \"http://terminology.hl7.org/CodeSystem/dose-rate-type\", \"code\": \"ordered\", \"display\": \"Ordered\"}]}, \"doseQuantity\": {\"value\": 1.0}}]}]}\n",
      "\n",
      "{\"resourceType\": \"MedicationRequest\", \"id\": \"cf18362b-5057-8a39-039b-dbc9e13ed518\", \"meta\": {\"profile\": [\"http://hl7.org/fhir/us/core/StructureDefinition/us-core-medicationrequest\"]}, \"status\": \"active\", \"intent\": \"order\", \"category\": [{\"coding\": [{\"system\": \"http://terminology.hl7.org/CodeSystem/medicationrequest-category\", \"code\": \"community\", \"display\": \"Community\"}], \"text\": \"Community\"}], \"medicationCodeableConcept\": {\"coding\": [{\"system\": \"http://www.nlm.nih.gov/research/umls/rxnorm\", \"code\": \"1870230\", \"display\": \"NDA020800 0.3 ML Epinephrine 1 MG/ML Auto-Injector\"}], \"text\": \"NDA020800 0.3 ML Epinephrine 1 MG/ML Auto-Injector\"}, \"subject\": {\"reference\": \"urn:uuid:5b3645de-a2d0-d016-0839-bab3757c4c58\"}, \"encounter\": {\"reference\": \"urn:uuid:0bc7f36f-9d73-bdef-bfaa-b097c4b99dbc\"}, \"authoredOn\": \"2017-08-30T12:14:48+00:00\", \"requester\": {\"reference\": \"Practitioner?identifier=http://hl7.org/fhir/sid/us-npi|9999990697\", \"display\": \"Dr. Alvin56 Crona259\"}, \"dosageInstruction\": [{\"sequence\": 1, \"text\": \"Take as needed.\", \"asNeededBoolean\": true}]}\n",
      "\n",
      "{\"resourceType\": \"MedicationRequest\", \"id\": \"6ac1a7c9-300a-a7cf-f140-524b291660c7\", \"meta\": {\"profile\": [\"http://hl7.org/fhir/us/core/StructureDefinition/us-core-medicationrequest\"]}, \"status\": \"stopped\", \"intent\": \"order\", \"category\": [{\"coding\": [{\"system\": \"http://terminology.hl7.org/CodeSystem/medicationrequest-category\", \"code\": \"community\", \"display\": \"Community\"}], \"text\": \"Community\"}], \"medicationCodeableConcept\": {\"coding\": [{\"system\": \"http://www.nlm.nih.gov/research/umls/rxnorm\", \"code\": \"313820\", \"display\": \"Acetaminophen 160 MG Chewable Tablet\"}], \"text\": \"Acetaminophen 160 MG Chewable Tablet\"}, \"subject\": {\"reference\": \"urn:uuid:5b3645de-a2d0-d016-0839-bab3757c4c58\"}, \"encounter\": {\"reference\": \"urn:uuid:cf60427f-6701-abf2-82fc-945837df2152\"}, \"authoredOn\": \"2016-11-23T13:37:42+00:00\", \"requester\": {\"reference\": \"Practitioner?identifier=http://hl7.org/fhir/sid/us-npi|9999990697\", \"display\": \"Dr. Alvin56 Crona259\"}, \"dosageInstruction\": [{\"sequence\": 1, \"text\": \"Take as needed.\", \"asNeededBoolean\": true}]}\n",
      "\n",
      "{\"resourceType\": \"MedicationRequest\", \"id\": \"a4bc21fb-f447-1b96-03a6-32c070cd457a\", \"meta\": {\"profile\": [\"http://hl7.org/fhir/us/core/StructureDefinition/us-core-medicationrequest\"]}, \"status\": \"stopped\", \"intent\": \"order\", \"category\": [{\"coding\": [{\"system\": \"http://terminology.hl7.org/CodeSystem/medicationrequest-category\", \"code\": \"community\", \"display\": \"Community\"}], \"text\": \"Community\"}], \"medicationCodeableConcept\": {\"coding\": [{\"system\": \"http://www.nlm.nih.gov/research/umls/rxnorm\", \"code\": \"834061\", \"display\": \"Penicillin V Potassium 250 MG Oral Tablet\"}], \"text\": \"Penicillin V Potassium 250 MG Oral Tablet\"}, \"subject\": {\"reference\": \"urn:uuid:5b3645de-a2d0-d016-0839-bab3757c4c58\"}, \"encounter\": {\"reference\": \"urn:uuid:4e7837d4-083f-9360-e1e3-3550ea57d9d9\"}, \"authoredOn\": \"2021-02-17T16:37:42+00:00\", \"requester\": {\"reference\": \"Practitioner?identifier=http://hl7.org/fhir/sid/us-npi|9999990697\", \"display\": \"Dr. Alvin56 Crona259\"}, \"reasonReference\": [{\"reference\": \"urn:uuid:d3f9c722-52e2-c6ca-1220-10aecbf3ec80\", \"display\": \"Streptococcal sore throat (disorder)\"}]}\n",
      "\n",
      "{\"resourceType\": \"MedicationRequest\", \"id\": \"6124583a-0ce8-bdbb-f259-382143d82b35\", \"meta\": {\"profile\": [\"http://hl7.org/fhir/us/core/StructureDefinition/us-core-medicationrequest\"]}, \"status\": \"stopped\", \"intent\": \"order\", \"category\": [{\"coding\": [{\"system\": \"http://terminology.hl7.org/CodeSystem/medicationrequest-category\", \"code\": \"community\", \"display\": \"Community\"}], \"text\": \"Community\"}], \"medicationCodeableConcept\": {\"coding\": [{\"system\": \"http://www.nlm.nih.gov/research/umls/rxnorm\", \"code\": \"834061\", \"display\": \"Penicillin V Potassium 250 MG Oral Tablet\"}], \"text\": \"Penicillin V Potassium 250 MG Oral Tablet\"}, \"subject\": {\"reference\": \"urn:uuid:5b3645de-a2d0-d016-0839-bab3757c4c58\"}, \"encounter\": {\"reference\": \"urn:uuid:fc6a22f2-848e-d29e-0a8b-df2e931ae617\"}, \"authoredOn\": \"2022-02-26T17:37:42+00:00\", \"requester\": {\"reference\": \"Practitioner?identifier=http://hl7.org/fhir/sid/us-npi|9999990697\", \"display\": \"Dr. Alvin56 Crona259\"}, \"reasonReference\": [{\"reference\": \"urn:uuid:d3f9c722-52e2-c6ca-1220-10aecbf3ec80\", \"display\": \"Streptococcal sore throat (disorder)\"}]}\n",
      "\n",
      "{\"resourceType\": \"AllergyIntolerance\", \"id\": \"faf91c2b-8de6-9a64-aa0c-feceab910bfe\", \"meta\": {\"profile\": [\"http://hl7.org/fhir/us/core/StructureDefinition/us-core-allergyintolerance\"]}, \"clinicalStatus\": {\"coding\": [{\"system\": \"http://terminology.hl7.org/CodeSystem/allergyintolerance-clinical\", \"code\": \"active\"}]}, \"verificationStatus\": {\"coding\": [{\"system\": \"http://terminology.hl7.org/CodeSystem/allergyintolerance-verification\", \"code\": \"confirmed\"}]}, \"type\": \"allergy\", \"category\": [\"medication\"], \"criticality\": \"low\", \"code\": {\"coding\": [{\"system\": \"http://www.nlm.nih.gov/research/umls/rxnorm\", \"code\": \"1191\", \"display\": \"Aspirin\"}], \"text\": \"Aspirin\"}, \"patient\": {\"reference\": \"urn:uuid:5b3645de-a2d0-d016-0839-bab3757c4c58\"}, \"recordedDate\": \"2017-08-30T11:37:42+00:00\", \"reaction\": [{\"manifestation\": [{\"coding\": [{\"system\": \"http://snomed.info/sct\", \"code\": \"21522001\", \"display\": \"Abdominal pain (finding)\"}], \"text\": \"Abdominal pain (finding)\"}], \"severity\": \"moderate\"}, {\"manifestation\": [{\"coding\": [{\"system\": \"http://snomed.info/sct\", \"code\": \"247472004\", \"display\": \"Wheal (finding)\"}], \"text\": \"Wheal (finding)\"}], \"severity\": \"moderate\"}]}\"\"\n",
      "\n",
      "Human: What are my current medications and how should I be taking them?\n",
      "\u001b[0m\n",
      "\n",
      "\u001b[1m> Finished chain.\u001b[0m\n",
      "\n",
      "\u001b[1m> Finished chain.\u001b[0m\n",
      "\n",
      "\u001b[1m> Finished chain.\u001b[0m\n"
     ]
    }
   ],
   "source": [
    "response = call(\"What are my current medications and how should I be taking them?\")"
   ]
  },
  {
   "cell_type": "code",
   "execution_count": 77,
   "id": "9ed9e1f5-ac9b-421e-aeb3-33a4c4c36aec",
   "metadata": {
    "execution": {
     "iopub.execute_input": "2024-10-08T20:54:12.505662Z",
     "iopub.status.busy": "2024-10-08T20:54:12.505563Z",
     "iopub.status.idle": "2024-10-08T20:54:12.508094Z",
     "shell.execute_reply": "2024-10-08T20:54:12.507827Z",
     "shell.execute_reply.started": "2024-10-08T20:54:12.505653Z"
    },
    "scrolled": true
   },
   "outputs": [
    {
     "data": {
      "text/markdown": [
       "You currently have two active medications prescribed:\n",
       "\n",
       "* **Fexofenadine hydrochloride 30 MG Oral Tablet:** This is prescribed to be taken *as needed*.  The provided data doesn't specify the exact dosage when taken, so it's crucial to consult the instructions provided on the medication packaging or contact your prescribing physician, Dr. Alvin56 Crona259, for clarification.\n",
       "\n",
       "* **NDA020800 0.3 ML Epinephrine 1 MG/ML Auto-Injector:** This is also prescribed to be taken *as needed*.  This is likely an EpiPen for allergic reactions.  Again, review the instructions provided with the auto-injector or consult Dr. Crona259 for specific usage instructions.  Given that you have a documented allergy to Aspirin, ensure you understand when and how to use this auto-injector in case of an allergic reaction.\n",
       "\n",
       "It's important to note that this information is based on the provided data and may not reflect recent changes or discontinued prescriptions.  Always consult with your physician or pharmacist for the most up-to-date information regarding your medications.  They can provide personalized advice and address any questions or concerns you may have.  Don't hesitate to reach out to Dr. Crona259 for clarification on your medication regimen.\n"
      ],
      "text/plain": [
       "<IPython.core.display.Markdown object>"
      ]
     },
     "metadata": {},
     "output_type": "display_data"
    }
   ],
   "source": [
    "display(Markdown(response[\"result\"]))"
   ]
  },
  {
   "cell_type": "markdown",
   "id": "79c61b03-8c01-4b9f-a8ea-8e7bdff467cc",
   "metadata": {},
   "source": [
    "## Conditions Summarization"
   ]
  },
  {
   "cell_type": "code",
   "execution_count": null,
   "id": "ec21c638-ea6d-4411-a718-744e293fd845",
   "metadata": {
    "scrolled": true
   },
   "outputs": [],
   "source": [
    "response = call(\"Summarize my conditions in details\", 50)"
   ]
  },
  {
   "cell_type": "code",
   "execution_count": null,
   "id": "bdd225d9-93d4-4708-9c93-8992ee751589",
   "metadata": {
    "scrolled": true
   },
   "outputs": [],
   "source": [
    "display(Markdown(response[\"result\"]))"
   ]
  },
  {
   "cell_type": "markdown",
   "id": "3c3787c7-fc58-4073-ae50-33ef22fdb297",
   "metadata": {},
   "source": [
    "## Conditions Summarization - Active"
   ]
  },
  {
   "cell_type": "code",
   "execution_count": null,
   "id": "19049a10-a422-47d1-976a-c9731dad0aa7",
   "metadata": {
    "scrolled": true
   },
   "outputs": [],
   "source": [
    "response = call(\"Summarize my active conditions\", 50)"
   ]
  },
  {
   "cell_type": "code",
   "execution_count": null,
   "id": "67031243-296d-4210-8f86-ca90f9bcd0f3",
   "metadata": {},
   "outputs": [],
   "source": [
    "display(Markdown(response[\"result\"]))"
   ]
  },
  {
   "cell_type": "markdown",
   "id": "9167d98b-680a-445c-b7aa-c2018acd2bcd",
   "metadata": {},
   "source": [
    "# Ollama with local models"
   ]
  },
  {
   "cell_type": "code",
   "execution_count": null,
   "id": "5d2ac71b-d070-4b10-b3a0-ea2cbb606703",
   "metadata": {},
   "outputs": [],
   "source": [
    "from langchain.llms import Ollama\n",
    "from langchain.chat_models import ChatOllama\n",
    "from IPython.display import display, Markdown"
   ]
  },
  {
   "cell_type": "code",
   "execution_count": null,
   "id": "46fdb25a-0882-4d96-a3a9-12f6b729478d",
   "metadata": {},
   "outputs": [],
   "source": [
    "ollama_model = 'llama3-gradient' # mistral, orca-mini, llama2, llama3-gradient"
   ]
  },
  {
   "cell_type": "code",
   "execution_count": null,
   "id": "80b06648-8989-46c9-b7a2-0dc23fc928ac",
   "metadata": {},
   "outputs": [],
   "source": [
    "vector_qa = RetrievalQA.from_chain_type(\n",
    "    llm=ChatOllama(model=ollama_model), chain_type=\"stuff\", retriever=contextualized_vectorstore.as_retriever(search_kwargs={'k': 100}), # k_nearest is not used here because we don't have a retrieval query yet.\n",
    "    verbose=True, chain_type_kwargs={\"verbose\": True, \"prompt\": prompt}\n",
    ")"
   ]
  },
  {
   "cell_type": "code",
   "execution_count": null,
   "id": "297a1aa6-53c7-4985-9e97-e36007d27778",
   "metadata": {
    "scrolled": true
   },
   "outputs": [],
   "source": [
    "response = vector_qa.run(\"Whatare my current medications and how should I be taking them?\")"
   ]
  },
  {
   "cell_type": "code",
   "execution_count": null,
   "id": "ccef8a64-4b07-4333-ac07-e07248d820a9",
   "metadata": {},
   "outputs": [],
   "source": [
    "from IPython.display import display, Markdown"
   ]
  },
  {
   "cell_type": "code",
   "execution_count": null,
   "id": "b1cf2153-fdd7-43e5-92d9-86d15027b7ab",
   "metadata": {},
   "outputs": [],
   "source": [
    "display(Markdown(response))"
   ]
  },
  {
   "cell_type": "code",
   "execution_count": null,
   "id": "46001048-b234-4dae-af68-09b42d0df236",
   "metadata": {},
   "outputs": [],
   "source": []
  },
  {
   "cell_type": "code",
   "execution_count": null,
   "id": "3828618c-c2b4-43b6-aa31-355fb74fea8d",
   "metadata": {},
   "outputs": [],
   "source": []
  }
 ],
 "metadata": {
  "kernelspec": {
   "display_name": "Python 3 (ipykernel)",
   "language": "python",
   "name": "python3"
  },
  "language_info": {
   "codemirror_mode": {
    "name": "ipython",
    "version": 3
   },
   "file_extension": ".py",
   "mimetype": "text/x-python",
   "name": "python",
   "nbconvert_exporter": "python",
   "pygments_lexer": "ipython3",
   "version": "3.11.6"
  }
 },
 "nbformat": 4,
 "nbformat_minor": 5
}
