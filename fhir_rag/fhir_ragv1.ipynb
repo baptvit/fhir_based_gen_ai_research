{
 "cells": [
  {
   "cell_type": "markdown",
   "id": "d7822e02-1664-4c2f-b526-5c713752e959",
   "metadata": {},
   "source": [
    "# GraphRAG on FHIR with Knowledge Graphs"
   ]
  },
  {
   "cell_type": "markdown",
   "id": "d006af8a-10e5-433b-94bd-f96f09671c47",
   "metadata": {},
   "source": [
    "### 2. Neo4J & Jupyter Environment\n",
    "This notebook needs an instance of [Neo4j](https://www.neo4j.com) to talk to. I used docker to run Neo4J locally using the following command:\n",
    "```\n",
    "docker run --name testneo4j -p7474:7474 -p7687:7687 -d \\\n",
    "    -v $HOME/neo4j/data:/data \\\n",
    "    -v $HOME/neo4j/logs:/logs \\\n",
    "    -v $HOME/neo4j/import:/var/lib/neo4j/import \\\n",
    "    -v $HOME/neo4j/plugins:/plugins \\\n",
    "    --env NEO4J_AUTH=neo4j/password \\\n",
    "    neo4j:latest\n",
    "```\n",
    "**Note:** No particular plugins are needed. \n",
    "\n",
    "You can also use a Neo4J Aurora instance. \n",
    "\n",
    "#### Jupyter Environment\n",
    "Regardless of how you run Neo4J. You need to set some environment variables in the notebook's environment:\n",
    "\n",
    "| Variable | Description | Value for above Docker |\n",
    "|----------|-------------|------------------------|\n",
    "| NEO4J_URL | Where to find the instance of Neo4j. | bolt://localhost:7687 |\n",
    "| NEO4J_USER | The username for the database. | neo4j |\n",
    "| NEO4J_PASSWORD | The password for the database. | password |\n",
    "\n",
    "\n",
    "### 3. Synthetic data and working directory\n",
    "The data I used for this notebook came from [Synthea](https://synthea.mitre.org/). Using the \n",
    "\n",
    "All the questions here us the FHIR Bundle: `fhir_data/stanfor_llm_on_fhir`"
   ]
  },
  {
   "cell_type": "code",
   "execution_count": 1,
   "id": "633eae00-fba4-440d-bf89-334f62491f5f",
   "metadata": {
    "execution": {
     "iopub.execute_input": "2024-10-08T20:31:26.586889Z",
     "iopub.status.busy": "2024-10-08T20:31:26.586518Z",
     "iopub.status.idle": "2024-10-08T20:31:26.591901Z",
     "shell.execute_reply": "2024-10-08T20:31:26.591468Z",
     "shell.execute_reply.started": "2024-10-08T20:31:26.586874Z"
    }
   },
   "outputs": [],
   "source": [
    "# Imports needed\n",
    "\n",
    "import glob\n",
    "import json\n",
    "import os\n",
    "import re"
   ]
  },
  {
   "cell_type": "markdown",
   "id": "1d2075d6",
   "metadata": {},
   "source": [
    "## Establish Database Connection\n",
    "\n",
    "The cell connects to the Neo4J instance. It relies on several environment variables. \n",
    "\n",
    "**PLEASE NOTE**: The variable have been changed to support multiple databases in the same instance. \n",
    "\n",
    "| Variable            | Description                          | Sample Value          |\n",
    "|---------------------|--------------------------------------|-----------------------|\n",
    "| FHIR_GRAPH_URL      | Where to find the instance of Neo4j. | bolt://localhost:7687 |\n",
    "| FHIR_GRAPH_USER     | The username for the database.       | neo4j                 |\n",
    "| FHIR_GRAPH_PASSWORD | The password for the database.       | password              |\n",
    "| FHIR_GRAPH_DATABASE | The name of the database instance.   | neo4j                 |"
   ]
  },
  {
   "cell_type": "code",
   "execution_count": 2,
   "id": "4a0e20a9",
   "metadata": {
    "execution": {
     "iopub.execute_input": "2024-10-08T20:31:26.925469Z",
     "iopub.status.busy": "2024-10-08T20:31:26.925209Z",
     "iopub.status.idle": "2024-10-08T20:31:26.928956Z",
     "shell.execute_reply": "2024-10-08T20:31:26.928462Z",
     "shell.execute_reply.started": "2024-10-08T20:31:26.925442Z"
    }
   },
   "outputs": [],
   "source": [
    "NEO4J_URI = os.getenv('FHIR_GRAPH_URL', 'neo4j://localhost:7687')\n",
    "USERNAME = os.getenv('FHIR_GRAPH_USER', 'neo4j')\n",
    "PASSWORD = os.getenv('FHIR_GRAPH_PASSWORD', 'password')\n",
    "DATABASE = os.getenv('FHIR_GRAPH_DATABASE', 'neo4j')"
   ]
  },
  {
   "cell_type": "markdown",
   "id": "3a9412af",
   "metadata": {},
   "source": [
    "## Helper Database Cells\n",
    "\n",
    "The following three cells are here to be used to manage the database. They do not need to be run on a blank database. "
   ]
  },
  {
   "cell_type": "markdown",
   "id": "22538b06",
   "metadata": {},
   "source": [
    "http://localhost:7474/browser/"
   ]
  },
  {
   "cell_type": "markdown",
   "id": "dfa6a024",
   "metadata": {},
   "source": [
    "### Create Vector Index \n",
    "\n",
    "This cell creates a new vector index, using the index created above. \n",
    "\n",
    "This is here because running the cell above can take time and only should be done one time when the DB is created. "
   ]
  },
  {
   "cell_type": "code",
   "execution_count": null,
   "id": "89e481d0-dfe8-4835-a2e6-a07a13b6f491",
   "metadata": {},
   "outputs": [],
   "source": []
  },
  {
   "cell_type": "code",
   "execution_count": 3,
   "id": "3261a06e",
   "metadata": {
    "execution": {
     "iopub.execute_input": "2024-10-08T20:31:27.938080Z",
     "iopub.status.busy": "2024-10-08T20:31:27.937880Z",
     "iopub.status.idle": "2024-10-08T20:31:32.641575Z",
     "shell.execute_reply": "2024-10-08T20:31:32.641240Z",
     "shell.execute_reply.started": "2024-10-08T20:31:27.938065Z"
    }
   },
   "outputs": [
    {
     "name": "stderr",
     "output_type": "stream",
     "text": [
      "/home/baptvit/.cache/pypoetry/virtualenvs/fhir-rag-WdST9-6y-py3.11/lib/python3.11/site-packages/sentence_transformers/cross_encoder/CrossEncoder.py:13: TqdmExperimentalWarning: Using `tqdm.autonotebook.tqdm` in notebook mode. Use `tqdm.tqdm` instead to force console mode (e.g. in jupyter console)\n",
      "  from tqdm.autonotebook import tqdm, trange\n"
     ]
    }
   ],
   "source": [
    "from langchain.vectorstores.neo4j_vector import Neo4jVector\n",
    "from langchain_community.embeddings import HuggingFaceBgeEmbeddings\n",
    "\n",
    "vector_index = Neo4jVector.from_existing_index(\n",
    "    HuggingFaceBgeEmbeddings(model_name=\"BAAI/bge-small-en-v1.5\"),\n",
    "    url=NEO4J_URI,\n",
    "    username=USERNAME,\n",
    "    password=PASSWORD,\n",
    "    database=DATABASE,\n",
    "    index_name='fhir_text'\n",
    ")"
   ]
  },
  {
   "cell_type": "code",
   "execution_count": 4,
   "id": "f68f43d3-8aa5-47ce-bf5c-edd63934e595",
   "metadata": {
    "execution": {
     "iopub.execute_input": "2024-10-08T20:31:33.785851Z",
     "iopub.status.busy": "2024-10-08T20:31:33.785410Z",
     "iopub.status.idle": "2024-10-08T20:31:33.931477Z",
     "shell.execute_reply": "2024-10-08T20:31:33.931013Z",
     "shell.execute_reply.started": "2024-10-08T20:31:33.785829Z"
    }
   },
   "outputs": [
    {
     "ename": "ImportError",
     "evalue": "cannot import name 'stanford_llm_on_fhir_questions' from 'questions' (/home/baptvit/Documents/github/mestrado/fhir-rag/fhir_rag/questions/__init__.py)",
     "output_type": "error",
     "traceback": [
      "\u001b[0;31m---------------------------------------------------------------------------\u001b[0m",
      "\u001b[0;31mImportError\u001b[0m                               Traceback (most recent call last)",
      "Cell \u001b[0;32mIn[4], line 1\u001b[0m\n\u001b[0;32m----> 1\u001b[0m \u001b[38;5;28;01mfrom\u001b[39;00m \u001b[38;5;21;01mquestions\u001b[39;00m \u001b[38;5;28;01mimport\u001b[39;00m stanford_llm_on_fhir_questions\n\u001b[1;32m      3\u001b[0m question \u001b[38;5;241m=\u001b[39m stanford_llm_on_fhir_questions[\u001b[38;5;124m\"\u001b[39m\u001b[38;5;124mQ2\u001b[39m\u001b[38;5;124m\"\u001b[39m]\n\u001b[1;32m      4\u001b[0m question\n",
      "\u001b[0;31mImportError\u001b[0m: cannot import name 'stanford_llm_on_fhir_questions' from 'questions' (/home/baptvit/Documents/github/mestrado/fhir-rag/fhir_rag/questions/__init__.py)"
     ]
    }
   ],
   "source": [
    "from questions import stanford_llm_on_fhir_questions\n",
    "\n",
    "question = stanford_llm_on_fhir_questions[\"Q2\"]\n",
    "question"
   ]
  },
  {
   "cell_type": "code",
   "execution_count": 7,
   "id": "dbc4952b-64a5-404f-9e62-e49a6b0036ed",
   "metadata": {
    "execution": {
     "iopub.execute_input": "2024-10-08T20:31:41.279461Z",
     "iopub.status.busy": "2024-10-08T20:31:41.278868Z",
     "iopub.status.idle": "2024-10-08T20:31:41.282110Z",
     "shell.execute_reply": "2024-10-08T20:31:41.281518Z",
     "shell.execute_reply.started": "2024-10-08T20:31:41.279438Z"
    }
   },
   "outputs": [],
   "source": [
    "question = \"Do I have allergi of Aspirin ?\""
   ]
  },
  {
   "cell_type": "code",
   "execution_count": 8,
   "id": "e9d99a9f-c362-4c8a-9bb3-ee5d26862996",
   "metadata": {
    "execution": {
     "iopub.execute_input": "2024-10-08T20:31:41.930841Z",
     "iopub.status.busy": "2024-10-08T20:31:41.930637Z",
     "iopub.status.idle": "2024-10-08T20:31:42.018731Z",
     "shell.execute_reply": "2024-10-08T20:31:42.018366Z",
     "shell.execute_reply.started": "2024-10-08T20:31:41.930828Z"
    }
   },
   "outputs": [],
   "source": [
    "response = vector_index.similarity_search(question, k=50) # k_nearest is not used here because we don't have a retrieval query yet."
   ]
  },
  {
   "cell_type": "markdown",
   "id": "195fd41e-41ea-48b1-be8a-54d8a859f0cb",
   "metadata": {},
   "source": [
    "### Similary search will be better when we need a feacture extraction"
   ]
  },
  {
   "cell_type": "code",
   "execution_count": 9,
   "id": "266c49e7-8b2b-485d-9909-a26a742148cf",
   "metadata": {
    "execution": {
     "iopub.execute_input": "2024-10-08T20:31:42.854701Z",
     "iopub.status.busy": "2024-10-08T20:31:42.854492Z",
     "iopub.status.idle": "2024-10-08T20:31:42.878765Z",
     "shell.execute_reply": "2024-10-08T20:31:42.878425Z",
     "shell.execute_reply.started": "2024-10-08T20:31:42.854686Z"
    }
   },
   "outputs": [],
   "source": [
    "response = vector_index.similarity_search_with_score(query=question, k=50, score_threshold=0.80) "
   ]
  },
  {
   "cell_type": "markdown",
   "id": "fb9096bc-f4e9-4039-aaf3-6886ce5b1752",
   "metadata": {},
   "source": [
    "### Hibryd search with key name"
   ]
  },
  {
   "cell_type": "code",
   "execution_count": 10,
   "id": "f5b46b69-7d46-4bae-bf78-ceb52ec2307e",
   "metadata": {
    "execution": {
     "iopub.execute_input": "2024-10-08T20:31:44.157681Z",
     "iopub.status.busy": "2024-10-08T20:31:44.157415Z",
     "iopub.status.idle": "2024-10-08T20:31:44.222281Z",
     "shell.execute_reply": "2024-10-08T20:31:44.221926Z",
     "shell.execute_reply.started": "2024-10-08T20:31:44.157661Z"
    }
   },
   "outputs": [],
   "source": [
    "response = vector_index.similarity_search_with_score(query=question, k=100, score_threshold=0.80, filter={\"name\": \"AllergyIntolerance\"}) "
   ]
  },
  {
   "cell_type": "code",
   "execution_count": 11,
   "id": "8ddce676-59e4-4683-a6d4-93d1f86a3cac",
   "metadata": {
    "execution": {
     "iopub.execute_input": "2024-10-08T20:31:44.473591Z",
     "iopub.status.busy": "2024-10-08T20:31:44.473328Z",
     "iopub.status.idle": "2024-10-08T20:31:44.478026Z",
     "shell.execute_reply": "2024-10-08T20:31:44.477487Z",
     "shell.execute_reply.started": "2024-10-08T20:31:44.473572Z"
    },
    "scrolled": true
   },
   "outputs": [
    {
     "name": "stdout",
     "output_type": "stream",
     "text": [
      "len return 9\n",
      "{'AllergyIntolerance': 9}\n"
     ]
    }
   ],
   "source": [
    "import json \n",
    "\n",
    "def resources_count(response: list) -> None:\n",
    "    output_len = len(response)\n",
    "    print(f\"len return {output_len}\")\n",
    "    \n",
    "    list_output = []\n",
    "    output_str = '' \n",
    "    for i in range(output_len):\n",
    "        try:\n",
    "            output_str += response[i][0].page_content\n",
    "    \n",
    "            list_output.append(json.loads(response[i][0].page_content)[\"resourceType\"])\n",
    "        except:\n",
    "            print(response[i][0].page_content)\n",
    "    \n",
    "    list(set(list_output))\n",
    "    \n",
    "    dictionary = {}\n",
    "    for item in list_output:\n",
    "        dictionary[item] = dictionary.get(item, 0) + 1\n",
    "    \n",
    "    print(dictionary)\n",
    "    return output_str\n",
    "\n",
    "output_str = resources_count(response)"
   ]
  },
  {
   "cell_type": "markdown",
   "id": "786ba3b7-75ef-43eb-b5f6-e54f293ca926",
   "metadata": {},
   "source": [
    "## Count the amount of tokens in the output\n",
    "\n",
    "Here we are interesting in see the amout of tokens of the output and analise wheater the will fit in the provided context window.\n"
   ]
  },
  {
   "cell_type": "code",
   "execution_count": 12,
   "id": "f1956ee6-cddf-4ac6-9b3f-a35bf1167b4c",
   "metadata": {
    "execution": {
     "iopub.execute_input": "2024-10-08T20:31:47.918985Z",
     "iopub.status.busy": "2024-10-08T20:31:47.918718Z",
     "iopub.status.idle": "2024-10-08T20:31:47.939042Z",
     "shell.execute_reply": "2024-10-08T20:31:47.938714Z",
     "shell.execute_reply.started": "2024-10-08T20:31:47.918966Z"
    }
   },
   "outputs": [],
   "source": [
    "import tiktoken\n",
    "\n",
    "def num_tokens_from_string(string: str, encoding_name: str) -> int:\n",
    "    encoding = tiktoken.get_encoding(encoding_name)\n",
    "    num_tokens = len(encoding.encode(string))\n",
    "    return num_tokens"
   ]
  },
  {
   "cell_type": "code",
   "execution_count": 13,
   "id": "b1e166d0-8d19-4103-9736-e592c89fe713",
   "metadata": {
    "execution": {
     "iopub.execute_input": "2024-10-08T20:31:49.245846Z",
     "iopub.status.busy": "2024-10-08T20:31:49.245666Z",
     "iopub.status.idle": "2024-10-08T20:31:54.444049Z",
     "shell.execute_reply": "2024-10-08T20:31:54.443736Z",
     "shell.execute_reply.started": "2024-10-08T20:31:49.245832Z"
    }
   },
   "outputs": [
    {
     "name": "stdout",
     "output_type": "stream",
     "text": [
      "2850\n"
     ]
    }
   ],
   "source": [
    "print(num_tokens_from_string(output_str, \"cl100k_base\"))"
   ]
  },
  {
   "cell_type": "markdown",
   "id": "53cb2918-63d9-4e2b-b123-e62ee01f2f9e",
   "metadata": {},
   "source": [
    "### Graph Search with similairy Search and Hibridy"
   ]
  },
  {
   "cell_type": "markdown",
   "id": "fa6cf1f0-a567-43f6-adae-020c3eab76bf",
   "metadata": {},
   "source": [
    "By adding a retrival_query in chyper langangue we can apply a neaghor retrivel base on a algorithm after the similarity search"
   ]
  },
  {
   "cell_type": "code",
   "execution_count": null,
   "id": "22757d37-9905-422e-af7b-5950ffd2bc51",
   "metadata": {},
   "outputs": [],
   "source": [
    "contextualize_query = \"\"\"\n",
    "match (node)<-[]->(sc:resource)\n",
    "with node.text as self, reduce(s=\"\", item in collect(distinct sc.text) | s + \"\\n\\nSecondary Entry:\\n\" + item ) as ctxt, score, {} as metadata limit 1\n",
    "return \"Primary Entry:\\n\" + self + ctxt as text, score, metadata\n",
    "\"\"\""
   ]
  },
  {
   "cell_type": "markdown",
   "id": "ac21d812-237f-46c5-bb8b-5018b7b4240e",
   "metadata": {},
   "source": [
    "Default query"
   ]
  },
  {
   "cell_type": "code",
   "execution_count": null,
   "id": "8022b937-60ab-43fe-9db4-33863099ba72",
   "metadata": {},
   "outputs": [],
   "source": [
    "contextualize_query = \"\"\"\n",
    "MATCH (node)<-[r:<>]->(sc:resource)\n",
    "WHERE NONE( rel in r WHERE type(rel) IN [\"patient\", \"subject\"])\n",
    "WITH node.text AS self, \n",
    "     reduce(s = \"\", item IN collect(DISTINCT sc.text) | s + \"\\n\\nSecondary Entry:\\n\" + item) AS ctxt, \n",
    "     score, \n",
    "     {} AS metadata \n",
    "RETURN \"Primary Entry:\\n\" + self + ctxt AS text, score, metadata\n",
    "\"\"\""
   ]
  },
  {
   "cell_type": "markdown",
   "id": "9734ea2c-9b7d-435c-aa73-9a9e49792f18",
   "metadata": {},
   "source": [
    "Default query"
   ]
  },
  {
   "cell_type": "code",
   "execution_count": null,
   "id": "97f86388-505f-4270-a745-904c7819752e",
   "metadata": {},
   "outputs": [],
   "source": [
    "contextualize_query = \"\"\"\n",
    "WHERE score >= 0.82\n",
    "MATCH (node)\n",
    "OPTIONAL MATCH (node)<-[r]->(sc:resource)\n",
    "WHERE NOT type(r) IN [\"subject\", \"patient\"]\n",
    "WITH node.text AS self, \n",
    "     reduce(s=\"\", item IN collect(DISTINCT sc.text) | s + \"Child FHIR Resource:\\n\" + item) AS ctxt, \n",
    "     score, {} AS metadata \n",
    "RETURN \"Parent FHIR resource:\\n\" + self + ctxt AS text, score, metadata\n",
    "\"\"\""
   ]
  },
  {
   "cell_type": "markdown",
   "id": "c725c334-3b38-40ce-94c5-a5b4862ec5b1",
   "metadata": {},
   "source": [
    "Tryng to apply a Dict hyerach"
   ]
  },
  {
   "cell_type": "code",
   "execution_count": 20,
   "id": "4e86d3c2-8760-413f-b44f-fd7c97ea6da5",
   "metadata": {
    "execution": {
     "iopub.execute_input": "2024-10-08T20:34:03.010702Z",
     "iopub.status.busy": "2024-10-08T20:34:03.010372Z",
     "iopub.status.idle": "2024-10-08T20:34:03.012819Z",
     "shell.execute_reply": "2024-10-08T20:34:03.012509Z",
     "shell.execute_reply.started": "2024-10-08T20:34:03.010683Z"
    }
   },
   "outputs": [],
   "source": [
    "contextualize_query = \"\"\"MATCH (node)\n",
    "OPTIONAL MATCH (node)<-[r]->(sc:resource)\n",
    "WHERE NOT type(r) IN [\"subject\", \"patient\"]\n",
    "WITH node.text AS self, \n",
    "     reduce(s=\"\", item IN collect(DISTINCT sc.text) | s + \"\\n\\n {\\\\\"Related FHIR Resource\\\\\": \" + item + \"},\") AS ctxt, \n",
    "     score, {} AS metadata \n",
    "RETURN \"{\\\\\"Main FHIR resource\\\\\": {{\" + self + ctxt + \"}\" AS text, score, metadata\n",
    "\"\"\""
   ]
  },
  {
   "cell_type": "markdown",
   "id": "b71eda3c-24a6-4c1e-9d39-6641a1d019d1",
   "metadata": {},
   "source": [
    "BFS Level 2 \n",
    "\n",
    "TODO: Peding fix the return of Patient resource in each interation"
   ]
  },
  {
   "cell_type": "markdown",
   "id": "99380e97-f0e9-4b46-a06c-570a86d991e9",
   "metadata": {},
   "source": [
    "BFS equals function calling"
   ]
  },
  {
   "cell_type": "code",
   "execution_count": 34,
   "id": "dd20043a-e50a-4a53-8022-e46568d30aee",
   "metadata": {
    "execution": {
     "iopub.execute_input": "2024-10-08T20:39:14.651534Z",
     "iopub.status.busy": "2024-10-08T20:39:14.650938Z",
     "iopub.status.idle": "2024-10-08T20:39:14.655057Z",
     "shell.execute_reply": "2024-10-08T20:39:14.654465Z",
     "shell.execute_reply.started": "2024-10-08T20:39:14.651512Z"
    }
   },
   "outputs": [],
   "source": [
    "contextualize_query = \"\"\"MATCH (node)\n",
    "                WHERE score >= 0.82\n",
    "                WITH node\n",
    "                CALL {\n",
    "                  // Perform breadth-first search (BFS) up to level 1 neighbors, excluding specific relationships\n",
    "                  WITH node\n",
    "                  MATCH (node)<-[r]->(neighbor)\n",
    "                  WHERE NOT type(r) IN ['subject', 'patient'] // Exclude relationships of type 'subject' and 'patient'\n",
    "                  RETURN neighbor, r\n",
    "                }\n",
    "                WITH node, collect({neighbor_text: neighbor.text, relationship: type(r)}) AS neighbors\n",
    "                RETURN node.text + \"\\nNeighbors:\\n\" + \n",
    "       reduce(s = \"\", neighbor IN neighbors | s + \"Relationship: \" + neighbor.relationship + \"\\nResource: \" + neighbor.neighbor_text + \"\\n\") AS text, 1 AS score, {} AS metadata\"\"\""
   ]
  },
  {
   "cell_type": "code",
   "execution_count": 35,
   "id": "f3dfa767-23fc-41fa-8767-881a49506122",
   "metadata": {
    "execution": {
     "iopub.execute_input": "2024-10-08T20:39:14.961436Z",
     "iopub.status.busy": "2024-10-08T20:39:14.961112Z",
     "iopub.status.idle": "2024-10-08T20:39:17.107723Z",
     "shell.execute_reply": "2024-10-08T20:39:17.107397Z",
     "shell.execute_reply.started": "2024-10-08T20:39:14.961424Z"
    }
   },
   "outputs": [],
   "source": [
    "contextualized_vectorstore = Neo4jVector.from_existing_index(\n",
    "    HuggingFaceBgeEmbeddings(model_name=\"BAAI/bge-small-en-v1.5\"),\n",
    "    url=NEO4J_URI,\n",
    "    username=USERNAME,\n",
    "    password=PASSWORD,\n",
    "    database=DATABASE,\n",
    "    index_name='fhir_text',\n",
    "    retrieval_query=contextualize_query\n",
    ")"
   ]
  },
  {
   "cell_type": "code",
   "execution_count": 36,
   "id": "16be7a81-e91e-4326-9fdc-69b51b879c4c",
   "metadata": {
    "execution": {
     "iopub.execute_input": "2024-10-08T20:39:17.108383Z",
     "iopub.status.busy": "2024-10-08T20:39:17.108284Z",
     "iopub.status.idle": "2024-10-08T20:39:17.196999Z",
     "shell.execute_reply": "2024-10-08T20:39:17.196645Z",
     "shell.execute_reply.started": "2024-10-08T20:39:17.108374Z"
    }
   },
   "outputs": [
    {
     "name": "stderr",
     "output_type": "stream",
     "text": [
      "Received notification from DBMS server: {severity: WARNING} {code: Neo.ClientNotification.Statement.FeatureDeprecationWarning} {category: DEPRECATION} {title: This feature is deprecated and will be removed in future versions.} {description: CALL subquery without a variable scope clause is now deprecated. Use CALL (node) { ... }} {position: line: 4, column: 17, offset: 326} for query: 'MATCH (n:`resource`) WHERE n.`embedding` IS NOT NULL AND size(n.`embedding`) = toInteger(384) AND n.`name` = $param_1 WITH n as node, vector.similarity.cosine(n.`embedding`, $embedding) AS score ORDER BY score DESC LIMIT toInteger($k) MATCH (node)\\n                WHERE score >= 0.82\\n                WITH node\\n                CALL {\\n                  // Perform breadth-first search (BFS) up to level 1 neighbors, excluding specific relationships\\n                  WITH node\\n                  MATCH (node)<-[r]->(neighbor)\\n                  WHERE NOT type(r) IN [\\'subject\\', \\'patient\\'] // Exclude relationships of type \\'subject\\' and \\'patient\\'\\n                  RETURN neighbor, r\\n                }\\n                WITH node, collect({neighbor_text: neighbor.text, relationship: type(r)}) AS neighbors\\n                RETURN node.text + \"\\nNeighbors:\\n\" + \\n       reduce(s = \"\", neighbor IN neighbors | s + \"Relationship: \" + neighbor.relationship + \"\\nResource: \" + neighbor.neighbor_text + \"\\n\") AS text, 1 AS score, {} AS metadata'\n"
     ]
    }
   ],
   "source": [
    "response = contextualized_vectorstore.similarity_search_with_score(query=question, k=100, score_threshold=0.80, filter={\"name\": \"AllergyIntolerance\"}) "
   ]
  },
  {
   "cell_type": "code",
   "execution_count": null,
   "id": "6d1c06c9-6926-438d-af00-5da9d6c216a5",
   "metadata": {},
   "outputs": [],
   "source": [
    "response = contextualized_vectorstore.similarity_search_with_score(query=\"Condition\", k=100, score_threshold=0.80) "
   ]
  },
  {
   "cell_type": "code",
   "execution_count": 48,
   "id": "28cc537a-c73a-4b9b-8f09-04037c752005",
   "metadata": {
    "execution": {
     "iopub.execute_input": "2024-10-08T20:49:41.566803Z",
     "iopub.status.busy": "2024-10-08T20:49:41.566510Z",
     "iopub.status.idle": "2024-10-08T20:49:41.592456Z",
     "shell.execute_reply": "2024-10-08T20:49:41.592103Z",
     "shell.execute_reply.started": "2024-10-08T20:49:41.566790Z"
    }
   },
   "outputs": [
    {
     "name": "stderr",
     "output_type": "stream",
     "text": [
      "Received notification from DBMS server: {severity: WARNING} {code: Neo.ClientNotification.Statement.FeatureDeprecationWarning} {category: DEPRECATION} {title: This feature is deprecated and will be removed in future versions.} {description: CALL subquery without a variable scope clause is now deprecated. Use CALL (node) { ... }} {position: line: 4, column: 17, offset: 165} for query: 'CALL db.index.vector.queryNodes($index, $k, $embedding) YIELD node, score MATCH (node)\\n                WHERE score >= 0.82\\n                WITH node\\n                CALL {\\n                  // Perform breadth-first search (BFS) up to level 1 neighbors, excluding specific relationships\\n                  WITH node\\n                  MATCH (node)<-[r]->(neighbor)\\n                  WHERE NOT type(r) IN [\\'subject\\', \\'patient\\'] // Exclude relationships of type \\'subject\\' and \\'patient\\'\\n                  RETURN neighbor, r\\n                }\\n                WITH node, collect({neighbor_text: neighbor.text, relationship: type(r)}) AS neighbors\\n                RETURN node.text + \"\\nNeighbors:\\n\" + \\n       reduce(s = \"\", neighbor IN neighbors | s + \"Relationship: \" + neighbor.relationship + \"\\nResource: \" + neighbor.neighbor_text + \"\\n\") AS text, 1 AS score, {} AS metadata'\n"
     ]
    }
   ],
   "source": [
    "response = contextualized_vectorstore.similarity_search_with_score(query=\"What are my current medications and how should I be taking them?\", k=100, score_threshold=0.80) "
   ]
  },
  {
   "cell_type": "code",
   "execution_count": 49,
   "id": "4f01e024-98a1-4c8f-b7e3-bf972d0ba270",
   "metadata": {
    "execution": {
     "iopub.execute_input": "2024-10-08T20:49:41.813797Z",
     "iopub.status.busy": "2024-10-08T20:49:41.813519Z",
     "iopub.status.idle": "2024-10-08T20:49:41.816616Z",
     "shell.execute_reply": "2024-10-08T20:49:41.816248Z",
     "shell.execute_reply.started": "2024-10-08T20:49:41.813784Z"
    }
   },
   "outputs": [
    {
     "data": {
      "text/plain": [
       "8"
      ]
     },
     "execution_count": 49,
     "metadata": {},
     "output_type": "execute_result"
    }
   ],
   "source": [
    "len(response)"
   ]
  },
  {
   "cell_type": "code",
   "execution_count": 50,
   "id": "0567caa7-1fa2-447a-bf2a-6f6d075cab48",
   "metadata": {
    "execution": {
     "iopub.execute_input": "2024-10-08T20:49:43.098402Z",
     "iopub.status.busy": "2024-10-08T20:49:43.098066Z",
     "iopub.status.idle": "2024-10-08T20:49:43.101436Z",
     "shell.execute_reply": "2024-10-08T20:49:43.100881Z",
     "shell.execute_reply.started": "2024-10-08T20:49:43.098385Z"
    }
   },
   "outputs": [
    {
     "data": {
      "text/plain": [
       "(Document(metadata={}, page_content='{\"resourceType\": \"MedicationRequest\", \"id\": \"6948c88e-d15c-3f11-a635-be707cb15632\", \"meta\": {\"profile\": [\"http://hl7.org/fhir/us/core/StructureDefinition/us-core-medicationrequest\"]}, \"status\": \"stopped\", \"intent\": \"order\", \"category\": [{\"coding\": [{\"system\": \"http://terminology.hl7.org/CodeSystem/medicationrequest-category\", \"code\": \"community\", \"display\": \"Community\"}], \"text\": \"Community\"}], \"medicationCodeableConcept\": {\"coding\": [{\"system\": \"http://www.nlm.nih.gov/research/umls/rxnorm\", \"code\": \"308192\", \"display\": \"Amoxicillin 500 MG Oral Tablet\"}], \"text\": \"Amoxicillin 500 MG Oral Tablet\"}, \"subject\": {\"reference\": \"urn:uuid:5b3645de-a2d0-d016-0839-bab3757c4c58\"}, \"encounter\": {\"reference\": \"urn:uuid:cf60427f-6701-abf2-82fc-945837df2152\"}, \"authoredOn\": \"2016-11-23T13:37:42+00:00\", \"requester\": {\"reference\": \"Practitioner?identifier=http://hl7.org/fhir/sid/us-npi|9999990697\", \"display\": \"Dr. Alvin56 Crona259\"}, \"dosageInstruction\": [{\"sequence\": 1, \"text\": \"Take at regular intervals. Complete the prescribed course unless otherwise directed (qualifier value)\", \"additionalInstruction\": [{\"coding\": [{\"system\": \"http://snomed.info/sct\", \"code\": \"418577003\", \"display\": \"Take at regular intervals. Complete the prescribed course unless otherwise directed (qualifier value)\"}], \"text\": \"Take at regular intervals. Complete the prescribed course unless otherwise directed (qualifier value)\"}], \"timing\": {\"repeat\": {\"frequency\": 3, \"period\": 1.0, \"periodUnit\": \"d\"}}, \"asNeededBoolean\": false, \"doseAndRate\": [{\"type\": {\"coding\": [{\"system\": \"http://terminology.hl7.org/CodeSystem/dose-rate-type\", \"code\": \"ordered\", \"display\": \"Ordered\"}]}, \"doseQuantity\": {\"value\": 1.0}}]}]}\\nNeighbors:\\nRelationship: prescription\\nResource: {\"resourceType\": \"Claim\", \"id\": \"aaa2b803-6ed4-cf5e-c1c4-1ecca768ac14\", \"status\": \"active\", \"type\": {\"coding\": [{\"system\": \"http://terminology.hl7.org/CodeSystem/claim-type\", \"code\": \"pharmacy\"}]}, \"use\": \"claim\", \"patient\": {\"reference\": \"urn:uuid:5b3645de-a2d0-d016-0839-bab3757c4c58\"}, \"billablePeriod\": {\"start\": \"2016-11-23T13:37:42+00:00\", \"end\": \"2016-11-23T13:52:42+00:00\"}, \"created\": \"2016-11-23T13:52:42+00:00\", \"provider\": {\"reference\": \"Organization?identifier=https://github.com/synthetichealth/synthea|15d4c950-4691-3996-b4c4-bf06bfb58ff7\", \"display\": \"HOLY FAMILY HOSPITAL\"}, \"priority\": {\"coding\": [{\"system\": \"http://terminology.hl7.org/CodeSystem/processpriority\", \"code\": \"normal\"}]}, \"prescription\": {\"reference\": \"urn:uuid:6948c88e-d15c-3f11-a635-be707cb15632\"}, \"insurance\": [{\"sequence\": 1, \"focal\": true, \"coverage\": {\"display\": \"Medicare\"}}], \"item\": [{\"sequence\": 1, \"productOrService\": {\"coding\": [{\"system\": \"http://www.nlm.nih.gov/research/umls/rxnorm\", \"code\": \"308192\", \"display\": \"Amoxicillin 500 MG Oral Tablet\"}], \"text\": \"Amoxicillin 500 MG Oral Tablet\"}, \"encounter\": [{\"reference\": \"urn:uuid:cf60427f-6701-abf2-82fc-945837df2152\"}]}], \"total\": {\"value\": 103.33, \"currency\": \"USD\"}}\\nRelationship: authored_on\\nResource: 11/23/2016\\nRelationship: encounter\\nResource: {\"resourceType\": \"Encounter\", \"id\": \"cf60427f-6701-abf2-82fc-945837df2152\", \"meta\": {\"profile\": [\"http://hl7.org/fhir/us/core/StructureDefinition/us-core-encounter\"]}, \"identifier\": [{\"use\": \"official\", \"system\": \"https://github.com/synthetichealth/synthea\", \"value\": \"cf60427f-6701-abf2-82fc-945837df2152\"}], \"status\": \"finished\", \"class\": {\"system\": \"http://terminology.hl7.org/CodeSystem/v3-ActCode\", \"code\": \"AMB\"}, \"type\": [{\"coding\": [{\"system\": \"http://snomed.info/sct\", \"code\": \"185345009\", \"display\": \"Encounter for symptom\"}], \"text\": \"Encounter for symptom\"}], \"subject\": {\"reference\": \"urn:uuid:5b3645de-a2d0-d016-0839-bab3757c4c58\", \"display\": \"Beatris270 Bogan287\"}, \"participant\": [{\"type\": [{\"coding\": [{\"system\": \"http://terminology.hl7.org/CodeSystem/v3-ParticipationType\", \"code\": \"PPRF\", \"display\": \"primary performer\"}], \"text\": \"primary performer\"}], \"period\": {\"start\": \"2016-11-23T13:37:42+00:00\", \"end\": \"2016-11-23T13:52:42+00:00\"}, \"individual\": {\"reference\": \"Practitioner?identifier=http://hl7.org/fhir/sid/us-npi|9999990697\", \"display\": \"Dr. Alvin56 Crona259\"}}], \"period\": {\"start\": \"2016-11-23T13:37:42+00:00\", \"end\": \"2016-11-23T13:52:42+00:00\"}, \"reasonCode\": [{\"coding\": [{\"system\": \"http://snomed.info/sct\", \"code\": \"65363002\", \"display\": \"Otitis media\"}]}], \"location\": [{\"location\": {\"reference\": \"Location?identifier=https://github.com/synthetichealth/synthea|17ab5f4a-eb74-306c-8895-5ce93ec4592b\", \"display\": \"HOLY FAMILY HOSPITAL\"}}], \"serviceProvider\": {\"reference\": \"Organization?identifier=https://github.com/synthetichealth/synthea|15d4c950-4691-3996-b4c4-bf06bfb58ff7\", \"display\": \"HOLY FAMILY HOSPITAL\"}}\\n'),\n",
       " 1)"
      ]
     },
     "execution_count": 50,
     "metadata": {},
     "output_type": "execute_result"
    }
   ],
   "source": [
    "response[1].page_content)"
   ]
  },
  {
   "cell_type": "markdown",
   "id": "f8130415-6a97-483e-a4b7-3393be3d9a86",
   "metadata": {},
   "source": [
    "# Set prompt system\n",
    "\n"
   ]
  },
  {
   "cell_type": "code",
   "execution_count": 39,
   "id": "58d76e83-11b6-4603-a15f-0857ed65de62",
   "metadata": {
    "execution": {
     "iopub.execute_input": "2024-10-08T20:40:51.447641Z",
     "iopub.status.busy": "2024-10-08T20:40:51.447309Z",
     "iopub.status.idle": "2024-10-08T20:40:51.536631Z",
     "shell.execute_reply": "2024-10-08T20:40:51.536255Z",
     "shell.execute_reply.started": "2024-10-08T20:40:51.447621Z"
    }
   },
   "outputs": [],
   "source": [
    "from langchain import PromptTemplate\n",
    "\n",
    "simple_sys_prompt ='''\n",
    "You are a highly skilled FHIR Specialist tasked with thoroughly analyzing patient queries. Your goal is to provide comprehensive, detailed responses based on the full context provided within triple quotes.\n",
    "\n",
    "When answering, ensure your responses are rich in specific details such as locations, costs, timelines, and any other relevant information that would be valuable to the patient. Consider the broader implications and include any additional insights that may assist the patient in making informed decisions.\n",
    "\n",
    "Before responding, always analyze the entire context to ensure your answer is both accurate and exhaustive. Aim for clarity and depth in your explanations.\n",
    "|\n",
    "Context in FHIR R4: \"\"\"{context}\"\"\n",
    "\n",
    "Human: {question}\n",
    "'''\n",
    "\n",
    "prompt = PromptTemplate.from_template(simple_sys_prompt)"
   ]
  },
  {
   "cell_type": "markdown",
   "id": "4d9758c4-74f2-45d1-91ce-a42557c2336a",
   "metadata": {},
   "source": [
    "# Config langFuse"
   ]
  },
  {
   "cell_type": "code",
   "execution_count": 40,
   "id": "0966617d-9838-4416-a0d8-c73929f6c3fc",
   "metadata": {
    "execution": {
     "iopub.execute_input": "2024-10-08T20:40:52.257570Z",
     "iopub.status.busy": "2024-10-08T20:40:52.257183Z",
     "iopub.status.idle": "2024-10-08T20:40:52.396103Z",
     "shell.execute_reply": "2024-10-08T20:40:52.395741Z",
     "shell.execute_reply.started": "2024-10-08T20:40:52.257554Z"
    }
   },
   "outputs": [],
   "source": [
    "from langfuse import Langfuse\n",
    "\n",
    "langfuse = Langfuse(\n",
    "  secret_key=\"\",\n",
    "  public_key=\"\",\n",
    "  host=\"https://us.cloud.langfuse.com\"\n",
    ")\n",
    "\n",
    "\n",
    "from langfuse.callback import CallbackHandler\n",
    "langfuse_handler = CallbackHandler(\n",
    "    secret_key=\"\",\n",
    "  public_key=\"\",\n",
    "  host=\"https://us.cloud.langfuse.com\"\n",
    ")\n",
    " "
   ]
  },
  {
   "cell_type": "markdown",
   "id": "92402fe2-eaaa-4c5a-9841-e92bd2306d79",
   "metadata": {},
   "source": [
    "## Gemini PRO 1.5"
   ]
  },
  {
   "cell_type": "code",
   "execution_count": 44,
   "id": "649b9654-ffd1-4cbc-aaf1-efc3cd22ef69",
   "metadata": {
    "execution": {
     "iopub.execute_input": "2024-10-08T20:42:19.606518Z",
     "iopub.status.busy": "2024-10-08T20:42:19.606143Z",
     "iopub.status.idle": "2024-10-08T20:42:19.609643Z",
     "shell.execute_reply": "2024-10-08T20:42:19.609356Z",
     "shell.execute_reply.started": "2024-10-08T20:42:19.606499Z"
    }
   },
   "outputs": [],
   "source": [
    "from langchain_google_vertexai import VertexAI\n",
    "from langchain_google_vertexai import ChatVertexAI\n",
    "from langchain.chains import RetrievalQA\n",
    "from IPython.display import display, Markdown\n",
    "from langfuse.decorators import observe\n",
    "\n",
    "observe()\n",
    "def call(query, k=10):\n",
    "    vector_qa_vertex = RetrievalQA.from_chain_type(\n",
    "        llm=ChatVertexAI(model=\"gemini-1.5-pro-002\", temperature=0), chain_type=\"stuff\", retriever=contextualized_vectorstore.as_retriever(search_kwargs={'k': k}), # k_nearest is not used here because we don't have a retrieval query yet.\n",
    "        verbose=True, chain_type_kwargs={\"verbose\": True, \"prompt\": prompt}\n",
    "    )\n",
    "\n",
    "    return vector_qa_vertex.invoke(query, config={\"callbacks\": [langfuse_handler]})"
   ]
  },
  {
   "cell_type": "code",
   "execution_count": 45,
   "id": "9a1167fb-21fd-4184-a22d-b6643c880b2e",
   "metadata": {
    "execution": {
     "iopub.execute_input": "2024-10-08T20:42:22.632923Z",
     "iopub.status.busy": "2024-10-08T20:42:22.632715Z",
     "iopub.status.idle": "2024-10-08T20:42:33.906362Z",
     "shell.execute_reply": "2024-10-08T20:42:33.906003Z",
     "shell.execute_reply.started": "2024-10-08T20:42:22.632908Z"
    },
    "scrolled": true
   },
   "outputs": [
    {
     "name": "stderr",
     "output_type": "stream",
     "text": [
      "Received notification from DBMS server: {severity: WARNING} {code: Neo.ClientNotification.Statement.FeatureDeprecationWarning} {category: DEPRECATION} {title: This feature is deprecated and will be removed in future versions.} {description: CALL subquery without a variable scope clause is now deprecated. Use CALL (node) { ... }} {position: line: 4, column: 17, offset: 165} for query: 'CALL db.index.vector.queryNodes($index, $k, $embedding) YIELD node, score MATCH (node)\\n                WHERE score >= 0.82\\n                WITH node\\n                CALL {\\n                  // Perform breadth-first search (BFS) up to level 1 neighbors, excluding specific relationships\\n                  WITH node\\n                  MATCH (node)<-[r]->(neighbor)\\n                  WHERE NOT type(r) IN [\\'subject\\', \\'patient\\'] // Exclude relationships of type \\'subject\\' and \\'patient\\'\\n                  RETURN neighbor, r\\n                }\\n                WITH node, collect({neighbor_text: neighbor.text, relationship: type(r)}) AS neighbors\\n                RETURN node.text + \"\\nNeighbors:\\n\" + \\n       reduce(s = \"\", neighbor IN neighbors | s + \"Relationship: \" + neighbor.relationship + \"\\nResource: \" + neighbor.neighbor_text + \"\\n\") AS text, 1 AS score, {} AS metadata'\n"
     ]
    },
    {
     "name": "stdout",
     "output_type": "stream",
     "text": [
      "\n",
      "\n",
      "\u001b[1m> Entering new RetrievalQA chain...\u001b[0m\n",
      "\n",
      "\n",
      "\u001b[1m> Entering new StuffDocumentsChain chain...\u001b[0m\n",
      "\n",
      "\n",
      "\u001b[1m> Entering new LLMChain chain...\u001b[0m\n",
      "Prompt after formatting:\n",
      "\u001b[32;1m\u001b[1;3m\n",
      "You are a highly skilled FHIR Specialist tasked with thoroughly analyzing patient queries. Your goal is to provide comprehensive, detailed responses based on the full context provided within triple quotes.\n",
      "\n",
      "When answering, ensure your responses are rich in specific details such as locations, costs, timelines, and any other relevant information that would be valuable to the patient. Consider the broader implications and include any additional insights that may assist the patient in making informed decisions.\n",
      "\n",
      "Before responding, always analyze the entire context to ensure your answer is both accurate and exhaustive. Aim for clarity and depth in your explanations.\n",
      "|\n",
      "Context in FHIR R4: \"\"\"{\"resourceType\": \"MedicationRequest\", \"id\": \"3cf09561-5d36-5abd-61dd-7596bea2c5ac\", \"meta\": {\"profile\": [\"http://hl7.org/fhir/us/core/StructureDefinition/us-core-medicationrequest\"]}, \"status\": \"active\", \"intent\": \"order\", \"category\": [{\"coding\": [{\"system\": \"http://terminology.hl7.org/CodeSystem/medicationrequest-category\", \"code\": \"community\", \"display\": \"Community\"}], \"text\": \"Community\"}], \"medicationCodeableConcept\": {\"coding\": [{\"system\": \"http://www.nlm.nih.gov/research/umls/rxnorm\", \"code\": \"997488\", \"display\": \"Fexofenadine hydrochloride 30 MG Oral Tablet\"}], \"text\": \"Fexofenadine hydrochloride 30 MG Oral Tablet\"}, \"subject\": {\"reference\": \"urn:uuid:5b3645de-a2d0-d016-0839-bab3757c4c58\"}, \"encounter\": {\"reference\": \"urn:uuid:9fc6351d-7e69-20c6-c597-856f8e70483d\"}, \"authoredOn\": \"2017-08-22T13:37:42+00:00\", \"requester\": {\"reference\": \"Practitioner?identifier=http://hl7.org/fhir/sid/us-npi|9999990697\", \"display\": \"Dr. Alvin56 Crona259\"}, \"dosageInstruction\": [{\"sequence\": 1, \"text\": \"Take as needed.\", \"asNeededBoolean\": true}]}\n",
      "Neighbors:\n",
      "Relationship: prescription\n",
      "Resource: {\"resourceType\": \"Claim\", \"id\": \"30deaebb-5574-1a5f-8ed0-fc99deffc423\", \"status\": \"active\", \"type\": {\"coding\": [{\"system\": \"http://terminology.hl7.org/CodeSystem/claim-type\", \"code\": \"pharmacy\"}]}, \"use\": \"claim\", \"patient\": {\"reference\": \"urn:uuid:5b3645de-a2d0-d016-0839-bab3757c4c58\"}, \"billablePeriod\": {\"start\": \"2017-08-22T13:37:42+00:00\", \"end\": \"2017-08-22T13:52:42+00:00\"}, \"created\": \"2017-08-22T13:52:42+00:00\", \"provider\": {\"reference\": \"Organization?identifier=https://github.com/synthetichealth/synthea|15d4c950-4691-3996-b4c4-bf06bfb58ff7\", \"display\": \"HOLY FAMILY HOSPITAL\"}, \"priority\": {\"coding\": [{\"system\": \"http://terminology.hl7.org/CodeSystem/processpriority\", \"code\": \"normal\"}]}, \"prescription\": {\"reference\": \"urn:uuid:3cf09561-5d36-5abd-61dd-7596bea2c5ac\"}, \"insurance\": [{\"sequence\": 1, \"focal\": true, \"coverage\": {\"display\": \"Medicare\"}}], \"item\": [{\"sequence\": 1, \"productOrService\": {\"coding\": [{\"system\": \"http://www.nlm.nih.gov/research/umls/rxnorm\", \"code\": \"997488\", \"display\": \"Fexofenadine hydrochloride 30 MG Oral Tablet\"}], \"text\": \"Fexofenadine hydrochloride 30 MG Oral Tablet\"}, \"encounter\": [{\"reference\": \"urn:uuid:9fc6351d-7e69-20c6-c597-856f8e70483d\"}]}], \"total\": {\"value\": 455.32, \"currency\": \"USD\"}}\n",
      "Relationship: authored_on\n",
      "Resource: 08/22/2017\n",
      "Relationship: encounter\n",
      "Resource: {\"resourceType\": \"Encounter\", \"id\": \"9fc6351d-7e69-20c6-c597-856f8e70483d\", \"meta\": {\"profile\": [\"http://hl7.org/fhir/us/core/StructureDefinition/us-core-encounter\"]}, \"identifier\": [{\"use\": \"official\", \"system\": \"https://github.com/synthetichealth/synthea\", \"value\": \"9fc6351d-7e69-20c6-c597-856f8e70483d\"}], \"status\": \"finished\", \"class\": {\"system\": \"http://terminology.hl7.org/CodeSystem/v3-ActCode\", \"code\": \"AMB\"}, \"type\": [{\"coding\": [{\"system\": \"http://snomed.info/sct\", \"code\": \"185345009\", \"display\": \"Encounter for symptom\"}], \"text\": \"Encounter for symptom\"}], \"subject\": {\"reference\": \"urn:uuid:5b3645de-a2d0-d016-0839-bab3757c4c58\", \"display\": \"Beatris270 Bogan287\"}, \"participant\": [{\"type\": [{\"coding\": [{\"system\": \"http://terminology.hl7.org/CodeSystem/v3-ParticipationType\", \"code\": \"PPRF\", \"display\": \"primary performer\"}], \"text\": \"primary performer\"}], \"period\": {\"start\": \"2017-08-22T13:37:42+00:00\", \"end\": \"2017-08-22T13:52:42+00:00\"}, \"individual\": {\"reference\": \"Practitioner?identifier=http://hl7.org/fhir/sid/us-npi|9999990697\", \"display\": \"Dr. Alvin56 Crona259\"}}], \"period\": {\"start\": \"2017-08-22T13:37:42+00:00\", \"end\": \"2017-08-22T13:52:42+00:00\"}, \"reasonCode\": [{\"coding\": [{\"system\": \"http://snomed.info/sct\", \"code\": \"446096008\", \"display\": \"Perennial allergic rhinitis\"}]}], \"location\": [{\"location\": {\"reference\": \"Location?identifier=https://github.com/synthetichealth/synthea|17ab5f4a-eb74-306c-8895-5ce93ec4592b\", \"display\": \"HOLY FAMILY HOSPITAL\"}}], \"serviceProvider\": {\"reference\": \"Organization?identifier=https://github.com/synthetichealth/synthea|15d4c950-4691-3996-b4c4-bf06bfb58ff7\", \"display\": \"HOLY FAMILY HOSPITAL\"}}\n",
      "\n",
      "\n",
      "{\"resourceType\": \"MedicationRequest\", \"id\": \"6948c88e-d15c-3f11-a635-be707cb15632\", \"meta\": {\"profile\": [\"http://hl7.org/fhir/us/core/StructureDefinition/us-core-medicationrequest\"]}, \"status\": \"stopped\", \"intent\": \"order\", \"category\": [{\"coding\": [{\"system\": \"http://terminology.hl7.org/CodeSystem/medicationrequest-category\", \"code\": \"community\", \"display\": \"Community\"}], \"text\": \"Community\"}], \"medicationCodeableConcept\": {\"coding\": [{\"system\": \"http://www.nlm.nih.gov/research/umls/rxnorm\", \"code\": \"308192\", \"display\": \"Amoxicillin 500 MG Oral Tablet\"}], \"text\": \"Amoxicillin 500 MG Oral Tablet\"}, \"subject\": {\"reference\": \"urn:uuid:5b3645de-a2d0-d016-0839-bab3757c4c58\"}, \"encounter\": {\"reference\": \"urn:uuid:cf60427f-6701-abf2-82fc-945837df2152\"}, \"authoredOn\": \"2016-11-23T13:37:42+00:00\", \"requester\": {\"reference\": \"Practitioner?identifier=http://hl7.org/fhir/sid/us-npi|9999990697\", \"display\": \"Dr. Alvin56 Crona259\"}, \"dosageInstruction\": [{\"sequence\": 1, \"text\": \"Take at regular intervals. Complete the prescribed course unless otherwise directed (qualifier value)\", \"additionalInstruction\": [{\"coding\": [{\"system\": \"http://snomed.info/sct\", \"code\": \"418577003\", \"display\": \"Take at regular intervals. Complete the prescribed course unless otherwise directed (qualifier value)\"}], \"text\": \"Take at regular intervals. Complete the prescribed course unless otherwise directed (qualifier value)\"}], \"timing\": {\"repeat\": {\"frequency\": 3, \"period\": 1.0, \"periodUnit\": \"d\"}}, \"asNeededBoolean\": false, \"doseAndRate\": [{\"type\": {\"coding\": [{\"system\": \"http://terminology.hl7.org/CodeSystem/dose-rate-type\", \"code\": \"ordered\", \"display\": \"Ordered\"}]}, \"doseQuantity\": {\"value\": 1.0}}]}]}\n",
      "Neighbors:\n",
      "Relationship: prescription\n",
      "Resource: {\"resourceType\": \"Claim\", \"id\": \"aaa2b803-6ed4-cf5e-c1c4-1ecca768ac14\", \"status\": \"active\", \"type\": {\"coding\": [{\"system\": \"http://terminology.hl7.org/CodeSystem/claim-type\", \"code\": \"pharmacy\"}]}, \"use\": \"claim\", \"patient\": {\"reference\": \"urn:uuid:5b3645de-a2d0-d016-0839-bab3757c4c58\"}, \"billablePeriod\": {\"start\": \"2016-11-23T13:37:42+00:00\", \"end\": \"2016-11-23T13:52:42+00:00\"}, \"created\": \"2016-11-23T13:52:42+00:00\", \"provider\": {\"reference\": \"Organization?identifier=https://github.com/synthetichealth/synthea|15d4c950-4691-3996-b4c4-bf06bfb58ff7\", \"display\": \"HOLY FAMILY HOSPITAL\"}, \"priority\": {\"coding\": [{\"system\": \"http://terminology.hl7.org/CodeSystem/processpriority\", \"code\": \"normal\"}]}, \"prescription\": {\"reference\": \"urn:uuid:6948c88e-d15c-3f11-a635-be707cb15632\"}, \"insurance\": [{\"sequence\": 1, \"focal\": true, \"coverage\": {\"display\": \"Medicare\"}}], \"item\": [{\"sequence\": 1, \"productOrService\": {\"coding\": [{\"system\": \"http://www.nlm.nih.gov/research/umls/rxnorm\", \"code\": \"308192\", \"display\": \"Amoxicillin 500 MG Oral Tablet\"}], \"text\": \"Amoxicillin 500 MG Oral Tablet\"}, \"encounter\": [{\"reference\": \"urn:uuid:cf60427f-6701-abf2-82fc-945837df2152\"}]}], \"total\": {\"value\": 103.33, \"currency\": \"USD\"}}\n",
      "Relationship: authored_on\n",
      "Resource: 11/23/2016\n",
      "Relationship: encounter\n",
      "Resource: {\"resourceType\": \"Encounter\", \"id\": \"cf60427f-6701-abf2-82fc-945837df2152\", \"meta\": {\"profile\": [\"http://hl7.org/fhir/us/core/StructureDefinition/us-core-encounter\"]}, \"identifier\": [{\"use\": \"official\", \"system\": \"https://github.com/synthetichealth/synthea\", \"value\": \"cf60427f-6701-abf2-82fc-945837df2152\"}], \"status\": \"finished\", \"class\": {\"system\": \"http://terminology.hl7.org/CodeSystem/v3-ActCode\", \"code\": \"AMB\"}, \"type\": [{\"coding\": [{\"system\": \"http://snomed.info/sct\", \"code\": \"185345009\", \"display\": \"Encounter for symptom\"}], \"text\": \"Encounter for symptom\"}], \"subject\": {\"reference\": \"urn:uuid:5b3645de-a2d0-d016-0839-bab3757c4c58\", \"display\": \"Beatris270 Bogan287\"}, \"participant\": [{\"type\": [{\"coding\": [{\"system\": \"http://terminology.hl7.org/CodeSystem/v3-ParticipationType\", \"code\": \"PPRF\", \"display\": \"primary performer\"}], \"text\": \"primary performer\"}], \"period\": {\"start\": \"2016-11-23T13:37:42+00:00\", \"end\": \"2016-11-23T13:52:42+00:00\"}, \"individual\": {\"reference\": \"Practitioner?identifier=http://hl7.org/fhir/sid/us-npi|9999990697\", \"display\": \"Dr. Alvin56 Crona259\"}}], \"period\": {\"start\": \"2016-11-23T13:37:42+00:00\", \"end\": \"2016-11-23T13:52:42+00:00\"}, \"reasonCode\": [{\"coding\": [{\"system\": \"http://snomed.info/sct\", \"code\": \"65363002\", \"display\": \"Otitis media\"}]}], \"location\": [{\"location\": {\"reference\": \"Location?identifier=https://github.com/synthetichealth/synthea|17ab5f4a-eb74-306c-8895-5ce93ec4592b\", \"display\": \"HOLY FAMILY HOSPITAL\"}}], \"serviceProvider\": {\"reference\": \"Organization?identifier=https://github.com/synthetichealth/synthea|15d4c950-4691-3996-b4c4-bf06bfb58ff7\", \"display\": \"HOLY FAMILY HOSPITAL\"}}\n",
      "\n",
      "\n",
      "{\"resourceType\": \"MedicationRequest\", \"id\": \"cf18362b-5057-8a39-039b-dbc9e13ed518\", \"meta\": {\"profile\": [\"http://hl7.org/fhir/us/core/StructureDefinition/us-core-medicationrequest\"]}, \"status\": \"active\", \"intent\": \"order\", \"category\": [{\"coding\": [{\"system\": \"http://terminology.hl7.org/CodeSystem/medicationrequest-category\", \"code\": \"community\", \"display\": \"Community\"}], \"text\": \"Community\"}], \"medicationCodeableConcept\": {\"coding\": [{\"system\": \"http://www.nlm.nih.gov/research/umls/rxnorm\", \"code\": \"1870230\", \"display\": \"NDA020800 0.3 ML Epinephrine 1 MG/ML Auto-Injector\"}], \"text\": \"NDA020800 0.3 ML Epinephrine 1 MG/ML Auto-Injector\"}, \"subject\": {\"reference\": \"urn:uuid:5b3645de-a2d0-d016-0839-bab3757c4c58\"}, \"encounter\": {\"reference\": \"urn:uuid:0bc7f36f-9d73-bdef-bfaa-b097c4b99dbc\"}, \"authoredOn\": \"2017-08-30T12:14:48+00:00\", \"requester\": {\"reference\": \"Practitioner?identifier=http://hl7.org/fhir/sid/us-npi|9999990697\", \"display\": \"Dr. Alvin56 Crona259\"}, \"dosageInstruction\": [{\"sequence\": 1, \"text\": \"Take as needed.\", \"asNeededBoolean\": true}]}\n",
      "Neighbors:\n",
      "Relationship: prescription\n",
      "Resource: {\"resourceType\": \"Claim\", \"id\": \"9c9d98f3-58af-1b16-d45e-47a735d5e77d\", \"status\": \"active\", \"type\": {\"coding\": [{\"system\": \"http://terminology.hl7.org/CodeSystem/claim-type\", \"code\": \"pharmacy\"}]}, \"use\": \"claim\", \"patient\": {\"reference\": \"urn:uuid:5b3645de-a2d0-d016-0839-bab3757c4c58\"}, \"billablePeriod\": {\"start\": \"2017-08-30T11:37:42+00:00\", \"end\": \"2017-08-30T12:14:48+00:00\"}, \"created\": \"2017-08-30T12:14:48+00:00\", \"provider\": {\"reference\": \"Organization?identifier=https://github.com/synthetichealth/synthea|15d4c950-4691-3996-b4c4-bf06bfb58ff7\", \"display\": \"HOLY FAMILY HOSPITAL\"}, \"priority\": {\"coding\": [{\"system\": \"http://terminology.hl7.org/CodeSystem/processpriority\", \"code\": \"normal\"}]}, \"prescription\": {\"reference\": \"urn:uuid:cf18362b-5057-8a39-039b-dbc9e13ed518\"}, \"insurance\": [{\"sequence\": 1, \"focal\": true, \"coverage\": {\"display\": \"Medicare\"}}], \"item\": [{\"sequence\": 1, \"productOrService\": {\"coding\": [{\"system\": \"http://www.nlm.nih.gov/research/umls/rxnorm\", \"code\": \"1870230\", \"display\": \"NDA020800 0.3 ML Epinephrine 1 MG/ML Auto-Injector\"}], \"text\": \"NDA020800 0.3 ML Epinephrine 1 MG/ML Auto-Injector\"}, \"encounter\": [{\"reference\": \"urn:uuid:0bc7f36f-9d73-bdef-bfaa-b097c4b99dbc\"}]}], \"total\": {\"value\": 64.66, \"currency\": \"USD\"}}\n",
      "Relationship: authored_on\n",
      "Resource: 08/30/2017\n",
      "Relationship: encounter\n",
      "Resource: {\"resourceType\": \"Encounter\", \"id\": \"0bc7f36f-9d73-bdef-bfaa-b097c4b99dbc\", \"meta\": {\"profile\": [\"http://hl7.org/fhir/us/core/StructureDefinition/us-core-encounter\"]}, \"identifier\": [{\"use\": \"official\", \"system\": \"https://github.com/synthetichealth/synthea\", \"value\": \"0bc7f36f-9d73-bdef-bfaa-b097c4b99dbc\"}], \"status\": \"finished\", \"class\": {\"system\": \"http://terminology.hl7.org/CodeSystem/v3-ActCode\", \"code\": \"AMB\"}, \"type\": [{\"coding\": [{\"system\": \"http://snomed.info/sct\", \"code\": \"185347001\", \"display\": \"Encounter for problem\"}], \"text\": \"Encounter for problem\"}], \"subject\": {\"reference\": \"urn:uuid:5b3645de-a2d0-d016-0839-bab3757c4c58\", \"display\": \"Beatris270 Bogan287\"}, \"participant\": [{\"type\": [{\"coding\": [{\"system\": \"http://terminology.hl7.org/CodeSystem/v3-ParticipationType\", \"code\": \"PPRF\", \"display\": \"primary performer\"}], \"text\": \"primary performer\"}], \"period\": {\"start\": \"2017-08-30T11:37:42+00:00\", \"end\": \"2017-08-30T12:14:48+00:00\"}, \"individual\": {\"reference\": \"Practitioner?identifier=http://hl7.org/fhir/sid/us-npi|9999990697\", \"display\": \"Dr. Alvin56 Crona259\"}}], \"period\": {\"start\": \"2017-08-30T11:37:42+00:00\", \"end\": \"2017-08-30T12:14:48+00:00\"}, \"reasonCode\": [{\"coding\": [{\"system\": \"http://snomed.info/sct\", \"code\": \"419199007\", \"display\": \"Allergy to substance (finding)\"}]}], \"location\": [{\"location\": {\"reference\": \"Location?identifier=https://github.com/synthetichealth/synthea|17ab5f4a-eb74-306c-8895-5ce93ec4592b\", \"display\": \"HOLY FAMILY HOSPITAL\"}}], \"serviceProvider\": {\"reference\": \"Organization?identifier=https://github.com/synthetichealth/synthea|15d4c950-4691-3996-b4c4-bf06bfb58ff7\", \"display\": \"HOLY FAMILY HOSPITAL\"}}\n",
      "\n",
      "\n",
      "{\"resourceType\": \"MedicationRequest\", \"id\": \"6ac1a7c9-300a-a7cf-f140-524b291660c7\", \"meta\": {\"profile\": [\"http://hl7.org/fhir/us/core/StructureDefinition/us-core-medicationrequest\"]}, \"status\": \"stopped\", \"intent\": \"order\", \"category\": [{\"coding\": [{\"system\": \"http://terminology.hl7.org/CodeSystem/medicationrequest-category\", \"code\": \"community\", \"display\": \"Community\"}], \"text\": \"Community\"}], \"medicationCodeableConcept\": {\"coding\": [{\"system\": \"http://www.nlm.nih.gov/research/umls/rxnorm\", \"code\": \"313820\", \"display\": \"Acetaminophen 160 MG Chewable Tablet\"}], \"text\": \"Acetaminophen 160 MG Chewable Tablet\"}, \"subject\": {\"reference\": \"urn:uuid:5b3645de-a2d0-d016-0839-bab3757c4c58\"}, \"encounter\": {\"reference\": \"urn:uuid:cf60427f-6701-abf2-82fc-945837df2152\"}, \"authoredOn\": \"2016-11-23T13:37:42+00:00\", \"requester\": {\"reference\": \"Practitioner?identifier=http://hl7.org/fhir/sid/us-npi|9999990697\", \"display\": \"Dr. Alvin56 Crona259\"}, \"dosageInstruction\": [{\"sequence\": 1, \"text\": \"Take as needed.\", \"asNeededBoolean\": true}]}\n",
      "Neighbors:\n",
      "Relationship: prescription\n",
      "Resource: {\"resourceType\": \"Claim\", \"id\": \"9cab8190-7c02-ebf0-e3d4-dbb918c4f395\", \"status\": \"active\", \"type\": {\"coding\": [{\"system\": \"http://terminology.hl7.org/CodeSystem/claim-type\", \"code\": \"pharmacy\"}]}, \"use\": \"claim\", \"patient\": {\"reference\": \"urn:uuid:5b3645de-a2d0-d016-0839-bab3757c4c58\"}, \"billablePeriod\": {\"start\": \"2016-11-23T13:37:42+00:00\", \"end\": \"2016-11-23T13:52:42+00:00\"}, \"created\": \"2016-11-23T13:52:42+00:00\", \"provider\": {\"reference\": \"Organization?identifier=https://github.com/synthetichealth/synthea|15d4c950-4691-3996-b4c4-bf06bfb58ff7\", \"display\": \"HOLY FAMILY HOSPITAL\"}, \"priority\": {\"coding\": [{\"system\": \"http://terminology.hl7.org/CodeSystem/processpriority\", \"code\": \"normal\"}]}, \"prescription\": {\"reference\": \"urn:uuid:6ac1a7c9-300a-a7cf-f140-524b291660c7\"}, \"insurance\": [{\"sequence\": 1, \"focal\": true, \"coverage\": {\"display\": \"Medicare\"}}], \"item\": [{\"sequence\": 1, \"productOrService\": {\"coding\": [{\"system\": \"http://www.nlm.nih.gov/research/umls/rxnorm\", \"code\": \"313820\", \"display\": \"Acetaminophen 160 MG Chewable Tablet\"}], \"text\": \"Acetaminophen 160 MG Chewable Tablet\"}, \"encounter\": [{\"reference\": \"urn:uuid:cf60427f-6701-abf2-82fc-945837df2152\"}]}], \"total\": {\"value\": 91.78, \"currency\": \"USD\"}}\n",
      "Relationship: authored_on\n",
      "Resource: 11/23/2016\n",
      "Relationship: encounter\n",
      "Resource: {\"resourceType\": \"Encounter\", \"id\": \"cf60427f-6701-abf2-82fc-945837df2152\", \"meta\": {\"profile\": [\"http://hl7.org/fhir/us/core/StructureDefinition/us-core-encounter\"]}, \"identifier\": [{\"use\": \"official\", \"system\": \"https://github.com/synthetichealth/synthea\", \"value\": \"cf60427f-6701-abf2-82fc-945837df2152\"}], \"status\": \"finished\", \"class\": {\"system\": \"http://terminology.hl7.org/CodeSystem/v3-ActCode\", \"code\": \"AMB\"}, \"type\": [{\"coding\": [{\"system\": \"http://snomed.info/sct\", \"code\": \"185345009\", \"display\": \"Encounter for symptom\"}], \"text\": \"Encounter for symptom\"}], \"subject\": {\"reference\": \"urn:uuid:5b3645de-a2d0-d016-0839-bab3757c4c58\", \"display\": \"Beatris270 Bogan287\"}, \"participant\": [{\"type\": [{\"coding\": [{\"system\": \"http://terminology.hl7.org/CodeSystem/v3-ParticipationType\", \"code\": \"PPRF\", \"display\": \"primary performer\"}], \"text\": \"primary performer\"}], \"period\": {\"start\": \"2016-11-23T13:37:42+00:00\", \"end\": \"2016-11-23T13:52:42+00:00\"}, \"individual\": {\"reference\": \"Practitioner?identifier=http://hl7.org/fhir/sid/us-npi|9999990697\", \"display\": \"Dr. Alvin56 Crona259\"}}], \"period\": {\"start\": \"2016-11-23T13:37:42+00:00\", \"end\": \"2016-11-23T13:52:42+00:00\"}, \"reasonCode\": [{\"coding\": [{\"system\": \"http://snomed.info/sct\", \"code\": \"65363002\", \"display\": \"Otitis media\"}]}], \"location\": [{\"location\": {\"reference\": \"Location?identifier=https://github.com/synthetichealth/synthea|17ab5f4a-eb74-306c-8895-5ce93ec4592b\", \"display\": \"HOLY FAMILY HOSPITAL\"}}], \"serviceProvider\": {\"reference\": \"Organization?identifier=https://github.com/synthetichealth/synthea|15d4c950-4691-3996-b4c4-bf06bfb58ff7\", \"display\": \"HOLY FAMILY HOSPITAL\"}}\n",
      "\n",
      "\n",
      "{\"resourceType\": \"MedicationRequest\", \"id\": \"a4bc21fb-f447-1b96-03a6-32c070cd457a\", \"meta\": {\"profile\": [\"http://hl7.org/fhir/us/core/StructureDefinition/us-core-medicationrequest\"]}, \"status\": \"stopped\", \"intent\": \"order\", \"category\": [{\"coding\": [{\"system\": \"http://terminology.hl7.org/CodeSystem/medicationrequest-category\", \"code\": \"community\", \"display\": \"Community\"}], \"text\": \"Community\"}], \"medicationCodeableConcept\": {\"coding\": [{\"system\": \"http://www.nlm.nih.gov/research/umls/rxnorm\", \"code\": \"834061\", \"display\": \"Penicillin V Potassium 250 MG Oral Tablet\"}], \"text\": \"Penicillin V Potassium 250 MG Oral Tablet\"}, \"subject\": {\"reference\": \"urn:uuid:5b3645de-a2d0-d016-0839-bab3757c4c58\"}, \"encounter\": {\"reference\": \"urn:uuid:4e7837d4-083f-9360-e1e3-3550ea57d9d9\"}, \"authoredOn\": \"2021-02-17T16:37:42+00:00\", \"requester\": {\"reference\": \"Practitioner?identifier=http://hl7.org/fhir/sid/us-npi|9999990697\", \"display\": \"Dr. Alvin56 Crona259\"}, \"reasonReference\": [{\"reference\": \"urn:uuid:d3f9c722-52e2-c6ca-1220-10aecbf3ec80\", \"display\": \"Streptococcal sore throat (disorder)\"}]}\n",
      "Neighbors:\n",
      "Relationship: prescription\n",
      "Resource: {\"resourceType\": \"Claim\", \"id\": \"8744b9c0-22fb-c39e-8d73-7a8dfc37b3d4\", \"status\": \"active\", \"type\": {\"coding\": [{\"system\": \"http://terminology.hl7.org/CodeSystem/claim-type\", \"code\": \"pharmacy\"}]}, \"use\": \"claim\", \"patient\": {\"reference\": \"urn:uuid:5b3645de-a2d0-d016-0839-bab3757c4c58\"}, \"billablePeriod\": {\"start\": \"2021-02-17T16:37:42+00:00\", \"end\": \"2021-02-17T16:52:42+00:00\"}, \"created\": \"2021-02-17T16:52:42+00:00\", \"provider\": {\"reference\": \"Organization?identifier=https://github.com/synthetichealth/synthea|15d4c950-4691-3996-b4c4-bf06bfb58ff7\", \"display\": \"HOLY FAMILY HOSPITAL\"}, \"priority\": {\"coding\": [{\"system\": \"http://terminology.hl7.org/CodeSystem/processpriority\", \"code\": \"normal\"}]}, \"prescription\": {\"reference\": \"urn:uuid:a4bc21fb-f447-1b96-03a6-32c070cd457a\"}, \"insurance\": [{\"sequence\": 1, \"focal\": true, \"coverage\": {\"display\": \"Medicare\"}}], \"item\": [{\"sequence\": 1, \"productOrService\": {\"coding\": [{\"system\": \"http://www.nlm.nih.gov/research/umls/rxnorm\", \"code\": \"834061\", \"display\": \"Penicillin V Potassium 250 MG Oral Tablet\"}], \"text\": \"Penicillin V Potassium 250 MG Oral Tablet\"}, \"encounter\": [{\"reference\": \"urn:uuid:4e7837d4-083f-9360-e1e3-3550ea57d9d9\"}]}], \"total\": {\"value\": 478.69, \"currency\": \"USD\"}}\n",
      "Relationship: reason_reference_0\n",
      "Resource: {\"resourceType\": \"Condition\", \"id\": \"d3f9c722-52e2-c6ca-1220-10aecbf3ec80\", \"meta\": {\"profile\": [\"http://hl7.org/fhir/us/core/StructureDefinition/us-core-condition-encounter-diagnosis\"]}, \"clinicalStatus\": {\"coding\": [{\"system\": \"http://terminology.hl7.org/CodeSystem/condition-clinical\", \"code\": \"resolved\"}]}, \"verificationStatus\": {\"coding\": [{\"system\": \"http://terminology.hl7.org/CodeSystem/condition-ver-status\", \"code\": \"confirmed\"}]}, \"category\": [{\"coding\": [{\"system\": \"http://terminology.hl7.org/CodeSystem/condition-category\", \"code\": \"encounter-diagnosis\", \"display\": \"Encounter Diagnosis\"}]}], \"code\": {\"coding\": [{\"system\": \"http://snomed.info/sct\", \"code\": \"43878008\", \"display\": \"Streptococcal sore throat (disorder)\"}], \"text\": \"Streptococcal sore throat (disorder)\"}, \"subject\": {\"reference\": \"urn:uuid:5b3645de-a2d0-d016-0839-bab3757c4c58\"}, \"encounter\": {\"reference\": \"urn:uuid:4e7837d4-083f-9360-e1e3-3550ea57d9d9\"}, \"onsetDateTime\": \"2021-02-17T16:37:42+00:00\", \"abatementDateTime\": \"2021-02-26T23:37:42+00:00\", \"recordedDate\": \"2021-02-17T16:37:42+00:00\"}\n",
      "Relationship: authored_on\n",
      "Resource: 02/17/2021\n",
      "Relationship: encounter\n",
      "Resource: {\"resourceType\": \"Encounter\", \"id\": \"4e7837d4-083f-9360-e1e3-3550ea57d9d9\", \"meta\": {\"profile\": [\"http://hl7.org/fhir/us/core/StructureDefinition/us-core-encounter\"]}, \"identifier\": [{\"use\": \"official\", \"system\": \"https://github.com/synthetichealth/synthea\", \"value\": \"4e7837d4-083f-9360-e1e3-3550ea57d9d9\"}], \"status\": \"finished\", \"class\": {\"system\": \"http://terminology.hl7.org/CodeSystem/v3-ActCode\", \"code\": \"AMB\"}, \"type\": [{\"coding\": [{\"system\": \"http://snomed.info/sct\", \"code\": \"185345009\", \"display\": \"Encounter for symptom\"}], \"text\": \"Encounter for symptom\"}], \"subject\": {\"reference\": \"urn:uuid:5b3645de-a2d0-d016-0839-bab3757c4c58\", \"display\": \"Beatris270 Bogan287\"}, \"participant\": [{\"type\": [{\"coding\": [{\"system\": \"http://terminology.hl7.org/CodeSystem/v3-ParticipationType\", \"code\": \"PPRF\", \"display\": \"primary performer\"}], \"text\": \"primary performer\"}], \"period\": {\"start\": \"2021-02-17T16:37:42+00:00\", \"end\": \"2021-02-17T16:52:42+00:00\"}, \"individual\": {\"reference\": \"Practitioner?identifier=http://hl7.org/fhir/sid/us-npi|9999990697\", \"display\": \"Dr. Alvin56 Crona259\"}}], \"period\": {\"start\": \"2021-02-17T16:37:42+00:00\", \"end\": \"2021-02-17T16:52:42+00:00\"}, \"reasonCode\": [{\"coding\": [{\"system\": \"http://snomed.info/sct\", \"code\": \"43878008\", \"display\": \"Streptococcal sore throat (disorder)\"}]}], \"location\": [{\"location\": {\"reference\": \"Location?identifier=https://github.com/synthetichealth/synthea|17ab5f4a-eb74-306c-8895-5ce93ec4592b\", \"display\": \"HOLY FAMILY HOSPITAL\"}}], \"serviceProvider\": {\"reference\": \"Organization?identifier=https://github.com/synthetichealth/synthea|15d4c950-4691-3996-b4c4-bf06bfb58ff7\", \"display\": \"HOLY FAMILY HOSPITAL\"}}\n",
      "\n",
      "\n",
      "{\"resourceType\": \"MedicationRequest\", \"id\": \"6124583a-0ce8-bdbb-f259-382143d82b35\", \"meta\": {\"profile\": [\"http://hl7.org/fhir/us/core/StructureDefinition/us-core-medicationrequest\"]}, \"status\": \"stopped\", \"intent\": \"order\", \"category\": [{\"coding\": [{\"system\": \"http://terminology.hl7.org/CodeSystem/medicationrequest-category\", \"code\": \"community\", \"display\": \"Community\"}], \"text\": \"Community\"}], \"medicationCodeableConcept\": {\"coding\": [{\"system\": \"http://www.nlm.nih.gov/research/umls/rxnorm\", \"code\": \"834061\", \"display\": \"Penicillin V Potassium 250 MG Oral Tablet\"}], \"text\": \"Penicillin V Potassium 250 MG Oral Tablet\"}, \"subject\": {\"reference\": \"urn:uuid:5b3645de-a2d0-d016-0839-bab3757c4c58\"}, \"encounter\": {\"reference\": \"urn:uuid:fc6a22f2-848e-d29e-0a8b-df2e931ae617\"}, \"authoredOn\": \"2022-02-26T17:37:42+00:00\", \"requester\": {\"reference\": \"Practitioner?identifier=http://hl7.org/fhir/sid/us-npi|9999990697\", \"display\": \"Dr. Alvin56 Crona259\"}, \"reasonReference\": [{\"reference\": \"urn:uuid:d3f9c722-52e2-c6ca-1220-10aecbf3ec80\", \"display\": \"Streptococcal sore throat (disorder)\"}]}\n",
      "Neighbors:\n",
      "Relationship: prescription\n",
      "Resource: {\"resourceType\": \"Claim\", \"id\": \"d55fbee6-1a4f-07a1-e231-3d510a2261d5\", \"status\": \"active\", \"type\": {\"coding\": [{\"system\": \"http://terminology.hl7.org/CodeSystem/claim-type\", \"code\": \"pharmacy\"}]}, \"use\": \"claim\", \"patient\": {\"reference\": \"urn:uuid:5b3645de-a2d0-d016-0839-bab3757c4c58\"}, \"billablePeriod\": {\"start\": \"2022-02-26T17:37:42+00:00\", \"end\": \"2022-02-26T17:52:42+00:00\"}, \"created\": \"2022-02-26T17:52:42+00:00\", \"provider\": {\"reference\": \"Organization?identifier=https://github.com/synthetichealth/synthea|15d4c950-4691-3996-b4c4-bf06bfb58ff7\", \"display\": \"HOLY FAMILY HOSPITAL\"}, \"priority\": {\"coding\": [{\"system\": \"http://terminology.hl7.org/CodeSystem/processpriority\", \"code\": \"normal\"}]}, \"prescription\": {\"reference\": \"urn:uuid:6124583a-0ce8-bdbb-f259-382143d82b35\"}, \"insurance\": [{\"sequence\": 1, \"focal\": true, \"coverage\": {\"display\": \"Medicare\"}}], \"item\": [{\"sequence\": 1, \"productOrService\": {\"coding\": [{\"system\": \"http://www.nlm.nih.gov/research/umls/rxnorm\", \"code\": \"834061\", \"display\": \"Penicillin V Potassium 250 MG Oral Tablet\"}], \"text\": \"Penicillin V Potassium 250 MG Oral Tablet\"}, \"encounter\": [{\"reference\": \"urn:uuid:fc6a22f2-848e-d29e-0a8b-df2e931ae617\"}]}], \"total\": {\"value\": 324.32, \"currency\": \"USD\"}}\n",
      "Relationship: reason_reference_0\n",
      "Resource: {\"resourceType\": \"Condition\", \"id\": \"d3f9c722-52e2-c6ca-1220-10aecbf3ec80\", \"meta\": {\"profile\": [\"http://hl7.org/fhir/us/core/StructureDefinition/us-core-condition-encounter-diagnosis\"]}, \"clinicalStatus\": {\"coding\": [{\"system\": \"http://terminology.hl7.org/CodeSystem/condition-clinical\", \"code\": \"resolved\"}]}, \"verificationStatus\": {\"coding\": [{\"system\": \"http://terminology.hl7.org/CodeSystem/condition-ver-status\", \"code\": \"confirmed\"}]}, \"category\": [{\"coding\": [{\"system\": \"http://terminology.hl7.org/CodeSystem/condition-category\", \"code\": \"encounter-diagnosis\", \"display\": \"Encounter Diagnosis\"}]}], \"code\": {\"coding\": [{\"system\": \"http://snomed.info/sct\", \"code\": \"43878008\", \"display\": \"Streptococcal sore throat (disorder)\"}], \"text\": \"Streptococcal sore throat (disorder)\"}, \"subject\": {\"reference\": \"urn:uuid:5b3645de-a2d0-d016-0839-bab3757c4c58\"}, \"encounter\": {\"reference\": \"urn:uuid:4e7837d4-083f-9360-e1e3-3550ea57d9d9\"}, \"onsetDateTime\": \"2021-02-17T16:37:42+00:00\", \"abatementDateTime\": \"2021-02-26T23:37:42+00:00\", \"recordedDate\": \"2021-02-17T16:37:42+00:00\"}\n",
      "Relationship: authored_on\n",
      "Resource: 02/26/2022\n",
      "Relationship: encounter\n",
      "Resource: {\"resourceType\": \"Encounter\", \"id\": \"fc6a22f2-848e-d29e-0a8b-df2e931ae617\", \"meta\": {\"profile\": [\"http://hl7.org/fhir/us/core/StructureDefinition/us-core-encounter\"]}, \"identifier\": [{\"use\": \"official\", \"system\": \"https://github.com/synthetichealth/synthea\", \"value\": \"fc6a22f2-848e-d29e-0a8b-df2e931ae617\"}], \"status\": \"finished\", \"class\": {\"system\": \"http://terminology.hl7.org/CodeSystem/v3-ActCode\", \"code\": \"AMB\"}, \"type\": [{\"coding\": [{\"system\": \"http://snomed.info/sct\", \"code\": \"185345009\", \"display\": \"Encounter for symptom\"}], \"text\": \"Encounter for symptom\"}], \"subject\": {\"reference\": \"urn:uuid:5b3645de-a2d0-d016-0839-bab3757c4c58\", \"display\": \"Beatris270 Bogan287\"}, \"participant\": [{\"type\": [{\"coding\": [{\"system\": \"http://terminology.hl7.org/CodeSystem/v3-ParticipationType\", \"code\": \"PPRF\", \"display\": \"primary performer\"}], \"text\": \"primary performer\"}], \"period\": {\"start\": \"2022-02-26T17:37:42+00:00\", \"end\": \"2022-02-26T17:52:42+00:00\"}, \"individual\": {\"reference\": \"Practitioner?identifier=http://hl7.org/fhir/sid/us-npi|9999990697\", \"display\": \"Dr. Alvin56 Crona259\"}}], \"period\": {\"start\": \"2022-02-26T17:37:42+00:00\", \"end\": \"2022-02-26T17:52:42+00:00\"}, \"reasonCode\": [{\"coding\": [{\"system\": \"http://snomed.info/sct\", \"code\": \"43878008\", \"display\": \"Streptococcal sore throat (disorder)\"}]}], \"location\": [{\"location\": {\"reference\": \"Location?identifier=https://github.com/synthetichealth/synthea|17ab5f4a-eb74-306c-8895-5ce93ec4592b\", \"display\": \"HOLY FAMILY HOSPITAL\"}}], \"serviceProvider\": {\"reference\": \"Organization?identifier=https://github.com/synthetichealth/synthea|15d4c950-4691-3996-b4c4-bf06bfb58ff7\", \"display\": \"HOLY FAMILY HOSPITAL\"}}\n",
      "\n",
      "\n",
      "{\"resourceType\": \"AllergyIntolerance\", \"id\": \"faf91c2b-8de6-9a64-aa0c-feceab910bfe\", \"meta\": {\"profile\": [\"http://hl7.org/fhir/us/core/StructureDefinition/us-core-allergyintolerance\"]}, \"clinicalStatus\": {\"coding\": [{\"system\": \"http://terminology.hl7.org/CodeSystem/allergyintolerance-clinical\", \"code\": \"active\"}]}, \"verificationStatus\": {\"coding\": [{\"system\": \"http://terminology.hl7.org/CodeSystem/allergyintolerance-verification\", \"code\": \"confirmed\"}]}, \"type\": \"allergy\", \"category\": [\"medication\"], \"criticality\": \"low\", \"code\": {\"coding\": [{\"system\": \"http://www.nlm.nih.gov/research/umls/rxnorm\", \"code\": \"1191\", \"display\": \"Aspirin\"}], \"text\": \"Aspirin\"}, \"patient\": {\"reference\": \"urn:uuid:5b3645de-a2d0-d016-0839-bab3757c4c58\"}, \"recordedDate\": \"2017-08-30T11:37:42+00:00\", \"reaction\": [{\"manifestation\": [{\"coding\": [{\"system\": \"http://snomed.info/sct\", \"code\": \"21522001\", \"display\": \"Abdominal pain (finding)\"}], \"text\": \"Abdominal pain (finding)\"}], \"severity\": \"moderate\"}, {\"manifestation\": [{\"coding\": [{\"system\": \"http://snomed.info/sct\", \"code\": \"247472004\", \"display\": \"Wheal (finding)\"}], \"text\": \"Wheal (finding)\"}], \"severity\": \"moderate\"}]}\n",
      "Neighbors:\n",
      "Relationship: recorded_date\n",
      "Resource: 08/30/2017\n",
      "\"\"\n",
      "\n",
      "Human: What are my current medications and how should I be taking them?\n",
      "\u001b[0m\n",
      "\n",
      "\u001b[1m> Finished chain.\u001b[0m\n",
      "\n",
      "\u001b[1m> Finished chain.\u001b[0m\n",
      "\n",
      "\u001b[1m> Finished chain.\u001b[0m\n"
     ]
    }
   ],
   "source": [
    "response = call(\"What are my current medications and how should I be taking them?\")"
   ]
  },
  {
   "cell_type": "code",
   "execution_count": 47,
   "id": "9ed9e1f5-ac9b-421e-aeb3-33a4c4c36aec",
   "metadata": {
    "execution": {
     "iopub.execute_input": "2024-10-08T20:43:44.843820Z",
     "iopub.status.busy": "2024-10-08T20:43:44.843097Z",
     "iopub.status.idle": "2024-10-08T20:43:44.847235Z",
     "shell.execute_reply": "2024-10-08T20:43:44.846846Z",
     "shell.execute_reply.started": "2024-10-08T20:43:44.843789Z"
    },
    "scrolled": true
   },
   "outputs": [
    {
     "data": {
      "text/markdown": [
       "You currently have one active medication:\n",
       "\n",
       "* **Fexofenadine hydrochloride 30 MG Oral Tablet:** This is prescribed to be taken as needed.\n",
       "\n",
       "You have had several other medications prescribed in the past, but they are no longer active:\n",
       "\n",
       "* **Amoxicillin 500 MG Oral Tablet:** This was prescribed on November 23, 2016, and the instructions were to take one tablet three times a day, completing the prescribed course unless directed otherwise.  This medication is now stopped.\n",
       "* **Acetaminophen 160 MG Chewable Tablet:** This was prescribed on November 23, 2016, and was to be taken as needed. This medication is now stopped.\n",
       "* **Penicillin V Potassium 250 MG Oral Tablet:** This was prescribed twice, on February 17, 2021, and February 26, 2022, for Streptococcal sore throat.  Both prescriptions are now stopped.  No dosage information is available in this record.\n",
       "* **NDA020800 0.3 ML Epinephrine 1 MG/ML Auto-Injector:** This was prescribed on August 30, 2017, and was to be taken as needed.  This medication is now stopped.\n",
       "\n",
       "\n",
       "You also have a known allergy to **Aspirin**, which can cause moderate abdominal pain and wheals. This allergy was recorded on August 30, 2017, and is currently active.  It's important to inform all healthcare providers of this allergy.\n",
       "\n",
       "All your prescriptions and encounters related to these medications occurred at HOLY FAMILY HOSPITAL, and were prescribed by Dr. Alvin56 Crona259.  The costs associated with each filled prescription (covered by Medicare) are documented in the related Claim resources.  For example, the Fexofenadine cost $455.32.  You should consult with your insurance provider for details on your co-pay amounts.\n"
      ],
      "text/plain": [
       "<IPython.core.display.Markdown object>"
      ]
     },
     "metadata": {},
     "output_type": "display_data"
    }
   ],
   "source": [
    "display(Markdown(response[\"result\"]))"
   ]
  },
  {
   "cell_type": "markdown",
   "id": "79c61b03-8c01-4b9f-a8ea-8e7bdff467cc",
   "metadata": {},
   "source": [
    "## Conditions Summarization"
   ]
  },
  {
   "cell_type": "code",
   "execution_count": null,
   "id": "ec21c638-ea6d-4411-a718-744e293fd845",
   "metadata": {
    "scrolled": true
   },
   "outputs": [],
   "source": [
    "response = call(\"Summarize my conditions in details\", 50)"
   ]
  },
  {
   "cell_type": "code",
   "execution_count": null,
   "id": "bdd225d9-93d4-4708-9c93-8992ee751589",
   "metadata": {
    "scrolled": true
   },
   "outputs": [],
   "source": [
    "display(Markdown(response[\"result\"]))"
   ]
  },
  {
   "cell_type": "markdown",
   "id": "3c3787c7-fc58-4073-ae50-33ef22fdb297",
   "metadata": {},
   "source": [
    "## Conditions Summarization - Active"
   ]
  },
  {
   "cell_type": "code",
   "execution_count": null,
   "id": "19049a10-a422-47d1-976a-c9731dad0aa7",
   "metadata": {
    "scrolled": true
   },
   "outputs": [],
   "source": [
    "response = call(\"Summarize my active conditions\", 50)"
   ]
  },
  {
   "cell_type": "code",
   "execution_count": null,
   "id": "67031243-296d-4210-8f86-ca90f9bcd0f3",
   "metadata": {},
   "outputs": [],
   "source": [
    "display(Markdown(response[\"result\"]))"
   ]
  },
  {
   "cell_type": "markdown",
   "id": "9167d98b-680a-445c-b7aa-c2018acd2bcd",
   "metadata": {},
   "source": [
    "# Ollama with local models"
   ]
  },
  {
   "cell_type": "code",
   "execution_count": null,
   "id": "5d2ac71b-d070-4b10-b3a0-ea2cbb606703",
   "metadata": {},
   "outputs": [],
   "source": [
    "from langchain.llms import Ollama\n",
    "from langchain.chat_models import ChatOllama\n",
    "from IPython.display import display, Markdown"
   ]
  },
  {
   "cell_type": "code",
   "execution_count": null,
   "id": "46fdb25a-0882-4d96-a3a9-12f6b729478d",
   "metadata": {},
   "outputs": [],
   "source": [
    "ollama_model = 'llama3-gradient' # mistral, orca-mini, llama2, llama3-gradient"
   ]
  },
  {
   "cell_type": "code",
   "execution_count": null,
   "id": "80b06648-8989-46c9-b7a2-0dc23fc928ac",
   "metadata": {},
   "outputs": [],
   "source": [
    "vector_qa = RetrievalQA.from_chain_type(\n",
    "    llm=ChatOllama(model=ollama_model), chain_type=\"stuff\", retriever=contextualized_vectorstore.as_retriever(search_kwargs={'k': 100}), # k_nearest is not used here because we don't have a retrieval query yet.\n",
    "    verbose=True, chain_type_kwargs={\"verbose\": True, \"prompt\": prompt}\n",
    ")"
   ]
  },
  {
   "cell_type": "code",
   "execution_count": null,
   "id": "297a1aa6-53c7-4985-9e97-e36007d27778",
   "metadata": {
    "scrolled": true
   },
   "outputs": [],
   "source": [
    "response = vector_qa.run(\"Whatare my current medications and how should I be taking them?\")"
   ]
  },
  {
   "cell_type": "code",
   "execution_count": null,
   "id": "ccef8a64-4b07-4333-ac07-e07248d820a9",
   "metadata": {},
   "outputs": [],
   "source": [
    "from IPython.display import display, Markdown"
   ]
  },
  {
   "cell_type": "code",
   "execution_count": null,
   "id": "b1cf2153-fdd7-43e5-92d9-86d15027b7ab",
   "metadata": {},
   "outputs": [],
   "source": [
    "display(Markdown(response))"
   ]
  },
  {
   "cell_type": "code",
   "execution_count": null,
   "id": "46001048-b234-4dae-af68-09b42d0df236",
   "metadata": {},
   "outputs": [],
   "source": []
  },
  {
   "cell_type": "code",
   "execution_count": null,
   "id": "3828618c-c2b4-43b6-aa31-355fb74fea8d",
   "metadata": {},
   "outputs": [],
   "source": []
  }
 ],
 "metadata": {
  "kernelspec": {
   "display_name": "Python 3 (ipykernel)",
   "language": "python",
   "name": "python3"
  },
  "language_info": {
   "codemirror_mode": {
    "name": "ipython",
    "version": 3
   },
   "file_extension": ".py",
   "mimetype": "text/x-python",
   "name": "python",
   "nbconvert_exporter": "python",
   "pygments_lexer": "ipython3",
   "version": "3.11.6"
  }
 },
 "nbformat": 4,
 "nbformat_minor": 5
}
