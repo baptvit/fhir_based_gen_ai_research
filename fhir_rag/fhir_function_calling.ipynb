{
 "cells": [
  {
   "cell_type": "markdown",
   "id": "d7822e02-1664-4c2f-b526-5c713752e959",
   "metadata": {},
   "source": [
    "# Function Calling on FHIR with Knowledge Graphs"
   ]
  },
  {
   "cell_type": "markdown",
   "id": "d006af8a-10e5-433b-94bd-f96f09671c47",
   "metadata": {},
   "source": [
    "### 2. Neo4J & Jupyter Environment\n",
    "This notebook needs an instance of [Neo4j](https://www.neo4j.com) to talk to. I used docker to run Neo4J locally using the following command:\n",
    "```\n",
    "docker run --name testneo4j -p7474:7474 -p7687:7687 -d \\\n",
    "    -v $HOME/neo4j/data:/data \\\n",
    "    -v $HOME/neo4j/logs:/logs \\\n",
    "    -v $HOME/neo4j/import:/var/lib/neo4j/import \\\n",
    "    -v $HOME/neo4j/plugins:/plugins \\\n",
    "    --env NEO4J_AUTH=neo4j/password \\\n",
    "    neo4j:latest\n",
    "```\n",
    "**Note:** No particular plugins are needed. \n",
    "\n",
    "You can also use a Neo4J Aurora instance. \n",
    "\n",
    "#### Jupyter Environment\n",
    "Regardless of how you run Neo4J. You need to set some environment variables in the notebook's environment:\n",
    "\n",
    "| Variable | Description | Value for above Docker |\n",
    "|----------|-------------|------------------------|\n",
    "| NEO4J_URL | Where to find the instance of Neo4j. | bolt://localhost:7687 |\n",
    "| NEO4J_USER | The username for the database. | neo4j |\n",
    "| NEO4J_PASSWORD | The password for the database. | password |\n",
    "\n",
    "\n",
    "### 3. Synthetic data and working directory\n",
    "The data I used for this notebook came from [Synthea](https://synthea.mitre.org/). Using the \n",
    "\n",
    "All the questions here us the FHIR Bundle: `fhir_data/stanfor_llm_on_fhir`"
   ]
  },
  {
   "cell_type": "code",
   "execution_count": 1,
   "id": "633eae00-fba4-440d-bf89-334f62491f5f",
   "metadata": {
    "execution": {
     "iopub.execute_input": "2024-10-10T19:25:04.950715Z",
     "iopub.status.busy": "2024-10-10T19:25:04.950528Z",
     "iopub.status.idle": "2024-10-10T19:25:04.954796Z",
     "shell.execute_reply": "2024-10-10T19:25:04.954339Z",
     "shell.execute_reply.started": "2024-10-10T19:25:04.950702Z"
    }
   },
   "outputs": [],
   "source": [
    "# Imports needed\n",
    "\n",
    "import glob\n",
    "import json\n",
    "import os\n",
    "import re"
   ]
  },
  {
   "cell_type": "markdown",
   "id": "1d2075d6",
   "metadata": {},
   "source": [
    "## Establish Database Connection\n",
    "\n",
    "The cell connects to the Neo4J instance. It relies on several environment variables. \n",
    "\n",
    "**PLEASE NOTE**: The variable have been changed to support multiple databases in the same instance. \n",
    "\n",
    "| Variable            | Description                          | Sample Value          |\n",
    "|---------------------|--------------------------------------|-----------------------|\n",
    "| FHIR_GRAPH_URL      | Where to find the instance of Neo4j. | bolt://localhost:7687 |\n",
    "| FHIR_GRAPH_USER     | The username for the database.       | neo4j                 |\n",
    "| FHIR_GRAPH_PASSWORD | The password for the database.       | password              |\n",
    "| FHIR_GRAPH_DATABASE | The name of the database instance.   | neo4j                 |"
   ]
  },
  {
   "cell_type": "code",
   "execution_count": 2,
   "id": "4a0e20a9",
   "metadata": {
    "execution": {
     "iopub.execute_input": "2024-10-10T19:25:05.441843Z",
     "iopub.status.busy": "2024-10-10T19:25:05.441642Z",
     "iopub.status.idle": "2024-10-10T19:25:05.444348Z",
     "shell.execute_reply": "2024-10-10T19:25:05.443936Z",
     "shell.execute_reply.started": "2024-10-10T19:25:05.441829Z"
    }
   },
   "outputs": [],
   "source": [
    "NEO4J_URI = os.getenv('FHIR_GRAPH_URL', 'neo4j://localhost:7687')\n",
    "USERNAME = os.getenv('FHIR_GRAPH_USER', 'neo4j')\n",
    "PASSWORD = os.getenv('FHIR_GRAPH_PASSWORD', 'password')\n",
    "DATABASE = os.getenv('FHIR_GRAPH_DATABASE', 'neo4j')"
   ]
  },
  {
   "cell_type": "markdown",
   "id": "3a9412af",
   "metadata": {},
   "source": [
    "## Helper Database Cells\n",
    "\n",
    "The following three cells are here to be used to manage the database. They do not need to be run on a blank database. "
   ]
  },
  {
   "cell_type": "markdown",
   "id": "22538b06",
   "metadata": {},
   "source": [
    "http://localhost:7474/browser/"
   ]
  },
  {
   "cell_type": "markdown",
   "id": "dfa6a024",
   "metadata": {},
   "source": [
    "### Create Function for Lexical Search \n",
    "\n",
    "This cell creates a new class and object for doing a lexical search on neo4j. \n",
    "\n",
    "This is here because running the cell above can take time and only should be done one time when the DB is created. "
   ]
  },
  {
   "cell_type": "code",
   "execution_count": 3,
   "id": "89e481d0-dfe8-4835-a2e6-a07a13b6f491",
   "metadata": {
    "execution": {
     "iopub.execute_input": "2024-10-10T19:25:06.386247Z",
     "iopub.status.busy": "2024-10-10T19:25:06.386067Z",
     "iopub.status.idle": "2024-10-10T19:25:06.595781Z",
     "shell.execute_reply": "2024-10-10T19:25:06.595455Z",
     "shell.execute_reply.started": "2024-10-10T19:25:06.386234Z"
    }
   },
   "outputs": [],
   "source": [
    "from neo4j import GraphDatabase\n",
    "\n",
    "class Neo4jResourceSearcher:\n",
    "\n",
    "    def __init__(self, uri, user, password):\n",
    "        self.driver = GraphDatabase.driver(uri, auth=(user, password))\n",
    "\n",
    "    def close(self):\n",
    "        self.driver.close()\n",
    "\n",
    "    def search_by_resource_type(self, resource_type):\n",
    "        with self.driver.session() as session:\n",
    "            result = session.run(\"\"\"\n",
    "                MATCH (n)\n",
    "                WHERE toLower(n.resource_type) CONTAINS toLower($resource_type)\n",
    "                RETURN n.text AS text\n",
    "            \"\"\", resource_type=resource_type)\n",
    "            return [record[\"text\"] for record in result]\n",
    "    def search_by_resource_type_bfs(self, resource_type):\n",
    "        with self.driver.session() as session:\n",
    "            result = session.run(\"\"\"MATCH (n)\n",
    "                WHERE toLower(n.resource_type) CONTAINS toLower($resource_type)\n",
    "                WITH n\n",
    "                CALL {\n",
    "                  // Perform breadth-first search (BFS) up to level 1 neighbors, excluding specific relationships\n",
    "                  WITH n\n",
    "                  MATCH (n)<-[r]->(neighbor)\n",
    "                  WHERE NOT type(r) IN ['subject', 'patient'] // Exclude relationships of type 'subject' and 'patient'\n",
    "                  RETURN neighbor, r\n",
    "                }\n",
    "                WITH n, collect(neighbor.text) AS neighbors\n",
    "                RETURN n.text + \" \" + reduce(s = \"\", neighbor IN neighbors | s + \"\\n \" + neighbor) AS text\n",
    "                \"\"\", resource_type=resource_type)\n",
    "            return [record[\"text\"] for record in result]\n",
    "\n",
    "    def search_by_resource_type_bfs_format(self, resource_type):\n",
    "        with self.driver.session() as session:\n",
    "            result = session.run(\"\"\"MATCH (n)\n",
    "WHERE toLower(n.resource_type) CONTAINS toLower($resource_type)\n",
    "WITH n\n",
    "CALL {\n",
    "  // Perform breadth-first search (BFS) up to level 1 neighbors, excluding specific relationships\n",
    "  WITH n\n",
    "  MATCH (n)<-[r]->(neighbor)\n",
    "  WHERE NOT type(r) IN ['subject', 'patient'] // Exclude relationships of type 'subject' and 'patient'\n",
    "  RETURN neighbor, r\n",
    "}\n",
    "WITH n, collect({neighbor_text: neighbor.text, relationship: type(r)}) AS neighbors\n",
    "RETURN n.text + \"\\nNeighbors:\\n\" + \n",
    "       reduce(s = \"\", neighbor IN neighbors | s + \"Relationship: \" + neighbor.relationship + \"\\nResource: \" + neighbor.neighbor_text + \"\\n\") AS text\n",
    "            \"\"\", resource_type=resource_type)\n",
    "            return [record[\"text\"] for record in result]\n"
   ]
  },
  {
   "cell_type": "code",
   "execution_count": 4,
   "id": "6c31a243-c938-4f4b-908e-363e2f48e0a8",
   "metadata": {
    "execution": {
     "iopub.execute_input": "2024-10-10T19:25:06.654746Z",
     "iopub.status.busy": "2024-10-10T19:25:06.654422Z",
     "iopub.status.idle": "2024-10-10T19:25:06.792468Z",
     "shell.execute_reply": "2024-10-10T19:25:06.792124Z",
     "shell.execute_reply.started": "2024-10-10T19:25:06.654731Z"
    }
   },
   "outputs": [
    {
     "name": "stderr",
     "output_type": "stream",
     "text": [
      "Received notification from DBMS server: {severity: WARNING} {code: Neo.ClientNotification.Statement.FeatureDeprecationWarning} {category: DEPRECATION} {title: This feature is deprecated and will be removed in future versions.} {description: CALL subquery without a variable scope clause is now deprecated. Use CALL (n) { ... }} {position: line: 4, column: 1, offset: 81} for query: 'MATCH (n)\\nWHERE toLower(n.resource_type) CONTAINS toLower($resource_type)\\nWITH n\\nCALL {\\n  // Perform breadth-first search (BFS) up to level 1 neighbors, excluding specific relationships\\n  WITH n\\n  MATCH (n)<-[r]->(neighbor)\\n  WHERE NOT type(r) IN [\\'subject\\', \\'patient\\'] // Exclude relationships of type \\'subject\\' and \\'patient\\'\\n  RETURN neighbor, r\\n}\\nWITH n, collect({neighbor_text: neighbor.text, relationship: type(r)}) AS neighbors\\nRETURN n.text + \"\\nNeighbors:\\n\" + \\n       reduce(s = \"\", neighbor IN neighbors | s + \"Relationship: \" + neighbor.relationship + \"\\nResource: \" + neighbor.neighbor_text + \"\\n\") AS text\\n            '\n"
     ]
    },
    {
     "name": "stdout",
     "output_type": "stream",
     "text": [
      "6\n"
     ]
    }
   ],
   "source": [
    "def get_resources(resource_type: str) -> str:\n",
    "    \"\"\"Take a FHIR R4 Resource type and searh in the database the resources available.\n",
    "    Every Medication request must be redirect to MedicationRequest\n",
    "    \n",
    "    Args:\n",
    "        resource_type: Valid possible values: i.e. Patient, Practitioner, PractitionerRole, Organization, Encounter, Observation, Condition, Procedure, Medication, MedicationRequest, Immunization, DiagnosticReport, AllergyIntolerance, CarePlan, CareTeam, Appointment, Coverage, Claim, Device, DocumentReference\n",
    "    Output:\n",
    "        string of the resources for a giving resource_type\n",
    "    \"\"\"\n",
    "    searcher = Neo4jResourceSearcher(NEO4J_URI, DATABASE, PASSWORD)\n",
    "\n",
    "    results = searcher.search_by_resource_type_bfs_format(resource_type)\n",
    "    return len(results)\n",
    "\n",
    "print(get_resources(\"MedicationRequest\"))"
   ]
  },
  {
   "cell_type": "code",
   "execution_count": 5,
   "id": "d0cf8fdb-0442-4b2d-aa23-251a29428303",
   "metadata": {
    "execution": {
     "iopub.execute_input": "2024-10-10T19:25:07.175325Z",
     "iopub.status.busy": "2024-10-10T19:25:07.174977Z",
     "iopub.status.idle": "2024-10-10T19:25:07.246043Z",
     "shell.execute_reply": "2024-10-10T19:25:07.245632Z",
     "shell.execute_reply.started": "2024-10-10T19:25:07.175311Z"
    }
   },
   "outputs": [
    {
     "name": "stderr",
     "output_type": "stream",
     "text": [
      "Received notification from DBMS server: {severity: WARNING} {code: Neo.ClientNotification.Statement.FeatureDeprecationWarning} {category: DEPRECATION} {title: This feature is deprecated and will be removed in future versions.} {description: CALL subquery without a variable scope clause is now deprecated. Use CALL (n) { ... }} {position: line: 4, column: 17, offset: 129} for query: 'MATCH (n)\\n                WHERE toLower(n.resource_type) CONTAINS toLower($resource_type)\\n                WITH n\\n                CALL {\\n                  // Perform breadth-first search (BFS) up to level 1 neighbors, excluding specific relationships\\n                  WITH n\\n                  MATCH (n)<-[r]->(neighbor)\\n                  WHERE NOT type(r) IN [\\'subject\\', \\'patient\\'] // Exclude relationships of type \\'subject\\' and \\'patient\\'\\n                  RETURN neighbor, r\\n                }\\n                WITH n, collect(neighbor.text) AS neighbors\\n                RETURN n.text + \" \" + reduce(s = \"\", neighbor IN neighbors | s + \"\\n \" + neighbor) AS text\\n                '\n"
     ]
    },
    {
     "name": "stdout",
     "output_type": "stream",
     "text": [
      "6\n"
     ]
    }
   ],
   "source": [
    "def get_resources(resource_type: str) -> str:\n",
    "    \"\"\"Take a FHIR R4 Resource type and searh in the database the resources available.\n",
    "    Every Medication request must be redirect to MedicationRequest\n",
    "    \n",
    "    Args:\n",
    "        resource_type: Valid possible values: i.e. Patient, Practitioner, PractitionerRole, Organization, Encounter, Observation, Condition, Procedure, Medication, MedicationRequest, Immunization, DiagnosticReport, AllergyIntolerance, CarePlan, CareTeam, Appointment, Coverage, Claim, Device, DocumentReference\n",
    "    Output:\n",
    "        string of the resources for a giving resource_type\n",
    "    \"\"\"\n",
    "    searcher = Neo4jResourceSearcher(NEO4J_URI, DATABASE, PASSWORD)\n",
    "\n",
    "    results = searcher.search_by_resource_type_bfs(resource_type)\n",
    "    return len(results)\n",
    "\n",
    "print(get_resources(\"MedicationRequest\"))"
   ]
  },
  {
   "cell_type": "code",
   "execution_count": 26,
   "id": "13fba088-b074-464d-88fe-9a913d97b204",
   "metadata": {
    "execution": {
     "iopub.execute_input": "2024-10-10T21:21:59.799275Z",
     "iopub.status.busy": "2024-10-10T21:21:59.798897Z",
     "iopub.status.idle": "2024-10-10T21:21:59.806341Z",
     "shell.execute_reply": "2024-10-10T21:21:59.806028Z",
     "shell.execute_reply.started": "2024-10-10T21:21:59.799259Z"
    }
   },
   "outputs": [],
   "source": [
    "from langchain_core.tools import tool\n",
    "\n",
    "@tool\n",
    "def get_resources(resource_type: str) -> str:\n",
    "    \"\"\"Take a FHIR R4 Resource type and searh in the database the resources available.\n",
    "    \n",
    "    Every Medication related request must be redirect to MedicationRequest\n",
    "    Every Doctor related request must be redirect to Practitioner\n",
    "    \n",
    "    Args:\n",
    "        resource_type: Valid possible values: i.e. Patient, Practitioner, PractitionerRole, Organization, Encounter, Observation, Condition, Procedure, Medication, MedicationRequest, Immunization, DiagnosticReport, AllergyIntolerance, CarePlan, CareTeam, Appointment, Coverage, Claim, Device, DocumentReference\n",
    "    Output:\n",
    "        string of the resources for a giving resource_type\n",
    "    \"\"\"\n",
    "    searcher = Neo4jResourceSearcher(NEO4J_URI, DATABASE, PASSWORD)\n",
    "\n",
    "    results = searcher.search_by_resource_type(resource_type)\n",
    "    return \"\\n\".join(results)\n",
    "\n",
    "@tool\n",
    "def get_resources_expanded(resource_type: str) -> str:\n",
    "    \"\"\"Take a FHIR R4 Resource type and searh in the database the resources available.\n",
    "\n",
    "    Every Medication related request must be redirect to MedicationRequest\n",
    "    Every Doctor related request must be redirect to Practitioner\n",
    "    \n",
    "    Args:\n",
    "        resource_type: Valid possible values: i.e. Patient, Practitioner, PractitionerRole, Organization, Encounter, Observation, Condition, Procedure, Medication, MedicationRequest, Immunization, DiagnosticReport, AllergyIntolerance, CarePlan, CareTeam, Appointment, Coverage, Claim, Device, DocumentReference\n",
    "    Output:\n",
    "        string of the resources for a giving resource_type\n",
    "    \"\"\"\n",
    "    searcher = Neo4jResourceSearcher(NEO4J_URI, DATABASE, PASSWORD)\n",
    "\n",
    "    results = searcher.search_by_resource_type_bfs_format(resource_type)\n",
    "    return \"\\n\".join(results)"
   ]
  },
  {
   "cell_type": "code",
   "execution_count": 27,
   "id": "06c0b22a-affe-4028-84b8-ee9249f4cf52",
   "metadata": {
    "execution": {
     "iopub.execute_input": "2024-10-10T21:22:01.533507Z",
     "iopub.status.busy": "2024-10-10T21:22:01.533197Z",
     "iopub.status.idle": "2024-10-10T21:22:01.535729Z",
     "shell.execute_reply": "2024-10-10T21:22:01.535272Z",
     "shell.execute_reply.started": "2024-10-10T21:22:01.533488Z"
    }
   },
   "outputs": [],
   "source": [
    "tools = [get_resources]"
   ]
  },
  {
   "cell_type": "markdown",
   "id": "94f91af7-5777-4f0f-889f-3d869b446e07",
   "metadata": {},
   "source": [
    "### Explorar later\n",
    "\n",
    "from langchain_core.pydantic_v1 import BaseModel, Field\n",
    "\n",
    "\n",
    "# Note that the docstrings here are crucial, as they will be passed along\n",
    "# to the model along with the class name.\n",
    "class add(BaseModel):\n",
    "    \"\"\"Add two integers together.\"\"\"\n",
    "\n",
    "    a: int = Field(..., description=\"First integer\")\n",
    "    b: int = Field(..., description=\"Second integer\")\n",
    "\n",
    "\n",
    "class multiply(BaseModel):\n",
    "    \"\"\"Multiply two integers together.\"\"\"\n",
    "\n",
    "    a: int = Field(..., description=\"First integer\")\n",
    "    b: int = Field(..., description=\"Second integer\")\n",
    "\n",
    "\n",
    "tools = [add, multiply]"
   ]
  },
  {
   "cell_type": "markdown",
   "id": "92402fe2-eaaa-4c5a-9841-e92bd2306d79",
   "metadata": {},
   "source": [
    "## Gemini PRO 1.5"
   ]
  },
  {
   "cell_type": "code",
   "execution_count": 28,
   "id": "f2cbd35c-03d6-4689-aceb-0b2b51c776c4",
   "metadata": {
    "execution": {
     "iopub.execute_input": "2024-10-10T21:22:02.053249Z",
     "iopub.status.busy": "2024-10-10T21:22:02.052966Z",
     "iopub.status.idle": "2024-10-10T21:22:02.055204Z",
     "shell.execute_reply": "2024-10-10T21:22:02.054816Z",
     "shell.execute_reply.started": "2024-10-10T21:22:02.053237Z"
    }
   },
   "outputs": [],
   "source": [
    "from IPython.display import display, Markdown"
   ]
  },
  {
   "cell_type": "markdown",
   "id": "977c8581-085b-4932-991c-7465b09d6214",
   "metadata": {},
   "source": [
    "Bind the function in the LLM"
   ]
  },
  {
   "cell_type": "code",
   "execution_count": 29,
   "id": "4cbd5ad3-fef2-45d3-bf3a-a1c8ceb6f329",
   "metadata": {
    "execution": {
     "iopub.execute_input": "2024-10-10T21:22:02.589483Z",
     "iopub.status.busy": "2024-10-10T21:22:02.589202Z",
     "iopub.status.idle": "2024-10-10T21:22:02.591843Z",
     "shell.execute_reply": "2024-10-10T21:22:02.591471Z",
     "shell.execute_reply.started": "2024-10-10T21:22:02.589470Z"
    }
   },
   "outputs": [],
   "source": [
    "from langchain_google_vertexai import VertexAI\n",
    "from langchain_google_vertexai import ChatVertexAI\n",
    "from langchain_core.messages import HumanMessage, ToolMessage, SystemMessage\n",
    "\n",
    "llm = ChatVertexAI(model=\"gemini-1.5-pro-002\", temperature=0)"
   ]
  },
  {
   "cell_type": "markdown",
   "id": "4adcce07-eac9-45d6-8449-8bfa20669811",
   "metadata": {},
   "source": [
    "#### Non Detail answer"
   ]
  },
  {
   "cell_type": "code",
   "execution_count": 30,
   "id": "ff931717-9ade-4f83-9e57-9196f2c78503",
   "metadata": {
    "execution": {
     "iopub.execute_input": "2024-10-10T21:22:02.997038Z",
     "iopub.status.busy": "2024-10-10T21:22:02.996717Z",
     "iopub.status.idle": "2024-10-10T21:22:02.998851Z",
     "shell.execute_reply": "2024-10-10T21:22:02.998507Z",
     "shell.execute_reply.started": "2024-10-10T21:22:02.997024Z"
    }
   },
   "outputs": [],
   "source": [
    "tools = [get_resources]"
   ]
  },
  {
   "cell_type": "code",
   "execution_count": 31,
   "id": "a266b43c-396f-49c5-8dfe-9c31cc601bd1",
   "metadata": {
    "execution": {
     "iopub.execute_input": "2024-10-10T21:22:03.537627Z",
     "iopub.status.busy": "2024-10-10T21:22:03.537161Z",
     "iopub.status.idle": "2024-10-10T21:22:06.545812Z",
     "shell.execute_reply": "2024-10-10T21:22:06.545340Z",
     "shell.execute_reply.started": "2024-10-10T21:22:03.537607Z"
    }
   },
   "outputs": [],
   "source": [
    "llm_with_tools = llm.bind_tools(tools)"
   ]
  },
  {
   "cell_type": "code",
   "execution_count": 33,
   "id": "87a25b93-0bff-4084-84ef-4dc34d955941",
   "metadata": {
    "execution": {
     "iopub.execute_input": "2024-10-10T21:22:27.722799Z",
     "iopub.status.busy": "2024-10-10T21:22:27.722534Z",
     "iopub.status.idle": "2024-10-10T21:22:27.724885Z",
     "shell.execute_reply": "2024-10-10T21:22:27.724480Z",
     "shell.execute_reply.started": "2024-10-10T21:22:27.722781Z"
    }
   },
   "outputs": [],
   "source": [
    "query = \"What doctors I ever vistir in my life ?\""
   ]
  },
  {
   "cell_type": "code",
   "execution_count": 34,
   "id": "4e47379c-9a1b-4dfe-a395-e5ecf342d2e4",
   "metadata": {
    "execution": {
     "iopub.execute_input": "2024-10-10T21:22:30.109381Z",
     "iopub.status.busy": "2024-10-10T21:22:30.109078Z",
     "iopub.status.idle": "2024-10-10T21:22:32.826369Z",
     "shell.execute_reply": "2024-10-10T21:22:32.826058Z",
     "shell.execute_reply.started": "2024-10-10T21:22:30.109368Z"
    }
   },
   "outputs": [],
   "source": [
    "messages = [\n",
    "    SystemMessage(\"\"\"You are a highly skilled FHIR Specialist tasked with thoroughly analyzing patient queries. Your goal is to provide comprehensive, detailed responses based on the full context provided.\n",
    "\n",
    "When answering, ensure your responses are rich in specific details such as locations, costs, timelines, and any other relevant information that would be valuable to the patient. Consider the broader implications and include any additional insights that may assist the patient in making informed decisions.\n",
    "Before responding, always analyze the entire context to ensure your answer is both accurate and exhaustive. Aim for clarity and depth in your explanations.\"\"\"),\n",
    "    HumanMessage(query)\n",
    "]\n",
    "ai_msg = llm_with_tools.invoke(messages)\n",
    "messages.append(ai_msg)\n",
    "\n",
    "for tool_call in ai_msg.tool_calls:\n",
    "    selected_tool = {\"get_resources\": get_resources}[tool_call[\"name\"].lower()]\n",
    "    tool_output = selected_tool(tool_call[\"args\"][\"resource_type\"])\n",
    "    messages.append(ToolMessage(tool_output, tool_call_id=tool_call[\"id\"]))"
   ]
  },
  {
   "cell_type": "code",
   "execution_count": 35,
   "id": "caeed7ad-df66-49d1-9b3a-dcfb0d9049b0",
   "metadata": {
    "execution": {
     "iopub.execute_input": "2024-10-10T21:22:32.827238Z",
     "iopub.status.busy": "2024-10-10T21:22:32.827103Z",
     "iopub.status.idle": "2024-10-10T21:22:32.830385Z",
     "shell.execute_reply": "2024-10-10T21:22:32.830056Z",
     "shell.execute_reply.started": "2024-10-10T21:22:32.827226Z"
    }
   },
   "outputs": [
    {
     "data": {
      "text/plain": [
       "[SystemMessage(content='You are a highly skilled FHIR Specialist tasked with thoroughly analyzing patient queries. Your goal is to provide comprehensive, detailed responses based on the full context provided.\\n\\nWhen answering, ensure your responses are rich in specific details such as locations, costs, timelines, and any other relevant information that would be valuable to the patient. Consider the broader implications and include any additional insights that may assist the patient in making informed decisions.\\nBefore responding, always analyze the entire context to ensure your answer is both accurate and exhaustive. Aim for clarity and depth in your explanations.', additional_kwargs={}, response_metadata={}),\n",
       " HumanMessage(content='What doctors I ever vistir in my life ?', additional_kwargs={}, response_metadata={}),\n",
       " AIMessage(content='', additional_kwargs={'function_call': {'name': 'get_resources', 'arguments': '{\"resource_type\": \"Encounter\"}'}}, response_metadata={'is_blocked': False, 'safety_ratings': [], 'usage_metadata': {'prompt_token_count': 253, 'candidates_token_count': 7, 'total_token_count': 260, 'cached_content_token_count': 0}, 'finish_reason': 'STOP'}, id='run-bc2cce62-88bc-4e42-9477-516e8769b092-0', tool_calls=[{'name': 'get_resources', 'args': {'resource_type': 'Encounter'}, 'id': '9d741472-6ac8-4c6e-b4eb-7c29acf24e46', 'type': 'tool_call'}], usage_metadata={'input_tokens': 253, 'output_tokens': 7, 'total_tokens': 260}),\n",
       " ToolMessage(content='{\"resourceType\": \"Encounter\", \"id\": \"b3b4d7c6-46f5-9f10-cfd2-464ff96160f9\", \"meta\": {\"profile\": [\"http://hl7.org/fhir/us/core/StructureDefinition/us-core-encounter\"]}, \"identifier\": [{\"use\": \"official\", \"system\": \"https://github.com/synthetichealth/synthea\", \"value\": \"b3b4d7c6-46f5-9f10-cfd2-464ff96160f9\"}], \"status\": \"finished\", \"class\": {\"system\": \"http://terminology.hl7.org/CodeSystem/v3-ActCode\", \"code\": \"AMB\"}, \"type\": [{\"coding\": [{\"system\": \"http://snomed.info/sct\", \"code\": \"410620009\", \"display\": \"Well child visit (procedure)\"}], \"text\": \"Well child visit (procedure)\"}], \"subject\": {\"reference\": \"urn:uuid:5b3645de-a2d0-d016-0839-bab3757c4c58\", \"display\": \"Beatris270 Bogan287\"}, \"participant\": [{\"type\": [{\"coding\": [{\"system\": \"http://terminology.hl7.org/CodeSystem/v3-ParticipationType\", \"code\": \"PPRF\", \"display\": \"primary performer\"}], \"text\": \"primary performer\"}], \"period\": {\"start\": \"2015-05-03T13:37:42+00:00\", \"end\": \"2015-05-03T13:52:42+00:00\"}, \"individual\": {\"reference\": \"Practitioner?identifier=http://hl7.org/fhir/sid/us-npi|9999950899\", \"display\": \"Dr. Elisa944 Rojo930\"}}], \"period\": {\"start\": \"2015-05-03T13:37:42+00:00\", \"end\": \"2015-05-03T13:52:42+00:00\"}, \"location\": [{\"location\": {\"reference\": \"Location?identifier=https://github.com/synthetichealth/synthea|97876511-009c-391a-a262-1557e46861bb\", \"display\": \"BLUESKIES WELLNESS INC\"}}], \"serviceProvider\": {\"reference\": \"Organization?identifier=https://github.com/synthetichealth/synthea|6ea4d3d6-d820-387a-a3d1-ed5944ad47a2\", \"display\": \"BLUESKIES WELLNESS INC\"}}\\n{\"resourceType\": \"Encounter\", \"id\": \"d7a2721e-1568-274b-64bb-58c2ec026b65\", \"meta\": {\"profile\": [\"http://hl7.org/fhir/us/core/StructureDefinition/us-core-encounter\"]}, \"identifier\": [{\"use\": \"official\", \"system\": \"https://github.com/synthetichealth/synthea\", \"value\": \"d7a2721e-1568-274b-64bb-58c2ec026b65\"}], \"status\": \"finished\", \"class\": {\"system\": \"http://terminology.hl7.org/CodeSystem/v3-ActCode\", \"code\": \"AMB\"}, \"type\": [{\"coding\": [{\"system\": \"http://snomed.info/sct\", \"code\": \"410620009\", \"display\": \"Well child visit (procedure)\"}], \"text\": \"Well child visit (procedure)\"}], \"subject\": {\"reference\": \"urn:uuid:5b3645de-a2d0-d016-0839-bab3757c4c58\", \"display\": \"Beatris270 Bogan287\"}, \"participant\": [{\"type\": [{\"coding\": [{\"system\": \"http://terminology.hl7.org/CodeSystem/v3-ParticipationType\", \"code\": \"PPRF\", \"display\": \"primary performer\"}], \"text\": \"primary performer\"}], \"period\": {\"start\": \"2015-06-07T13:37:42+00:00\", \"end\": \"2015-06-07T13:52:42+00:00\"}, \"individual\": {\"reference\": \"Practitioner?identifier=http://hl7.org/fhir/sid/us-npi|9999950899\", \"display\": \"Dr. Elisa944 Rojo930\"}}], \"period\": {\"start\": \"2015-06-07T13:37:42+00:00\", \"end\": \"2015-06-07T13:52:42+00:00\"}, \"location\": [{\"location\": {\"reference\": \"Location?identifier=https://github.com/synthetichealth/synthea|97876511-009c-391a-a262-1557e46861bb\", \"display\": \"BLUESKIES WELLNESS INC\"}}], \"serviceProvider\": {\"reference\": \"Organization?identifier=https://github.com/synthetichealth/synthea|6ea4d3d6-d820-387a-a3d1-ed5944ad47a2\", \"display\": \"BLUESKIES WELLNESS INC\"}}\\n{\"resourceType\": \"Encounter\", \"id\": \"fd013f8c-0ce2-644e-1d71-bf6761396ba8\", \"meta\": {\"profile\": [\"http://hl7.org/fhir/us/core/StructureDefinition/us-core-encounter\"]}, \"identifier\": [{\"use\": \"official\", \"system\": \"https://github.com/synthetichealth/synthea\", \"value\": \"fd013f8c-0ce2-644e-1d71-bf6761396ba8\"}], \"status\": \"finished\", \"class\": {\"system\": \"http://terminology.hl7.org/CodeSystem/v3-ActCode\", \"code\": \"AMB\"}, \"type\": [{\"coding\": [{\"system\": \"http://snomed.info/sct\", \"code\": \"410620009\", \"display\": \"Well child visit (procedure)\"}], \"text\": \"Well child visit (procedure)\"}], \"subject\": {\"reference\": \"urn:uuid:5b3645de-a2d0-d016-0839-bab3757c4c58\", \"display\": \"Beatris270 Bogan287\"}, \"participant\": [{\"type\": [{\"coding\": [{\"system\": \"http://terminology.hl7.org/CodeSystem/v3-ParticipationType\", \"code\": \"PPRF\", \"display\": \"primary performer\"}], \"text\": \"primary performer\"}], \"period\": {\"start\": \"2015-08-09T13:37:42+00:00\", \"end\": \"2015-08-09T13:52:42+00:00\"}, \"individual\": {\"reference\": \"Practitioner?identifier=http://hl7.org/fhir/sid/us-npi|9999950899\", \"display\": \"Dr. Elisa944 Rojo930\"}}], \"period\": {\"start\": \"2015-08-09T13:37:42+00:00\", \"end\": \"2015-08-09T13:52:42+00:00\"}, \"location\": [{\"location\": {\"reference\": \"Location?identifier=https://github.com/synthetichealth/synthea|97876511-009c-391a-a262-1557e46861bb\", \"display\": \"BLUESKIES WELLNESS INC\"}}], \"serviceProvider\": {\"reference\": \"Organization?identifier=https://github.com/synthetichealth/synthea|6ea4d3d6-d820-387a-a3d1-ed5944ad47a2\", \"display\": \"BLUESKIES WELLNESS INC\"}}\\n{\"resourceType\": \"Encounter\", \"id\": \"da622f16-5f38-de7a-6801-e0bf78546be5\", \"meta\": {\"profile\": [\"http://hl7.org/fhir/us/core/StructureDefinition/us-core-encounter\"]}, \"identifier\": [{\"use\": \"official\", \"system\": \"https://github.com/synthetichealth/synthea\", \"value\": \"da622f16-5f38-de7a-6801-e0bf78546be5\"}], \"status\": \"finished\", \"class\": {\"system\": \"http://terminology.hl7.org/CodeSystem/v3-ActCode\", \"code\": \"AMB\"}, \"type\": [{\"coding\": [{\"system\": \"http://snomed.info/sct\", \"code\": \"185347001\", \"display\": \"Encounter for problem\"}], \"text\": \"Encounter for problem\"}], \"subject\": {\"reference\": \"urn:uuid:5b3645de-a2d0-d016-0839-bab3757c4c58\", \"display\": \"Beatris270 Bogan287\"}, \"participant\": [{\"type\": [{\"coding\": [{\"system\": \"http://terminology.hl7.org/CodeSystem/v3-ParticipationType\", \"code\": \"PPRF\", \"display\": \"primary performer\"}], \"text\": \"primary performer\"}], \"period\": {\"start\": \"2015-09-13T13:37:42+00:00\", \"end\": \"2015-09-13T13:52:42+00:00\"}, \"individual\": {\"reference\": \"Practitioner?identifier=http://hl7.org/fhir/sid/us-npi|9999990697\", \"display\": \"Dr. Alvin56 Crona259\"}}], \"period\": {\"start\": \"2015-09-13T13:37:42+00:00\", \"end\": \"2015-09-13T13:52:42+00:00\"}, \"reasonCode\": [{\"coding\": [{\"system\": \"http://snomed.info/sct\", \"code\": \"24079001\", \"display\": \"Atopic dermatitis\"}]}], \"location\": [{\"location\": {\"reference\": \"Location?identifier=https://github.com/synthetichealth/synthea|17ab5f4a-eb74-306c-8895-5ce93ec4592b\", \"display\": \"HOLY FAMILY HOSPITAL\"}}], \"serviceProvider\": {\"reference\": \"Organization?identifier=https://github.com/synthetichealth/synthea|15d4c950-4691-3996-b4c4-bf06bfb58ff7\", \"display\": \"HOLY FAMILY HOSPITAL\"}}\\n{\"resourceType\": \"Encounter\", \"id\": \"f097ede0-25c5-f205-ef23-2bf45d663e57\", \"meta\": {\"profile\": [\"http://hl7.org/fhir/us/core/StructureDefinition/us-core-encounter\"]}, \"identifier\": [{\"use\": \"official\", \"system\": \"https://github.com/synthetichealth/synthea\", \"value\": \"f097ede0-25c5-f205-ef23-2bf45d663e57\"}], \"status\": \"finished\", \"class\": {\"system\": \"http://terminology.hl7.org/CodeSystem/v3-ActCode\", \"code\": \"AMB\"}, \"type\": [{\"coding\": [{\"system\": \"http://snomed.info/sct\", \"code\": \"410620009\", \"display\": \"Well child visit (procedure)\"}], \"text\": \"Well child visit (procedure)\"}], \"subject\": {\"reference\": \"urn:uuid:5b3645de-a2d0-d016-0839-bab3757c4c58\", \"display\": \"Beatris270 Bogan287\"}, \"participant\": [{\"type\": [{\"coding\": [{\"system\": \"http://terminology.hl7.org/CodeSystem/v3-ParticipationType\", \"code\": \"PPRF\", \"display\": \"primary performer\"}], \"text\": \"primary performer\"}], \"period\": {\"start\": \"2015-10-11T13:37:42+00:00\", \"end\": \"2015-10-11T13:52:42+00:00\"}, \"individual\": {\"reference\": \"Practitioner?identifier=http://hl7.org/fhir/sid/us-npi|9999950899\", \"display\": \"Dr. Elisa944 Rojo930\"}}], \"period\": {\"start\": \"2015-10-11T13:37:42+00:00\", \"end\": \"2015-10-11T13:52:42+00:00\"}, \"location\": [{\"location\": {\"reference\": \"Location?identifier=https://github.com/synthetichealth/synthea|97876511-009c-391a-a262-1557e46861bb\", \"display\": \"BLUESKIES WELLNESS INC\"}}], \"serviceProvider\": {\"reference\": \"Organization?identifier=https://github.com/synthetichealth/synthea|6ea4d3d6-d820-387a-a3d1-ed5944ad47a2\", \"display\": \"BLUESKIES WELLNESS INC\"}}\\n{\"resourceType\": \"Encounter\", \"id\": \"24330ffb-5f1a-fb13-3eab-10afcbc0e323\", \"meta\": {\"profile\": [\"http://hl7.org/fhir/us/core/StructureDefinition/us-core-encounter\"]}, \"identifier\": [{\"use\": \"official\", \"system\": \"https://github.com/synthetichealth/synthea\", \"value\": \"24330ffb-5f1a-fb13-3eab-10afcbc0e323\"}], \"status\": \"finished\", \"class\": {\"system\": \"http://terminology.hl7.org/CodeSystem/v3-ActCode\", \"code\": \"AMB\"}, \"type\": [{\"coding\": [{\"system\": \"http://snomed.info/sct\", \"code\": \"410620009\", \"display\": \"Well child visit (procedure)\"}], \"text\": \"Well child visit (procedure)\"}], \"subject\": {\"reference\": \"urn:uuid:5b3645de-a2d0-d016-0839-bab3757c4c58\", \"display\": \"Beatris270 Bogan287\"}, \"participant\": [{\"type\": [{\"coding\": [{\"system\": \"http://terminology.hl7.org/CodeSystem/v3-ParticipationType\", \"code\": \"PPRF\", \"display\": \"primary performer\"}], \"text\": \"primary performer\"}], \"period\": {\"start\": \"2016-01-10T13:37:42+00:00\", \"end\": \"2016-01-10T13:52:42+00:00\"}, \"individual\": {\"reference\": \"Practitioner?identifier=http://hl7.org/fhir/sid/us-npi|9999950899\", \"display\": \"Dr. Elisa944 Rojo930\"}}], \"period\": {\"start\": \"2016-01-10T13:37:42+00:00\", \"end\": \"2016-01-10T13:52:42+00:00\"}, \"location\": [{\"location\": {\"reference\": \"Location?identifier=https://github.com/synthetichealth/synthea|97876511-009c-391a-a262-1557e46861bb\", \"display\": \"BLUESKIES WELLNESS INC\"}}], \"serviceProvider\": {\"reference\": \"Organization?identifier=https://github.com/synthetichealth/synthea|6ea4d3d6-d820-387a-a3d1-ed5944ad47a2\", \"display\": \"BLUESKIES WELLNESS INC\"}}\\n{\"resourceType\": \"Encounter\", \"id\": \"35c0f7d7-4502-8834-8202-a8f771c3e525\", \"meta\": {\"profile\": [\"http://hl7.org/fhir/us/core/StructureDefinition/us-core-encounter\"]}, \"identifier\": [{\"use\": \"official\", \"system\": \"https://github.com/synthetichealth/synthea\", \"value\": \"35c0f7d7-4502-8834-8202-a8f771c3e525\"}], \"status\": \"finished\", \"class\": {\"system\": \"http://terminology.hl7.org/CodeSystem/v3-ActCode\", \"code\": \"AMB\"}, \"type\": [{\"coding\": [{\"system\": \"http://snomed.info/sct\", \"code\": \"410620009\", \"display\": \"Well child visit (procedure)\"}], \"text\": \"Well child visit (procedure)\"}], \"subject\": {\"reference\": \"urn:uuid:5b3645de-a2d0-d016-0839-bab3757c4c58\", \"display\": \"Beatris270 Bogan287\"}, \"participant\": [{\"type\": [{\"coding\": [{\"system\": \"http://terminology.hl7.org/CodeSystem/v3-ParticipationType\", \"code\": \"PPRF\", \"display\": \"primary performer\"}], \"text\": \"primary performer\"}], \"period\": {\"start\": \"2016-04-10T13:37:42+00:00\", \"end\": \"2016-04-10T13:52:42+00:00\"}, \"individual\": {\"reference\": \"Practitioner?identifier=http://hl7.org/fhir/sid/us-npi|9999950899\", \"display\": \"Dr. Elisa944 Rojo930\"}}], \"period\": {\"start\": \"2016-04-10T13:37:42+00:00\", \"end\": \"2016-04-10T13:52:42+00:00\"}, \"location\": [{\"location\": {\"reference\": \"Location?identifier=https://github.com/synthetichealth/synthea|97876511-009c-391a-a262-1557e46861bb\", \"display\": \"BLUESKIES WELLNESS INC\"}}], \"serviceProvider\": {\"reference\": \"Organization?identifier=https://github.com/synthetichealth/synthea|6ea4d3d6-d820-387a-a3d1-ed5944ad47a2\", \"display\": \"BLUESKIES WELLNESS INC\"}}\\n{\"resourceType\": \"Encounter\", \"id\": \"49624b47-10ff-735c-da38-3cdaed7aead2\", \"meta\": {\"profile\": [\"http://hl7.org/fhir/us/core/StructureDefinition/us-core-encounter\"]}, \"identifier\": [{\"use\": \"official\", \"system\": \"https://github.com/synthetichealth/synthea\", \"value\": \"49624b47-10ff-735c-da38-3cdaed7aead2\"}], \"status\": \"finished\", \"class\": {\"system\": \"http://terminology.hl7.org/CodeSystem/v3-ActCode\", \"code\": \"AMB\"}, \"type\": [{\"coding\": [{\"system\": \"http://snomed.info/sct\", \"code\": \"410620009\", \"display\": \"Well child visit (procedure)\"}], \"text\": \"Well child visit (procedure)\"}], \"subject\": {\"reference\": \"urn:uuid:5b3645de-a2d0-d016-0839-bab3757c4c58\", \"display\": \"Beatris270 Bogan287\"}, \"participant\": [{\"type\": [{\"coding\": [{\"system\": \"http://terminology.hl7.org/CodeSystem/v3-ParticipationType\", \"code\": \"PPRF\", \"display\": \"primary performer\"}], \"text\": \"primary performer\"}], \"period\": {\"start\": \"2016-07-10T13:37:42+00:00\", \"end\": \"2016-07-10T13:52:42+00:00\"}, \"individual\": {\"reference\": \"Practitioner?identifier=http://hl7.org/fhir/sid/us-npi|9999950899\", \"display\": \"Dr. Elisa944 Rojo930\"}}], \"period\": {\"start\": \"2016-07-10T13:37:42+00:00\", \"end\": \"2016-07-10T13:52:42+00:00\"}, \"location\": [{\"location\": {\"reference\": \"Location?identifier=https://github.com/synthetichealth/synthea|97876511-009c-391a-a262-1557e46861bb\", \"display\": \"BLUESKIES WELLNESS INC\"}}], \"serviceProvider\": {\"reference\": \"Organization?identifier=https://github.com/synthetichealth/synthea|6ea4d3d6-d820-387a-a3d1-ed5944ad47a2\", \"display\": \"BLUESKIES WELLNESS INC\"}}\\n{\"resourceType\": \"Encounter\", \"id\": \"a9e6308f-927d-a7fa-c801-680fc1e3e6ff\", \"meta\": {\"profile\": [\"http://hl7.org/fhir/us/core/StructureDefinition/us-core-encounter\"]}, \"identifier\": [{\"use\": \"official\", \"system\": \"https://github.com/synthetichealth/synthea\", \"value\": \"a9e6308f-927d-a7fa-c801-680fc1e3e6ff\"}], \"status\": \"finished\", \"class\": {\"system\": \"http://terminology.hl7.org/CodeSystem/v3-ActCode\", \"code\": \"AMB\"}, \"type\": [{\"coding\": [{\"system\": \"http://snomed.info/sct\", \"code\": \"185345009\", \"display\": \"Encounter for symptom\"}], \"text\": \"Encounter for symptom\"}], \"subject\": {\"reference\": \"urn:uuid:5b3645de-a2d0-d016-0839-bab3757c4c58\", \"display\": \"Beatris270 Bogan287\"}, \"participant\": [{\"type\": [{\"coding\": [{\"system\": \"http://terminology.hl7.org/CodeSystem/v3-ParticipationType\", \"code\": \"PPRF\", \"display\": \"primary performer\"}], \"text\": \"primary performer\"}], \"period\": {\"start\": \"2016-09-26T19:37:42+00:00\", \"end\": \"2016-09-26T19:52:42+00:00\"}, \"individual\": {\"reference\": \"Practitioner?identifier=http://hl7.org/fhir/sid/us-npi|9999990697\", \"display\": \"Dr. Alvin56 Crona259\"}}], \"period\": {\"start\": \"2016-09-26T19:37:42+00:00\", \"end\": \"2016-09-26T19:52:42+00:00\"}, \"reasonCode\": [{\"coding\": [{\"system\": \"http://snomed.info/sct\", \"code\": \"195662009\", \"display\": \"Acute viral pharyngitis (disorder)\"}]}], \"location\": [{\"location\": {\"reference\": \"Location?identifier=https://github.com/synthetichealth/synthea|17ab5f4a-eb74-306c-8895-5ce93ec4592b\", \"display\": \"HOLY FAMILY HOSPITAL\"}}], \"serviceProvider\": {\"reference\": \"Organization?identifier=https://github.com/synthetichealth/synthea|15d4c950-4691-3996-b4c4-bf06bfb58ff7\", \"display\": \"HOLY FAMILY HOSPITAL\"}}\\n{\"resourceType\": \"Encounter\", \"id\": \"f48e195a-c086-b88c-ba69-eb7bd59c2111\", \"meta\": {\"profile\": [\"http://hl7.org/fhir/us/core/StructureDefinition/us-core-encounter\"]}, \"identifier\": [{\"use\": \"official\", \"system\": \"https://github.com/synthetichealth/synthea\", \"value\": \"f48e195a-c086-b88c-ba69-eb7bd59c2111\"}], \"status\": \"finished\", \"class\": {\"system\": \"http://terminology.hl7.org/CodeSystem/v3-ActCode\", \"code\": \"AMB\"}, \"type\": [{\"coding\": [{\"system\": \"http://snomed.info/sct\", \"code\": \"410620009\", \"display\": \"Well child visit (procedure)\"}], \"text\": \"Well child visit (procedure)\"}], \"subject\": {\"reference\": \"urn:uuid:5b3645de-a2d0-d016-0839-bab3757c4c58\", \"display\": \"Beatris270 Bogan287\"}, \"participant\": [{\"type\": [{\"coding\": [{\"system\": \"http://terminology.hl7.org/CodeSystem/v3-ParticipationType\", \"code\": \"PPRF\", \"display\": \"primary performer\"}], \"text\": \"primary performer\"}], \"period\": {\"start\": \"2016-10-09T13:37:42+00:00\", \"end\": \"2016-10-09T13:52:42+00:00\"}, \"individual\": {\"reference\": \"Practitioner?identifier=http://hl7.org/fhir/sid/us-npi|9999950899\", \"display\": \"Dr. Elisa944 Rojo930\"}}], \"period\": {\"start\": \"2016-10-09T13:37:42+00:00\", \"end\": \"2016-10-09T13:52:42+00:00\"}, \"location\": [{\"location\": {\"reference\": \"Location?identifier=https://github.com/synthetichealth/synthea|97876511-009c-391a-a262-1557e46861bb\", \"display\": \"BLUESKIES WELLNESS INC\"}}], \"serviceProvider\": {\"reference\": \"Organization?identifier=https://github.com/synthetichealth/synthea|6ea4d3d6-d820-387a-a3d1-ed5944ad47a2\", \"display\": \"BLUESKIES WELLNESS INC\"}}\\n{\"resourceType\": \"Encounter\", \"id\": \"cf60427f-6701-abf2-82fc-945837df2152\", \"meta\": {\"profile\": [\"http://hl7.org/fhir/us/core/StructureDefinition/us-core-encounter\"]}, \"identifier\": [{\"use\": \"official\", \"system\": \"https://github.com/synthetichealth/synthea\", \"value\": \"cf60427f-6701-abf2-82fc-945837df2152\"}], \"status\": \"finished\", \"class\": {\"system\": \"http://terminology.hl7.org/CodeSystem/v3-ActCode\", \"code\": \"AMB\"}, \"type\": [{\"coding\": [{\"system\": \"http://snomed.info/sct\", \"code\": \"185345009\", \"display\": \"Encounter for symptom\"}], \"text\": \"Encounter for symptom\"}], \"subject\": {\"reference\": \"urn:uuid:5b3645de-a2d0-d016-0839-bab3757c4c58\", \"display\": \"Beatris270 Bogan287\"}, \"participant\": [{\"type\": [{\"coding\": [{\"system\": \"http://terminology.hl7.org/CodeSystem/v3-ParticipationType\", \"code\": \"PPRF\", \"display\": \"primary performer\"}], \"text\": \"primary performer\"}], \"period\": {\"start\": \"2016-11-23T13:37:42+00:00\", \"end\": \"2016-11-23T13:52:42+00:00\"}, \"individual\": {\"reference\": \"Practitioner?identifier=http://hl7.org/fhir/sid/us-npi|9999990697\", \"display\": \"Dr. Alvin56 Crona259\"}}], \"period\": {\"start\": \"2016-11-23T13:37:42+00:00\", \"end\": \"2016-11-23T13:52:42+00:00\"}, \"reasonCode\": [{\"coding\": [{\"system\": \"http://snomed.info/sct\", \"code\": \"65363002\", \"display\": \"Otitis media\"}]}], \"location\": [{\"location\": {\"reference\": \"Location?identifier=https://github.com/synthetichealth/synthea|17ab5f4a-eb74-306c-8895-5ce93ec4592b\", \"display\": \"HOLY FAMILY HOSPITAL\"}}], \"serviceProvider\": {\"reference\": \"Organization?identifier=https://github.com/synthetichealth/synthea|15d4c950-4691-3996-b4c4-bf06bfb58ff7\", \"display\": \"HOLY FAMILY HOSPITAL\"}}\\n{\"resourceType\": \"Encounter\", \"id\": \"a3f103db-327a-1bf0-22fe-f682ca0fa557\", \"meta\": {\"profile\": [\"http://hl7.org/fhir/us/core/StructureDefinition/us-core-encounter\"]}, \"identifier\": [{\"use\": \"official\", \"system\": \"https://github.com/synthetichealth/synthea\", \"value\": \"a3f103db-327a-1bf0-22fe-f682ca0fa557\"}], \"status\": \"finished\", \"class\": {\"system\": \"http://terminology.hl7.org/CodeSystem/v3-ActCode\", \"code\": \"AMB\"}, \"type\": [{\"coding\": [{\"system\": \"http://snomed.info/sct\", \"code\": \"410620009\", \"display\": \"Well child visit (procedure)\"}], \"text\": \"Well child visit (procedure)\"}], \"subject\": {\"reference\": \"urn:uuid:5b3645de-a2d0-d016-0839-bab3757c4c58\", \"display\": \"Beatris270 Bogan287\"}, \"participant\": [{\"type\": [{\"coding\": [{\"system\": \"http://terminology.hl7.org/CodeSystem/v3-ParticipationType\", \"code\": \"PPRF\", \"display\": \"primary performer\"}], \"text\": \"primary performer\"}], \"period\": {\"start\": \"2017-04-09T13:37:42+00:00\", \"end\": \"2017-04-09T13:52:42+00:00\"}, \"individual\": {\"reference\": \"Practitioner?identifier=http://hl7.org/fhir/sid/us-npi|9999950899\", \"display\": \"Dr. Elisa944 Rojo930\"}}], \"period\": {\"start\": \"2017-04-09T13:37:42+00:00\", \"end\": \"2017-04-09T13:52:42+00:00\"}, \"location\": [{\"location\": {\"reference\": \"Location?identifier=https://github.com/synthetichealth/synthea|97876511-009c-391a-a262-1557e46861bb\", \"display\": \"BLUESKIES WELLNESS INC\"}}], \"serviceProvider\": {\"reference\": \"Organization?identifier=https://github.com/synthetichealth/synthea|6ea4d3d6-d820-387a-a3d1-ed5944ad47a2\", \"display\": \"BLUESKIES WELLNESS INC\"}}\\n{\"resourceType\": \"Encounter\", \"id\": \"9fc6351d-7e69-20c6-c597-856f8e70483d\", \"meta\": {\"profile\": [\"http://hl7.org/fhir/us/core/StructureDefinition/us-core-encounter\"]}, \"identifier\": [{\"use\": \"official\", \"system\": \"https://github.com/synthetichealth/synthea\", \"value\": \"9fc6351d-7e69-20c6-c597-856f8e70483d\"}], \"status\": \"finished\", \"class\": {\"system\": \"http://terminology.hl7.org/CodeSystem/v3-ActCode\", \"code\": \"AMB\"}, \"type\": [{\"coding\": [{\"system\": \"http://snomed.info/sct\", \"code\": \"185345009\", \"display\": \"Encounter for symptom\"}], \"text\": \"Encounter for symptom\"}], \"subject\": {\"reference\": \"urn:uuid:5b3645de-a2d0-d016-0839-bab3757c4c58\", \"display\": \"Beatris270 Bogan287\"}, \"participant\": [{\"type\": [{\"coding\": [{\"system\": \"http://terminology.hl7.org/CodeSystem/v3-ParticipationType\", \"code\": \"PPRF\", \"display\": \"primary performer\"}], \"text\": \"primary performer\"}], \"period\": {\"start\": \"2017-08-22T13:37:42+00:00\", \"end\": \"2017-08-22T13:52:42+00:00\"}, \"individual\": {\"reference\": \"Practitioner?identifier=http://hl7.org/fhir/sid/us-npi|9999990697\", \"display\": \"Dr. Alvin56 Crona259\"}}], \"period\": {\"start\": \"2017-08-22T13:37:42+00:00\", \"end\": \"2017-08-22T13:52:42+00:00\"}, \"reasonCode\": [{\"coding\": [{\"system\": \"http://snomed.info/sct\", \"code\": \"446096008\", \"display\": \"Perennial allergic rhinitis\"}]}], \"location\": [{\"location\": {\"reference\": \"Location?identifier=https://github.com/synthetichealth/synthea|17ab5f4a-eb74-306c-8895-5ce93ec4592b\", \"display\": \"HOLY FAMILY HOSPITAL\"}}], \"serviceProvider\": {\"reference\": \"Organization?identifier=https://github.com/synthetichealth/synthea|15d4c950-4691-3996-b4c4-bf06bfb58ff7\", \"display\": \"HOLY FAMILY HOSPITAL\"}}\\n{\"resourceType\": \"Encounter\", \"id\": \"0bc7f36f-9d73-bdef-bfaa-b097c4b99dbc\", \"meta\": {\"profile\": [\"http://hl7.org/fhir/us/core/StructureDefinition/us-core-encounter\"]}, \"identifier\": [{\"use\": \"official\", \"system\": \"https://github.com/synthetichealth/synthea\", \"value\": \"0bc7f36f-9d73-bdef-bfaa-b097c4b99dbc\"}], \"status\": \"finished\", \"class\": {\"system\": \"http://terminology.hl7.org/CodeSystem/v3-ActCode\", \"code\": \"AMB\"}, \"type\": [{\"coding\": [{\"system\": \"http://snomed.info/sct\", \"code\": \"185347001\", \"display\": \"Encounter for problem\"}], \"text\": \"Encounter for problem\"}], \"subject\": {\"reference\": \"urn:uuid:5b3645de-a2d0-d016-0839-bab3757c4c58\", \"display\": \"Beatris270 Bogan287\"}, \"participant\": [{\"type\": [{\"coding\": [{\"system\": \"http://terminology.hl7.org/CodeSystem/v3-ParticipationType\", \"code\": \"PPRF\", \"display\": \"primary performer\"}], \"text\": \"primary performer\"}], \"period\": {\"start\": \"2017-08-30T11:37:42+00:00\", \"end\": \"2017-08-30T12:14:48+00:00\"}, \"individual\": {\"reference\": \"Practitioner?identifier=http://hl7.org/fhir/sid/us-npi|9999990697\", \"display\": \"Dr. Alvin56 Crona259\"}}], \"period\": {\"start\": \"2017-08-30T11:37:42+00:00\", \"end\": \"2017-08-30T12:14:48+00:00\"}, \"reasonCode\": [{\"coding\": [{\"system\": \"http://snomed.info/sct\", \"code\": \"419199007\", \"display\": \"Allergy to substance (finding)\"}]}], \"location\": [{\"location\": {\"reference\": \"Location?identifier=https://github.com/synthetichealth/synthea|17ab5f4a-eb74-306c-8895-5ce93ec4592b\", \"display\": \"HOLY FAMILY HOSPITAL\"}}], \"serviceProvider\": {\"reference\": \"Organization?identifier=https://github.com/synthetichealth/synthea|15d4c950-4691-3996-b4c4-bf06bfb58ff7\", \"display\": \"HOLY FAMILY HOSPITAL\"}}\\n{\"resourceType\": \"Encounter\", \"id\": \"02f6f29a-7982-e2aa-03fa-56009934aa3f\", \"meta\": {\"profile\": [\"http://hl7.org/fhir/us/core/StructureDefinition/us-core-encounter\"]}, \"identifier\": [{\"use\": \"official\", \"system\": \"https://github.com/synthetichealth/synthea\", \"value\": \"02f6f29a-7982-e2aa-03fa-56009934aa3f\"}], \"status\": \"finished\", \"class\": {\"system\": \"http://terminology.hl7.org/CodeSystem/v3-ActCode\", \"code\": \"AMB\"}, \"type\": [{\"coding\": [{\"system\": \"http://snomed.info/sct\", \"code\": \"410620009\", \"display\": \"Well child visit (procedure)\"}], \"text\": \"Well child visit (procedure)\"}], \"subject\": {\"reference\": \"urn:uuid:5b3645de-a2d0-d016-0839-bab3757c4c58\", \"display\": \"Beatris270 Bogan287\"}, \"participant\": [{\"type\": [{\"coding\": [{\"system\": \"http://terminology.hl7.org/CodeSystem/v3-ParticipationType\", \"code\": \"PPRF\", \"display\": \"primary performer\"}], \"text\": \"primary performer\"}], \"period\": {\"start\": \"2017-10-08T13:37:42+00:00\", \"end\": \"2017-10-08T13:52:42+00:00\"}, \"individual\": {\"reference\": \"Practitioner?identifier=http://hl7.org/fhir/sid/us-npi|9999950899\", \"display\": \"Dr. Elisa944 Rojo930\"}}], \"period\": {\"start\": \"2017-10-08T13:37:42+00:00\", \"end\": \"2017-10-08T13:52:42+00:00\"}, \"location\": [{\"location\": {\"reference\": \"Location?identifier=https://github.com/synthetichealth/synthea|97876511-009c-391a-a262-1557e46861bb\", \"display\": \"BLUESKIES WELLNESS INC\"}}], \"serviceProvider\": {\"reference\": \"Organization?identifier=https://github.com/synthetichealth/synthea|6ea4d3d6-d820-387a-a3d1-ed5944ad47a2\", \"display\": \"BLUESKIES WELLNESS INC\"}}\\n{\"resourceType\": \"Encounter\", \"id\": \"c5d3503d-5282-9ac1-86c1-b4736c07dc53\", \"meta\": {\"profile\": [\"http://hl7.org/fhir/us/core/StructureDefinition/us-core-encounter\"]}, \"identifier\": [{\"use\": \"official\", \"system\": \"https://github.com/synthetichealth/synthea\", \"value\": \"c5d3503d-5282-9ac1-86c1-b4736c07dc53\"}], \"status\": \"finished\", \"class\": {\"system\": \"http://terminology.hl7.org/CodeSystem/v3-ActCode\", \"code\": \"AMB\"}, \"type\": [{\"coding\": [{\"system\": \"http://snomed.info/sct\", \"code\": \"410620009\", \"display\": \"Well child visit (procedure)\"}], \"text\": \"Well child visit (procedure)\"}], \"subject\": {\"reference\": \"urn:uuid:5b3645de-a2d0-d016-0839-bab3757c4c58\", \"display\": \"Beatris270 Bogan287\"}, \"participant\": [{\"type\": [{\"coding\": [{\"system\": \"http://terminology.hl7.org/CodeSystem/v3-ParticipationType\", \"code\": \"PPRF\", \"display\": \"primary performer\"}], \"text\": \"primary performer\"}], \"period\": {\"start\": \"2018-04-08T13:37:42+00:00\", \"end\": \"2018-04-08T13:52:42+00:00\"}, \"individual\": {\"reference\": \"Practitioner?identifier=http://hl7.org/fhir/sid/us-npi|9999950899\", \"display\": \"Dr. Elisa944 Rojo930\"}}], \"period\": {\"start\": \"2018-04-08T13:37:42+00:00\", \"end\": \"2018-04-08T13:52:42+00:00\"}, \"location\": [{\"location\": {\"reference\": \"Location?identifier=https://github.com/synthetichealth/synthea|97876511-009c-391a-a262-1557e46861bb\", \"display\": \"BLUESKIES WELLNESS INC\"}}], \"serviceProvider\": {\"reference\": \"Organization?identifier=https://github.com/synthetichealth/synthea|6ea4d3d6-d820-387a-a3d1-ed5944ad47a2\", \"display\": \"BLUESKIES WELLNESS INC\"}}\\n{\"resourceType\": \"Encounter\", \"id\": \"5617366c-729c-f78d-0550-40a2ff8811c5\", \"meta\": {\"profile\": [\"http://hl7.org/fhir/us/core/StructureDefinition/us-core-encounter\"]}, \"identifier\": [{\"use\": \"official\", \"system\": \"https://github.com/synthetichealth/synthea\", \"value\": \"5617366c-729c-f78d-0550-40a2ff8811c5\"}], \"status\": \"finished\", \"class\": {\"system\": \"http://terminology.hl7.org/CodeSystem/v3-ActCode\", \"code\": \"AMB\"}, \"type\": [{\"coding\": [{\"system\": \"http://snomed.info/sct\", \"code\": \"410620009\", \"display\": \"Well child visit (procedure)\"}], \"text\": \"Well child visit (procedure)\"}], \"subject\": {\"reference\": \"urn:uuid:5b3645de-a2d0-d016-0839-bab3757c4c58\", \"display\": \"Beatris270 Bogan287\"}, \"participant\": [{\"type\": [{\"coding\": [{\"system\": \"http://terminology.hl7.org/CodeSystem/v3-ParticipationType\", \"code\": \"PPRF\", \"display\": \"primary performer\"}], \"text\": \"primary performer\"}], \"period\": {\"start\": \"2018-10-07T13:37:42+00:00\", \"end\": \"2018-10-07T13:52:42+00:00\"}, \"individual\": {\"reference\": \"Practitioner?identifier=http://hl7.org/fhir/sid/us-npi|9999950899\", \"display\": \"Dr. Elisa944 Rojo930\"}}], \"period\": {\"start\": \"2018-10-07T13:37:42+00:00\", \"end\": \"2018-10-07T13:52:42+00:00\"}, \"location\": [{\"location\": {\"reference\": \"Location?identifier=https://github.com/synthetichealth/synthea|97876511-009c-391a-a262-1557e46861bb\", \"display\": \"BLUESKIES WELLNESS INC\"}}], \"serviceProvider\": {\"reference\": \"Organization?identifier=https://github.com/synthetichealth/synthea|6ea4d3d6-d820-387a-a3d1-ed5944ad47a2\", \"display\": \"BLUESKIES WELLNESS INC\"}}\\n{\"resourceType\": \"Encounter\", \"id\": \"1b83e19a-32e9-f442-870f-c90c7da0d021\", \"meta\": {\"profile\": [\"http://hl7.org/fhir/us/core/StructureDefinition/us-core-encounter\"]}, \"identifier\": [{\"use\": \"official\", \"system\": \"https://github.com/synthetichealth/synthea\", \"value\": \"1b83e19a-32e9-f442-870f-c90c7da0d021\"}], \"status\": \"finished\", \"class\": {\"system\": \"http://terminology.hl7.org/CodeSystem/v3-ActCode\", \"code\": \"AMB\"}, \"type\": [{\"coding\": [{\"system\": \"http://snomed.info/sct\", \"code\": \"410620009\", \"display\": \"Well child visit (procedure)\"}], \"text\": \"Well child visit (procedure)\"}], \"subject\": {\"reference\": \"urn:uuid:5b3645de-a2d0-d016-0839-bab3757c4c58\", \"display\": \"Beatris270 Bogan287\"}, \"participant\": [{\"type\": [{\"coding\": [{\"system\": \"http://terminology.hl7.org/CodeSystem/v3-ParticipationType\", \"code\": \"PPRF\", \"display\": \"primary performer\"}], \"text\": \"primary performer\"}], \"period\": {\"start\": \"2019-04-07T13:37:42+00:00\", \"end\": \"2019-04-07T13:52:42+00:00\"}, \"individual\": {\"reference\": \"Practitioner?identifier=http://hl7.org/fhir/sid/us-npi|9999950899\", \"display\": \"Dr. Elisa944 Rojo930\"}}], \"period\": {\"start\": \"2019-04-07T13:37:42+00:00\", \"end\": \"2019-04-07T13:52:42+00:00\"}, \"location\": [{\"location\": {\"reference\": \"Location?identifier=https://github.com/synthetichealth/synthea|97876511-009c-391a-a262-1557e46861bb\", \"display\": \"BLUESKIES WELLNESS INC\"}}], \"serviceProvider\": {\"reference\": \"Organization?identifier=https://github.com/synthetichealth/synthea|6ea4d3d6-d820-387a-a3d1-ed5944ad47a2\", \"display\": \"BLUESKIES WELLNESS INC\"}}\\n{\"resourceType\": \"Encounter\", \"id\": \"5e225a66-ead5-6de3-bba6-bb6be422159d\", \"meta\": {\"profile\": [\"http://hl7.org/fhir/us/core/StructureDefinition/us-core-encounter\"]}, \"identifier\": [{\"use\": \"official\", \"system\": \"https://github.com/synthetichealth/synthea\", \"value\": \"5e225a66-ead5-6de3-bba6-bb6be422159d\"}], \"status\": \"finished\", \"class\": {\"system\": \"http://terminology.hl7.org/CodeSystem/v3-ActCode\", \"code\": \"AMB\"}, \"type\": [{\"coding\": [{\"system\": \"http://snomed.info/sct\", \"code\": \"185347001\", \"display\": \"Encounter for problem (procedure)\"}], \"text\": \"Encounter for problem (procedure)\"}], \"subject\": {\"reference\": \"urn:uuid:5b3645de-a2d0-d016-0839-bab3757c4c58\", \"display\": \"Beatris270 Bogan287\"}, \"participant\": [{\"type\": [{\"coding\": [{\"system\": \"http://terminology.hl7.org/CodeSystem/v3-ParticipationType\", \"code\": \"PPRF\", \"display\": \"primary performer\"}], \"text\": \"primary performer\"}], \"period\": {\"start\": \"2019-05-02T13:37:42+00:00\", \"end\": \"2019-05-02T14:20:53+00:00\"}, \"individual\": {\"reference\": \"Practitioner?identifier=http://hl7.org/fhir/sid/us-npi|9999984591\", \"display\": \"Dr. Ted955 Reilly981\"}}], \"period\": {\"start\": \"2019-05-02T13:37:42+00:00\", \"end\": \"2019-05-02T14:20:53+00:00\"}, \"reasonCode\": [{\"coding\": [{\"system\": \"http://snomed.info/sct\", \"code\": \"60573004\", \"display\": \"Aortic valve stenosis (disorder)\"}]}], \"location\": [{\"location\": {\"reference\": \"Location?identifier=https://github.com/synthetichealth/synthea|81c75a54-2b95-3fdf-9327-b74df8630869\", \"display\": \"Fitchburg Outpatient Clinic\"}}], \"serviceProvider\": {\"reference\": \"Organization?identifier=https://github.com/synthetichealth/synthea|74ab949d-17ac-3309-83a0-13b4405c66aa\", \"display\": \"Fitchburg Outpatient Clinic\"}}\\n{\"resourceType\": \"Encounter\", \"id\": \"0c040c84-6b1e-d620-485e-ca3c1b22dca2\", \"meta\": {\"profile\": [\"http://hl7.org/fhir/us/core/StructureDefinition/us-core-encounter\"]}, \"identifier\": [{\"use\": \"official\", \"system\": \"https://github.com/synthetichealth/synthea\", \"value\": \"0c040c84-6b1e-d620-485e-ca3c1b22dca2\"}], \"status\": \"finished\", \"class\": {\"system\": \"http://terminology.hl7.org/CodeSystem/v3-ActCode\", \"code\": \"AMB\"}, \"type\": [{\"coding\": [{\"system\": \"http://snomed.info/sct\", \"code\": \"185347001\", \"display\": \"Encounter for problem (procedure)\"}], \"text\": \"Encounter for problem (procedure)\"}], \"subject\": {\"reference\": \"urn:uuid:5b3645de-a2d0-d016-0839-bab3757c4c58\", \"display\": \"Beatris270 Bogan287\"}, \"participant\": [{\"type\": [{\"coding\": [{\"system\": \"http://terminology.hl7.org/CodeSystem/v3-ParticipationType\", \"code\": \"PPRF\", \"display\": \"primary performer\"}], \"text\": \"primary performer\"}], \"period\": {\"start\": \"2020-02-01T13:50:53+00:00\", \"end\": \"2020-02-01T14:48:16+00:00\"}, \"individual\": {\"reference\": \"Practitioner?identifier=http://hl7.org/fhir/sid/us-npi|9999984591\", \"display\": \"Dr. Ted955 Reilly981\"}}], \"period\": {\"start\": \"2020-02-01T13:50:53+00:00\", \"end\": \"2020-02-01T14:48:16+00:00\"}, \"reasonCode\": [{\"coding\": [{\"system\": \"http://snomed.info/sct\", \"code\": \"60573004\", \"display\": \"Aortic valve stenosis (disorder)\"}]}], \"location\": [{\"location\": {\"reference\": \"Location?identifier=https://github.com/synthetichealth/synthea|81c75a54-2b95-3fdf-9327-b74df8630869\", \"display\": \"Fitchburg Outpatient Clinic\"}}], \"serviceProvider\": {\"reference\": \"Organization?identifier=https://github.com/synthetichealth/synthea|74ab949d-17ac-3309-83a0-13b4405c66aa\", \"display\": \"Fitchburg Outpatient Clinic\"}}\\n{\"resourceType\": \"Encounter\", \"id\": \"dd1424c4-7af6-4133-d9a9-770212adabb1\", \"meta\": {\"profile\": [\"http://hl7.org/fhir/us/core/StructureDefinition/us-core-encounter\"]}, \"identifier\": [{\"use\": \"official\", \"system\": \"https://github.com/synthetichealth/synthea\", \"value\": \"dd1424c4-7af6-4133-d9a9-770212adabb1\"}], \"status\": \"finished\", \"class\": {\"system\": \"http://terminology.hl7.org/CodeSystem/v3-ActCode\", \"code\": \"AMB\"}, \"type\": [{\"coding\": [{\"system\": \"http://snomed.info/sct\", \"code\": \"410620009\", \"display\": \"Well child visit (procedure)\"}], \"text\": \"Well child visit (procedure)\"}], \"subject\": {\"reference\": \"urn:uuid:5b3645de-a2d0-d016-0839-bab3757c4c58\", \"display\": \"Beatris270 Bogan287\"}, \"participant\": [{\"type\": [{\"coding\": [{\"system\": \"http://terminology.hl7.org/CodeSystem/v3-ParticipationType\", \"code\": \"PPRF\", \"display\": \"primary performer\"}], \"text\": \"primary performer\"}], \"period\": {\"start\": \"2020-04-12T13:37:42+00:00\", \"end\": \"2020-04-12T13:52:42+00:00\"}, \"individual\": {\"reference\": \"Practitioner?identifier=http://hl7.org/fhir/sid/us-npi|9999950899\", \"display\": \"Dr. Elisa944 Rojo930\"}}], \"period\": {\"start\": \"2020-04-12T13:37:42+00:00\", \"end\": \"2020-04-12T13:52:42+00:00\"}, \"location\": [{\"location\": {\"reference\": \"Location?identifier=https://github.com/synthetichealth/synthea|97876511-009c-391a-a262-1557e46861bb\", \"display\": \"BLUESKIES WELLNESS INC\"}}], \"serviceProvider\": {\"reference\": \"Organization?identifier=https://github.com/synthetichealth/synthea|6ea4d3d6-d820-387a-a3d1-ed5944ad47a2\", \"display\": \"BLUESKIES WELLNESS INC\"}}\\n{\"resourceType\": \"Encounter\", \"id\": \"4e7837d4-083f-9360-e1e3-3550ea57d9d9\", \"meta\": {\"profile\": [\"http://hl7.org/fhir/us/core/StructureDefinition/us-core-encounter\"]}, \"identifier\": [{\"use\": \"official\", \"system\": \"https://github.com/synthetichealth/synthea\", \"value\": \"4e7837d4-083f-9360-e1e3-3550ea57d9d9\"}], \"status\": \"finished\", \"class\": {\"system\": \"http://terminology.hl7.org/CodeSystem/v3-ActCode\", \"code\": \"AMB\"}, \"type\": [{\"coding\": [{\"system\": \"http://snomed.info/sct\", \"code\": \"185345009\", \"display\": \"Encounter for symptom\"}], \"text\": \"Encounter for symptom\"}], \"subject\": {\"reference\": \"urn:uuid:5b3645de-a2d0-d016-0839-bab3757c4c58\", \"display\": \"Beatris270 Bogan287\"}, \"participant\": [{\"type\": [{\"coding\": [{\"system\": \"http://terminology.hl7.org/CodeSystem/v3-ParticipationType\", \"code\": \"PPRF\", \"display\": \"primary performer\"}], \"text\": \"primary performer\"}], \"period\": {\"start\": \"2021-02-17T16:37:42+00:00\", \"end\": \"2021-02-17T16:52:42+00:00\"}, \"individual\": {\"reference\": \"Practitioner?identifier=http://hl7.org/fhir/sid/us-npi|9999990697\", \"display\": \"Dr. Alvin56 Crona259\"}}], \"period\": {\"start\": \"2021-02-17T16:37:42+00:00\", \"end\": \"2021-02-17T16:52:42+00:00\"}, \"reasonCode\": [{\"coding\": [{\"system\": \"http://snomed.info/sct\", \"code\": \"43878008\", \"display\": \"Streptococcal sore throat (disorder)\"}]}], \"location\": [{\"location\": {\"reference\": \"Location?identifier=https://github.com/synthetichealth/synthea|17ab5f4a-eb74-306c-8895-5ce93ec4592b\", \"display\": \"HOLY FAMILY HOSPITAL\"}}], \"serviceProvider\": {\"reference\": \"Organization?identifier=https://github.com/synthetichealth/synthea|15d4c950-4691-3996-b4c4-bf06bfb58ff7\", \"display\": \"HOLY FAMILY HOSPITAL\"}}\\n{\"resourceType\": \"Encounter\", \"id\": \"eeabc5ce-1fe7-bbdf-aabc-c497093437ae\", \"meta\": {\"profile\": [\"http://hl7.org/fhir/us/core/StructureDefinition/us-core-encounter\"]}, \"identifier\": [{\"use\": \"official\", \"system\": \"https://github.com/synthetichealth/synthea\", \"value\": \"eeabc5ce-1fe7-bbdf-aabc-c497093437ae\"}], \"status\": \"finished\", \"class\": {\"system\": \"http://terminology.hl7.org/CodeSystem/v3-ActCode\", \"code\": \"AMB\"}, \"type\": [{\"coding\": [{\"system\": \"http://snomed.info/sct\", \"code\": \"185349003\", \"display\": \"Encounter for check up (procedure)\"}], \"text\": \"Encounter for check up (procedure)\"}], \"subject\": {\"reference\": \"urn:uuid:5b3645de-a2d0-d016-0839-bab3757c4c58\", \"display\": \"Beatris270 Bogan287\"}, \"participant\": [{\"type\": [{\"coding\": [{\"system\": \"http://terminology.hl7.org/CodeSystem/v3-ParticipationType\", \"code\": \"PPRF\", \"display\": \"primary performer\"}], \"text\": \"primary performer\"}], \"period\": {\"start\": \"2021-02-28T13:37:42+00:00\", \"end\": \"2021-02-28T13:52:42+00:00\"}, \"individual\": {\"reference\": \"Practitioner?identifier=http://hl7.org/fhir/sid/us-npi|9999990697\", \"display\": \"Dr. Alvin56 Crona259\"}}], \"period\": {\"start\": \"2021-02-28T13:37:42+00:00\", \"end\": \"2021-02-28T13:52:42+00:00\"}, \"location\": [{\"location\": {\"reference\": \"Location?identifier=https://github.com/synthetichealth/synthea|17ab5f4a-eb74-306c-8895-5ce93ec4592b\", \"display\": \"HOLY FAMILY HOSPITAL\"}}], \"serviceProvider\": {\"reference\": \"Organization?identifier=https://github.com/synthetichealth/synthea|15d4c950-4691-3996-b4c4-bf06bfb58ff7\", \"display\": \"HOLY FAMILY HOSPITAL\"}}\\n{\"resourceType\": \"Encounter\", \"id\": \"ba20c6d4-c307-8794-bb45-c96088dfbb88\", \"meta\": {\"profile\": [\"http://hl7.org/fhir/us/core/StructureDefinition/us-core-encounter\"]}, \"identifier\": [{\"use\": \"official\", \"system\": \"https://github.com/synthetichealth/synthea\", \"value\": \"ba20c6d4-c307-8794-bb45-c96088dfbb88\"}], \"status\": \"finished\", \"class\": {\"system\": \"http://terminology.hl7.org/CodeSystem/v3-ActCode\", \"code\": \"AMB\"}, \"type\": [{\"coding\": [{\"system\": \"http://snomed.info/sct\", \"code\": \"410620009\", \"display\": \"Well child visit (procedure)\"}], \"text\": \"Well child visit (procedure)\"}], \"subject\": {\"reference\": \"urn:uuid:5b3645de-a2d0-d016-0839-bab3757c4c58\", \"display\": \"Beatris270 Bogan287\"}, \"participant\": [{\"type\": [{\"coding\": [{\"system\": \"http://terminology.hl7.org/CodeSystem/v3-ParticipationType\", \"code\": \"PPRF\", \"display\": \"primary performer\"}], \"text\": \"primary performer\"}], \"period\": {\"start\": \"2021-04-18T13:37:42+00:00\", \"end\": \"2021-04-18T13:52:42+00:00\"}, \"individual\": {\"reference\": \"Practitioner?identifier=http://hl7.org/fhir/sid/us-npi|9999950899\", \"display\": \"Dr. Elisa944 Rojo930\"}}], \"period\": {\"start\": \"2021-04-18T13:37:42+00:00\", \"end\": \"2021-04-18T13:52:42+00:00\"}, \"location\": [{\"location\": {\"reference\": \"Location?identifier=https://github.com/synthetichealth/synthea|97876511-009c-391a-a262-1557e46861bb\", \"display\": \"BLUESKIES WELLNESS INC\"}}], \"serviceProvider\": {\"reference\": \"Organization?identifier=https://github.com/synthetichealth/synthea|6ea4d3d6-d820-387a-a3d1-ed5944ad47a2\", \"display\": \"BLUESKIES WELLNESS INC\"}}\\n{\"resourceType\": \"Encounter\", \"id\": \"23966025-efe0-1a7d-77e4-f6c55fc32a67\", \"meta\": {\"profile\": [\"http://hl7.org/fhir/us/core/StructureDefinition/us-core-encounter\"]}, \"identifier\": [{\"use\": \"official\", \"system\": \"https://github.com/synthetichealth/synthea\", \"value\": \"23966025-efe0-1a7d-77e4-f6c55fc32a67\"}], \"status\": \"finished\", \"class\": {\"system\": \"http://terminology.hl7.org/CodeSystem/v3-ActCode\", \"code\": \"AMB\"}, \"type\": [{\"coding\": [{\"system\": \"http://snomed.info/sct\", \"code\": \"185347001\", \"display\": \"Encounter for problem (procedure)\"}], \"text\": \"Encounter for problem (procedure)\"}], \"subject\": {\"reference\": \"urn:uuid:5b3645de-a2d0-d016-0839-bab3757c4c58\", \"display\": \"Beatris270 Bogan287\"}, \"participant\": [{\"type\": [{\"coding\": [{\"system\": \"http://terminology.hl7.org/CodeSystem/v3-ParticipationType\", \"code\": \"PPRF\", \"display\": \"primary performer\"}], \"text\": \"primary performer\"}], \"period\": {\"start\": \"2021-05-29T14:18:16+00:00\", \"end\": \"2021-05-29T15:08:02+00:00\"}, \"individual\": {\"reference\": \"Practitioner?identifier=http://hl7.org/fhir/sid/us-npi|9999984591\", \"display\": \"Dr. Ted955 Reilly981\"}}], \"period\": {\"start\": \"2021-05-29T14:18:16+00:00\", \"end\": \"2021-05-29T15:08:02+00:00\"}, \"reasonCode\": [{\"coding\": [{\"system\": \"http://snomed.info/sct\", \"code\": \"60573004\", \"display\": \"Aortic valve stenosis (disorder)\"}]}], \"location\": [{\"location\": {\"reference\": \"Location?identifier=https://github.com/synthetichealth/synthea|81c75a54-2b95-3fdf-9327-b74df8630869\", \"display\": \"Fitchburg Outpatient Clinic\"}}], \"serviceProvider\": {\"reference\": \"Organization?identifier=https://github.com/synthetichealth/synthea|74ab949d-17ac-3309-83a0-13b4405c66aa\", \"display\": \"Fitchburg Outpatient Clinic\"}}\\n{\"resourceType\": \"Encounter\", \"id\": \"fc6a22f2-848e-d29e-0a8b-df2e931ae617\", \"meta\": {\"profile\": [\"http://hl7.org/fhir/us/core/StructureDefinition/us-core-encounter\"]}, \"identifier\": [{\"use\": \"official\", \"system\": \"https://github.com/synthetichealth/synthea\", \"value\": \"fc6a22f2-848e-d29e-0a8b-df2e931ae617\"}], \"status\": \"finished\", \"class\": {\"system\": \"http://terminology.hl7.org/CodeSystem/v3-ActCode\", \"code\": \"AMB\"}, \"type\": [{\"coding\": [{\"system\": \"http://snomed.info/sct\", \"code\": \"185345009\", \"display\": \"Encounter for symptom\"}], \"text\": \"Encounter for symptom\"}], \"subject\": {\"reference\": \"urn:uuid:5b3645de-a2d0-d016-0839-bab3757c4c58\", \"display\": \"Beatris270 Bogan287\"}, \"participant\": [{\"type\": [{\"coding\": [{\"system\": \"http://terminology.hl7.org/CodeSystem/v3-ParticipationType\", \"code\": \"PPRF\", \"display\": \"primary performer\"}], \"text\": \"primary performer\"}], \"period\": {\"start\": \"2022-02-26T17:37:42+00:00\", \"end\": \"2022-02-26T17:52:42+00:00\"}, \"individual\": {\"reference\": \"Practitioner?identifier=http://hl7.org/fhir/sid/us-npi|9999990697\", \"display\": \"Dr. Alvin56 Crona259\"}}], \"period\": {\"start\": \"2022-02-26T17:37:42+00:00\", \"end\": \"2022-02-26T17:52:42+00:00\"}, \"reasonCode\": [{\"coding\": [{\"system\": \"http://snomed.info/sct\", \"code\": \"43878008\", \"display\": \"Streptococcal sore throat (disorder)\"}]}], \"location\": [{\"location\": {\"reference\": \"Location?identifier=https://github.com/synthetichealth/synthea|17ab5f4a-eb74-306c-8895-5ce93ec4592b\", \"display\": \"HOLY FAMILY HOSPITAL\"}}], \"serviceProvider\": {\"reference\": \"Organization?identifier=https://github.com/synthetichealth/synthea|15d4c950-4691-3996-b4c4-bf06bfb58ff7\", \"display\": \"HOLY FAMILY HOSPITAL\"}}\\n{\"resourceType\": \"Encounter\", \"id\": \"12a00623-e6f6-4d27-1a1b-a46368749b63\", \"meta\": {\"profile\": [\"http://hl7.org/fhir/us/core/StructureDefinition/us-core-encounter\"]}, \"identifier\": [{\"use\": \"official\", \"system\": \"https://github.com/synthetichealth/synthea\", \"value\": \"12a00623-e6f6-4d27-1a1b-a46368749b63\"}], \"status\": \"finished\", \"class\": {\"system\": \"http://terminology.hl7.org/CodeSystem/v3-ActCode\", \"code\": \"AMB\"}, \"type\": [{\"coding\": [{\"system\": \"http://snomed.info/sct\", \"code\": \"185349003\", \"display\": \"Encounter for check up (procedure)\"}], \"text\": \"Encounter for check up (procedure)\"}], \"subject\": {\"reference\": \"urn:uuid:5b3645de-a2d0-d016-0839-bab3757c4c58\", \"display\": \"Beatris270 Bogan287\"}, \"participant\": [{\"type\": [{\"coding\": [{\"system\": \"http://terminology.hl7.org/CodeSystem/v3-ParticipationType\", \"code\": \"PPRF\", \"display\": \"primary performer\"}], \"text\": \"primary performer\"}], \"period\": {\"start\": \"2022-03-06T13:37:42+00:00\", \"end\": \"2022-03-06T13:52:42+00:00\"}, \"individual\": {\"reference\": \"Practitioner?identifier=http://hl7.org/fhir/sid/us-npi|9999990697\", \"display\": \"Dr. Alvin56 Crona259\"}}], \"period\": {\"start\": \"2022-03-06T13:37:42+00:00\", \"end\": \"2022-03-06T13:52:42+00:00\"}, \"location\": [{\"location\": {\"reference\": \"Location?identifier=https://github.com/synthetichealth/synthea|17ab5f4a-eb74-306c-8895-5ce93ec4592b\", \"display\": \"HOLY FAMILY HOSPITAL\"}}], \"serviceProvider\": {\"reference\": \"Organization?identifier=https://github.com/synthetichealth/synthea|15d4c950-4691-3996-b4c4-bf06bfb58ff7\", \"display\": \"HOLY FAMILY HOSPITAL\"}}\\n{\"resourceType\": \"Encounter\", \"id\": \"def99498-60f2-be13-28c1-89067e3cda07\", \"meta\": {\"profile\": [\"http://hl7.org/fhir/us/core/StructureDefinition/us-core-encounter\"]}, \"identifier\": [{\"use\": \"official\", \"system\": \"https://github.com/synthetichealth/synthea\", \"value\": \"def99498-60f2-be13-28c1-89067e3cda07\"}], \"status\": \"finished\", \"class\": {\"system\": \"http://terminology.hl7.org/CodeSystem/v3-ActCode\", \"code\": \"AMB\"}, \"type\": [{\"coding\": [{\"system\": \"http://snomed.info/sct\", \"code\": \"410620009\", \"display\": \"Well child visit (procedure)\"}], \"text\": \"Well child visit (procedure)\"}], \"subject\": {\"reference\": \"urn:uuid:5b3645de-a2d0-d016-0839-bab3757c4c58\", \"display\": \"Beatris270 Bogan287\"}, \"participant\": [{\"type\": [{\"coding\": [{\"system\": \"http://terminology.hl7.org/CodeSystem/v3-ParticipationType\", \"code\": \"PPRF\", \"display\": \"primary performer\"}], \"text\": \"primary performer\"}], \"period\": {\"start\": \"2022-04-24T13:37:42+00:00\", \"end\": \"2022-04-24T13:52:42+00:00\"}, \"individual\": {\"reference\": \"Practitioner?identifier=http://hl7.org/fhir/sid/us-npi|9999950899\", \"display\": \"Dr. Elisa944 Rojo930\"}}], \"period\": {\"start\": \"2022-04-24T13:37:42+00:00\", \"end\": \"2022-04-24T13:52:42+00:00\"}, \"location\": [{\"location\": {\"reference\": \"Location?identifier=https://github.com/synthetichealth/synthea|97876511-009c-391a-a262-1557e46861bb\", \"display\": \"BLUESKIES WELLNESS INC\"}}], \"serviceProvider\": {\"reference\": \"Organization?identifier=https://github.com/synthetichealth/synthea|6ea4d3d6-d820-387a-a3d1-ed5944ad47a2\", \"display\": \"BLUESKIES WELLNESS INC\"}}\\n{\"resourceType\": \"Encounter\", \"id\": \"566fdc4c-00b5-debb-7f7e-6d921fedd976\", \"meta\": {\"profile\": [\"http://hl7.org/fhir/us/core/StructureDefinition/us-core-encounter\"]}, \"identifier\": [{\"use\": \"official\", \"system\": \"https://github.com/synthetichealth/synthea\", \"value\": \"566fdc4c-00b5-debb-7f7e-6d921fedd976\"}], \"status\": \"finished\", \"class\": {\"system\": \"http://terminology.hl7.org/CodeSystem/v3-ActCode\", \"code\": \"AMB\"}, \"type\": [{\"coding\": [{\"system\": \"http://snomed.info/sct\", \"code\": \"185347001\", \"display\": \"Encounter for problem (procedure)\"}], \"text\": \"Encounter for problem (procedure)\"}], \"subject\": {\"reference\": \"urn:uuid:5b3645de-a2d0-d016-0839-bab3757c4c58\", \"display\": \"Beatris270 Bogan287\"}, \"participant\": [{\"type\": [{\"coding\": [{\"system\": \"http://terminology.hl7.org/CodeSystem/v3-ParticipationType\", \"code\": \"PPRF\", \"display\": \"primary performer\"}], \"text\": \"primary performer\"}], \"period\": {\"start\": \"2023-03-28T14:38:02+00:00\", \"end\": \"2023-03-28T15:17:51+00:00\"}, \"individual\": {\"reference\": \"Practitioner?identifier=http://hl7.org/fhir/sid/us-npi|9999984591\", \"display\": \"Dr. Ted955 Reilly981\"}}], \"period\": {\"start\": \"2023-03-28T14:38:02+00:00\", \"end\": \"2023-03-28T15:17:51+00:00\"}, \"reasonCode\": [{\"coding\": [{\"system\": \"http://snomed.info/sct\", \"code\": \"60573004\", \"display\": \"Aortic valve stenosis (disorder)\"}]}], \"location\": [{\"location\": {\"reference\": \"Location?identifier=https://github.com/synthetichealth/synthea|81c75a54-2b95-3fdf-9327-b74df8630869\", \"display\": \"Fitchburg Outpatient Clinic\"}}], \"serviceProvider\": {\"reference\": \"Organization?identifier=https://github.com/synthetichealth/synthea|74ab949d-17ac-3309-83a0-13b4405c66aa\", \"display\": \"Fitchburg Outpatient Clinic\"}}\\n{\"resourceType\": \"Encounter\", \"id\": \"48f3913f-2909-1547-f860-788b455b7951\", \"meta\": {\"profile\": [\"http://hl7.org/fhir/us/core/StructureDefinition/us-core-encounter\"]}, \"identifier\": [{\"use\": \"official\", \"system\": \"https://github.com/synthetichealth/synthea\", \"value\": \"48f3913f-2909-1547-f860-788b455b7951\"}], \"status\": \"finished\", \"class\": {\"system\": \"http://terminology.hl7.org/CodeSystem/v3-ActCode\", \"code\": \"AMB\"}, \"type\": [{\"coding\": [{\"system\": \"http://snomed.info/sct\", \"code\": \"410620009\", \"display\": \"Well child visit (procedure)\"}], \"text\": \"Well child visit (procedure)\"}], \"subject\": {\"reference\": \"urn:uuid:5b3645de-a2d0-d016-0839-bab3757c4c58\", \"display\": \"Beatris270 Bogan287\"}, \"participant\": [{\"type\": [{\"coding\": [{\"system\": \"http://terminology.hl7.org/CodeSystem/v3-ParticipationType\", \"code\": \"PPRF\", \"display\": \"primary performer\"}], \"text\": \"primary performer\"}], \"period\": {\"start\": \"2023-04-30T13:37:42+00:00\", \"end\": \"2023-04-30T13:52:42+00:00\"}, \"individual\": {\"reference\": \"Practitioner?identifier=http://hl7.org/fhir/sid/us-npi|9999950899\", \"display\": \"Dr. Elisa944 Rojo930\"}}], \"period\": {\"start\": \"2023-04-30T13:37:42+00:00\", \"end\": \"2023-04-30T13:52:42+00:00\"}, \"location\": [{\"location\": {\"reference\": \"Location?identifier=https://github.com/synthetichealth/synthea|97876511-009c-391a-a262-1557e46861bb\", \"display\": \"BLUESKIES WELLNESS INC\"}}], \"serviceProvider\": {\"reference\": \"Organization?identifier=https://github.com/synthetichealth/synthea|6ea4d3d6-d820-387a-a3d1-ed5944ad47a2\", \"display\": \"BLUESKIES WELLNESS INC\"}}\\n{\"resourceType\": \"Encounter\", \"id\": \"8587fc98-74aa-c333-61b1-d2ad195941eb\", \"meta\": {\"profile\": [\"http://hl7.org/fhir/us/core/StructureDefinition/us-core-encounter\"]}, \"identifier\": [{\"use\": \"official\", \"system\": \"https://github.com/synthetichealth/synthea\", \"value\": \"8587fc98-74aa-c333-61b1-d2ad195941eb\"}], \"status\": \"finished\", \"class\": {\"system\": \"http://terminology.hl7.org/CodeSystem/v3-ActCode\", \"code\": \"AMB\"}, \"type\": [{\"coding\": [{\"system\": \"http://snomed.info/sct\", \"code\": \"185345009\", \"display\": \"Encounter for symptom\"}], \"text\": \"Encounter for symptom\"}], \"subject\": {\"reference\": \"urn:uuid:5b3645de-a2d0-d016-0839-bab3757c4c58\", \"display\": \"Beatris270 Bogan287\"}, \"participant\": [{\"type\": [{\"coding\": [{\"system\": \"http://terminology.hl7.org/CodeSystem/v3-ParticipationType\", \"code\": \"PPRF\", \"display\": \"primary performer\"}], \"text\": \"primary performer\"}], \"period\": {\"start\": \"2023-10-02T00:37:42+00:00\", \"end\": \"2023-10-02T00:52:42+00:00\"}, \"individual\": {\"reference\": \"Practitioner?identifier=http://hl7.org/fhir/sid/us-npi|9999990697\", \"display\": \"Dr. Alvin56 Crona259\"}}], \"period\": {\"start\": \"2023-10-02T00:37:42+00:00\", \"end\": \"2023-10-02T00:52:42+00:00\"}, \"reasonCode\": [{\"coding\": [{\"system\": \"http://snomed.info/sct\", \"code\": \"195662009\", \"display\": \"Acute viral pharyngitis (disorder)\"}]}], \"location\": [{\"location\": {\"reference\": \"Location?identifier=https://github.com/synthetichealth/synthea|17ab5f4a-eb74-306c-8895-5ce93ec4592b\", \"display\": \"HOLY FAMILY HOSPITAL\"}}], \"serviceProvider\": {\"reference\": \"Organization?identifier=https://github.com/synthetichealth/synthea|15d4c950-4691-3996-b4c4-bf06bfb58ff7\", \"display\": \"HOLY FAMILY HOSPITAL\"}}', tool_call_id='9d741472-6ac8-4c6e-b4eb-7c29acf24e46')]"
      ]
     },
     "execution_count": 35,
     "metadata": {},
     "output_type": "execute_result"
    }
   ],
   "source": [
    "messages"
   ]
  },
  {
   "cell_type": "code",
   "execution_count": 36,
   "id": "0edd2c00-e70d-4e0e-9299-2d517dfa280b",
   "metadata": {
    "execution": {
     "iopub.execute_input": "2024-10-10T21:23:08.474061Z",
     "iopub.status.busy": "2024-10-10T21:23:08.473714Z",
     "iopub.status.idle": "2024-10-10T21:23:16.337963Z",
     "shell.execute_reply": "2024-10-10T21:23:16.337602Z",
     "shell.execute_reply.started": "2024-10-10T21:23:08.474046Z"
    }
   },
   "outputs": [],
   "source": [
    "response = llm_with_tools.invoke(messages)"
   ]
  },
  {
   "cell_type": "code",
   "execution_count": 37,
   "id": "f35a3b29-9678-4c4a-80be-bdd1f19bc074",
   "metadata": {
    "execution": {
     "iopub.execute_input": "2024-10-10T21:23:16.338625Z",
     "iopub.status.busy": "2024-10-10T21:23:16.338515Z",
     "iopub.status.idle": "2024-10-10T21:23:16.340979Z",
     "shell.execute_reply": "2024-10-10T21:23:16.340682Z",
     "shell.execute_reply.started": "2024-10-10T21:23:16.338616Z"
    }
   },
   "outputs": [
    {
     "data": {
      "text/markdown": [
       "You have visited two doctors: Dr. Elisa944 Rojo930 and Dr. Alvin56 Crona259.\n",
       "\n",
       "Dr. Elisa944 Rojo930 practices at BLUESKIES WELLNESS INC located at https://github.com/synthetichealth/synthea|97876511-009c-391a-a262-1557e46861bb. You have seen this doctor multiple times between 2015 and 2023, mostly for well-child visits.  \n",
       "\n",
       "Dr. Alvin56 Crona259 practices at HOLY FAMILY HOSPITAL located at https://github.com/synthetichealth/synthea|17ab5f4a-eb74-306c-8895-5ce93ec4592b. Your visits with this doctor occurred between 2015 and 2023 for various reasons, including atopic dermatitis, acute viral pharyngitis, otitis media, perennial allergic rhinitis, an allergy to a substance, strep throat, and check-ups.  You also saw Dr. Ted955 Reilly981 at Fitchburg Outpatient Clinic for Aortic valve stenosis.\n"
      ],
      "text/plain": [
       "<IPython.core.display.Markdown object>"
      ]
     },
     "metadata": {},
     "output_type": "display_data"
    }
   ],
   "source": [
    "display(Markdown(response.content))"
   ]
  },
  {
   "cell_type": "code",
   "execution_count": null,
   "id": "1fc27cd9-9c60-4366-b429-1f3bb65d31a9",
   "metadata": {},
   "outputs": [],
   "source": []
  },
  {
   "cell_type": "code",
   "execution_count": null,
   "id": "e57ab7f4-c656-465a-9fac-1abd9051383a",
   "metadata": {},
   "outputs": [],
   "source": []
  },
  {
   "cell_type": "code",
   "execution_count": null,
   "id": "5a85f280-d2d9-4ddc-abd9-f52201bb7c62",
   "metadata": {},
   "outputs": [],
   "source": []
  },
  {
   "cell_type": "code",
   "execution_count": 54,
   "id": "a38b8163-f387-4f90-a0b8-8211bc702d9e",
   "metadata": {
    "execution": {
     "iopub.execute_input": "2024-10-07T22:52:21.101041Z",
     "iopub.status.busy": "2024-10-07T22:52:21.100825Z",
     "iopub.status.idle": "2024-10-07T22:52:21.103398Z",
     "shell.execute_reply": "2024-10-07T22:52:21.102986Z",
     "shell.execute_reply.started": "2024-10-07T22:52:21.101025Z"
    }
   },
   "outputs": [],
   "source": [
    "query = \"What are my current medications and how should I be taking them? detail_anwser=True\""
   ]
  },
  {
   "cell_type": "code",
   "execution_count": 56,
   "id": "10d5f1de-64b4-4ca9-94f3-2adc9a74b07f",
   "metadata": {
    "execution": {
     "iopub.execute_input": "2024-10-07T22:52:31.927525Z",
     "iopub.status.busy": "2024-10-07T22:52:31.926868Z",
     "iopub.status.idle": "2024-10-07T22:52:33.014951Z",
     "shell.execute_reply": "2024-10-07T22:52:33.014657Z",
     "shell.execute_reply.started": "2024-10-07T22:52:31.927492Z"
    }
   },
   "outputs": [],
   "source": [
    "messages = [\n",
    "    SystemMessage(\"\"\"You are a highly skilled FHIR Specialist tasked with thoroughly analyzing patient queries. Your goal is to provide comprehensive, detailed responses based on the full context provided.\n",
    "\n",
    "When answering, ensure your responses are rich in specific details such as locations, costs, timelines, and any other relevant information that would be valuable to the patient. Consider the broader implications and include any additional insights that may assist the patient in making informed decisions.\n",
    "Before responding, always analyze the entire context to ensure your answer is both accurate and exhaustive. Aim for clarity and depth in your explanations.\"\"\"),\n",
    "    HumanMessage(query)\n",
    "]\n",
    "ai_msg = llm_with_tools.invoke(messages)\n",
    "messages.append(ai_msg)\n",
    "\n",
    "for tool_call in ai_msg.tool_calls:\n",
    "    selected_tool = {\"get_resources\": get_resources}[tool_call[\"name\"].lower()]\n",
    "    tool_output = selected_tool(tool_call[\"args\"][\"resource_type\"])\n",
    "    messages.append(ToolMessage(tool_output, tool_call_id=tool_call[\"id\"]))"
   ]
  },
  {
   "cell_type": "code",
   "execution_count": 58,
   "id": "ac915dc3-8ecd-4258-935f-16c5e30a37ec",
   "metadata": {
    "execution": {
     "iopub.execute_input": "2024-10-07T22:52:54.446516Z",
     "iopub.status.busy": "2024-10-07T22:52:54.446162Z",
     "iopub.status.idle": "2024-10-07T22:53:03.415746Z",
     "shell.execute_reply": "2024-10-07T22:53:03.415358Z",
     "shell.execute_reply.started": "2024-10-07T22:52:54.446497Z"
    }
   },
   "outputs": [],
   "source": [
    "response = llm_with_tools.invoke(messages)"
   ]
  },
  {
   "cell_type": "code",
   "execution_count": 59,
   "id": "9ed9e1f5-ac9b-421e-aeb3-33a4c4c36aec",
   "metadata": {
    "execution": {
     "iopub.execute_input": "2024-10-07T22:53:03.416762Z",
     "iopub.status.busy": "2024-10-07T22:53:03.416539Z",
     "iopub.status.idle": "2024-10-07T22:53:03.419471Z",
     "shell.execute_reply": "2024-10-07T22:53:03.419142Z",
     "shell.execute_reply.started": "2024-10-07T22:53:03.416750Z"
    },
    "scrolled": true
   },
   "outputs": [
    {
     "data": {
      "text/markdown": [
       "Here's a summary of your current and past medications, along with details on how they should be taken:\n",
       "\n",
       "**Active Medications:**\n",
       "\n",
       "* **Fexofenadine hydrochloride 30 MG Oral Tablet:** Take as needed. This medication was prescribed on 2017-08-22 by Dr. Alvin56 Crona259.\n",
       "* **NDA020800 0.3 ML Epinephrine 1 MG/ML Auto-Injector:**  Take as needed. This was prescribed on 2017-08-30 by Dr. Alvin56 Crona259.\n",
       "\n",
       "**Past Medications:**\n",
       "\n",
       "* **Amoxicillin 500 MG Oral Tablet:**  Take at regular intervals. Complete the prescribed course unless otherwise directed. The dosage is 1 tablet, 3 times per day. This medication was prescribed on 2016-11-23 by Dr. Alvin56 Crona259 and is now stopped.\n",
       "* **Acetaminophen 160 MG Chewable Tablet:** Take as needed. This was prescribed on 2016-11-23 by Dr. Alvin56 Crona259 and is now stopped.\n",
       "* **Penicillin V Potassium 250 MG Oral Tablet (2 Prescriptions):**  This medication was prescribed twice by Dr. Alvin56 Crona259 for Streptococcal sore throat, once on 2021-02-17 and again on 2022-02-26. Both prescriptions are now stopped.  Dosage instructions are not specified in the records.\n",
       "\n",
       "Please note:  Always consult with your doctor or pharmacist if you have any questions or concerns about your medications. This information is based on your medical records and may not be completely up-to-date.  It's important to verify current medications and dosages with your healthcare provider.\n"
      ],
      "text/plain": [
       "<IPython.core.display.Markdown object>"
      ]
     },
     "metadata": {},
     "output_type": "display_data"
    }
   ],
   "source": [
    "display(Markdown(response.content))"
   ]
  },
  {
   "cell_type": "markdown",
   "id": "dcd3a696-9661-485d-97a1-78ed14fafeb0",
   "metadata": {},
   "source": [
    "### Detail answer"
   ]
  },
  {
   "cell_type": "code",
   "execution_count": 99,
   "id": "da44469b-84ed-4d35-aea3-ea8f96a44ee7",
   "metadata": {
    "execution": {
     "iopub.execute_input": "2024-10-07T23:33:20.690607Z",
     "iopub.status.busy": "2024-10-07T23:33:20.690095Z",
     "iopub.status.idle": "2024-10-07T23:33:20.693846Z",
     "shell.execute_reply": "2024-10-07T23:33:20.693156Z",
     "shell.execute_reply.started": "2024-10-07T23:33:20.690582Z"
    }
   },
   "outputs": [],
   "source": [
    "tools = [get_resources_expanded]"
   ]
  },
  {
   "cell_type": "code",
   "execution_count": 100,
   "id": "5cdc4e42-b83c-4e24-afe6-403211357d43",
   "metadata": {
    "execution": {
     "iopub.execute_input": "2024-10-07T23:33:20.868969Z",
     "iopub.status.busy": "2024-10-07T23:33:20.868672Z",
     "iopub.status.idle": "2024-10-07T23:33:20.873230Z",
     "shell.execute_reply": "2024-10-07T23:33:20.872802Z",
     "shell.execute_reply.started": "2024-10-07T23:33:20.868957Z"
    }
   },
   "outputs": [],
   "source": [
    "llm_with_tools = llm.bind_tools(tools)"
   ]
  },
  {
   "cell_type": "code",
   "execution_count": 102,
   "id": "a20668f3-b4f6-4a0b-831a-20f2f298b927",
   "metadata": {
    "execution": {
     "iopub.execute_input": "2024-10-07T23:34:14.803411Z",
     "iopub.status.busy": "2024-10-07T23:34:14.803239Z",
     "iopub.status.idle": "2024-10-07T23:34:27.112430Z",
     "shell.execute_reply": "2024-10-07T23:34:27.112130Z",
     "shell.execute_reply.started": "2024-10-07T23:34:14.803399Z"
    }
   },
   "outputs": [
    {
     "name": "stderr",
     "output_type": "stream",
     "text": [
      "Received notification from DBMS server: {severity: WARNING} {code: Neo.ClientNotification.Statement.FeatureDeprecationWarning} {category: DEPRECATION} {title: This feature is deprecated and will be removed in future versions.} {description: CALL subquery without a variable scope clause is now deprecated. Use CALL (n) { ... }} {position: line: 4, column: 1, offset: 81} for query: 'MATCH (n)\\nWHERE toLower(n.resource_type) CONTAINS toLower($resource_type)\\nWITH n\\nCALL {\\n  // Perform breadth-first search (BFS) up to level 1 neighbors, excluding specific relationships\\n  WITH n\\n  MATCH (n)<-[r]->(neighbor)\\n  WHERE NOT type(r) IN [\\'subject\\', \\'patient\\'] // Exclude relationships of type \\'subject\\' and \\'patient\\'\\n  RETURN neighbor, r\\n}\\nWITH n, collect({neighbor_text: neighbor.text, relationship: type(r)}) AS neighbors\\nRETURN n.text + \"\\nNeighbors:\\n\" + \\n       reduce(s = \"\", neighbor IN neighbors | s + \"Relationship: \" + neighbor.relationship + \"\\nResource: \" + neighbor.neighbor_text + \"\\n\") AS text\\n            '\n"
     ]
    },
    {
     "data": {
      "text/markdown": [
       "Here's a summary of your current and past medications, including how they were prescribed:\n",
       "\n",
       "* **Active Medications:**\n",
       "    * **Fexofenadine hydrochloride 30 MG Oral Tablet:** Take as needed for perennial allergic rhinitis. This was prescribed on August 22nd, 2017, by Dr. Alvin56 Crona259 during a visit to HOLY FAMILY HOSPITAL.  The associated claim for this prescription totalled $455.32.\n",
       "    * **NDA020800 0.3 ML Epinephrine 1 MG/ML Auto-Injector:**  Take as needed for allergy to substance. Prescribed on August 30th, 2017, by Dr. Alvin56 Crona259 during a visit to HOLY FAMILY HOSPITAL. The claim for this auto-injector was $64.66.\n",
       "\n",
       "* **Past Medications (Stopped):**\n",
       "    * **Amoxicillin 500 MG Oral Tablet:**  Taken 3 times a day for a completed course, prescribed for Otitis media (ear infection) on November 23rd, 2016, by Dr. Alvin56 Crona259 during a visit to HOLY FAMILY HOSPITAL. The claim was $103.33.\n",
       "    * **Acetaminophen 160 MG Chewable Tablet:** Taken as needed, prescribed on November 23, 2016 by Dr. Alvin56 Crona259 during a visit for Otitis media at HOLY FAMILY HOSPITAL. The associated claim was $91.78.\n",
       "    * **Penicillin V Potassium 250 MG Oral Tablet:** Prescribed twice, both times by Dr. Alvin56 Crona259 at HOLY FAMILY HOSPITAL for Streptococcal sore throat:\n",
       "        * First prescription on February 17th, 2021 with a claim of $478.69.\n",
       "        * Second prescription on February 26th, 2022 with a claim of $324.32.\n",
       "\n",
       "\n",
       "It's important to note that this information is based on past records.  Always consult with your doctor or pharmacist for the most up-to-date information about your medications and how to take them.  Do not adjust your medication or stop taking it without professional guidance.\n"
      ],
      "text/plain": [
       "<IPython.core.display.Markdown object>"
      ]
     },
     "metadata": {},
     "output_type": "display_data"
    }
   ],
   "source": [
    "query = \"What are my current medications and how should I be taking them ?\"\n",
    "\n",
    "messages = [\n",
    "    SystemMessage(\"\"\"You are a highly skilled FHIR Specialist tasked with thoroughly analyzing patient queries. Your goal is to provide comprehensive, detailed responses based on the full context provided.\n",
    "When answering, ensure your responses are rich in specific details such as dates, doctors, providers, locations, billing and any other relevant information that would be valuable to the patient. Consider the broader implications and include any additional insights that may assist the patient in making informed decisions.\n",
    "Before responding, always analyze the entire context to ensure your answer is both accurate and exhaustive. Aim for clarity and depth in your explanations.\"\"\"),\n",
    "    HumanMessage(query)\n",
    "]\n",
    "ai_msg = llm_with_tools.invoke(messages)\n",
    "messages.append(ai_msg)\n",
    "\n",
    "for tool_call in ai_msg.tool_calls:\n",
    "    selected_tool = {\"get_resources_expanded\": get_resources_expanded}[tool_call[\"name\"].lower()]\n",
    "    tool_output = selected_tool(tool_call[\"args\"][\"resource_type\"])\n",
    "    messages.append(ToolMessage(tool_output, tool_call_id=tool_call[\"id\"]))\n",
    "\n",
    "response = llm_with_tools.invoke(messages)\n",
    "display(Markdown(response.content))"
   ]
  },
  {
   "cell_type": "code",
   "execution_count": 104,
   "id": "20ffcdd4-ee7f-4812-a6d9-d71c25feedb5",
   "metadata": {
    "execution": {
     "iopub.execute_input": "2024-10-07T23:35:09.188273Z",
     "iopub.status.busy": "2024-10-07T23:35:09.187925Z",
     "iopub.status.idle": "2024-10-07T23:35:09.191954Z",
     "shell.execute_reply": "2024-10-07T23:35:09.191598Z",
     "shell.execute_reply.started": "2024-10-07T23:35:09.188251Z"
    }
   },
   "outputs": [
    {
     "data": {
      "text/plain": [
       "\"Here's a summary of your current and past medications, including how they were prescribed:\\n\\n* **Active Medications:**\\n    * **Fexofenadine hydrochloride 30 MG Oral Tablet:** Take as needed for perennial allergic rhinitis. This was prescribed on August 22nd, 2017, by Dr. Alvin56 Crona259 during a visit to HOLY FAMILY HOSPITAL.  The associated claim for this prescription totalled $455.32.\\n    * **NDA020800 0.3 ML Epinephrine 1 MG/ML Auto-Injector:**  Take as needed for allergy to substance. Prescribed on August 30th, 2017, by Dr. Alvin56 Crona259 during a visit to HOLY FAMILY HOSPITAL. The claim for this auto-injector was $64.66.\\n\\n* **Past Medications (Stopped):**\\n    * **Amoxicillin 500 MG Oral Tablet:**  Taken 3 times a day for a completed course, prescribed for Otitis media (ear infection) on November 23rd, 2016, by Dr. Alvin56 Crona259 during a visit to HOLY FAMILY HOSPITAL. The claim was $103.33.\\n    * **Acetaminophen 160 MG Chewable Tablet:** Taken as needed, prescribed on November 23, 2016 by Dr. Alvin56 Crona259 during a visit for Otitis media at HOLY FAMILY HOSPITAL. The associated claim was $91.78.\\n    * **Penicillin V Potassium 250 MG Oral Tablet:** Prescribed twice, both times by Dr. Alvin56 Crona259 at HOLY FAMILY HOSPITAL for Streptococcal sore throat:\\n        * First prescription on February 17th, 2021 with a claim of $478.69.\\n        * Second prescription on February 26th, 2022 with a claim of $324.32.\\n\\n\\nIt's important to note that this information is based on past records.  Always consult with your doctor or pharmacist for the most up-to-date information about your medications and how to take them.  Do not adjust your medication or stop taking it without professional guidance.\\n\""
      ]
     },
     "execution_count": 104,
     "metadata": {},
     "output_type": "execute_result"
    }
   ],
   "source": [
    "response.content"
   ]
  },
  {
   "cell_type": "code",
   "execution_count": 106,
   "id": "00f4d30c-b7da-49d2-aede-e69e08ac1a28",
   "metadata": {
    "execution": {
     "iopub.execute_input": "2024-10-07T23:36:11.040285Z",
     "iopub.status.busy": "2024-10-07T23:36:11.039786Z",
     "iopub.status.idle": "2024-10-07T23:36:11.042689Z",
     "shell.execute_reply": "2024-10-07T23:36:11.042263Z",
     "shell.execute_reply.started": "2024-10-07T23:36:11.040267Z"
    }
   },
   "outputs": [
    {
     "name": "stdout",
     "output_type": "stream",
     "text": [
      "Here's a summary of your current and past medications, including how they were prescribed:\n",
      "\n",
      "* **Active Medications:**\n",
      "    * **Fexofenadine hydrochloride 30 MG Oral Tablet:** Take as needed for perennial allergic rhinitis. This was prescribed on August 22nd, 2017, by Dr. Alvin56 Crona259 during a visit to HOLY FAMILY HOSPITAL.  The associated claim for this prescription totalled $455.32.\n",
      "    * **NDA020800 0.3 ML Epinephrine 1 MG/ML Auto-Injector:**  Take as needed for allergy to substance. Prescribed on August 30th, 2017, by Dr. Alvin56 Crona259 during a visit to HOLY FAMILY HOSPITAL. The claim for this auto-injector was $64.66.\n",
      "\n",
      "* **Past Medications (Stopped):**\n",
      "    * **Amoxicillin 500 MG Oral Tablet:**  Taken 3 times a day for a completed course, prescribed for Otitis media (ear infection) on November 23rd, 2016, by Dr. Alvin56 Crona259 during a visit to HOLY FAMILY HOSPITAL. The claim was $103.33.\n",
      "    * **Acetaminophen 160 MG Chewable Tablet:** Taken as needed, prescribed on November 23, 2016 by Dr. Alvin56 Crona259 during a visit for Otitis media at HOLY FAMILY HOSPITAL. The associated claim was $91.78.\n",
      "    * **Penicillin V Potassium 250 MG Oral Tablet:** Prescribed twice, both times by Dr. Alvin56 Crona259 at HOLY FAMILY HOSPITAL for Streptococcal sore throat:\n",
      "        * First prescription on February 17th, 2021 with a claim of $478.69.\n",
      "        * Second prescription on February 26th, 2022 with a claim of $324.32.\n",
      "\n",
      "\n",
      "It's important to note that this information is based on past records.  Always consult with your doctor or pharmacist for the most up-to-date information about your medications and how to take them.  Do not adjust your medication or stop taking it without professional guidance.\n",
      "\n"
     ]
    }
   ],
   "source": [
    "import pprint\n",
    "\n",
    "print(response.content)"
   ]
  },
  {
   "cell_type": "markdown",
   "id": "90e4abb3-0625-4182-a157-015c07cf4267",
   "metadata": {},
   "source": [
    "### Highlight costs"
   ]
  },
  {
   "cell_type": "code",
   "execution_count": 101,
   "id": "067e6447-ce62-4084-817e-407e21d94ab8",
   "metadata": {
    "execution": {
     "iopub.execute_input": "2024-10-07T23:33:24.677322Z",
     "iopub.status.busy": "2024-10-07T23:33:24.676763Z",
     "iopub.status.idle": "2024-10-07T23:33:42.074582Z",
     "shell.execute_reply": "2024-10-07T23:33:42.074258Z",
     "shell.execute_reply.started": "2024-10-07T23:33:24.677300Z"
    }
   },
   "outputs": [
    {
     "name": "stderr",
     "output_type": "stream",
     "text": [
      "This model can reply with multiple function calls in one response. Please don't rely on `additional_kwargs.function_call` as only the last one will be saved.Use `tool_calls` instead.\n",
      "Received notification from DBMS server: {severity: WARNING} {code: Neo.ClientNotification.Statement.FeatureDeprecationWarning} {category: DEPRECATION} {title: This feature is deprecated and will be removed in future versions.} {description: CALL subquery without a variable scope clause is now deprecated. Use CALL (n) { ... }} {position: line: 4, column: 1, offset: 81} for query: 'MATCH (n)\\nWHERE toLower(n.resource_type) CONTAINS toLower($resource_type)\\nWITH n\\nCALL {\\n  // Perform breadth-first search (BFS) up to level 1 neighbors, excluding specific relationships\\n  WITH n\\n  MATCH (n)<-[r]->(neighbor)\\n  WHERE NOT type(r) IN [\\'subject\\', \\'patient\\'] // Exclude relationships of type \\'subject\\' and \\'patient\\'\\n  RETURN neighbor, r\\n}\\nWITH n, collect({neighbor_text: neighbor.text, relationship: type(r)}) AS neighbors\\nRETURN n.text + \"\\nNeighbors:\\n\" + \\n       reduce(s = \"\", neighbor IN neighbors | s + \"Relationship: \" + neighbor.relationship + \"\\nResource: \" + neighbor.neighbor_text + \"\\n\") AS text\\n            '\n",
      "Received notification from DBMS server: {severity: WARNING} {code: Neo.ClientNotification.Statement.FeatureDeprecationWarning} {category: DEPRECATION} {title: This feature is deprecated and will be removed in future versions.} {description: CALL subquery without a variable scope clause is now deprecated. Use CALL (n) { ... }} {position: line: 4, column: 1, offset: 81} for query: 'MATCH (n)\\nWHERE toLower(n.resource_type) CONTAINS toLower($resource_type)\\nWITH n\\nCALL {\\n  // Perform breadth-first search (BFS) up to level 1 neighbors, excluding specific relationships\\n  WITH n\\n  MATCH (n)<-[r]->(neighbor)\\n  WHERE NOT type(r) IN [\\'subject\\', \\'patient\\'] // Exclude relationships of type \\'subject\\' and \\'patient\\'\\n  RETURN neighbor, r\\n}\\nWITH n, collect({neighbor_text: neighbor.text, relationship: type(r)}) AS neighbors\\nRETURN n.text + \"\\nNeighbors:\\n\" + \\n       reduce(s = \"\", neighbor IN neighbors | s + \"Relationship: \" + neighbor.relationship + \"\\nResource: \" + neighbor.neighbor_text + \"\\n\") AS text\\n            '\n"
     ]
    },
    {
     "data": {
      "text/markdown": [
       "Your current medications include Fexofenadine hydrochloride 30 MG Oral Tablet and NDA020800 0.3 ML Epinephrine 1 MG/ML Auto-Injector. Both were prescribed by Dr. Alvin56 Crona259 and are to be taken as needed.  The Fexofenadine was prescribed on 2017-08-22 and cost $455.32, while the Epinephrine was prescribed on 2017-08-30 and cost $64.66.  These prescriptions were filled at HOLY FAMILY HOSPITAL and billed to your Medicare coverage.  You also had prescriptions for Amoxicillin 500 MG Oral Tablet and Acetaminophen 160 MG Chewable Tablet, both prescribed on 2016-11-23 by the same doctor for Otitis media, costing $103.33 and $91.78 respectively. Finally, a Penicillin V Potassium 250 MG Oral Tablet prescription was filled twice, costing $478.69 on 2021-02-17 and $324.32 on 2022-02-26, both related to Streptococcal sore throat.\n"
      ],
      "text/plain": [
       "<IPython.core.display.Markdown object>"
      ]
     },
     "metadata": {},
     "output_type": "display_data"
    }
   ],
   "source": [
    "query = \"What are my current medications and how did cost them ?\"\n",
    "\n",
    "messages = [\n",
    "    SystemMessage(\"\"\"You are a highly skilled FHIR Specialist tasked with thoroughly analyzing patient queries. Your goal is to provide comprehensive, detailed responses based on the full context provided.\n",
    "When answering, ensure your responses are rich in specific details such as dates, doctors, providers, locations, billing and any other relevant information that would be valuable to the patient. Consider the broader implications and include any additional insights that may assist the patient in making informed decisions.\n",
    "Before responding, always analyze the entire context to ensure your answer is both accurate and exhaustive. Aim for clarity and depth in your explanations.\"\"\"),\n",
    "    HumanMessage(query)\n",
    "]\n",
    "ai_msg = llm_with_tools.invoke(messages)\n",
    "messages.append(ai_msg)\n",
    "\n",
    "for tool_call in ai_msg.tool_calls:\n",
    "    selected_tool = {\"get_resources_expanded\": get_resources_expanded}[tool_call[\"name\"].lower()]\n",
    "    tool_output = selected_tool(tool_call[\"args\"][\"resource_type\"])\n",
    "    messages.append(ToolMessage(tool_output, tool_call_id=tool_call[\"id\"]))\n",
    "\n",
    "response = llm_with_tools.invoke(messages)\n",
    "display(Markdown(response.content))"
   ]
  },
  {
   "cell_type": "code",
   "execution_count": null,
   "id": "4f20fe45-99ac-405b-9e3a-fb9bf599789c",
   "metadata": {},
   "outputs": [],
   "source": []
  },
  {
   "cell_type": "code",
   "execution_count": null,
   "id": "6e8ea234-2f5e-400f-ac15-619791adfdb4",
   "metadata": {},
   "outputs": [],
   "source": []
  },
  {
   "cell_type": "markdown",
   "id": "db00b222-91dd-47d0-8874-7e0ca70bc717",
   "metadata": {},
   "source": [
    "## Conditions Summarization "
   ]
  },
  {
   "cell_type": "code",
   "execution_count": 82,
   "id": "46001048-b234-4dae-af68-09b42d0df236",
   "metadata": {
    "execution": {
     "iopub.execute_input": "2024-10-04T19:33:22.297461Z",
     "iopub.status.busy": "2024-10-04T19:33:22.297151Z",
     "iopub.status.idle": "2024-10-04T19:33:23.979617Z",
     "shell.execute_reply": "2024-10-04T19:33:23.979279Z",
     "shell.execute_reply.started": "2024-10-04T19:33:22.297449Z"
    }
   },
   "outputs": [],
   "source": [
    "messages = [\n",
    "    SystemMessage(\"\"\"You are a highly skilled FHIR Specialist tasked with thoroughly analyzing patient queries. Your goal is to provide comprehensive, detailed responses based on the full context provided.\n",
    "\n",
    "When answering, ensure your responses are rich in specific details such as locations, costs, timelines, and any other relevant information that would be valuable to the patient. Consider the broader implications and include any additional insights that may assist the patient in making informed decisions.\n",
    "Before responding, always analyze the entire context to ensure your answer is both accurate and exhaustive. Aim for clarity and depth in your explanations.\"\"\"),\n",
    "    HumanMessage(\"Summarize my conditions in details\")\n",
    "]\n",
    "ai_msg = llm_with_tools.invoke(messages)\n",
    "messages.append(ai_msg)\n",
    "\n",
    "for tool_call in ai_msg.tool_calls:\n",
    "    selected_tool = {\"get_resources\": get_resources}[tool_call[\"name\"].lower()]\n",
    "    tool_output = selected_tool(tool_call[\"args\"][\"resource_type\"])\n",
    "    messages.append(ToolMessage(tool_output, tool_call_id=tool_call[\"id\"]))"
   ]
  },
  {
   "cell_type": "code",
   "execution_count": 83,
   "id": "3828618c-c2b4-43b6-aa31-355fb74fea8d",
   "metadata": {
    "execution": {
     "iopub.execute_input": "2024-10-04T19:33:23.980327Z",
     "iopub.status.busy": "2024-10-04T19:33:23.980186Z",
     "iopub.status.idle": "2024-10-04T19:33:48.857055Z",
     "shell.execute_reply": "2024-10-04T19:33:48.856764Z",
     "shell.execute_reply.started": "2024-10-04T19:33:23.980315Z"
    }
   },
   "outputs": [],
   "source": [
    "response = llm_with_tools.invoke(messages)"
   ]
  },
  {
   "cell_type": "code",
   "execution_count": 84,
   "id": "7574f807-095a-41a0-abda-a700dec3611e",
   "metadata": {
    "execution": {
     "iopub.execute_input": "2024-10-04T19:33:48.857563Z",
     "iopub.status.busy": "2024-10-04T19:33:48.857459Z",
     "iopub.status.idle": "2024-10-04T19:33:48.859778Z",
     "shell.execute_reply": "2024-10-04T19:33:48.859516Z",
     "shell.execute_reply.started": "2024-10-04T19:33:48.857550Z"
    }
   },
   "outputs": [
    {
     "data": {
      "text/markdown": [
       "This is a summary of your conditions:\n",
       "\n",
       "* **Medication review due (situation)**: This condition has been recorded multiple times throughout your history, indicating recurring needs for medication reviews.  The instances were:\n",
       "    * Resolved on May 3, 2015, associated with encounter 'b3b4d7c6-46f5-9f10-cfd2-464ff96160f9'.\n",
       "    * Resolved on June 7, 2015, associated with encounter 'd7a2721e-1568-274b-64bb-58c2ec026b65'.\n",
       "    * Resolved on January 10, 2016 (onset August 9, 2015), associated with encounter 'fd013f8c-0ce2-644e-1d71-bf6761396ba8'.\n",
       "    * Resolved on July 10, 2016 (onset April 10, 2016), associated with encounter '35c0f7d7-4502-8834-8202-a8f771c3e525'.\n",
       "    * Resolved on March 6, 2022 (onset October 9, 2016), associated with encounter 'f48e195a-c086-b88c-ba69-eb7bd59c2111'.\n",
       "    * Resolved on April 24, 2022, associated with encounter 'def99498-60f2-be13-28c1-89067e3cda07'.\n",
       "    * Resolved on April 30, 2023, associated with encounter '48f3913f-2909-1547-f860-788b455b7951'.\n",
       "\n",
       "* **Atopic dermatitis**: This is an active condition recorded on September 13, 2015, associated with encounter 'da622f16-5f38-de7a-6801-e0bf78546be5'.  Atopic dermatitis is a chronic skin condition causing inflammation and itchiness.  Its active status suggests ongoing management.\n",
       "\n",
       "* **Acute viral pharyngitis (disorder)**:  There are two resolved instances of this condition, commonly known as a sore throat:\n",
       "    * Resolved on October 9, 2016 (onset September 26, 2016), associated with encounter 'a9e6308f-927d-a7fa-c801-680fc1e3e6ff'.\n",
       "    * Resolved on October 14, 2023 (onset October 2, 2023), associated with encounter '8587fc98-74aa-c333-61b1-d2ad195941eb'.\n",
       "\n",
       "* **Otitis media**: This condition, commonly known as an ear infection, was resolved on April 9, 2017 (onset November 23, 2016), associated with encounter 'cf60427f-6701-abf2-82fc-945837df2152'.\n",
       "\n",
       "* **Perennial allergic rhinitis**: This is an active condition recorded on August 22, 2017, associated with encounter '9fc6351d-7e69-20c6-c597-856f8e70483d'.  Perennial allergic rhinitis is a type of chronic allergy affecting the nose.  Its active status indicates ongoing symptoms and the need for management.\n",
       "\n",
       "* **Aortic valve stenosis (disorder)**: This is an active condition recorded on May 2, 2019, associated with encounter '5e225a66-ead5-6de3-bba6-bb6be422159d'. This is a serious heart condition involving the narrowing of the aortic valve, restricting blood flow.  Its active status indicates ongoing monitoring and potential treatment.\n",
       "\n",
       "* **Streptococcal sore throat (disorder)**:  A resolved case of strep throat was recorded on February 26, 2021 (onset February 17, 2021), associated with encounter '4e7837d4-083f-9360-e1e3-3550ea57d9d9'. Another resolved case was recorded on March 9, 2022 (onset February 26, 2022), associated with encounter 'fc6a22f2-848e-d29e-0a8b-df2e931ae617'.  Strep throat is a bacterial infection.\n",
       "\n",
       "\n",
       "It's crucial to discuss the active conditions—Atopic dermatitis, Perennial allergic rhinitis, and Aortic valve stenosis—with your healthcare provider to ensure appropriate ongoing management.  While the other conditions are resolved, they provide valuable context to your overall health history.  Make sure to mention any recurring symptoms or concerns to your physician.\n"
      ],
      "text/plain": [
       "<IPython.core.display.Markdown object>"
      ]
     },
     "metadata": {},
     "output_type": "display_data"
    }
   ],
   "source": [
    "display(Markdown(response.content))"
   ]
  },
  {
   "cell_type": "markdown",
   "id": "02c6eb14-3f69-4b1e-bc48-f58052957b96",
   "metadata": {},
   "source": [
    "## Conditions Summarization - Active"
   ]
  },
  {
   "cell_type": "code",
   "execution_count": 85,
   "id": "9751fea5-299d-48cc-a869-66a42c757df7",
   "metadata": {
    "execution": {
     "iopub.execute_input": "2024-10-04T19:39:58.321056Z",
     "iopub.status.busy": "2024-10-04T19:39:58.320773Z",
     "iopub.status.idle": "2024-10-04T19:40:00.355168Z",
     "shell.execute_reply": "2024-10-04T19:40:00.354859Z",
     "shell.execute_reply.started": "2024-10-04T19:39:58.321041Z"
    }
   },
   "outputs": [],
   "source": [
    "messages = [\n",
    "    SystemMessage(\"\"\"You are a highly skilled FHIR Specialist tasked with thoroughly analyzing patient queries. Your goal is to provide comprehensive, detailed responses based on the full context provided.\n",
    "\n",
    "When answering, ensure your responses are rich in specific details such as locations, costs, timelines, and any other relevant information that would be valuable to the patient. Consider the broader implications and include any additional insights that may assist the patient in making informed decisions.\n",
    "Before responding, always analyze the entire context to ensure your answer is both accurate and exhaustive. Aim for clarity and depth in your explanations.\"\"\"),\n",
    "    HumanMessage(\"Summarize my active conditions in details\")\n",
    "]\n",
    "ai_msg = llm_with_tools.invoke(messages)\n",
    "messages.append(ai_msg)\n",
    "\n",
    "for tool_call in ai_msg.tool_calls:\n",
    "    selected_tool = {\"get_resources\": get_resources}[tool_call[\"name\"].lower()]\n",
    "    tool_output = selected_tool(tool_call[\"args\"][\"resource_type\"])\n",
    "    messages.append(ToolMessage(tool_output, tool_call_id=tool_call[\"id\"]))"
   ]
  },
  {
   "cell_type": "code",
   "execution_count": 86,
   "id": "c93dd06d-5f30-4e7f-bad9-284daded647a",
   "metadata": {
    "execution": {
     "iopub.execute_input": "2024-10-04T19:40:00.355807Z",
     "iopub.status.busy": "2024-10-04T19:40:00.355709Z",
     "iopub.status.idle": "2024-10-04T19:40:08.142298Z",
     "shell.execute_reply": "2024-10-04T19:40:08.141894Z",
     "shell.execute_reply.started": "2024-10-04T19:40:00.355798Z"
    }
   },
   "outputs": [],
   "source": [
    "response = llm_with_tools.invoke(messages)"
   ]
  },
  {
   "cell_type": "code",
   "execution_count": 87,
   "id": "58da56bb-98b8-4ba7-b97a-ade04265dfd0",
   "metadata": {
    "execution": {
     "iopub.execute_input": "2024-10-04T19:40:08.142851Z",
     "iopub.status.busy": "2024-10-04T19:40:08.142739Z",
     "iopub.status.idle": "2024-10-04T19:40:08.145495Z",
     "shell.execute_reply": "2024-10-04T19:40:08.145104Z",
     "shell.execute_reply.started": "2024-10-04T19:40:08.142840Z"
    }
   },
   "outputs": [
    {
     "data": {
      "text/markdown": [
       "You currently have three active conditions:\n",
       "\n",
       "1. **Atopic dermatitis:** This was diagnosed on September 13, 2015.  It is a chronic skin condition causing dry, itchy, and inflamed skin.  There's no information on current treatments or medications prescribed for this condition in the provided data.  It would be beneficial to discuss management options with your healthcare provider.\n",
       "\n",
       "2. **Perennial allergic rhinitis:** Diagnosed on August 22, 2017. This is a persistent form of allergic rhinitis,  meaning your symptoms occur year-round rather than seasonally.  Common triggers include dust mites, pet dander, and mold.  The provided data does not include details about specific allergens or treatments.  Discussing allergy testing and management strategies with your doctor could improve your quality of life.\n",
       "\n",
       "3. **Aortic valve stenosis:** This was diagnosed on May 2, 2019.  This condition involves the narrowing of the aortic valve, which restricts blood flow from the heart to the rest of the body. Depending on the severity, treatments can range from medication to surgical intervention. The data provided doesn't specify the severity or any ongoing treatments for this condition. It's important to have regular check-ups with your cardiologist to monitor the progression of this condition and discuss appropriate treatment strategies.\n",
       "\n",
       "\n",
       "It's important to note that several other conditions are listed as resolved. These include instances of \"Medication review due,\" acute viral pharyngitis, otitis media, and streptococcal sore throat.  While these conditions are no longer active, their history is relevant to your overall health record.\n"
      ],
      "text/plain": [
       "<IPython.core.display.Markdown object>"
      ]
     },
     "metadata": {},
     "output_type": "display_data"
    }
   ],
   "source": [
    "display(Markdown(response.content))"
   ]
  },
  {
   "cell_type": "code",
   "execution_count": null,
   "id": "443cdc66-900f-4ad7-bb52-3e22a263549c",
   "metadata": {},
   "outputs": [],
   "source": []
  }
 ],
 "metadata": {
  "kernelspec": {
   "display_name": "Python 3 (ipykernel)",
   "language": "python",
   "name": "python3"
  },
  "language_info": {
   "codemirror_mode": {
    "name": "ipython",
    "version": 3
   },
   "file_extension": ".py",
   "mimetype": "text/x-python",
   "name": "python",
   "nbconvert_exporter": "python",
   "pygments_lexer": "ipython3",
   "version": "3.11.6"
  }
 },
 "nbformat": 4,
 "nbformat_minor": 5
}
